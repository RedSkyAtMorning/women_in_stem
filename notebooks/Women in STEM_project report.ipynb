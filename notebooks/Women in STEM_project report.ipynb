{
 "cells": [
  {
   "cell_type": "markdown",
   "metadata": {},
   "source": [
    "# Women in STEM \n",
    "   **Gender pay gap, job fields and predicting salary**"
   ]
  },
  {
   "cell_type": "markdown",
   "metadata": {},
   "source": [
    "## Abstract\n",
    "\n",
    "What is the gender unemployment discrepancy in STEM? How about the gender pay gap? Does it get better over the years? What job fields are less likely to discriminate against women? As a woman working in STEM field, I am intrinsically intersted in answering these question. From Sheryl Sandberg's book Lean In I learned that women earned just 77 cents for every dollar men made. Is this true for the STEM jobs?\n",
    "\n",
    "In this project, the leading STEM workforce survey data published by HigherEd IPumps will be explored. I will use visualization and statistical analytics to find answers. I will then apply machine learning models to predict salary level, work fields for job seekers. Using random forest classifier, the accuracy score for salary level prediciton is 0.82 even though some vital information is missing in the survey data. The accuracy score goes as high as 0.90 for some principal job fields. \n",
    "\n",
    "Presentation slides [HERE](https://www.google.com).\n"
   ]
  },
  {
   "cell_type": "markdown",
   "metadata": {},
   "source": [
    "# Table of Contents\n",
    "\n",
    "1. [Introduction](#intro)  \n",
    "    1.1 Problem  \n",
    "    1.2 Target readers  \n",
    "    1.3 Data Source  \n",
    "2. [Exploratory Data Analysis ](https://github.com/shuojiashi/capstone_project_1/blob/master/notebooks/Women%20in%20STEM_1%20EDA.ipynb)  \n",
    "3. [Statistical Analysis](https://github.com/shuojiashi/capstone_project_1/blob/master/notebooks/Women%20in%20STEM_2%20Statistics.ipynb)  \n",
    "4. [Machine Learning](https://github.com/shuojiashi/capstone_project_1/blob/master/notebooks/Women%20in%20STEM_3%20Machine%20Leanring.ipynb)\n",
    "5. [Summary](#summary)\n",
    " "
   ]
  },
  {
   "cell_type": "markdown",
   "metadata": {},
   "source": [
    "<a id='intro'></a>\n",
    "## Introduction"
   ]
  },
  {
   "cell_type": "markdown",
   "metadata": {},
   "source": [
    "### Problem: \n",
    "STEM, which stands for science, technology, engineering and math produces many job opportunities in US. However, it is reported by U.S. Department of Commerce that women comprise 48 percent of the U.S. workforce but just 24 percent of STEM workers. This is means half as many women are working in STEM jobs. Why is this happening? What people majored in during higher education plays a very importatant role in the types of work force they enter after they graduate. Does this mean less female students are majored in STEM topics as well? There might be many factors contributing to the unbalanced situation, including personal interst, cultures, and plainly not seeing of the job opportunity after graduation. \n",
    "\n",
    "What is the percentage of women in STEM jobs? What is the average salary for female STEM students? What is gender pay gap like? How about race pay gap? What is the top/bottom paid jobs for women STEM Majors? How do the answers to the above questions change for graduate students as opposed to undergraduate? \n",
    "\n",
    "I would like to try to predict if a person is going to make a high level salary given other information of the data. It would also help if we can predict the principal job field given the pre-employment data. This could help to make a career suggestion for a particular female STEM student.\n"
   ]
  },
  {
   "cell_type": "markdown",
   "metadata": {},
   "source": [
    "### Target readers:\n",
    "Career building website such as Linkedin.com and CareerBuilder.com could use this data analysis and model to send customized career suggestions to their users. I am hoping this project would give female STEM majors some insight about what they can expect, how to prepare themselves and where to start as they get ready to go into the work force. In addition, female high school students interested in STEM might use this information to help them choose a major that could possibly benefit them careerwise."
   ]
  },
  {
   "cell_type": "markdown",
   "metadata": {},
   "source": [
    "### Data Source:\n",
    "The survey data on scientist and engineers is acquired from the IPUMPS-Higher ED  (https://highered.ipums.org/highered-action/variables/group). \n",
    "\n",
    "The variables I am choosing contains information about: gender, age, race, field of major for highest degree, labor force status, full/part-time status, Principal job related to highest degree, job code for principal job, , salaries and etc. I will also choose these data between the year 2003 and 2013 to compare how things have changed over the years. "
   ]
  },
  {
   "cell_type": "markdown",
   "metadata": {},
   "source": [
    "<a id='summary'></a>\n",
    "## Summary"
   ]
  },
  {
   "cell_type": "markdown",
   "metadata": {},
   "source": [
    "This women STEM project took a deep dive into the leading STEM survey data from Scientists and Engineers Statistical Data System (SESTAT). We put our focus on the gender gap in the unemployment rate, pay as well as principal job fields.  \n",
    "\n",
    "A few highlights from the exploratory data analysis:  \n",
    "- Women have been more active in the STEM job field over the years.  \n",
    "- There is an apparent gender umployment gap and gender pay gap from this survey results.  \n",
    "- Despite the noticable gender gaps, both genders report similar job satisaction rate.  \n",
    "- The situation could be different for different principal job fields.  \n"
   ]
  },
  {
   "cell_type": "markdown",
   "metadata": {},
   "source": [
    "Several the exploratory data analysis results was put on statistical test. The disparity in employment rate, salary and job satisfaction between males and females all turned out to be statistically significant. Several other statistical tests in minority gaps, chronological changes and etc. also gave very small p value and rejected the null hypothesis.  \n",
    "\n",
    "The consistent statistical significance may come from the large sample number of the data set. Although some tests proven to be statistically significant does not mean it is practically significant. It is always a good idea to discuss the actual meaning of the test results and whether the effect needs to be addressed."
   ]
  },
  {
   "cell_type": "markdown",
   "metadata": {},
   "source": [
    "Next, I explored several classification models on the higher education SESTAT survey data. I prepared the target, numeric, and catagorical columns for the machine learning models. Statistical functions were used for feature selections. Then four classification models were picked to fit, cross validate and predict the salary level of the entries. I used accuracy scores and ROC curves to compare these methonds. It seems random forest classifier performed best. With the vital geographic location data missing (for privacy reasons), we still got accuracy scores as high as 0.82. \n",
    "\n",
    "In the last part of the project, the princpal job field was predicted. Which job field do you expect when you go to the workforce? The logistic regression coefficients help to understand the field of major is an important factor in anaswering the question. Each job field appeared was predicted with the pre-employment portion of the data. The classification models does a great job predicting the job field in general. The results find some fields are more accurately predicted than others. "
   ]
  },
  {
   "cell_type": "code",
   "execution_count": null,
   "metadata": {
    "collapsed": true
   },
   "outputs": [],
   "source": []
  }
 ],
 "metadata": {
  "kernelspec": {
   "display_name": "Python 3",
   "language": "python",
   "name": "python3"
  },
  "language_info": {
   "codemirror_mode": {
    "name": "ipython",
    "version": 3
   },
   "file_extension": ".py",
   "mimetype": "text/x-python",
   "name": "python",
   "nbconvert_exporter": "python",
   "pygments_lexer": "ipython3",
   "version": "3.6.1"
  }
 },
 "nbformat": 4,
 "nbformat_minor": 2
}
