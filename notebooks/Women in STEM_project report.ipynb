{
 "cells": [
  {
   "cell_type": "markdown",
   "metadata": {},
   "source": [
    "# Women in STEM \n",
    "   **Explore gender gap in STEM, predicting salary and job fields**"
   ]
  },
  {
   "cell_type": "markdown",
   "metadata": {},
   "source": [
    "## Abstract\n",
    "\n",
    "What is the gender unemployment discrepancy in STEM? How about the gender pay gap? Does it get better over the years? What job fields are less likely to discriminate against women? As a woman working in STEM field, I am intrinsically intersted in answering these question. From Sheryl Sandberg's book 'Lean In', I learned that women earned just 77 cents for every dollar men made. Is this true for the STEM jobs?\n",
    "\n",
    "In this project, the leading STEM workforce survey data published by HigherEd IPumps will be explored. I will use visualization and statistical analytics to find answers. I will then apply machine learning models to predict salary level, work fields for job seekers. Using random forest classifier, the accuracy score for salary level prediciton is 0.82 even though some vital information is missing in the survey data. The accuracy score goes as high as 0.90 for some principal job fields. \n",
    "\n",
    "Presentation slides [HERE](https://github.com/shuojiashi/capstone_project_1/blob/master/womenInSTEM_project_slides.pdf).\n"
   ]
  },
  {
   "cell_type": "markdown",
   "metadata": {},
   "source": [
    "# Table of Contents\n",
    "\n",
    "1. [Introduction](#intro)  \n",
    "    1.1 [Problem](#p)   \n",
    "    1.2 [Target Readers](#tr)  \n",
    "    1.4 [Key Takeaway](#kt)  \n",
    "    1.3 [Data Source](#ds)  \n",
    "2. [Import Modules](#import)\n",
    "3. [Data Wrangling](#wrangle)\n",
    "4. [Exploratory Data Analysis ](#eda)  \n",
    "5. [Statistical Analysis](#stats)  \n",
    "6. [Machine Learning](#ml)  \n",
    "    6.1 [Feature Selection](#dpsp)  \n",
    "    6.2 [Predicting Salary Level](#psl)  \n",
    "    6.3 [Predicting job field](#ppjf)  \n",
    "7. [Summary](#summary)\n",
    " "
   ]
  },
  {
   "cell_type": "markdown",
   "metadata": {},
   "source": [
    "<a id='intro'></a>\n",
    "## Introduction"
   ]
  },
  {
   "cell_type": "markdown",
   "metadata": {},
   "source": [
    "<a id='p'></a>\n",
    "### Problem: \n",
    "STEM, which stands for science, technology, engineering and math produces many job opportunities in US. However, it is reported by U.S. Department of Commerce that women comprise 48 percent of the U.S. workforce but just 24 percent of STEM workers. This is means half as many women are working in STEM jobs. Why is this happening? What people majored in during higher education plays a very importatant role in the types of work force they enter after they graduate. Does this mean less female students are majored in STEM topics as well? There might be many factors contributing to the unbalanced situation, including personal interst, cultures, and plainly not seeing of the job opportunity after graduation. \n",
    "\n",
    "What is the percentage of women in STEM jobs? What is the average salary for female STEM students? What is gender pay gap like? How about race pay gap? What is the top/bottom paid jobs for women STEM Majors? How do the answers to the above questions change for graduate students as opposed to undergraduate? \n",
    "\n",
    "I would like to try to predict if a person is going to make a high level salary given other information of the data. It would also help if we can predict the principal job field given the pre-employment data. This could help to make a career suggestion for a particular female STEM student.\n"
   ]
  },
  {
   "cell_type": "markdown",
   "metadata": {},
   "source": [
    "<a id='tr'></a>\n",
    "### Target Readers:\n",
    "* Career building website such as Linkedin.com and CareerBuilder.com could use this data analysis and model to send customized career suggestions to their users.   \n",
    "* I am hoping this project would give female STEM majors some insight about what they can expect, how to prepare themselves and where to start as they get ready to go into the work force. \n",
    "* In addition, female high school students interested in STEM might use this information to help them choose a major that could possibly benefit them careerwise."
   ]
  },
  {
   "cell_type": "markdown",
   "metadata": {},
   "source": [
    "<a id='kt'></a>\n",
    "### Key Takeaway:\n",
    "* Women report increased education and workforce participation. \n",
    "* Gender pay gap not shrinking. Women make 78 cent for every dollar men make. \n",
    "* Prediction of salary level and principal job fields with machine learning models such as logistic regression, random forest classification, and etc. \n",
    "* The results provide reference for women in STEM looking for jobs and could be used as a part of recommendation system for career building websites. "
   ]
  },
  {
   "cell_type": "markdown",
   "metadata": {},
   "source": [
    "<a id='ds'></a>\n",
    "### Data Source:\n",
    "The survey data on scientist and engineers is acquired from the IPUMPS-Higher ED  (https://highered.ipums.org/highered-action/variables/group). \n",
    "\n",
    "The variables I am choosing contains information about: gender, age, race, field of major for highest degree, labor force status, full/part-time status, Principal job related to highest degree, job code for principal job, , salaries and etc. I will also choose these data between the year 2003 and 2013 to compare how things have changed over the years. "
   ]
  },
  {
   "cell_type": "markdown",
   "metadata": {},
   "source": [
    "<a id='import'></a>\n",
    "## Import Modules"
   ]
  },
  {
   "cell_type": "code",
   "execution_count": 1,
   "metadata": {
    "collapsed": true
   },
   "outputs": [],
   "source": [
    "# import important stuff\n",
    "import numpy as np\n",
    "import pandas as pd"
   ]
  },
  {
   "cell_type": "code",
   "execution_count": 2,
   "metadata": {
    "collapsed": true
   },
   "outputs": [],
   "source": [
    "# import visulization modules\n",
    "import matplotlib.pyplot as plt\n",
    "import seaborn as sns\n",
    "sns.set_style('whitegrid')\n",
    "sns.set_context(\"talk\")\n",
    "%matplotlib inline"
   ]
  },
  {
   "cell_type": "code",
   "execution_count": 3,
   "metadata": {
    "collapsed": true
   },
   "outputs": [],
   "source": [
    "# import stats modules\n",
    "from scipy import stats\n",
    "from scipy.stats import ttest_ind, chi2_contingency"
   ]
  },
  {
   "cell_type": "code",
   "execution_count": 4,
   "metadata": {
    "collapsed": true
   },
   "outputs": [],
   "source": [
    "# import sklearn modules\n",
    "from sklearn.metrics import mean_squared_error\n",
    "from sklearn.model_selection import train_test_split\n",
    "from sklearn.model_selection import cross_val_score\n",
    "from sklearn.model_selection import GridSearchCV\n",
    "from sklearn.ensemble import RandomForestClassifier\n",
    "from sklearn.ensemble import AdaBoostClassifier\n",
    "from sklearn.linear_model import LogisticRegression\n",
    "from sklearn.neighbors import KNeighborsClassifier\n",
    "from sklearn.metrics import classification_report\n",
    "from sklearn.metrics import confusion_matrix\n",
    "from sklearn.metrics import roc_curve\n",
    "from imblearn.under_sampling import RandomUnderSampler\n",
    "from sklearn.naive_bayes import GaussianNB\n",
    "from sklearn.tree import DecisionTreeClassifier"
   ]
  },
  {
   "cell_type": "markdown",
   "metadata": {},
   "source": [
    "<a id='wrangle'></a>\n",
    "## Data Wrangling"
   ]
  },
  {
   "cell_type": "code",
   "execution_count": 5,
   "metadata": {
    "collapsed": true
   },
   "outputs": [],
   "source": [
    "# import the data from csv file with a series of NAN values \n",
    "df1 = pd.read_csv('./../data/highered_00004.csv', dtype={'REFID': str},na_values=[96, 99, 98, 9996, 9998 ,\n",
    "    9999, 999996, 999998, 999999, 9999998, 9999999] )\n",
    "df1 = df1.drop(['REFID'], axis=1)\n",
    "df2 = pd.read_csv('./../data/highered_00007.csv', dtype={'REFID': str},na_values=[96, 99, 98, 9996, 9998 ,\n",
    "    9999, 999996, 999998, 999999, 9999998, 9999999] )\n",
    "df3 = pd.read_csv('./../data/highered_00008.csv', dtype={'REFID': str},na_values=[96, 99, 98, 9996, 9998 ,\n",
    "    9999, 999996, 999998, 999999, 9999998, 9999999] )\n",
    "\n",
    "# merge the data frames containing different features\n",
    "dfm = df1.merge(df2,  on=['PERSONID', 'YEAR', 'WEIGHT', 'SAMPLE', 'SURID'])\n",
    "df = dfm.merge(df3, on=['PERSONID', 'YEAR', 'SURID'])"
   ]
  },
  {
   "cell_type": "markdown",
   "metadata": {},
   "source": [
    "Next I will take a portion of the data of employed only for salary and job field prediction. The labor force status was chosen in the next cell and some irrelevent or heavily missing data columns were removed."
   ]
  },
  {
   "cell_type": "code",
   "execution_count": 6,
   "metadata": {
    "collapsed": true
   },
   "outputs": [],
   "source": [
    "#drop columns with irrelevant or many missing data\n",
    "df_employed = df[df['LFSTAT']==1]\n",
    "df_employed_small = df_employed.drop(['CTZUS', 'WEIGHT', 'WRKG', 'NRREA','FNVS', 'CHTOT', 'CPI2009C', 'PERSONID', 'LFSTAT','BA03Y5', 'LOOKWK'], axis=1)\n",
    "df_employed_l = df_employed_small.dropna()"
   ]
  },
  {
   "cell_type": "markdown",
   "metadata": {},
   "source": [
    "**For EDA purpose only, I will use string catagorical columns that actually contain information to replace numerical data for simple understanding.**"
   ]
  },
  {
   "cell_type": "code",
   "execution_count": 7,
   "metadata": {},
   "outputs": [
    {
     "name": "stdout",
     "output_type": "stream",
     "text": [
      "<class 'pandas.core.frame.DataFrame'>\n",
      "Int64Index: 478747 entries, 0 to 478746\n",
      "Data columns (total 58 columns):\n",
      "PERSONID    478747 non-null int64\n",
      "YEAR        478747 non-null int64\n",
      "WEIGHT      478737 non-null float64\n",
      "SAMPLE      478747 non-null int64\n",
      "SURID       478747 non-null int64\n",
      "AGE         478747 non-null int64\n",
      "BIRYR       478747 non-null int64\n",
      "GENDER      478747 non-null int64\n",
      "MINRTY      478747 non-null int64\n",
      "RACETH      478747 non-null int64\n",
      "BTHUS       478747 non-null int64\n",
      "CTZUSIN     478747 non-null int64\n",
      "CTZUS       438777 non-null float64\n",
      "FNVS        20573 non-null float64\n",
      "CHTOT       219740 non-null float64\n",
      "BA03Y5      465491 non-null float64\n",
      "NBAMED      463945 non-null float64\n",
      "NBAMEMG     465494 non-null float64\n",
      "DGRDG       478747 non-null int64\n",
      "HD03Y5      478747 non-null int64\n",
      "NDGMED      478747 non-null int64\n",
      "NDGMEMG     478747 non-null int64\n",
      "LFSTAT      478747 non-null int64\n",
      "WRKG        478747 non-null int64\n",
      "HRSWKGR     407478 non-null float64\n",
      "WKSWKGR     407478 non-null float64\n",
      "LOOKWK      71269 non-null float64\n",
      "OCEDRLP     407478 non-null float64\n",
      "NOCPR       407478 non-null float64\n",
      "NOCPRMG     407478 non-null float64\n",
      "SALARY      407478 non-null float64\n",
      "CPI2009C    478747 non-null float64\n",
      "JOBSATIS    407478 non-null float64\n",
      "EMSEC       407478 non-null float64\n",
      "EMSIZE      407478 non-null float64\n",
      "GOVSUP      428636 non-null float64\n",
      "WAPRSM      407478 non-null float64\n",
      "ACTCAP      407478 non-null float64\n",
      "ACTDED      407478 non-null float64\n",
      "ACTMGT      407478 non-null float64\n",
      "ACTRD       407478 non-null float64\n",
      "ACTRDT      407478 non-null float64\n",
      "ACTRES      407478 non-null float64\n",
      "ACTTCH      407478 non-null float64\n",
      "NRREA       50439 non-null float64\n",
      "WKTRNI      477774 non-null float64\n",
      "WAPRI       407478 non-null float64\n",
      "WASEC       407478 non-null float64\n",
      "WASCSM      407478 non-null float64\n",
      "MNTRS       478747 non-null object\n",
      "GENDERS     478747 non-null object\n",
      "MajorS      478747 non-null object\n",
      "JobS        407478 non-null object\n",
      "RACES       478747 non-null object\n",
      "LFSTATS     420341 non-null object\n",
      "BUSS        478747 non-null object\n",
      "JobSatis    407478 non-null object\n",
      "JobR        407478 non-null object\n",
      "dtypes: float64(32), int64(17), object(9)\n",
      "memory usage: 215.5+ MB\n"
     ]
    }
   ],
   "source": [
    "min_map = {0: 'Not minority', 1: 'Minority'}\n",
    "df['MNTRS'] = df['MINRTY'].map(min_map)\n",
    "\n",
    "gen_map = {1: 'Female', 2: 'Male'}\n",
    "df['GENDERS'] = df['GENDER'].map(gen_map)\n",
    "\n",
    "major_map = {1: 'Computer/Maths Sciences', 2: 'Bio., Agr. and Env. sciences', 3: 'Physical Sciences', 4: 'Social Sciences', 5: 'Engineering', 6: 'Science and engineering-related fields', 7: 'Non-science and engineering fields' }\n",
    "df['MajorS'] = df['NDGMEMG'].map(major_map)\n",
    "\n",
    "job_map = {1: 'Computer/Maths Sciences', 2: 'Bio., Agr. and Env. sciences', 3: 'Physical Sciences', 4: 'Social Sciences', 5: 'Engineering', 6: 'Science and engineering-related fields', 7: 'Non-science and engineering fields' }\n",
    "df['JobS'] = df['NOCPRMG'].map(job_map)\n",
    "\n",
    "race_map = {1: 'Asian', 2: 'White', 3: 'Other Minorities', 4: 'Other'}\n",
    "df['RACES'] = df['RACETH'].map(race_map)\n",
    "\n",
    "LF_map = {1: 'Employed', 2: 'Unemployed'}\n",
    "df['LFSTATS'] = df['LFSTAT'].map(LF_map)\n",
    "df['LFSTATS'] = df['LFSTATS'].replace(3,np.NaN)\n",
    "\n",
    "birth_map = {0: 'Not in the US', 1: 'Born in the US'}\n",
    "df['BUSS'] = df['BTHUS'].map(birth_map)\n",
    "\n",
    "JS_map = {1: 'Satisfied', 2: 'Satisfied', 3: 'Dissatisfied', 4: 'Dissatisfied'}\n",
    "df['JobSatis'] = df['JOBSATIS'].map(JS_map)\n",
    "df_gender_satisfy = df.groupby('GENDERS')['JobSatis'].value_counts(normalize=True).unstack().reset_index()\n",
    "\n",
    "JR_map = {1: 'Related', 2: 'Related', 3: 'Not Related'}\n",
    "df['JobR'] = df['OCEDRLP'].map(JR_map)\n",
    "\n",
    "df.info()"
   ]
  },
  {
   "cell_type": "markdown",
   "metadata": {},
   "source": [
    "**Drop irrelevant columns and columns with mostly missing data**"
   ]
  },
  {
   "cell_type": "code",
   "execution_count": 8,
   "metadata": {
    "collapsed": true
   },
   "outputs": [],
   "source": [
    "df = df.drop(['MINRTY','GENDER','RACETH','BTHUS','FNVS', 'CHTOT', 'CTZUS','NBAMEMG','NBAMED', 'BA03Y5','NRREA' ],axis=1)"
   ]
  },
  {
   "cell_type": "code",
   "execution_count": 9,
   "metadata": {},
   "outputs": [
    {
     "name": "stdout",
     "output_type": "stream",
     "text": [
      "<class 'pandas.core.frame.DataFrame'>\n",
      "Int64Index: 478747 entries, 0 to 478746\n",
      "Data columns (total 47 columns):\n",
      "PERSONID    478747 non-null int64\n",
      "YEAR        478747 non-null int64\n",
      "WEIGHT      478737 non-null float64\n",
      "SAMPLE      478747 non-null int64\n",
      "SURID       478747 non-null int64\n",
      "AGE         478747 non-null int64\n",
      "BIRYR       478747 non-null int64\n",
      "CTZUSIN     478747 non-null int64\n",
      "DGRDG       478747 non-null int64\n",
      "HD03Y5      478747 non-null int64\n",
      "NDGMED      478747 non-null int64\n",
      "NDGMEMG     478747 non-null int64\n",
      "LFSTAT      478747 non-null int64\n",
      "WRKG        478747 non-null int64\n",
      "HRSWKGR     407478 non-null float64\n",
      "WKSWKGR     407478 non-null float64\n",
      "LOOKWK      71269 non-null float64\n",
      "OCEDRLP     407478 non-null float64\n",
      "NOCPR       407478 non-null float64\n",
      "NOCPRMG     407478 non-null float64\n",
      "SALARY      407478 non-null float64\n",
      "CPI2009C    478747 non-null float64\n",
      "JOBSATIS    407478 non-null float64\n",
      "EMSEC       407478 non-null float64\n",
      "EMSIZE      407478 non-null float64\n",
      "GOVSUP      428636 non-null float64\n",
      "WAPRSM      407478 non-null float64\n",
      "ACTCAP      407478 non-null float64\n",
      "ACTDED      407478 non-null float64\n",
      "ACTMGT      407478 non-null float64\n",
      "ACTRD       407478 non-null float64\n",
      "ACTRDT      407478 non-null float64\n",
      "ACTRES      407478 non-null float64\n",
      "ACTTCH      407478 non-null float64\n",
      "WKTRNI      477774 non-null float64\n",
      "WAPRI       407478 non-null float64\n",
      "WASEC       407478 non-null float64\n",
      "WASCSM      407478 non-null float64\n",
      "MNTRS       478747 non-null object\n",
      "GENDERS     478747 non-null object\n",
      "MajorS      478747 non-null object\n",
      "JobS        407478 non-null object\n",
      "RACES       478747 non-null object\n",
      "LFSTATS     420341 non-null object\n",
      "BUSS        478747 non-null object\n",
      "JobSatis    407478 non-null object\n",
      "JobR        407478 non-null object\n",
      "dtypes: float64(25), int64(13), object(9)\n",
      "memory usage: 175.3+ MB\n"
     ]
    }
   ],
   "source": [
    "df.info()"
   ]
  },
  {
   "cell_type": "markdown",
   "metadata": {},
   "source": [
    "** Make some portional data frames for easy manipulation **"
   ]
  },
  {
   "cell_type": "code",
   "execution_count": 10,
   "metadata": {
    "collapsed": true
   },
   "outputs": [],
   "source": [
    "#a data frme for master, doctorate and professional degrees \n",
    "df_graduate = df[(df['DGRDG'] == 2) | (df['DGRDG'] == 3) | (df['DGRDG'] == 4)]\n",
    "\n",
    "df_dr = df[(df['DGRDG'] == 3) ]\n",
    "df_prof = df[(df['DGRDG'] == 4) ]\n",
    "\n",
    "#a data frame only contains those employed in STEM fields\n",
    "df_stem = df[df['NOCPRMG']!=7]\n",
    "\n",
    "#a data frame for undergraduates only \n",
    "df_CR = df[(df['SAMPLE']==601) | (df['SAMPLE']==603) | (df['SAMPLE']==1001)]\n",
    "df_undergraduate = df[(df['DGRDG'] == 1)]\n",
    "\n",
    "#a data frame for 2003 survey only \n",
    "df_2003 = df[df['YEAR']==2003]\n",
    "\n",
    "#a data frame for 2013 survey only \n",
    "df_2013 = df[df['YEAR']==2013]"
   ]
  },
  {
   "cell_type": "markdown",
   "metadata": {},
   "source": [
    "<a id='eda'></a>\n",
    "## Exploratory Data Analysis \n",
    "\n",
    "for individual EDA notebook, please click [HERE](https://github.com/shuojiashi/capstone_project_1/blob/master/notebooks/Women%20in%20STEM_1%20EDA.ipynb)"
   ]
  },
  {
   "cell_type": "markdown",
   "metadata": {},
   "source": [
    "### How much do women comprise the US STEM jobs?\n",
    "It is reported by U.S. Department of Commerce that women comprise 48 percent of the U.S. workforce but just 24 percent of STEM workers. We can do a quick check of the STEM jobs to see how does the female percentage look like over the years.\n",
    "Note that we use df_stem here to choose only the data frame contains STEM workers. We are also only looking at the data when the individual is employed.\n"
   ]
  },
  {
   "cell_type": "code",
   "execution_count": 11,
   "metadata": {},
   "outputs": [
    {
     "data": {
      "image/png": "[encoded data removed]",
      "text/plain": [
       "<matplotlib.figure.Figure at 0x121487940>"
      ]
     },
     "metadata": {},
     "output_type": "display_data"
    }
   ],
   "source": [
    "sns.set_style(\"white\")\n",
    "fig=plt.figure(figsize=[8,5])\n",
    "ax = fig.add_subplot(111)\n",
    "df_female_percentage = df_stem[df_stem['LFSTATS']=='Employed'].groupby('YEAR')['GENDERS'].value_counts(normalize=True).unstack().reset_index()\n",
    "\n",
    "sns.barplot(x='YEAR', y='Female', data = df_female_percentage, color=\"green\", ax=ax)\n",
    "ax.set_xlabel('YEAR')\n",
    "ax.set_ylim([0,0.45])\n",
    "ax.set_yticks([0,0.1,0.2,0.3,0.4])\n",
    "ax.set_yticklabels(['{:1.1f}%'.format(x*100) for x in [0,0.1,0.2,0.3,0.4]])\n",
    "plt.ylabel('')\n",
    "plt.title('% of Women in STEM Workforce',fontsize=20)\n",
    "sns.despine()\n",
    "plt.savefig('./../results/femalepercent.png',dpi = 150)\n",
    "sns.set_style('whitegrid')"
   ]
  },
  {
   "cell_type": "code",
   "execution_count": 12,
   "metadata": {},
   "outputs": [
    {
     "data": {
      "image/png": "[encoded data removed]",
      "text/plain": [
       "<matplotlib.figure.Figure at 0x1168614a8>"
      ]
     },
     "metadata": {},
     "output_type": "display_data"
    }
   ],
   "source": [
    "sns.set_style(\"white\")\n",
    "fig=plt.figure(figsize=[8,5])\n",
    "ax = fig.add_subplot(111)\n",
    "df_female_percentage = df_graduate.groupby('YEAR')['GENDERS'].value_counts(normalize=True).unstack().reset_index()\n",
    "\n",
    "\n",
    "sns.barplot(x='YEAR', y='Female', data = df_female_percentage, color=\"purple\", ax=ax)\n",
    "ax.set_xlabel('YEAR')\n",
    "ax.set_ylim([0,0.45])\n",
    "ax.set_yticks([0,0.1,0.2,0.3,0.4])\n",
    "ax.set_yticklabels(['{:1.1f}%'.format(x*100) for x in [0,0.1,0.2,0.3,0.4]])\n",
    "plt.ylabel('')\n",
    "plt.title('% of Women with Graduate Degrees',fontsize=20)\n",
    "sns.despine()\n",
    "plt.savefig('./../results/femalepercent1.png',dpi = 150)\n",
    "sns.set_style('whitegrid')"
   ]
  },
  {
   "cell_type": "markdown",
   "metadata": {},
   "source": [
    "The green bar plot shows about 33% of the STEM workers are women in 2003 and that number rises to 40% in 2013! The result from the survey data is exciting! It indicates a upward trend in women's involvement in STEM jobs. The number differs from the 24% reported by the U.S. workforce. Several reasons could be contributing to it. First of all, there might be a gender bias in the voluntee\n",
    "r based survey. There might simply be more men willign to take the survey than women. Also, the report by U.S. workforce might be based on a data from a different year.\n",
    "Nevertheless, a increasing trend in the female percentage over the year (2003-2013) is present in this data set. There are more women working in the STEM job fields and it is encouraging!\n",
    "\n",
    "The purple bar plot shows the percentage of women with graduate degrees from 2003 to 2013. The trend is amazingly similar! Women are making up larger part of the STEM world, with higher education degrees.  "
   ]
  },
  {
   "cell_type": "markdown",
   "metadata": {},
   "source": [
    "### What is the unemployment rate for each gender from the STEM community?##\n"
   ]
  },
  {
   "cell_type": "code",
   "execution_count": 13,
   "metadata": {},
   "outputs": [
    {
     "name": "stderr",
     "output_type": "stream",
     "text": [
      "/anaconda/lib/python3.6/site-packages/ipykernel_launcher.py:9: SettingWithCopyWarning: \n",
      "A value is trying to be set on a copy of a slice from a DataFrame.\n",
      "Try using .loc[row_indexer,col_indexer] = value instead\n",
      "\n",
      "See the caveats in the documentation: http://pandas.pydata.org/pandas-docs/stable/indexing.html#indexing-view-versus-copy\n",
      "  if __name__ == '__main__':\n"
     ]
    },
    {
     "data": {
      "image/png": "[encoded data removed]",
      "text/plain": [
       "<matplotlib.figure.Figure at 0x11c5cd588>"
      ]
     },
     "metadata": {},
     "output_type": "display_data"
    }
   ],
   "source": [
    "df_gender_employ = df.groupby(['YEAR','GENDERS'])['LFSTATS'].value_counts(normalize=True).unstack().reset_index()\n",
    "LFW_map = {1: 0.0, 2: 1.0, 3: np.NaN}\n",
    "\n",
    "df['LFSTATW'] = df['LFSTAT'].map(LFW_map)\n",
    "#only consider the data in the labor force\n",
    "\n",
    "df_inlf_only = df.dropna(subset=['LFSTATW'])\n",
    "\n",
    "df_inlf_only['weighted_lfstats']=df_inlf_only['WEIGHT']*df_inlf_only['LFSTATW']\n",
    "\n",
    "weighted_lfs = df_inlf_only.groupby(['YEAR','GENDERS'])[['weighted_lfstats']].sum().unstack().reset_index()\n",
    "weight = df_inlf_only.groupby(['YEAR','GENDERS'])[['WEIGHT']].sum().unstack().reset_index()\n",
    "female_unemployed_rate = weighted_lfs['weighted_lfstats']['Female']/weight['WEIGHT']['Female']\n",
    "male_unemployed_rate = weighted_lfs['weighted_lfstats']['Male']/weight['WEIGHT']['Male']\n",
    "d = {'Year': [2003, 2006, 2008, 2010, 2013], 'female': female_unemployed_rate, 'male': male_unemployed_rate}\n",
    "df_unemployed_rate_weighted = pd.DataFrame(data=d)\n",
    "#melt the data frame to get ready for seaborn barplot with hues\n",
    "df_unemployed_rate_weighted_melt = pd.melt(df_unemployed_rate_weighted, id_vars=['Year'], value_vars=['female', 'male'])\n",
    "\n",
    "sns.barplot(x='Year', y='value', hue='variable', data = df_unemployed_rate_weighted_melt, hue_order=['male','female'],palette=\"muted\")\n",
    "plt.xlabel('GENDER')\n",
    "plt.ylim([0,0.1])\n",
    "plt.ylabel('Umemployment Rate')\n",
    "sns.despine()"
   ]
  },
  {
   "cell_type": "markdown",
   "metadata": {},
   "source": [
    "The bar plot above shows the employment rate in the STEM community for the female and male groups. To keep consistent, the unemployed data does not take into account people not in the labor force. It indicates the unemployment rate for all is between 2-5% with around 1% higher rate for women than men. \n",
    "\n",
    "The unemployment rate here is about 50% less compared with the data from Bureau of Labor Statistics (https://data.bls.gov/pdq/SurveyOutputServlet). This might come from the survey bias. It could also mean the unemployment rate is lower in the STEM community compared with general population in US. "
   ]
  },
  {
   "cell_type": "markdown",
   "metadata": {},
   "source": [
    "### A closer look at the unemployment rate\n",
    "We have already known that the female umemployment is higher than that of male. Now we take a closer look into the data, in specific, the undergraduate and graduate group data."
   ]
  },
  {
   "cell_type": "code",
   "execution_count": 14,
   "metadata": {
    "scrolled": true
   },
   "outputs": [
    {
     "name": "stderr",
     "output_type": "stream",
     "text": [
      "/anaconda/lib/python3.6/site-packages/ipykernel_launcher.py:4: SettingWithCopyWarning: \n",
      "A value is trying to be set on a copy of a slice from a DataFrame.\n",
      "Try using .loc[row_indexer,col_indexer] = value instead\n",
      "\n",
      "See the caveats in the documentation: http://pandas.pydata.org/pandas-docs/stable/indexing.html#indexing-view-versus-copy\n",
      "  after removing the cwd from sys.path.\n",
      "/anaconda/lib/python3.6/site-packages/ipykernel_launcher.py:8: SettingWithCopyWarning: \n",
      "A value is trying to be set on a copy of a slice from a DataFrame.\n",
      "Try using .loc[row_indexer,col_indexer] = value instead\n",
      "\n",
      "See the caveats in the documentation: http://pandas.pydata.org/pandas-docs/stable/indexing.html#indexing-view-versus-copy\n",
      "  \n",
      "/anaconda/lib/python3.6/site-packages/ipykernel_launcher.py:12: SettingWithCopyWarning: \n",
      "A value is trying to be set on a copy of a slice from a DataFrame.\n",
      "Try using .loc[row_indexer,col_indexer] = value instead\n",
      "\n",
      "See the caveats in the documentation: http://pandas.pydata.org/pandas-docs/stable/indexing.html#indexing-view-versus-copy\n",
      "  if sys.path[0] == '':\n"
     ]
    },
    {
     "data": {
      "image/png": "[encoded data removed]",
      "text/plain": [
       "<matplotlib.figure.Figure at 0x11669f5f8>"
      ]
     },
     "metadata": {},
     "output_type": "display_data"
    }
   ],
   "source": [
    "employ_ug = df_undergraduate.groupby('GENDERS')['LFSTATS'].value_counts(normalize=True).unstack()\n",
    "employ_ug_melt = pd.melt(employ_ug.reset_index(), id_vars ='GENDERS')\n",
    "employed_ug_melt_e = employ_ug_melt[employ_ug_melt['LFSTATS']=='Unemployed']\n",
    "employed_ug_melt_e['Degree'] = 'Undergraduate'\n",
    "employ_gr = df_graduate.groupby('GENDERS')['LFSTATS'].value_counts(normalize=True).unstack()\n",
    "employ_gr_melt = pd.melt(employ_gr.reset_index(), id_vars ='GENDERS')\n",
    "employed_gr_melt_e = employ_gr_melt[employ_gr_melt['LFSTATS']=='Unemployed']\n",
    "employed_gr_melt_e['Degree'] = 'Graduate'\n",
    "employ_dr = df_dr.groupby('GENDERS')['LFSTATS'].value_counts(normalize=True).unstack()\n",
    "employ_dr_melt = pd.melt(employ_dr.reset_index(), id_vars ='GENDERS')\n",
    "employed_dr_melt_e = employ_dr_melt[employ_dr_melt['LFSTATS']=='Unemployed']\n",
    "employed_dr_melt_e['Degree'] = 'Doctorate'\n",
    "employed_new = pd.concat([employed_ug_melt_e,employed_gr_melt_e,employed_dr_melt_e])\n",
    "\n",
    "plt.figure(figsize=(8,4.5))\n",
    "sns.stripplot(x='Degree', y='value', data=employed_new, hue='GENDERS', hue_order=['Male','Female'], size =20, palette=\"muted\")\n",
    "plt.legend()\n",
    "sns.despine()\n",
    "plt.tight_layout()\n",
    "plt.ylim([0.01,0.05])\n",
    "plt.ylabel('Unemployment Rate')\n",
    "plt.savefig('./../results/unemployment_rate.png',dpi = 150)"
   ]
  },
  {
   "cell_type": "markdown",
   "metadata": {},
   "source": [
    "**Observations:**  \n",
    "The dot plot shows the umemployment rate for both female and male in the undergraduate and graduate groups. The trend we see is that the higher the degree is, the lower the unemployment rate is. \n",
    "\n",
    "It is clear that the undergraduate group has a 1% unemployment rate difference in men and women. And the disparity stays about the same for the  graduate group. \n",
    "\n",
    "The last dot plot shows the unemployment rate for the doctorate group. In this case, the umemployment rate gap shrinks! Can we consider this to be an effective career advice for female students? "
   ]
  },
  {
   "cell_type": "markdown",
   "metadata": {},
   "source": [
    "### Gender Pay Gap\n",
    "The box plot below shows the salary in the STEM community for the female and male groups between year 2003 and 2013. Note that the salary is capped at $150,000.\n",
    "\n"
   ]
  },
  {
   "cell_type": "code",
   "execution_count": 15,
   "metadata": {},
   "outputs": [
    {
     "data": {
      "image/png": "[encoded data removed]",
      "text/plain": [
       "<matplotlib.figure.Figure at 0x11c5cd860>"
      ]
     },
     "metadata": {},
     "output_type": "display_data"
    }
   ],
   "source": [
    "#bar plot of gender and salary \n",
    "fig=plt.figure(figsize=[8,5])\n",
    "ax = fig.add_subplot(111)\n",
    "sns.boxplot(data=df, y = 'SALARY', x = 'YEAR', hue = 'GENDERS',hue_order=['Male','Female'], palette=\"muted\", ax=ax)\n",
    "sns.despine()\n",
    "plt.title('Gender Pay Gap VS Year')\n",
    "lgd=ax.legend(bbox_to_anchor=(1.01, 1), loc=2, borderaxespad=0.)\n",
    "plt.tight_layout\n",
    "plt.savefig('./../results/gendersalary.png',bbox_extra_artists=(lgd,), bbox_inches='tight', dpi = 150)"
   ]
  },
  {
   "cell_type": "markdown",
   "metadata": {},
   "source": [
    "** Highlights from the plot:**  \n",
    "* Women have come a long way but are still not at parity. We have seen women's increased education and workforce participation. But the median, and the quatiles wages for men is about 30\\% higher than women, for all years listed. The data from STEM survey loosely agrees with the nation wide findings of women making 78 cents for every 1 dollar men make.  \n",
    "* There is NO shrinking trend in the gender discrepancies in these years.  \n",
    "* The mean wages increased from year 2003 to 2008. Then we see a small decrease from 2008 to 2013. This makes sense considering the financial crisis in 2008. It is intersting to see the magnitude and how long it has been affecting the job market.  \n",
    "\n",
    "In the analysis below we take a closer look at the salaries over the years, with different highest degree groups for STEMers."
   ]
  },
  {
   "cell_type": "markdown",
   "metadata": {},
   "source": [
    "### A close look: salary trend between 2003-2013 with degree group  "
   ]
  },
  {
   "cell_type": "code",
   "execution_count": 16,
   "metadata": {
    "scrolled": true
   },
   "outputs": [
    {
     "data": {
      "image/png": "[encoded data removed]",
      "text/plain": [
       "<matplotlib.figure.Figure at 0x120a64ef0>"
      ]
     },
     "metadata": {},
     "output_type": "display_data"
    }
   ],
   "source": [
    "fig, axs = plt.subplots(nrows=3, figsize=(6,12))\n",
    "\n",
    "#Plot undergraduate level salaries\n",
    "sns.boxplot(data=df_undergraduate, y = 'SALARY', x = 'YEAR', palette=\"Set2\", ax=axs[0])\n",
    "axs[0].set_title('STEMers with Undergraduate Degrees')\n",
    "axs[0].set_xlabel('')\n",
    "\n",
    "#Plot graduate level salaries \n",
    "sns.boxplot(data=df_graduate, y = 'SALARY', x = 'YEAR', palette=\"Set2\", hue_order=[\"Female\", \"Male\"], ax=axs[1])\n",
    "axs[1].set_title('STEMers with Graduate Degrees')\n",
    "axs[1].set_xlabel('')\n",
    "\n",
    "\n",
    "#Plot doctorate level salaries\n",
    "sns.boxplot(data=df_dr, y = 'SALARY', x = 'YEAR', palette=\"Set2\", ax=axs[2])\n",
    "axs[2].set_title('STEMers with Doctorate Degrees')\n",
    "axs[2].set_xlabel('YEAR')\n",
    "sns.despine()\n",
    "\n",
    "plt.tight_layout()"
   ]
  },
  {
   "cell_type": "markdown",
   "metadata": {},
   "source": [
    "** A close look: salary trend between 2003-2013 with degree group **  \n",
    "\n",
    "\n",
    "First of all, it is easy to see all the above plots give a steady increase in salary from year 2003 to 2008. But things get intereting after 2008. \n",
    "\n",
    "1. In the first subplot above, we see the salaries for individuals with undergraduate highest degree. It clearly indicates the trending down after year 2008. So how about STEMers with graduate degrees?\n",
    "\n",
    "2. The second subplot shows the salary boxplot with graduate degrees (master, doctorate, and professional degrees). It also presents the downward trend between these years. Perhaps, a even closer looks is required. What about STEMers with doctorate degrees? \n",
    "\n",
    "3. The last subplot contains data from only the doctorate group. Now we see a **difference**! This bar plot did not show a down trend. Instead, the mean salary for year 2010 kept about the same as 2008 and an even an increased in 2013. \n",
    "\n",
    "In a financial crisis like this, the doctorate group in average was influenced least and recovered fastest. It gives some insights to the need for highly specialized professionals from our society. \n",
    "\n",
    "The plot below gives the same information on the women data. \n",
    "\n"
   ]
  },
  {
   "cell_type": "code",
   "execution_count": 17,
   "metadata": {
    "scrolled": true
   },
   "outputs": [
    {
     "data": {
      "image/png": "[encoded data removed]",
      "text/plain": [
       "<matplotlib.figure.Figure at 0x11d5a9e10>"
      ]
     },
     "metadata": {},
     "output_type": "display_data"
    }
   ],
   "source": [
    "df_undergraduate = df_stem[(df_stem['DGRDG'] == 1)]\n",
    "df_dr = df_stem[(df_stem['DGRDG'] == 3)]\n",
    "\n",
    "fig, axs = plt.subplots(nrows=2, figsize=(6,8))\n",
    "\n",
    "#Plot undergraduate level salaries\n",
    "sns.boxplot(data=df_undergraduate[df_undergraduate['GENDERS']=='Female'], y = 'SALARY', x = 'YEAR', palette=\"Set2\", ax=axs[0])\n",
    "axs[0].set_title('Women with Undergraduate Degrees')\n",
    "axs[0].set_xlabel('')\n",
    "\n",
    "\n",
    "#Plot doctorate level salaries\n",
    "sns.boxplot(data=df_dr[df_dr['GENDERS']=='Female'], y = 'SALARY', x = 'YEAR', palette=\"Set2\", ax=axs[1])\n",
    "axs[1].set_title('Women with Doctorate Degrees')\n",
    "axs[1].set_xlabel('YEAR')\n",
    "sns.despine()\n",
    "\n",
    "plt.tight_layout()\n",
    "plt.savefig('./../results/womensalary.png',dpi = 150)"
   ]
  },
  {
   "cell_type": "markdown",
   "metadata": {},
   "source": [
    "Again, the salary decreased both years after the finacial crisis in 2008 but kept increasing for the doctorate groups. Jobs by people with higher education degrees are more resilient to a financial crisis, the same story for women employees. "
   ]
  },
  {
   "cell_type": "markdown",
   "metadata": {},
   "source": [
    "### Gender Pay Gaps and Racial Groups"
   ]
  },
  {
   "cell_type": "code",
   "execution_count": 18,
   "metadata": {},
   "outputs": [
    {
     "data": {
      "image/png": "[encoded data removed]",
      "text/plain": [
       "<matplotlib.figure.Figure at 0x11ffa10f0>"
      ]
     },
     "metadata": {},
     "output_type": "display_data"
    }
   ],
   "source": [
    "#Compare and plot the SALARY of races and genders from year 2003 \n",
    "sns.barplot(data=df, y = 'SALARY', x = 'RACES', hue = 'GENDERS',hue_order=['Male','Female'], palette=\"muted\")\n",
    "lgd=plt.legend(bbox_to_anchor=(1.01, 1), loc=2, borderaxespad=0.)\n",
    "plt.title('Gender Pay Gap & Racial Groups')\n",
    "plt.xlabel('')\n",
    "plt.ylim([0,100000])\n",
    "plt.savefig('./../results/racesalary.png',bbox_extra_artists=(lgd,), bbox_inches='tight', dpi = 150)"
   ]
  },
  {
   "cell_type": "code",
   "execution_count": 19,
   "metadata": {},
   "outputs": [
    {
     "data": {
      "text/html": [
       "<div>\n",
       "<style>\n",
       "    .dataframe thead tr:only-child th {\n",
       "        text-align: right;\n",
       "    }\n",
       "\n",
       "    .dataframe thead th {\n",
       "        text-align: left;\n",
       "    }\n",
       "\n",
       "    .dataframe tbody tr th {\n",
       "        vertical-align: top;\n",
       "    }\n",
       "</style>\n",
       "<table border=\"1\" class=\"dataframe\">\n",
       "  <thead>\n",
       "    <tr style=\"text-align: right;\">\n",
       "      <th>GENDERS</th>\n",
       "      <th>Female</th>\n",
       "      <th>Male</th>\n",
       "      <th>Percentage</th>\n",
       "    </tr>\n",
       "    <tr>\n",
       "      <th>RACES</th>\n",
       "      <th></th>\n",
       "      <th></th>\n",
       "      <th></th>\n",
       "    </tr>\n",
       "  </thead>\n",
       "  <tbody>\n",
       "    <tr>\n",
       "      <th>Asian</th>\n",
       "      <td>71786.489489</td>\n",
       "      <td>89006.353731</td>\n",
       "      <td>0.806532</td>\n",
       "    </tr>\n",
       "    <tr>\n",
       "      <th>Other Minorities</th>\n",
       "      <td>60773.480030</td>\n",
       "      <td>76820.061440</td>\n",
       "      <td>0.791115</td>\n",
       "    </tr>\n",
       "    <tr>\n",
       "      <th>White</th>\n",
       "      <td>64555.793021</td>\n",
       "      <td>86942.151196</td>\n",
       "      <td>0.742514</td>\n",
       "    </tr>\n",
       "  </tbody>\n",
       "</table>\n",
       "</div>"
      ],
      "text/plain": [
       "GENDERS                 Female          Male  Percentage\n",
       "RACES                                                   \n",
       "Asian             71786.489489  89006.353731    0.806532\n",
       "Other Minorities  60773.480030  76820.061440    0.791115\n",
       "White             64555.793021  86942.151196    0.742514"
      ]
     },
     "execution_count": 19,
     "metadata": {},
     "output_type": "execute_result"
    }
   ],
   "source": [
    "df_race = df.groupby(['RACES', 'GENDERS'])['SALARY'].mean().unstack()\n",
    "df_race['Percentage'] = df_race['Female']/df_race['Male']\n",
    "df_race"
   ]
  },
  {
   "cell_type": "markdown",
   "metadata": {},
   "source": [
    "The box plot above shows the mean salary for both genders groups and three race categories. The table above lists the actual numbers. The percentage column tells us for every dollar men make, how much does women make? We already know from previous analysis: Men make more than women. \n",
    "\n",
    "Here is something new from the STEM survey data:\n",
    "\n",
    "1. The pay gap between men and women exist in all race groups. \n",
    "2. The average salary for caucasion and asian men are about the same. The average salary for asian women is higher than the rest of female race groups. \n",
    "3. For every dollar asian men make, asian women make 81 cents.  \n",
    "For every dollar white men make, white women make 74 cents.  \n",
    "For every dollar other minorities(include black, hispanic, and etc) men make, other minorities women make 79 cents.  \n"
   ]
  },
  {
   "cell_type": "markdown",
   "metadata": {},
   "source": [
    "### Unemployment rate of the female STEMers in different field of majors?"
   ]
  },
  {
   "cell_type": "code",
   "execution_count": 20,
   "metadata": {
    "collapsed": true
   },
   "outputs": [],
   "source": [
    "employ_female_2003 = df_2003[df_2003['GENDERS']=='Female'].groupby('MajorS')['LFSTATS'].value_counts(normalize=True).unstack().reset_index()"
   ]
  },
  {
   "cell_type": "code",
   "execution_count": 21,
   "metadata": {
    "collapsed": true
   },
   "outputs": [],
   "source": [
    "employ_female_2013 = df_2013[df_2013['GENDERS']=='Female'].groupby('MajorS')['LFSTATS'].value_counts(normalize=True).unstack().reset_index()"
   ]
  },
  {
   "cell_type": "code",
   "execution_count": 22,
   "metadata": {},
   "outputs": [
    {
     "data": {
      "text/html": [
       "<div>\n",
       "<style>\n",
       "    .dataframe thead tr:only-child th {\n",
       "        text-align: right;\n",
       "    }\n",
       "\n",
       "    .dataframe thead th {\n",
       "        text-align: left;\n",
       "    }\n",
       "\n",
       "    .dataframe tbody tr th {\n",
       "        vertical-align: top;\n",
       "    }\n",
       "</style>\n",
       "<table border=\"1\" class=\"dataframe\">\n",
       "  <thead>\n",
       "    <tr style=\"text-align: right;\">\n",
       "      <th></th>\n",
       "      <th>MajorS</th>\n",
       "      <th>LFSTATS</th>\n",
       "      <th>value</th>\n",
       "    </tr>\n",
       "  </thead>\n",
       "  <tbody>\n",
       "    <tr>\n",
       "      <th>0</th>\n",
       "      <td>Bio., Agr. and Env. sciences</td>\n",
       "      <td>Unemployed2003</td>\n",
       "      <td>0.030081</td>\n",
       "    </tr>\n",
       "    <tr>\n",
       "      <th>1</th>\n",
       "      <td>Computer/Maths Sciences</td>\n",
       "      <td>Unemployed2003</td>\n",
       "      <td>0.058649</td>\n",
       "    </tr>\n",
       "    <tr>\n",
       "      <th>2</th>\n",
       "      <td>Engineering</td>\n",
       "      <td>Unemployed2003</td>\n",
       "      <td>0.049560</td>\n",
       "    </tr>\n",
       "    <tr>\n",
       "      <th>3</th>\n",
       "      <td>Non-science and engineering fields</td>\n",
       "      <td>Unemployed2003</td>\n",
       "      <td>0.023270</td>\n",
       "    </tr>\n",
       "    <tr>\n",
       "      <th>4</th>\n",
       "      <td>Physical Sciences</td>\n",
       "      <td>Unemployed2003</td>\n",
       "      <td>0.041032</td>\n",
       "    </tr>\n",
       "    <tr>\n",
       "      <th>5</th>\n",
       "      <td>Science and engineering-related fields</td>\n",
       "      <td>Unemployed2003</td>\n",
       "      <td>0.021757</td>\n",
       "    </tr>\n",
       "    <tr>\n",
       "      <th>6</th>\n",
       "      <td>Social Sciences</td>\n",
       "      <td>Unemployed2003</td>\n",
       "      <td>0.031064</td>\n",
       "    </tr>\n",
       "    <tr>\n",
       "      <th>7</th>\n",
       "      <td>Bio., Agr. and Env. sciences</td>\n",
       "      <td>Unemployed2013</td>\n",
       "      <td>0.040958</td>\n",
       "    </tr>\n",
       "    <tr>\n",
       "      <th>8</th>\n",
       "      <td>Computer/Maths Sciences</td>\n",
       "      <td>Unemployed2013</td>\n",
       "      <td>0.044737</td>\n",
       "    </tr>\n",
       "    <tr>\n",
       "      <th>9</th>\n",
       "      <td>Engineering</td>\n",
       "      <td>Unemployed2013</td>\n",
       "      <td>0.032401</td>\n",
       "    </tr>\n",
       "    <tr>\n",
       "      <th>10</th>\n",
       "      <td>Non-science and engineering fields</td>\n",
       "      <td>Unemployed2013</td>\n",
       "      <td>0.029536</td>\n",
       "    </tr>\n",
       "    <tr>\n",
       "      <th>11</th>\n",
       "      <td>Physical Sciences</td>\n",
       "      <td>Unemployed2013</td>\n",
       "      <td>0.039854</td>\n",
       "    </tr>\n",
       "    <tr>\n",
       "      <th>12</th>\n",
       "      <td>Science and engineering-related fields</td>\n",
       "      <td>Unemployed2013</td>\n",
       "      <td>0.032371</td>\n",
       "    </tr>\n",
       "    <tr>\n",
       "      <th>13</th>\n",
       "      <td>Social Sciences</td>\n",
       "      <td>Unemployed2013</td>\n",
       "      <td>0.043179</td>\n",
       "    </tr>\n",
       "  </tbody>\n",
       "</table>\n",
       "</div>"
      ],
      "text/plain": [
       "                                    MajorS         LFSTATS     value\n",
       "0             Bio., Agr. and Env. sciences  Unemployed2003  0.030081\n",
       "1                  Computer/Maths Sciences  Unemployed2003  0.058649\n",
       "2                              Engineering  Unemployed2003  0.049560\n",
       "3       Non-science and engineering fields  Unemployed2003  0.023270\n",
       "4                        Physical Sciences  Unemployed2003  0.041032\n",
       "5   Science and engineering-related fields  Unemployed2003  0.021757\n",
       "6                          Social Sciences  Unemployed2003  0.031064\n",
       "7             Bio., Agr. and Env. sciences  Unemployed2013  0.040958\n",
       "8                  Computer/Maths Sciences  Unemployed2013  0.044737\n",
       "9                              Engineering  Unemployed2013  0.032401\n",
       "10      Non-science and engineering fields  Unemployed2013  0.029536\n",
       "11                       Physical Sciences  Unemployed2013  0.039854\n",
       "12  Science and engineering-related fields  Unemployed2013  0.032371\n",
       "13                         Social Sciences  Unemployed2013  0.043179"
      ]
     },
     "execution_count": 22,
     "metadata": {},
     "output_type": "execute_result"
    }
   ],
   "source": [
    "# combine the 2003 and 2013 data for seaborn plotting\n",
    "employ_female = employ_female_2003.merge(employ_female_2013, on=['MajorS'], suffixes=[2003,2013])\n",
    "employ_female_un = employ_female.drop(['Employed2003', 'Employed2013'], axis=1)\n",
    "employ_female_un_melt = pd.melt(employ_female_un, id_vars=['MajorS'], value_vars=['Unemployed2003', 'Unemployed2013'])\n",
    "employ_female_un_melt"
   ]
  },
  {
   "cell_type": "code",
   "execution_count": 23,
   "metadata": {},
   "outputs": [
    {
     "data": {
      "image/png": "[encoded data removed]",
      "text/plain": [
       "<matplotlib.figure.Figure at 0x10953fb38>"
      ]
     },
     "metadata": {},
     "output_type": "display_data"
    }
   ],
   "source": [
    "fig, axs = plt.subplots(figsize=(10,5))\n",
    "field_order = ['Computer/Maths Sciences', 'Bio., Agr. and Env. sciences', 'Physical Sciences', 'Social Sciences', 'Engineering', 'Science and engineering-related fields', 'Non-science and engineering fields']\n",
    "#Compare and plot the employment percentage for male and female college graduates\n",
    "sns.set_color_codes(\"pastel\")\n",
    "sns.barplot( x=\"value\",y=\"MajorS\", hue='LFSTATS', order = field_order, alpha=0.5, data=employ_female_un_melt, palette=\"Set1\")\n",
    "\n",
    "axs.set(xlim=(0, 0.05), ylabel=\"Major\",\n",
    "       xlabel=\"Unemployment Rate\")\n",
    "sns.despine()\n",
    "lgd = axs.legend( bbox_to_anchor=(1.05, 1), loc=2, borderaxespad=0., frameon=True)\n",
    "plt.tight_layout()\n",
    "plt.savefig('./../results/fieldunemployment.png',bbox_extra_artists=(lgd,), bbox_inches='tight', dpi = 150)"
   ]
  },
  {
   "cell_type": "markdown",
   "metadata": {},
   "source": [
    "The plot shows the female unemployment rate for field of major groups in 2003 and 2013. This give us good information in what majors are having a better performance in job placement. \n",
    "\n",
    "Things worth noticing:\n",
    "1. The unemployment rate for non-science and engineering fields major remained lowest both years. A closer look reveals this group contains job title such as 'Management' and 'Administration'. \n",
    "2. There is a significant decrease in the unemployment rate for the female engineering group (from 5% to 3%). \n",
    "3. Other groups who saw an decrease in unemployment rate from 2003 to 2013 is computer/maths sciences and physical science. All the other group either remained a similar or saw a higher unemployment rate.\n",
    "\n"
   ]
  },
  {
   "cell_type": "markdown",
   "metadata": {},
   "source": [
    "### Comparison among principal job fields ## \n",
    "\n",
    "Here we take a look at how many male and female worker there are in different principal job fields according to the STEM survey."
   ]
  },
  {
   "cell_type": "code",
   "execution_count": 24,
   "metadata": {
    "collapsed": true
   },
   "outputs": [],
   "source": [
    "df_job_gender = df.groupby('JobS')['GENDERS'].value_counts(normalize=True).unstack().reset_index()\n",
    "df_job_gender_melt = pd.melt(df_job_gender, id_vars ='JobS')\n",
    "job_order = ['Computer/Maths Sciences', 'Bio., Agr. and Env. sciences', 'Physical Sciences', 'Social Sciences', 'Engineering', 'Science and engineering-related fields', 'Non-science and engineering fields']"
   ]
  },
  {
   "cell_type": "code",
   "execution_count": 25,
   "metadata": {
    "scrolled": true
   },
   "outputs": [
    {
     "data": {
      "image/png": "[encoded data removed]",
      "text/plain": [
       "<matplotlib.figure.Figure at 0x117a38f60>"
      ]
     },
     "metadata": {},
     "output_type": "display_data"
    }
   ],
   "source": [
    "#Compare and plot the gender percentage in STEM jobs.\n",
    "fig=plt.figure(figsize=[8,5])\n",
    "ax = fig.add_subplot(111)\n",
    "sns.barplot(y='JobS', x='value', data=df_job_gender_melt, hue='GENDERS', hue_order=['Male','Female'], ax=ax, order=job_order, palette=\"muted\")\n",
    "plt.title('Gender Disparity By Job Fields')\n",
    "plt.xlabel('Gender Percentage')\n",
    "plt.ylabel('')\n",
    "lgd=ax.legend(bbox_to_anchor=(1.05, 1), loc=2, borderaxespad=0.)\n",
    "sns.despine()\n",
    "plt.savefig('./../results/genderdisparitybyfield.png',bbox_extra_artists=(lgd,), bbox_inches='tight', dpi = 150)\n",
    "#look at detailed group for explanation https://highered.ipums.org/highered-action/variables/NOCPR#codes_section "
   ]
  },
  {
   "cell_type": "markdown",
   "metadata": {},
   "source": [
    "** Wow! The job fields that have the most gender imbalance are: engineering, computer/maths sciences and physical sciences. There are four point six men for each woman working in Engineering field!**"
   ]
  },
  {
   "cell_type": "markdown",
   "metadata": {},
   "source": [
    "### Gender Pay Gap by Fields## \n"
   ]
  },
  {
   "cell_type": "code",
   "execution_count": 26,
   "metadata": {
    "scrolled": true
   },
   "outputs": [
    {
     "data": {
      "image/png": "[encoded data removed]",
      "text/plain": [
       "<matplotlib.figure.Figure at 0x113459128>"
      ]
     },
     "metadata": {},
     "output_type": "display_data"
    }
   ],
   "source": [
    "#plot of salary VS type of job \n",
    "fig=plt.figure(figsize=(10,5))\n",
    "ax = fig.add_subplot(111)\n",
    "sns.barplot(y=\"JobS\", x=\"SALARY\", data=df, hue=\"GENDERS\", order=job_order, hue_order=['Male','Female'],ax=ax, palette=\"muted\")\n",
    "lgd=ax.legend(bbox_to_anchor=(1.05, 1), loc=2, borderaxespad=0.)\n",
    "plt.title('Salary Comparison By Job Fields')\n",
    "\n",
    "plt.xlabel('Average Salary')\n",
    "plt.ylabel('')\n",
    "sns.despine()\n",
    "plt.tight_layout()\n",
    "plt.savefig('./../results/salarycomparisonbyfield.png',bbox_extra_artists=(lgd,), bbox_inches='tight', dpi = 150)"
   ]
  },
  {
   "cell_type": "markdown",
   "metadata": {},
   "source": [
    "Here we find:\n",
    "1. The job fields that have the least pay gap between men and women are: engineering, computer/maths sciences and bio/life sciences.\n",
    "2. Engineering field gives the best compensation to their female employees compared with other jobs. \n",
    "3. In the meantime, the lowest pay check for females goes to non-science and engineering field. The discrepancy in the compensation for male and female groups also goes to the same field. Recall that this group contains job title such as 'Management' and 'Administration'. This could be indicating the even severe gender disparity in management positions."
   ]
  },
  {
   "cell_type": "markdown",
   "metadata": {},
   "source": [
    "<a id='stats'></a>\n",
    "## Statistical Analysis ##\n",
    "\n",
    "The exploratory data analysis above studied on several questions we have on women in STEM. \n",
    "\n",
    "To name a few discoveries:\n",
    "* Women have been more active in the STEM job field over the years. \n",
    "* There is an apparent gender umployment gap and gender pay gap from this survey results.\n",
    "* The situation is different for different principal job fields. \n",
    "\n",
    "However, almost all the conclusion above were made with visualization tools. While visualization is powerful and easy to understand, we need statistical tools to back our conclusions. In the following chapter, I am using scientific analysis to find whether our findings are statistically significant. We will also discuss whether the result is practically significant which could be important to help making decisions. \n",
    "\n",
    "for individual statistical analysis notebook, please click [HERE](https://github.com/shuojiashi/capstone_project_1/blob/master/notebooks/Women%20in%20STEM_2%20Statistics.ipynb)"
   ]
  },
  {
   "cell_type": "markdown",
   "metadata": {},
   "source": [
    "### Is gender umemployment gap statistically significant? ##\n",
    "\n",
    "\n",
    "<p>This is a problem with two categorical columns. It would involve a $\\chi ^2$ test to find whether the result is statistically significant.</p>\n",
    "\n",
    "First we define the null hypothesis: \n",
    "$$H_0: p_m = p_f$$ \n",
    "The gender does not make a difference in the umemployment rate.\n",
    "\n",
    "And the alternative hypothesis:\n",
    "$$H_0: p_m \\neq p_f$$\n",
    "There is a correlation in gender and unemployment rate.\n",
    "\n",
    "Use the chi2 modual from the scipi package, the p-value is ealiy found. \n",
    "\n",
    "To remind ourselves, we put the plot here again."
   ]
  },
  {
   "cell_type": "code",
   "execution_count": 27,
   "metadata": {
    "scrolled": true
   },
   "outputs": [
    {
     "data": {
      "image/png": "[encoded data removed]",
      "text/plain": [
       "<matplotlib.figure.Figure at 0x11b5c7d68>"
      ]
     },
     "metadata": {},
     "output_type": "display_data"
    }
   ],
   "source": [
    "#count plot of employed and unemployed entries for genders.\n",
    "sns.barplot(x='YEAR', y='Unemployed', hue='GENDERS', data = df_gender_employ, palette=\"muted\")\n",
    "plt.xlabel('GENDER')\n",
    "plt.ylim([0,0.1])\n",
    "plt.ylabel('Umemployment Rate')\n",
    "sns.despine()\n",
    "plt.savefig('./../results/genderunemploymentgap.png',dpi = 150)"
   ]
  },
  {
   "cell_type": "markdown",
   "metadata": {},
   "source": [
    "Now calculate the statistical terms, using $\\chi^2$ test:"
   ]
  },
  {
   "cell_type": "code",
   "execution_count": 28,
   "metadata": {
    "scrolled": true
   },
   "outputs": [
    {
     "name": "stdout",
     "output_type": "stream",
     "text": [
      "Chi-squared test statistic: 69.44698387052611\n",
      "p-value: 7.849633922911248e-17\n"
     ]
    }
   ],
   "source": [
    "cont_table = pd.crosstab(index=df.GENDERS, columns=df.LFSTATS)\n",
    "chi2, pval, _, _ = stats.chi2_contingency(cont_table)\n",
    "print(\"Chi-squared test statistic: {}\".format(chi2))\n",
    "print(\"p-value: {}\".format(pval))"
   ]
  },
  {
   "cell_type": "markdown",
   "metadata": {},
   "source": [
    "#### The above results shows the p-value is practically zero. \n",
    "$$p < \\alpha $$ \n",
    "The null hypothesis is rejected in this case.   \n",
    "** There is a statistical significance in the difference of unemployment rate for men and women. **  \n",
    "The unmployment gap is small (<1%)."
   ]
  },
  {
   "cell_type": "markdown",
   "metadata": {},
   "source": [
    "### Is gender pay gap statistically significant? ##\n",
    "\n",
    "We look into the salary gap between men and women in the survey data. Box plot gives a clear indication: there is a gender pay gap!"
   ]
  },
  {
   "cell_type": "code",
   "execution_count": 29,
   "metadata": {
    "scrolled": true
   },
   "outputs": [
    {
     "data": {
      "image/png": "[encoded data removed]",
      "text/plain": [
       "<matplotlib.figure.Figure at 0x11b9f16a0>"
      ]
     },
     "metadata": {},
     "output_type": "display_data"
    }
   ],
   "source": [
    "#bar plot of gender and salary \n",
    "plt.figure(figsize=[6,5])\n",
    "sns.boxplot(data=df, y = 'SALARY', x = 'GENDERS', palette=\"muted\")\n",
    "sns.despine()\n",
    "plt.savefig('./../results/genderpaygap.png',dpi = 150)"
   ]
  },
  {
   "cell_type": "markdown",
   "metadata": {},
   "source": [
    "How about statistically?\n",
    "\n",
    "Define null hypothesis as men and women report the same average salary over the years:\n",
    "$$s_m = s_f$$\n",
    "Alternative hypothesis:\n",
    "$$s_m \\neq s_f$$\n",
    "\n",
    "Now it's time for the two sample t test for the difference of means:"
   ]
  },
  {
   "cell_type": "code",
   "execution_count": 30,
   "metadata": {},
   "outputs": [
    {
     "name": "stdout",
     "output_type": "stream",
     "text": [
      "The mean salary for men is 32.38 % higher than that of women.\n"
     ]
    },
    {
     "data": {
      "text/plain": [
       "Ttest_indResult(statistic=172.80152812858356, pvalue=0.0)"
      ]
     },
     "execution_count": 30,
     "metadata": {},
     "output_type": "execute_result"
    }
   ],
   "source": [
    "salary_m = df[df['GENDERS']=='Male']['SALARY']\n",
    "salary_f = df[df['GENDERS']=='Female']['SALARY']\n",
    "diff_perc_s = (np.mean(salary_m)-np.mean(salary_f))/np.mean(salary_f)\n",
    "print('The mean salary for men is {0:.2f} % higher than that of women.'.format(round(diff_perc_s*100,2)))\n",
    "stats.ttest_ind(salary_m.dropna(), salary_f.dropna(),  equal_var = False)"
   ]
  },
  {
   "cell_type": "markdown",
   "metadata": {},
   "source": [
    "It's found that pvalue is practically zero. The null hypothesis is rejected.   \n",
    "\n",
    "** There is a significant difference in the average pay between men and women. **  \n",
    "\n",
    "The difference of means, also calculated above, is 32%. We say this is not only statistically significant, but also practically significant!\n",
    "\n",
    "The result above will also help with the feature selection when we predict salary level. In later chapter, We will run similar test across all the attributes and choose only statistically significant ones. "
   ]
  },
  {
   "cell_type": "markdown",
   "metadata": {},
   "source": [
    "### Is gender job satisfaction gap statistically significant?"
   ]
  },
  {
   "cell_type": "markdown",
   "metadata": {},
   "source": [
    "First we check the visualization for gender job satisfaction gap. "
   ]
  },
  {
   "cell_type": "code",
   "execution_count": 31,
   "metadata": {
    "scrolled": true
   },
   "outputs": [
    {
     "data": {
      "image/png": "[encoded data removed]",
      "text/plain": [
       "<matplotlib.figure.Figure at 0x11b9fc3c8>"
      ]
     },
     "metadata": {},
     "output_type": "display_data"
    }
   ],
   "source": [
    "#how many people are satisfied with their jobs\n",
    "df_graduate_satisfy = df.groupby('GENDERS')['JobSatis'].value_counts(normalize=True).unstack().reset_index()\n",
    "sns.barplot(x='GENDERS', y='Satisfied', data=df_graduate_satisfy)\n",
    "plt.ylim([0,1])\n",
    "plt.ylabel('Job Satisfaction Rate')\n",
    "sns.despine()\n",
    "plt.savefig('./../results/gendersatisfactiongap.png',dpi = 150)"
   ]
  },
  {
   "cell_type": "markdown",
   "metadata": {},
   "source": [
    "** The above plot shows both men and women have a high (about 90%) job satisfaction rate in STEM.**\n",
    "\n",
    "** The difference bewteen the genders is small. **\n",
    "\n",
    "** Is the there a statistically significant difference?**\n",
    "\n",
    "The null hypothesis here: the job statisfaction rate remains the same for male and female employees in the STEM field. \n",
    "$$js_m = js_f$$"
   ]
  },
  {
   "cell_type": "code",
   "execution_count": 32,
   "metadata": {},
   "outputs": [
    {
     "name": "stdout",
     "output_type": "stream",
     "text": [
      "JobSatis  Dissatisfied  Satisfied\n",
      "GENDERS                          \n",
      "Female        0.098798   0.901202\n",
      "Male          0.089292   0.910708\n",
      "Chi-squared test statistic: 103.0209000980635\n",
      "p-value: 3.3163113124478954e-24\n"
     ]
    }
   ],
   "source": [
    "df_satis = df[pd.notnull(df['JobSatis'])]\n",
    "cont_table = pd.crosstab(index=df_satis.GENDERS, columns=df_satis.JobSatis, normalize='index')\n",
    "print(cont_table)\n",
    "cont_table2 = pd.crosstab(index=df_satis.GENDERS, columns=df_satis.JobSatis)\n",
    "chi2, pval, _, _ = stats.chi2_contingency(cont_table2)\n",
    "print(\"Chi-squared test statistic: {}\".format(chi2))\n",
    "print(\"p-value: {}\".format(pval))"
   ]
  },
  {
   "cell_type": "markdown",
   "metadata": {},
   "source": [
    "We find the p-value so small that the null hypothesis is easily rejected. The story once again points at the alternative hypothesis.  \n",
    "** The  difference of the job satisfaction between men and women STEMers is statistically significant. **  \n",
    "\n",
    "However, we see both from the bar plot and the calculation, the difference is merely 1%. Does this statistically sound disparity really mean anything in the real world? Should we make any executive decisions or suggestions based on this data analysis? My answer to this is not really. The difference is so small that we can not say either gender is actually happier with their jobs than the other gender group.  \n",
    "\n",
    "It is surprising that with the large gender pay gap, women and men report similar job satisfaction rate. I would not be happy with my job if I know my male colleages are taking home much more even though our are job descriptions are basically the same. Why is it happening? Do the general population lack access to the gender pay gap information?"
   ]
  },
  {
   "cell_type": "markdown",
   "metadata": {},
   "source": [
    "#### Above, several aspects of the exploratory data analysis on the STEM higher education data set were put on statistical test.    \n",
    "The disparity in unemployment rate, salary and job satisfaction between males and females all turned out to be statistically significant. The consistent statistical significance may come from the large sample number of the data set. Although one test proven to be statistically significant does not mean it is practically significant. It is always a good idea to discuss the actual meaning of the test results and whether the effect needs to be addressed. "
   ]
  },
  {
   "cell_type": "markdown",
   "metadata": {},
   "source": [
    "Now we are ready to use machine learning models to predict the salary level and job field using this survey data!"
   ]
  },
  {
   "cell_type": "markdown",
   "metadata": {},
   "source": [
    "<a id='ml'></a>\n",
    "## Machine Learning: Predict income and field of work\n",
    "\n",
    "We have looked at the STEM gender pay gap over the years in the EDA part. Even though women has taking up bigger part among the jobs between the years of 2003 and 2013, women make about 78 cent for every dollar men make! The analysis also shows how the gender gap compare to one another in the various fields in STEM areas. \n",
    "\n",
    "In this chapter, I will explore using machine learning models to predict the income and principal job field given other aspects of the data. It would answer the question of what kind of pay and what types of job would a STEMer expect to receive in the work force.\n",
    "\n",
    "for individual machine learning notebook, please click [HERE](https://github.com/shuojiashi/capstone_project_1/blob/master/notebooks/Women%20in%20STEM_3%20Machine%20Leanring.ipynb)"
   ]
  },
  {
   "cell_type": "markdown",
   "metadata": {},
   "source": [
    "<a id='dpsp'></a>\n",
    "### Feature Selection"
   ]
  },
  {
   "cell_type": "code",
   "execution_count": 33,
   "metadata": {},
   "outputs": [
    {
     "data": {
      "text/plain": [
       "Index(['YEAR', 'SAMPLE', 'SURID', 'AGE', 'BIRYR', 'GENDER', 'MINRTY', 'RACETH',\n",
       "       'BTHUS', 'CTZUSIN', 'NBAMED', 'NBAMEMG', 'DGRDG', 'HD03Y5', 'NDGMED',\n",
       "       'NDGMEMG', 'HRSWKGR', 'WKSWKGR', 'OCEDRLP', 'NOCPR', 'NOCPRMG',\n",
       "       'SALARY', 'JOBSATIS', 'EMSEC', 'EMSIZE', 'GOVSUP', 'WAPRSM', 'ACTCAP',\n",
       "       'ACTDED', 'ACTMGT', 'ACTRD', 'ACTRDT', 'ACTRES', 'ACTTCH', 'WKTRNI',\n",
       "       'WAPRI', 'WASEC', 'WASCSM'],\n",
       "      dtype='object')"
      ]
     },
     "execution_count": 33,
     "metadata": {},
     "output_type": "execute_result"
    }
   ],
   "source": [
    "# list of column names from the survey data\n",
    "df_employed_l.columns"
   ]
  },
  {
   "cell_type": "code",
   "execution_count": 34,
   "metadata": {
    "scrolled": true
   },
   "outputs": [
    {
     "name": "stdout",
     "output_type": "stream",
     "text": [
      "Top correlated:\n",
      "SALARY     1.000000\n",
      "HRSWKGR    0.403946\n",
      "DGRDG      0.263496\n",
      "GENDER     0.257586\n",
      "EMSEC      0.215927\n",
      "SURID      0.193761\n",
      "Name: SALARY, dtype: float64\n",
      "Top reverse correlated:\n",
      "ACTTCH   -0.183005\n",
      "WAPRI    -0.172204\n",
      "HD03Y5   -0.167808\n",
      "BIRYR    -0.162161\n",
      "WASCSM   -0.141206\n",
      "Name: SALARY, dtype: float64\n"
     ]
    }
   ],
   "source": [
    "# Quick correlation check:\n",
    "print('Top correlated:')\n",
    "print(df_employed_l.corr()['SALARY'].sort_values(ascending=False).head(6))\n",
    "print('Top reverse correlated:')\n",
    "print(df_employed_l.corr()['SALARY'].sort_values(ascending=True).head(5))"
   ]
  },
  {
   "cell_type": "markdown",
   "metadata": {},
   "source": [
    "This is interesting already! We see the top five positively correlated features include full time job status (HRSWKGR: hours worked per week), degree (DGRDG and SURID), gender, and employer sector (EMSEC). \n",
    "\n",
    "I would like to point out gender apparently made it to the top three correlated feature deciding a salary: being a man is likely to receive a higher pay than woman. This is another indicator of the pay disprancy between genders. Another insight from this is how the employer sector is playing an important role. The expected pay is lowest if working in a school system, higher if working for the govenment, and highest if working for business and industry.\n",
    "\n",
    "Among the top negatively correlated columns, the first place goes to teaching as prime job activity. Other columns also more or less has teaching in its reason for making the list (expect for birth year). This resonates with the discovery from the positively correlated employer sector. This gives a supporting evidence of how teachers or people who teach are given lower compensation among jobs, for the ongoing teacher strike across the country. "
   ]
  },
  {
   "cell_type": "markdown",
   "metadata": {},
   "source": [
    "** Target column preparation**   \n",
    "\n",
    "\n",
    "Here I change salary from a numeric column to a catagorical column. Due to privacy reason, the survey on scientists and engineers provided by Higher Education do not contain location data. As common knowledge tells us, the location could be a large factor in deciding how much a person is getting paid. The cost of living of San Francisco is more than two times that of Omaha, as an example. It is only fair that people in high cost of living areas get better paid than people in low cost of living places. Since this crucial piece of information is missing, it adds a lot of uncertainty into the prediction of the salary. \n",
    "\n",
    "To make the task practically possible, I am going to predict the salary level (low or high), instead of the exact number. \n",
    "\n",
    "I have also done some work that looks into the prediction of numeric salary using several regression models. It gave limited the accuracy scores due to above reasons. Please find the details in regression notebook in the same folder if interested."
   ]
  },
  {
   "cell_type": "code",
   "execution_count": 35,
   "metadata": {
    "collapsed": true
   },
   "outputs": [],
   "source": [
    "# define a function change the salary column to a salary level column\n",
    "def salary_bracket(ls):\n",
    "    new_s = np.empty(len(ls))\n",
    "    for i,s in enumerate(ls):\n",
    "        if s<60000:\n",
    "            new_s[i] = 0\n",
    "        else:\n",
    "            new_s[i] = 1\n",
    "    return new_s\n",
    "\n",
    "# define a dataframe only contains salary that is larger than 0 (eliminate the entry fault)\n",
    "df_employed_clf =[]\n",
    "df_employed_clf = df_employed_l[(df_employed_l['SALARY']>0)]\n",
    "\n",
    "\n",
    "\n",
    "new_salary = salary_bracket(df_employed_clf['SALARY'])"
   ]
  },
  {
   "cell_type": "markdown",
   "metadata": {},
   "source": [
    "We define a new dataframe that is similar to the previous one except for it contains only the salary level column. Note the birth year column (BIRYR) is a dependent variable on YEAR and AGE. This column is dropped blow. Some major groups columns is also dependent on the other columns in the survey data, they will be dropped as well.\n",
    "In the meantime, we choose the part of the data considering only full time jobs (hours per week >=36).\n",
    "In [10]:"
   ]
  },
  {
   "cell_type": "code",
   "execution_count": 36,
   "metadata": {
    "collapsed": true
   },
   "outputs": [],
   "source": [
    "df_employed_nod = []\n",
    "df_employed_nod = df_employed_clf.assign(salary_d=pd.Series(new_salary).values)\n",
    "df_employed_nod.salary_d = df_employed_nod.salary_d.astype('category')\n",
    "df_employed_nod=df_employed_nod.drop(['SALARY'], axis=1)\n",
    "df_employed_nod=df_employed_nod.drop(['BIRYR','NBAMEMG','NDGMEMG','NOCPRMG'], axis=1)\n",
    "df_employed_nod=df_employed_nod[(df_employed_nod['HRSWKGR']==3) | (df_employed_nod['HRSWKGR']==4)]"
   ]
  },
  {
   "cell_type": "markdown",
   "metadata": {},
   "source": [
    "A quick look at the distribution of the pay between men and women. Much more men were paid above 60k income than women while the count of women and men paid below 60k remain similar. This also gives that more entries report higher than 60k salary than below 60k."
   ]
  },
  {
   "cell_type": "code",
   "execution_count": 37,
   "metadata": {},
   "outputs": [
    {
     "data": {
      "text/plain": [
       "<function matplotlib.pyplot.tight_layout>"
      ]
     },
     "execution_count": 37,
     "metadata": {},
     "output_type": "execute_result"
    },
    {
     "data": {
      "image/png": "[encoded data removed]",
      "text/plain": [
       "<matplotlib.figure.Figure at 0x1136371d0>"
      ]
     },
     "metadata": {},
     "output_type": "display_data"
    }
   ],
   "source": [
    "#bar plot of gender and salary \n",
    "fig=plt.figure(figsize=[8,5])\n",
    "ax = fig.add_subplot(111)\n",
    "sns.countplot(data=df_employed_nod, x = 'salary_d', hue= 'GENDER', palette=\"muted\", ax=ax)\n",
    "sns.despine()\n",
    "plt.title('Gender Pay Gap')\n",
    "ax.set_xticklabels(['Under $60K', 'Over $60K'])\n",
    "lgd=ax.legend(['female', 'male'], bbox_to_anchor=(1.01, 1), loc=2, borderaxespad=0.)\n",
    "plt.tight_layout\n",
    "#plt.savefig('./../results/gendersalary.png',bbox_extra_artists=(lgd,), bbox_inches='tight', dpi = 150)\n"
   ]
  },
  {
   "cell_type": "markdown",
   "metadata": {},
   "source": [
    "It is obvious from the plot above that there are much more men making more than $60k a year compared than women. We have learned from the EDA notebook that the gender pay gap exists and did not improve over the years from 2003 to 2013. This is another quick look at it. Please find the EDA notebook if you are looking for more details on this matter. "
   ]
  },
  {
   "cell_type": "markdown",
   "metadata": {},
   "source": [
    "** Numeric Columns**"
   ]
  },
  {
   "cell_type": "code",
   "execution_count": 38,
   "metadata": {
    "collapsed": true
   },
   "outputs": [],
   "source": [
    "#define the numeric column\n",
    "numeric = ['AGE']\n",
    "feature_df = df_employed_nod.drop(['salary_d'],axis=1)\n",
    "\n",
    "#the rest is categorical \n",
    "categoric = feature_df.columns.difference(numeric)"
   ]
  },
  {
   "cell_type": "markdown",
   "metadata": {},
   "source": [
    "I look into the numeric column and check its distribution. The age profile in this data set is not really normal distribution. It is caused by the nature human behavior, people usually do not start working after college, some people tend to stay in the work force longer than the other. So we see a jump at 25 and a long tail after 60. The good news is that our survey data is large (391,000 entries), the null hypothesis will work here according to the central limit theorem (CLT). "
   ]
  },
  {
   "cell_type": "code",
   "execution_count": 39,
   "metadata": {},
   "outputs": [
    {
     "data": {
      "image/png": "[encoded data removed]",
      "text/plain": [
       "<matplotlib.figure.Figure at 0x109468ba8>"
      ]
     },
     "metadata": {},
     "output_type": "display_data"
    },
    {
     "name": "stdout",
     "output_type": "stream",
     "text": [
      "P-values from t-tests\n"
     ]
    },
    {
     "data": {
      "text/html": [
       "<div>\n",
       "<style>\n",
       "    .dataframe thead tr:only-child th {\n",
       "        text-align: right;\n",
       "    }\n",
       "\n",
       "    .dataframe thead th {\n",
       "        text-align: left;\n",
       "    }\n",
       "\n",
       "    .dataframe tbody tr th {\n",
       "        vertical-align: top;\n",
       "    }\n",
       "</style>\n",
       "<table border=\"1\" class=\"dataframe\">\n",
       "  <thead>\n",
       "    <tr style=\"text-align: right;\">\n",
       "      <th></th>\n",
       "      <th>Attribute</th>\n",
       "      <th>P_value</th>\n",
       "    </tr>\n",
       "  </thead>\n",
       "  <tbody>\n",
       "    <tr>\n",
       "      <th>0</th>\n",
       "      <td>AGE</td>\n",
       "      <td>0.0</td>\n",
       "    </tr>\n",
       "  </tbody>\n",
       "</table>\n",
       "</div>"
      ],
      "text/plain": [
       "  Attribute  P_value\n",
       "0       AGE      0.0"
      ]
     },
     "execution_count": 39,
     "metadata": {},
     "output_type": "execute_result"
    }
   ],
   "source": [
    "p_vals = pd.DataFrame(columns=['Attribute', 'P_value'])\n",
    "\n",
    "for col in numeric:\n",
    "   \n",
    "    # Plotting distributions of each column\n",
    "    plt.figure(figsize=(15,5))\n",
    "    plt.subplot(121)\n",
    "    sns.distplot(df_employed_nod[col], color='magenta')\n",
    "    plt.title('Distribution of {}'.format(col))\n",
    "\n",
    "    # Plotting distributions of each column by income level\n",
    "    plt.subplot(122)\n",
    "    g = sns.boxplot(x='salary_d', y=col, data=df_employed_nod, palette='bright')\n",
    "    g.set_xticklabels(['Under $60K', 'Over $60K'])\n",
    "    plt.title('Distribution of income by {}'.format(col))\n",
    "    plt.tight_layout()\n",
    "    plt.show()\n",
    "\n",
    "    # Calculating pvalues from t-test\n",
    "    t_val, p_val = ttest_ind(df_employed_nod[df_employed_nod['salary_d']==0][col],\n",
    "                                df_employed_nod[df_employed_nod['salary_d']==1][col])\n",
    "    p_vals = p_vals.append({'Attribute':col, 'P_value':float(p_val)}, ignore_index=True)\n",
    "    \n",
    "\n",
    "# Printing p-values of t-tests, sorted by p-values\n",
    "print('P-values from t-tests')\n",
    "p_vals.sort_values('P_value')\n",
    "\n"
   ]
  },
  {
   "cell_type": "markdown",
   "metadata": {},
   "source": [
    "The p_value for the numeric column is practically zero, which means age is statistically significant to determine the salary level of an individual. We will keep it as it is."
   ]
  },
  {
   "cell_type": "markdown",
   "metadata": {},
   "source": [
    "** Categorical columns**"
   ]
  },
  {
   "cell_type": "markdown",
   "metadata": {},
   "source": [
    "Next we prepare the categorical feature columns for classification. We are going to convert these categorical variable into dummy/indicator variables, calling the get_dummies function by pandas (thank you Pandas!). Note the drop_first parameter was set to true to avoid collinearity."
   ]
  },
  {
   "cell_type": "code",
   "execution_count": 40,
   "metadata": {
    "scrolled": true
   },
   "outputs": [
    {
     "data": {
      "text/html": [
       "<div>\n",
       "<style>\n",
       "    .dataframe thead tr:only-child th {\n",
       "        text-align: right;\n",
       "    }\n",
       "\n",
       "    .dataframe thead th {\n",
       "        text-align: left;\n",
       "    }\n",
       "\n",
       "    .dataframe tbody tr th {\n",
       "        vertical-align: top;\n",
       "    }\n",
       "</style>\n",
       "<table border=\"1\" class=\"dataframe\">\n",
       "  <thead>\n",
       "    <tr style=\"text-align: right;\">\n",
       "      <th></th>\n",
       "      <th>AGE</th>\n",
       "      <th>salary_d</th>\n",
       "      <th>ACTCAP_1.0</th>\n",
       "      <th>ACTDED_1.0</th>\n",
       "      <th>ACTMGT_1.0</th>\n",
       "      <th>ACTRD_1.0</th>\n",
       "      <th>ACTRDT_1.0</th>\n",
       "      <th>ACTRES_1.0</th>\n",
       "      <th>ACTTCH_1.0</th>\n",
       "      <th>BTHUS_1</th>\n",
       "      <th>...</th>\n",
       "      <th>WASEC_14.0</th>\n",
       "      <th>WASEC_15.0</th>\n",
       "      <th>WKSWKGR_2.0</th>\n",
       "      <th>WKSWKGR_3.0</th>\n",
       "      <th>WKSWKGR_4.0</th>\n",
       "      <th>WKTRNI_1.0</th>\n",
       "      <th>YEAR_2006</th>\n",
       "      <th>YEAR_2008</th>\n",
       "      <th>YEAR_2010</th>\n",
       "      <th>YEAR_2013</th>\n",
       "    </tr>\n",
       "  </thead>\n",
       "  <tbody>\n",
       "    <tr>\n",
       "      <th>0</th>\n",
       "      <td>47</td>\n",
       "      <td>0.0</td>\n",
       "      <td>0</td>\n",
       "      <td>0</td>\n",
       "      <td>0</td>\n",
       "      <td>0</td>\n",
       "      <td>1</td>\n",
       "      <td>0</td>\n",
       "      <td>1</td>\n",
       "      <td>0</td>\n",
       "      <td>...</td>\n",
       "      <td>0</td>\n",
       "      <td>0</td>\n",
       "      <td>0</td>\n",
       "      <td>1</td>\n",
       "      <td>0</td>\n",
       "      <td>1</td>\n",
       "      <td>0</td>\n",
       "      <td>0</td>\n",
       "      <td>0</td>\n",
       "      <td>0</td>\n",
       "    </tr>\n",
       "    <tr>\n",
       "      <th>1</th>\n",
       "      <td>66</td>\n",
       "      <td>1.0</td>\n",
       "      <td>0</td>\n",
       "      <td>1</td>\n",
       "      <td>1</td>\n",
       "      <td>1</td>\n",
       "      <td>1</td>\n",
       "      <td>0</td>\n",
       "      <td>0</td>\n",
       "      <td>1</td>\n",
       "      <td>...</td>\n",
       "      <td>0</td>\n",
       "      <td>0</td>\n",
       "      <td>0</td>\n",
       "      <td>0</td>\n",
       "      <td>1</td>\n",
       "      <td>0</td>\n",
       "      <td>0</td>\n",
       "      <td>0</td>\n",
       "      <td>0</td>\n",
       "      <td>0</td>\n",
       "    </tr>\n",
       "    <tr>\n",
       "      <th>2</th>\n",
       "      <td>60</td>\n",
       "      <td>1.0</td>\n",
       "      <td>1</td>\n",
       "      <td>0</td>\n",
       "      <td>1</td>\n",
       "      <td>0</td>\n",
       "      <td>0</td>\n",
       "      <td>0</td>\n",
       "      <td>0</td>\n",
       "      <td>1</td>\n",
       "      <td>...</td>\n",
       "      <td>0</td>\n",
       "      <td>0</td>\n",
       "      <td>0</td>\n",
       "      <td>0</td>\n",
       "      <td>1</td>\n",
       "      <td>1</td>\n",
       "      <td>0</td>\n",
       "      <td>0</td>\n",
       "      <td>0</td>\n",
       "      <td>0</td>\n",
       "    </tr>\n",
       "    <tr>\n",
       "      <th>3</th>\n",
       "      <td>30</td>\n",
       "      <td>1.0</td>\n",
       "      <td>0</td>\n",
       "      <td>1</td>\n",
       "      <td>0</td>\n",
       "      <td>1</td>\n",
       "      <td>1</td>\n",
       "      <td>1</td>\n",
       "      <td>0</td>\n",
       "      <td>1</td>\n",
       "      <td>...</td>\n",
       "      <td>0</td>\n",
       "      <td>0</td>\n",
       "      <td>0</td>\n",
       "      <td>0</td>\n",
       "      <td>1</td>\n",
       "      <td>1</td>\n",
       "      <td>0</td>\n",
       "      <td>0</td>\n",
       "      <td>0</td>\n",
       "      <td>0</td>\n",
       "    </tr>\n",
       "    <tr>\n",
       "      <th>5</th>\n",
       "      <td>51</td>\n",
       "      <td>1.0</td>\n",
       "      <td>0</td>\n",
       "      <td>0</td>\n",
       "      <td>1</td>\n",
       "      <td>0</td>\n",
       "      <td>0</td>\n",
       "      <td>0</td>\n",
       "      <td>0</td>\n",
       "      <td>1</td>\n",
       "      <td>...</td>\n",
       "      <td>0</td>\n",
       "      <td>0</td>\n",
       "      <td>0</td>\n",
       "      <td>0</td>\n",
       "      <td>1</td>\n",
       "      <td>1</td>\n",
       "      <td>0</td>\n",
       "      <td>0</td>\n",
       "      <td>0</td>\n",
       "      <td>0</td>\n",
       "    </tr>\n",
       "  </tbody>\n",
       "</table>\n",
       "<p>5 rows × 166 columns</p>\n",
       "</div>"
      ],
      "text/plain": [
       "   AGE salary_d  ACTCAP_1.0  ACTDED_1.0  ACTMGT_1.0  ACTRD_1.0  ACTRDT_1.0  \\\n",
       "0   47      0.0           0           0           0          0           1   \n",
       "1   66      1.0           0           1           1          1           1   \n",
       "2   60      1.0           1           0           1          0           0   \n",
       "3   30      1.0           0           1           0          1           1   \n",
       "5   51      1.0           0           0           1          0           0   \n",
       "\n",
       "   ACTRES_1.0  ACTTCH_1.0  BTHUS_1    ...      WASEC_14.0  WASEC_15.0  \\\n",
       "0           0           1        0    ...               0           0   \n",
       "1           0           0        1    ...               0           0   \n",
       "2           0           0        1    ...               0           0   \n",
       "3           1           0        1    ...               0           0   \n",
       "5           0           0        1    ...               0           0   \n",
       "\n",
       "   WKSWKGR_2.0  WKSWKGR_3.0  WKSWKGR_4.0  WKTRNI_1.0  YEAR_2006  YEAR_2008  \\\n",
       "0            0            1            0           1          0          0   \n",
       "1            0            0            1           0          0          0   \n",
       "2            0            0            1           1          0          0   \n",
       "3            0            0            1           1          0          0   \n",
       "5            0            0            1           1          0          0   \n",
       "\n",
       "   YEAR_2010  YEAR_2013  \n",
       "0          0          0  \n",
       "1          0          0  \n",
       "2          0          0  \n",
       "3          0          0  \n",
       "5          0          0  \n",
       "\n",
       "[5 rows x 166 columns]"
      ]
     },
     "execution_count": 40,
     "metadata": {},
     "output_type": "execute_result"
    }
   ],
   "source": [
    "feature_df = df_employed_nod.drop(['salary_d'],axis=1)\n",
    "categoric = feature_df.columns.difference(numeric)\n",
    "df_employed_nod_sig = pd.get_dummies(data=df_employed_nod, columns=categoric, drop_first=True)\n",
    "df_employed_nod_sig.head()"
   ]
  },
  {
   "cell_type": "markdown",
   "metadata": {},
   "source": [
    "Next, we go through all the dummied categorical variables and do the $\\chi^2$ test with the salary level column. The purpose is to filter out attributes that statistically insignificant. This will simplify our model."
   ]
  },
  {
   "cell_type": "code",
   "execution_count": 41,
   "metadata": {},
   "outputs": [
    {
     "name": "stdout",
     "output_type": "stream",
     "text": [
      "P-values from Chi-Squared Contingency Tests\n",
      "          Attribute   P_value\n",
      "115      SAMPLE_801  0.851496\n",
      "25      HD03Y5_1956  0.427363\n",
      "76    NDGMED_611995  0.284468\n",
      "87   NOCPR_393995.0  0.108034\n",
      "89   NOCPR_432360.0  0.104620\n",
      "145      WASEC_13.0  0.071465\n",
      "137      WASCSM_2.0  0.071465\n",
      "153       WASEC_7.0  0.064534\n",
      "26      HD03Y5_1961  0.060264\n",
      "3        ACTRDT_1.0  0.039083\n",
      "info of df before deleting insignificant attributes:\n",
      "<class 'pandas.core.frame.DataFrame'>\n",
      "Int64Index: 333044 entries, 0 to 478746\n",
      "Columns: 166 entries, AGE to YEAR_2013\n",
      "dtypes: category(1), int64(1), uint8(164)\n",
      "memory usage: 67.5 MB\n",
      "None\n",
      "info of df after:\n",
      "<class 'pandas.core.frame.DataFrame'>\n",
      "Int64Index: 333044 entries, 0 to 478746\n",
      "Columns: 152 entries, AGE to YEAR_2013\n",
      "dtypes: category(1), int64(1), uint8(150)\n",
      "memory usage: 63.0 MB\n",
      "None\n"
     ]
    }
   ],
   "source": [
    "p_vals_cate = pd.DataFrame(columns=['Attribute', 'P_value'])\n",
    "categoric = df_employed_nod_sig.columns.difference(['AGE','salary_d'])\n",
    "p_large = []\n",
    "\n",
    "for col in categoric:\n",
    "    # Creating cross tabulated data for Chi-square test\n",
    "    counttable = pd.crosstab(df_employed_nod_sig[col], df_employed_nod_sig['salary_d'])\n",
    "    chi2, p, dof, ex = chi2_contingency(counttable, correction=False)\n",
    "    p_vals_cate = p_vals_cate.append({'Attribute':col, 'P_value':float(p)}, ignore_index=True)\n",
    "    if p>0.01:\n",
    "         p_large.append(col)\n",
    "    \n",
    "# Printing p-values of Chi-squared tests, sorted by p-values\n",
    "print('P-values from Chi-Squared Contingency Tests')\n",
    "print(p_vals_cate.sort_values('P_value', ascending=False).head(10))\n",
    "\n",
    "print('info of df before deleting insignificant attributes:')\n",
    "print(df_employed_nod_sig.info())\n",
    "\n",
    "df_employed_nod_sig_2  = df_employed_nod_sig.drop(p_large, axis=1)\n",
    "\n",
    "print('info of df after:')\n",
    "print(df_employed_nod_sig_2.info())"
   ]
  },
  {
   "cell_type": "markdown",
   "metadata": {},
   "source": [
    "As we can see above, fourteen columns are deleted because their Chi-Squared cntingency tests p-value is larger than defined significance level (0.01). These statistically insignificant features include certain part of the survey, some secondary job activities, certain some majors and etc.."
   ]
  },
  {
   "cell_type": "markdown",
   "metadata": {},
   "source": [
    "<a id='psl'></a>\n",
    "### Predict Salary Level\n"
   ]
  },
  {
   "cell_type": "markdown",
   "metadata": {},
   "source": [
    "Next we define the target coloumn and the feature columns, using the results from the feature selection. Scikit-learn's train_test_split makes it easy to separate the data into training and test data.  \n",
    "Before we proceed to the next step, recall that the distribution of the salary level: there are more entries with higher than 60k salary level. The inbalance will cause under sampling. To avoid this, use the RandomUnderSampler function to ensure we are choosing the same amount of entries from both target classes."
   ]
  },
  {
   "cell_type": "markdown",
   "metadata": {},
   "source": [
    "** Train Test Split**\n",
    "\n",
    "Next we define the target coloumn and the feature columns, using the results from the previous preparation. Scikit-learn's train_test_split makes it easy to separate the data into training and test data.\n",
    "Before we proceed to the next step, recall that the distribution of the salary level: there are more entries with higher than 60k salary level. The inbalance will cause under sampling. To avoid this, use the RandomUnderSampler function to ensure we are choosing the same amount of entries from both target classes."
   ]
  },
  {
   "cell_type": "code",
   "execution_count": 42,
   "metadata": {},
   "outputs": [
    {
     "name": "stdout",
     "output_type": "stream",
     "text": [
      "Raw Training Set Percent Under $60,000: 28.7%\n",
      "Resampled Training Set Percent Under $60,000: 50.0%\n"
     ]
    }
   ],
   "source": [
    "df_employed_nod_sig_3 = df_employed_nod_sig_2#.sample(frac=0.1, random_state=42)\n",
    "\n",
    "# Identify variables\n",
    "X = df_employed_nod_sig_3.drop('salary_d', axis=1)\n",
    "y = df_employed_nod_sig_3.salary_d\n",
    "\n",
    "# Splitting into train and test sets\n",
    "X_train, X_test, y_train, y_test = train_test_split(X, y, test_size=0.7, random_state=41)\n",
    "\n",
    "\n",
    "rus = RandomUnderSampler(random_state=41)\n",
    "X_rus, y_rus = rus.fit_sample(X=X_train, y=y_train)\n",
    "X_rus_test, y_rus_test = rus.fit_sample(X=X_test, y=y_test)\n",
    "\n",
    "print('Raw Training Set Percent Under $60,000: {:.1f}%'.format(\n",
    "    len(y_train[y_train == 0])/len(y_train)*100))\n",
    "print('Resampled Training Set Percent Under $60,000: {}%'.format(\n",
    "    len(y_rus[y_rus == 0])/len(y_rus)*100))"
   ]
  },
  {
   "cell_type": "code",
   "execution_count": 43,
   "metadata": {
    "collapsed": true
   },
   "outputs": [],
   "source": [
    "# Initiate list to store the training and testing scores for classification models\n",
    "score_train = []\n",
    "score_test = []"
   ]
  },
  {
   "cell_type": "markdown",
   "metadata": {},
   "source": [
    "With the data prepared, we will proceed to test with several classification models. I will find the accuracy score using logistic regression, random forest classifier, KNN, and AdaBoost classifier. For each model, the cross validated grid search will be called find the best parameters. Then the found parameters are fed back into the model for prediction of the test data.  \n",
    "\n",
    "#### Logistic Regression\n"
   ]
  },
  {
   "cell_type": "code",
   "execution_count": 44,
   "metadata": {},
   "outputs": [
    {
     "name": "stdout",
     "output_type": "stream",
     "text": [
      "Best Score: 0.78095902354\n",
      "Best Parameters: {'C': 10, 'fit_intercept': True, 'penalty': 'l2', 'solver': 'liblinear'}\n",
      "Cross Validation Accuracy Scores - Training Set: 0.78174(+/- 0.01)\n",
      "Cross Validation Accuracy Scores - Test Set: 0.81533(+/- 0.00)\n",
      "Confusion matrix on the test data:\n",
      "[[ 51466  14097]\n",
      " [ 37430 130138]]\n",
      "Classification report on the test data:\n",
      "             precision    recall  f1-score   support\n",
      "\n",
      "        0.0       0.58      0.78      0.67     65563\n",
      "        1.0       0.90      0.78      0.83    167568\n",
      "\n",
      "avg / total       0.81      0.78      0.79    233131\n",
      "\n"
     ]
    }
   ],
   "source": [
    "clf = LogisticRegression()\n",
    "parameters = [{'C':[0.1,1,10,100], 'solver':['lbfgs'], 'fit_intercept':[True]},\n",
    "              {'C':[0.1,1,10,100], 'solver':['liblinear'], 'penalty':['l1', 'l2'], 'fit_intercept':[True]}]\n",
    "# Instantiating and fitting model through grid search\n",
    "grid_logR = GridSearchCV(clf, param_grid=parameters)\n",
    "grid_logR.fit(X_rus, y_rus)\n",
    "\n",
    "# Printing the best score from the model\n",
    "print('Best Score:', grid_logR.best_score_)\n",
    "\n",
    "# Saving and printing the best parameters from the model\n",
    "best_params = grid_logR.best_params_\n",
    "print('Best Parameters:', best_params)\n",
    "\n",
    "#initiate a instance for classifier using the optimized parameters\n",
    "clf = LogisticRegression(**best_params)\n",
    "\n",
    "# Fit the classifier to the training data\n",
    "clf.fit(X_rus, y_rus)\n",
    "\n",
    "# Predict the labels of the test data: y_pred\n",
    "y_pred = clf.predict(X_test)\n",
    "\n",
    "scores_LR_train = cross_val_score(clf, X_rus, y_rus, cv=5)\n",
    "print('Cross Validation Accuracy Scores - Training Set: {:.5f}(+/- {:.2f})'.format(scores_LR_train.mean(), \n",
    "                                                                                 scores_LR_train.std()*2))\n",
    "scores_LR_test = cross_val_score(clf, X_test, y_test, cv=5)\n",
    "print('Cross Validation Accuracy Scores - Test Set: {:.5f}(+/- {:.2f})'.format(scores_LR_test.mean(), \n",
    "                                                                            scores_LR_test.std()*2))\n",
    "\n",
    "score_train.append(scores_LR_train.mean())\n",
    "score_test.append(scores_LR_test.mean())\n",
    "\n",
    "# Generate the confusion matrix and classification report\n",
    "print('Confusion matrix on the test data:')\n",
    "print(confusion_matrix(y_test, y_pred))\n",
    "print('Classification report on the test data:')\n",
    "print(classification_report(y_test, y_pred))"
   ]
  },
  {
   "cell_type": "markdown",
   "metadata": {},
   "source": [
    "By checking the logistic regression coefficient, we can take a glance at the features that contribute most to the classification of our target.\n"
   ]
  },
  {
   "cell_type": "code",
   "execution_count": 45,
   "metadata": {},
   "outputs": [
    {
     "name": "stdout",
     "output_type": "stream",
     "text": [
      "\n",
      "Features with the most impact on higher income levels\n"
     ]
    },
    {
     "data": {
      "text/html": [
       "<div>\n",
       "<style>\n",
       "    .dataframe thead tr:only-child th {\n",
       "        text-align: right;\n",
       "    }\n",
       "\n",
       "    .dataframe thead th {\n",
       "        text-align: left;\n",
       "    }\n",
       "\n",
       "    .dataframe tbody tr th {\n",
       "        vertical-align: top;\n",
       "    }\n",
       "</style>\n",
       "<table border=\"1\" class=\"dataframe\">\n",
       "  <thead>\n",
       "    <tr style=\"text-align: right;\">\n",
       "      <th></th>\n",
       "      <th>Attribute</th>\n",
       "      <th>Coef</th>\n",
       "      <th>Odds_Ratios</th>\n",
       "    </tr>\n",
       "  </thead>\n",
       "  <tbody>\n",
       "    <tr>\n",
       "      <th>21</th>\n",
       "      <td>EMSIZE_8.0</td>\n",
       "      <td>2.049162</td>\n",
       "      <td>7.761397</td>\n",
       "    </tr>\n",
       "    <tr>\n",
       "      <th>11</th>\n",
       "      <td>DGRDG_4</td>\n",
       "      <td>2.011932</td>\n",
       "      <td>7.477754</td>\n",
       "    </tr>\n",
       "    <tr>\n",
       "      <th>20</th>\n",
       "      <td>EMSIZE_7.0</td>\n",
       "      <td>1.726152</td>\n",
       "      <td>5.618988</td>\n",
       "    </tr>\n",
       "    <tr>\n",
       "      <th>10</th>\n",
       "      <td>DGRDG_3</td>\n",
       "      <td>1.691709</td>\n",
       "      <td>5.428751</td>\n",
       "    </tr>\n",
       "    <tr>\n",
       "      <th>19</th>\n",
       "      <td>EMSIZE_6.0</td>\n",
       "      <td>1.556426</td>\n",
       "      <td>4.741845</td>\n",
       "    </tr>\n",
       "    <tr>\n",
       "      <th>14</th>\n",
       "      <td>EMSEC_4.0</td>\n",
       "      <td>1.531416</td>\n",
       "      <td>4.624721</td>\n",
       "    </tr>\n",
       "  </tbody>\n",
       "</table>\n",
       "</div>"
      ],
      "text/plain": [
       "     Attribute      Coef  Odds_Ratios\n",
       "21  EMSIZE_8.0  2.049162     7.761397\n",
       "11     DGRDG_4  2.011932     7.477754\n",
       "20  EMSIZE_7.0  1.726152     5.618988\n",
       "10     DGRDG_3  1.691709     5.428751\n",
       "19  EMSIZE_6.0  1.556426     4.741845\n",
       "14   EMSEC_4.0  1.531416     4.624721"
      ]
     },
     "execution_count": 45,
     "metadata": {},
     "output_type": "execute_result"
    }
   ],
   "source": [
    "# Creating Data Frame with Features and Logistic Regression Coefficients\n",
    "coefs_lg = pd.concat([pd.DataFrame(X_train.columns), pd.DataFrame(np.transpose(clf.coef_))], axis=1)\n",
    "coefs_lg.columns = ['Attribute', 'Coef']\n",
    "# Calculating exponentiated coefficients for interpretation\n",
    "coefs_lg['Odds_Ratios'] = np.exp(coefs_lg['Coef'])\n",
    "print('\\nFeatures with the most impact on higher income levels')\n",
    "coefs_lg.sort_values('Odds_Ratios', ascending=False).head(6)"
   ]
  },
  {
   "cell_type": "markdown",
   "metadata": {},
   "source": [
    "The result is insightful! We found:\n",
    "\n",
    "1. professional or doctorate degrees both play a important positive role in being classified into the higher salary level. \n",
    "\n",
    "2. The size of the employer is another important attribute: Chances are you will get a better pay working for a large coorporate employer (large than 5000 employees). \n"
   ]
  },
  {
   "cell_type": "markdown",
   "metadata": {
    "collapsed": true
   },
   "source": [
    "#### Random Forest Classifier"
   ]
  },
  {
   "cell_type": "code",
   "execution_count": 46,
   "metadata": {},
   "outputs": [
    {
     "name": "stdout",
     "output_type": "stream",
     "text": [
      "Best Score: 0.783347863993\n",
      "Best Parameters: {'max_depth': 300, 'max_features': 30, 'n_estimators': 75}\n"
     ]
    }
   ],
   "source": [
    "#Random forest classifier parameter optimization:\n",
    "\n",
    "rf = RandomForestClassifier()\n",
    "param_grid = {\"n_estimators\": [30, 50, 75],\n",
    "              \"max_features\": [10, 30, 50],\n",
    "              \"max_depth\": [10, 100, 300]\n",
    "              }\n",
    "\n",
    "grid_rf = GridSearchCV(rf, param_grid=param_grid, cv=5)\n",
    "grid_rf.fit(X_rus, y_rus)\n",
    "\n",
    "# Printing the best score from the model\n",
    "print('Best Score:', grid_rf.best_score_)\n",
    "\n",
    "# Saving and printing the best parameters from the model\n",
    "best_params = grid_rf.best_params_\n",
    "print('Best Parameters:', best_params)"
   ]
  },
  {
   "cell_type": "code",
   "execution_count": 47,
   "metadata": {},
   "outputs": [
    {
     "name": "stdout",
     "output_type": "stream",
     "text": [
      "Cross Validation Accuracy Scores - Training Set: 0.78183(+/- 0.01)\n",
      "Cross Validation Accuracy Scores - Test Set: 0.82653(+/- 0.00)\n",
      "Confusion matrix on the test data:\n",
      "[[ 51295  14268]\n",
      " [ 35230 132338]]\n",
      "Classification report on the test data:\n",
      "             precision    recall  f1-score   support\n",
      "\n",
      "        0.0       0.59      0.78      0.67     65563\n",
      "        1.0       0.90      0.79      0.84    167568\n",
      "\n",
      "avg / total       0.82      0.79      0.80    233131\n",
      "\n"
     ]
    }
   ],
   "source": [
    "#initiate a instance for classifier\n",
    "rf = RandomForestClassifier(**best_params)\n",
    "\n",
    "# Fit the classifier to the training data\n",
    "rf.fit(X_rus, y_rus)\n",
    "\n",
    "# Predict the labels of the test data: y_pred\n",
    "y_pred = rf.predict(X_test)\n",
    "\n",
    "scores_rf_train = cross_val_score(rf, X_rus, y_rus, cv=5)\n",
    "print('Cross Validation Accuracy Scores - Training Set: {:.5f}(+/- {:.2f})'.format(scores_rf_train.mean(), \n",
    "                                                                                 scores_rf_train.std()*2))\n",
    "scores_rf_test = cross_val_score(rf, X_test, y_test, cv=5)\n",
    "print('Cross Validation Accuracy Scores - Test Set: {:.5f}(+/- {:.2f})'.format(scores_rf_test.mean(), \n",
    "                                                                                 scores_rf_test.std()*2))\n",
    "\n",
    "score_train.append(scores_rf_train.mean())\n",
    "score_test.append(scores_rf_test.mean())\n",
    "\n",
    "# Generate the confusion matrix and classification report\n",
    "print('Confusion matrix on the test data:')\n",
    "print(confusion_matrix(y_test, y_pred))\n",
    "print('Classification report on the test data:')\n",
    "print(classification_report(y_test, y_pred))"
   ]
  },
  {
   "cell_type": "markdown",
   "metadata": {},
   "source": [
    "#### KNN"
   ]
  },
  {
   "cell_type": "code",
   "execution_count": 48,
   "metadata": {},
   "outputs": [
    {
     "name": "stdout",
     "output_type": "stream",
     "text": [
      "Best Score: 0.744864864865\n",
      "Best Parameters: {'leaf_size': 50, 'n_neighbors': 15, 'weights': 'distance'}\n",
      "Cross Validation Accuracy Scores - Training Set: 0.74486(+/- 0.00)\n",
      "Cross Validation Accuracy Scores - Test Set: 0.79986(+/- 0.00)\n",
      "Confusion matrix on the test data:\n",
      "[[ 46543  19020]\n",
      " [ 35723 131845]]\n",
      "Classification report on the test data:\n",
      "             precision    recall  f1-score   support\n",
      "\n",
      "        0.0       0.57      0.71      0.63     65563\n",
      "        1.0       0.87      0.79      0.83    167568\n",
      "\n",
      "avg / total       0.79      0.77      0.77    233131\n",
      "\n"
     ]
    }
   ],
   "source": [
    "#KNN parameter optimization\n",
    "knn = KNeighborsClassifier()\n",
    "param_grid = {\"n_neighbors\": [5, 10, 15],\n",
    "              \"leaf_size\": [10, 30, 50],\n",
    "              \"weights\": ['uniform', 'distance']\n",
    "              }\n",
    "\n",
    "\n",
    "grid_knn = GridSearchCV(knn, param_grid=param_grid, cv=5)\n",
    "grid_knn.fit(X_rus, y_rus)\n",
    "\n",
    "# Printing the best score from the model\n",
    "print('Best Score:', grid_knn.best_score_)\n",
    "\n",
    "# Saving and printing the best parameters from the model\n",
    "best_params = grid_knn.best_params_\n",
    "print('Best Parameters:', best_params)\n",
    "\n",
    "#initiate a instance for classifier\n",
    "knn = KNeighborsClassifier(**best_params)\n",
    "\n",
    "# Fit the classifier to the training data\n",
    "knn.fit(X_rus, y_rus)\n",
    "\n",
    "# Predict the labels of the test data: y_pred\n",
    "y_pred = knn.predict(X_test)\n",
    "\n",
    "scores_knn_train = cross_val_score(knn, X_rus, y_rus, cv=5)\n",
    "print('Cross Validation Accuracy Scores - Training Set: {:.5f}(+/- {:.2f})'.format(scores_knn_train.mean(), \n",
    "                                                                                 scores_knn_train.std()*2))\n",
    "scores_knn_test = cross_val_score(knn, X_test, y_test, cv=5)\n",
    "print('Cross Validation Accuracy Scores - Test Set: {:.5f}(+/- {:.2f})'.format(scores_knn_test.mean(), \n",
    "                                                                                 scores_knn_test.std()*2))\n",
    "\n",
    "score_train.append(scores_knn_train.mean())\n",
    "score_test.append(scores_knn_test.mean())\n",
    "\n",
    "# Generate the confusion matrix and classification report\n",
    "print('Confusion matrix on the test data:')\n",
    "print(confusion_matrix(y_test, y_pred))\n",
    "print('Classification report on the test data:')\n",
    "print(classification_report(y_test, y_pred))"
   ]
  },
  {
   "cell_type": "markdown",
   "metadata": {},
   "source": [
    "#### Adaboost"
   ]
  },
  {
   "cell_type": "code",
   "execution_count": 49,
   "metadata": {},
   "outputs": [
    {
     "name": "stdout",
     "output_type": "stream",
     "text": [
      "Best Score: 0.778308631212\n",
      "Best Parameters: {'n_estimators': 200}\n",
      "Cross Validation Accuracy Scores - Training Set: 0.77932(+/- 0.01)\n",
      "Cross Validation Accuracy Scores - Test Set: 0.81329(+/- 0.00)\n",
      "Confusion matrix on the test data:\n",
      "[[ 51145  14418]\n",
      " [ 37346 130222]]\n",
      "Classification report on the test data:\n",
      "             precision    recall  f1-score   support\n",
      "\n",
      "        0.0       0.58      0.78      0.66     65563\n",
      "        1.0       0.90      0.78      0.83    167568\n",
      "\n",
      "avg / total       0.81      0.78      0.79    233131\n",
      "\n"
     ]
    }
   ],
   "source": [
    "# Parameter optimization\n",
    "param_grid = {\n",
    "              \"n_estimators\": [10, 100, 200]\n",
    "             }\n",
    "\n",
    "\n",
    "ABC = AdaBoostClassifier()\n",
    "\n",
    "# run grid search\n",
    "grid_ab = GridSearchCV(ABC, param_grid=param_grid)\n",
    "\n",
    "grid_ab.fit(X_rus, y_rus)\n",
    "\n",
    "# Printing the best score from the model\n",
    "print('Best Score:', grid_ab.best_score_)\n",
    "\n",
    "# Saving and printing the best parameters from the model\n",
    "best_params = grid_ab.best_params_\n",
    "print('Best Parameters:', best_params)\n",
    "\n",
    "#initiate a instance for classifier\n",
    "\n",
    "ab = AdaBoostClassifier(**best_params)\n",
    "\n",
    "# Fit the classifier to the training data\n",
    "ab.fit(X_rus, y_rus)\n",
    "\n",
    "# Predict the labels of the test data: y_pred\n",
    "y_pred = ab.predict(X_test)\n",
    "\n",
    "scores_ab_train = cross_val_score(ab, X_rus, y_rus, cv=5)\n",
    "print('Cross Validation Accuracy Scores - Training Set: {:.5f}(+/- {:.2f})'.format(scores_ab_train.mean(), \n",
    "                                                                                 scores_ab_train.std()*2))\n",
    "scores_ab_test = cross_val_score(ab, X_test, y_test, cv=5)\n",
    "print('Cross Validation Accuracy Scores - Test Set: {:.5f}(+/- {:.2f})'.format(scores_ab_test.mean(), \n",
    "                                                                                 scores_ab_test.std()*2))\n",
    "\n",
    "score_train.append(scores_ab_train.mean())\n",
    "score_test.append(scores_ab_test.mean())\n",
    "\n",
    "# Generate the confusion matrix and classification report\n",
    "print('Confusion matrix on the test data:')\n",
    "print(confusion_matrix(y_test, y_pred))\n",
    "print('Classification report on the test data:')\n",
    "print(classification_report(y_test, y_pred))"
   ]
  },
  {
   "cell_type": "markdown",
   "metadata": {},
   "source": [
    "#### Model Comparison"
   ]
  },
  {
   "cell_type": "code",
   "execution_count": 50,
   "metadata": {},
   "outputs": [
    {
     "name": "stdout",
     "output_type": "stream",
     "text": [
      "   Accuracy score on test  Accuracy score on train                model_name\n",
      "0                0.815327                 0.781744       Logistic Regression\n",
      "1                0.826531                 0.781831  Random Forest Classifier\n",
      "2                0.799859                 0.744865                       KNN\n",
      "3                0.813290                 0.779320                  AdaBoost\n"
     ]
    }
   ],
   "source": [
    "models = ['Logistic Regression', 'Random Forest Classifier', 'KNN', 'AdaBoost']\n",
    "model_comp = pd.DataFrame(\n",
    "    {'model_name': models,\n",
    "     'Accuracy score on train': score_train,\n",
    "     'Accuracy score on test': score_test\n",
    "    })\n",
    "\n",
    "print(model_comp)"
   ]
  },
  {
   "cell_type": "markdown",
   "metadata": {},
   "source": [
    "Looks like the accuracy scores highest at 0.78 on train data by Random Forest Classifier. Consider we are missing a vital piece of information in determining income, the location, the accuracy score is not bad! KNN can't quite compare with the other models for the dimensionality of the survey data.\n",
    "Next we check the ROC curve of the results from above models. It will give more insight into how well the models work."
   ]
  },
  {
   "cell_type": "code",
   "execution_count": 51,
   "metadata": {},
   "outputs": [
    {
     "data": {
      "image/png": "[encoded data removed]",
      "text/plain": [
       "<matplotlib.figure.Figure at 0x1168612e8>"
      ]
     },
     "metadata": {},
     "output_type": "display_data"
    },
    {
     "data": {
      "text/plain": [
       "<matplotlib.figure.Figure at 0x1104899b0>"
      ]
     },
     "metadata": {},
     "output_type": "display_data"
    }
   ],
   "source": [
    "## prepare ROC curve plot\n",
    "y_pred_prob_lg = clf.predict_proba(X_test)[:,1]\n",
    "y_pred_prob_rf = rf.predict_proba(X_test)[:,1]\n",
    "y_pred_prob_knn = knn.predict_proba(X_test)[:,1]\n",
    "y_pred_prob_ab = ab.predict_proba(X_test)[:,1]\n",
    "\n",
    "\n",
    "# Generate ROC curve values: fpr, tpr, thresholds\n",
    "fpr_lg, tpr_lg, thresholds_lg = roc_curve(y_test, y_pred_prob_lg)\n",
    "fpr_rf, tpr_rf, thresholds_rf = roc_curve(y_test, y_pred_prob_rf)\n",
    "fpr_knn, tpr_knn, thresholds_knn = roc_curve(y_test, y_pred_prob_knn)\n",
    "fpr_ab, tpr_ab, thresholds_ab = roc_curve(y_test, y_pred_prob_ab)\n",
    "\n",
    "\n",
    "# Plot ROC curve\n",
    "plt.plot([0, 1], [0, 1], 'k--')\n",
    "plt.plot(fpr_lg, tpr_lg, 'red', label='Logistic regression')\n",
    "plt.plot(fpr_rf, tpr_rf, 'blue', label='Random Forest Classifier')\n",
    "plt.plot(fpr_knn, tpr_knn, 'green', label='KNN')\n",
    "plt.plot(fpr_ab, tpr_ab, 'yellow', label='Adaboost Classifier')\n",
    "plt.xlabel('False Positive Rate')\n",
    "plt.ylabel('True Positive Rate')\n",
    "plt.legend()\n",
    "plt.title('ROC Curve')\n",
    "plt.show()\n",
    "plt.savefig('./../results/roc.png',dpi = 150)\n"
   ]
  },
  {
   "cell_type": "markdown",
   "metadata": {},
   "source": [
    "#### Predict the salary level among women employees in 2013:"
   ]
  },
  {
   "cell_type": "markdown",
   "metadata": {},
   "source": [
    "It is now a good time to run the model with the latest data for women employees. Nevertheless, the focus of this project is women in STEM workforce and we can get the most related insight using the most recent data. So next, we choose the women and year 2013 in the survey data and use logistic regression to predict the salary level."
   ]
  },
  {
   "cell_type": "code",
   "execution_count": 52,
   "metadata": {},
   "outputs": [
    {
     "name": "stdout",
     "output_type": "stream",
     "text": [
      "Raw Training Set Percent Under $60,000: 39.7%\n",
      "Resampled Training Set Percent Under $60,000: 50.0%\n",
      "Best Score: 0.770153680237\n",
      "Best Parameters: {'C': 0.1, 'fit_intercept': True, 'solver': 'lbfgs'}\n",
      "Cross Validation Accuracy Scores - Training Set: 0.77231(+/- 0.02)\n",
      "Cross Validation Accuracy Scores - Test Set: 0.78690(+/- 0.01)\n",
      "Confusion matrix on the test data:\n",
      "[[ 6701  1983]\n",
      " [ 2910 10208]]\n",
      "Classification report on the test data:\n",
      "             precision    recall  f1-score   support\n",
      "\n",
      "        0.0       0.70      0.77      0.73      8684\n",
      "        1.0       0.84      0.78      0.81     13118\n",
      "\n",
      "avg / total       0.78      0.78      0.78     21802\n",
      "\n"
     ]
    }
   ],
   "source": [
    "df_employed_nod_sig_3 = df_employed_nod_sig_2\n",
    "# Identify variables\n",
    "X = df_employed_nod_sig_3[(df_employed_nod_sig_3['GENDER_2']==0)&(df_employed_nod_sig_3['YEAR_2013']==1)].drop('salary_d', axis=1)\n",
    "y = df_employed_nod_sig_3[(df_employed_nod_sig_3['GENDER_2']==0)&(df_employed_nod_sig_3['YEAR_2013']==1)].salary_d\n",
    "\n",
    "# Splitting into train and test sets\n",
    "X_train, X_test, y_train, y_test = train_test_split(X, y, test_size=0.7, random_state=41)\n",
    "\n",
    "\n",
    "rus = RandomUnderSampler(random_state=41)\n",
    "X_rus, y_rus = rus.fit_sample(X=X_train, y=y_train)\n",
    "\n",
    "print('Raw Training Set Percent Under $60,000: {:.1f}%'.format(\n",
    "    len(y_train[y_train == 0])/len(y_train)*100))\n",
    "print('Resampled Training Set Percent Under $60,000: {}%'.format(\n",
    "    len(y_rus[y_rus == 0])/len(y_rus)*100))\n",
    "\n",
    "clf = LogisticRegression()\n",
    "parameters = [{'C':[0.1,1,10,100], 'solver':['lbfgs'], 'fit_intercept':[True]},\n",
    "              {'C':[0.1,1,10,100], 'solver':['liblinear'], 'penalty':['l1', 'l2'], 'fit_intercept':[True]}]\n",
    "# Instantiating and fitting model through grid search\n",
    "grid_logR = GridSearchCV(clf, param_grid=parameters)\n",
    "grid_logR.fit(X_rus, y_rus)\n",
    "\n",
    "# Printing the best score from the model\n",
    "print('Best Score:', grid_logR.best_score_)\n",
    "\n",
    "# Saving and printing the best parameters from the model\n",
    "best_params = grid_logR.best_params_\n",
    "print('Best Parameters:', best_params)\n",
    "\n",
    "#initiate a instance for classifier\n",
    "clf = LogisticRegression(**best_params)\n",
    "#clf = RandomForestClassifier(n_estimators=50, max_depth=100)\n",
    "\n",
    "# Fit the classifier to the training data\n",
    "clf.fit(X_rus, y_rus)\n",
    "\n",
    "# Predict the labels of the test data: y_pred\n",
    "y_pred = clf.predict(X_test)\n",
    "\n",
    "scores_LR_train = cross_val_score(clf, X_rus, y_rus, cv=5)\n",
    "print('Cross Validation Accuracy Scores - Training Set: {:.5f}(+/- {:.2f})'.format(scores_LR_train.mean(), \n",
    "                                                                                 scores_LR_train.std()*2))\n",
    "scores_LR_test = cross_val_score(clf, X_test, y_test, cv=5)\n",
    "print('Cross Validation Accuracy Scores - Test Set: {:.5f}(+/- {:.2f})'.format(scores_LR_test.mean(), \n",
    "                                                                                 scores_LR_test.std()*2))\n",
    "\n",
    "# Generate the confusion matrix and classification report\n",
    "print('Confusion matrix on the test data:')\n",
    "print(confusion_matrix(y_test, y_pred))\n",
    "print('Classification report on the test data:')\n",
    "print(classification_report(y_test, y_pred))"
   ]
  },
  {
   "cell_type": "code",
   "execution_count": 53,
   "metadata": {},
   "outputs": [
    {
     "name": "stdout",
     "output_type": "stream",
     "text": [
      "\n",
      "Features with the most impact on higher income levels for women\n"
     ]
    },
    {
     "data": {
      "text/html": [
       "<div>\n",
       "<style>\n",
       "    .dataframe thead tr:only-child th {\n",
       "        text-align: right;\n",
       "    }\n",
       "\n",
       "    .dataframe thead th {\n",
       "        text-align: left;\n",
       "    }\n",
       "\n",
       "    .dataframe tbody tr th {\n",
       "        vertical-align: top;\n",
       "    }\n",
       "</style>\n",
       "<table border=\"1\" class=\"dataframe\">\n",
       "  <thead>\n",
       "    <tr style=\"text-align: right;\">\n",
       "      <th></th>\n",
       "      <th>Attribute</th>\n",
       "      <th>Coef</th>\n",
       "      <th>Odds_Ratios</th>\n",
       "    </tr>\n",
       "  </thead>\n",
       "  <tbody>\n",
       "    <tr>\n",
       "      <th>11</th>\n",
       "      <td>DGRDG_4</td>\n",
       "      <td>1.410681</td>\n",
       "      <td>4.098745</td>\n",
       "    </tr>\n",
       "    <tr>\n",
       "      <th>10</th>\n",
       "      <td>DGRDG_3</td>\n",
       "      <td>1.034858</td>\n",
       "      <td>2.814707</td>\n",
       "    </tr>\n",
       "    <tr>\n",
       "      <th>21</th>\n",
       "      <td>EMSIZE_8.0</td>\n",
       "      <td>0.979350</td>\n",
       "      <td>2.662724</td>\n",
       "    </tr>\n",
       "    <tr>\n",
       "      <th>14</th>\n",
       "      <td>EMSEC_4.0</td>\n",
       "      <td>0.952613</td>\n",
       "      <td>2.592476</td>\n",
       "    </tr>\n",
       "    <tr>\n",
       "      <th>9</th>\n",
       "      <td>DGRDG_2</td>\n",
       "      <td>0.754761</td>\n",
       "      <td>2.127104</td>\n",
       "    </tr>\n",
       "  </tbody>\n",
       "</table>\n",
       "</div>"
      ],
      "text/plain": [
       "     Attribute      Coef  Odds_Ratios\n",
       "11     DGRDG_4  1.410681     4.098745\n",
       "10     DGRDG_3  1.034858     2.814707\n",
       "21  EMSIZE_8.0  0.979350     2.662724\n",
       "14   EMSEC_4.0  0.952613     2.592476\n",
       "9      DGRDG_2  0.754761     2.127104"
      ]
     },
     "execution_count": 53,
     "metadata": {},
     "output_type": "execute_result"
    }
   ],
   "source": [
    "# Creating Data Frame with Features and Logistic Regression Coefficients\n",
    "coefs_lg = pd.concat([pd.DataFrame(X_train.columns), pd.DataFrame(np.transpose(clf.coef_))], axis=1)\n",
    "coefs_lg.columns = ['Attribute', 'Coef']\n",
    "# Calculating exponentiated coefficients for interpretation\n",
    "coefs_lg['Odds_Ratios'] = np.exp(coefs_lg['Coef'])\n",
    "print('\\nFeatures with the most impact on higher income levels for women')\n",
    "coefs_lg.sort_values('Odds_Ratios', ascending=False).head(5)"
   ]
  },
  {
   "cell_type": "markdown",
   "metadata": {},
   "source": [
    "The accuracy scores and most contributing attributes with women only data are very similar to the model ran with the entire survey data. "
   ]
  },
  {
   "cell_type": "markdown",
   "metadata": {},
   "source": [
    "<a id='ppjf'></a>\n",
    "### Predict the Principal Job Field\n",
    "\n",
    "Suppose you are a college student, what would you expect when you go to the workforce? Are you going to work on major related fields? Here we are going to answer this question by using machine learning models on the pre-employment portion of the data.\n"
   ]
  },
  {
   "cell_type": "markdown",
   "metadata": {},
   "source": [
    "** Data Preparation**\n",
    "\n",
    "Here we are planning to predict the field of work for an individual looking for a job, a soon-to-be college graduate for example. This indicates that we don't have any information about the jobs for that person."
   ]
  },
  {
   "cell_type": "code",
   "execution_count": 54,
   "metadata": {
    "collapsed": true
   },
   "outputs": [],
   "source": [
    "# Use only columns that are pre-employment. \n",
    "# Choose the target column 'NOCPRMG'\n",
    "\n",
    "df_employed_nod = df_employed_clf[['YEAR', 'SAMPLE', 'SURID', 'AGE', 'GENDER', 'MINRTY', 'RACETH',\n",
    "       'BTHUS', 'CTZUSIN', 'NBAMED', 'NBAMEMG', 'DGRDG', 'HD03Y5', 'NDGMED',\n",
    "       'NDGMEMG', 'NOCPRMG']]\n",
    "\n",
    "\n",
    "# numeric columns\n",
    "numeric = ['AGE']\n",
    "# categoric columns\n",
    "categoric = df_employed_nod.drop(['NOCPRMG'],axis=1).columns.difference(numeric)"
   ]
  },
  {
   "cell_type": "code",
   "execution_count": 55,
   "metadata": {},
   "outputs": [
    {
     "data": {
      "text/html": [
       "<div>\n",
       "<style>\n",
       "    .dataframe thead tr:only-child th {\n",
       "        text-align: right;\n",
       "    }\n",
       "\n",
       "    .dataframe thead th {\n",
       "        text-align: left;\n",
       "    }\n",
       "\n",
       "    .dataframe tbody tr th {\n",
       "        vertical-align: top;\n",
       "    }\n",
       "</style>\n",
       "<table border=\"1\" class=\"dataframe\">\n",
       "  <thead>\n",
       "    <tr style=\"text-align: right;\">\n",
       "      <th></th>\n",
       "      <th>AGE</th>\n",
       "      <th>NOCPRMG</th>\n",
       "      <th>BTHUS_1</th>\n",
       "      <th>CTZUSIN_1</th>\n",
       "      <th>DGRDG_2</th>\n",
       "      <th>DGRDG_3</th>\n",
       "      <th>DGRDG_4</th>\n",
       "      <th>GENDER_2</th>\n",
       "      <th>HD03Y5_1951</th>\n",
       "      <th>HD03Y5_1956</th>\n",
       "      <th>...</th>\n",
       "      <th>SAMPLE_802</th>\n",
       "      <th>SAMPLE_901</th>\n",
       "      <th>SAMPLE_902</th>\n",
       "      <th>SAMPLE_1001</th>\n",
       "      <th>SAMPLE_1002</th>\n",
       "      <th>SURID_2</th>\n",
       "      <th>YEAR_2006</th>\n",
       "      <th>YEAR_2008</th>\n",
       "      <th>YEAR_2010</th>\n",
       "      <th>YEAR_2013</th>\n",
       "    </tr>\n",
       "  </thead>\n",
       "  <tbody>\n",
       "    <tr>\n",
       "      <th>0</th>\n",
       "      <td>47</td>\n",
       "      <td>2.0</td>\n",
       "      <td>0</td>\n",
       "      <td>1</td>\n",
       "      <td>0</td>\n",
       "      <td>0</td>\n",
       "      <td>0</td>\n",
       "      <td>0</td>\n",
       "      <td>0</td>\n",
       "      <td>0</td>\n",
       "      <td>...</td>\n",
       "      <td>0</td>\n",
       "      <td>0</td>\n",
       "      <td>0</td>\n",
       "      <td>0</td>\n",
       "      <td>0</td>\n",
       "      <td>0</td>\n",
       "      <td>0</td>\n",
       "      <td>0</td>\n",
       "      <td>0</td>\n",
       "      <td>0</td>\n",
       "    </tr>\n",
       "    <tr>\n",
       "      <th>1</th>\n",
       "      <td>66</td>\n",
       "      <td>4.0</td>\n",
       "      <td>1</td>\n",
       "      <td>1</td>\n",
       "      <td>0</td>\n",
       "      <td>0</td>\n",
       "      <td>0</td>\n",
       "      <td>1</td>\n",
       "      <td>0</td>\n",
       "      <td>0</td>\n",
       "      <td>...</td>\n",
       "      <td>0</td>\n",
       "      <td>0</td>\n",
       "      <td>0</td>\n",
       "      <td>0</td>\n",
       "      <td>0</td>\n",
       "      <td>0</td>\n",
       "      <td>0</td>\n",
       "      <td>0</td>\n",
       "      <td>0</td>\n",
       "      <td>0</td>\n",
       "    </tr>\n",
       "    <tr>\n",
       "      <th>2</th>\n",
       "      <td>60</td>\n",
       "      <td>6.0</td>\n",
       "      <td>1</td>\n",
       "      <td>1</td>\n",
       "      <td>0</td>\n",
       "      <td>0</td>\n",
       "      <td>0</td>\n",
       "      <td>0</td>\n",
       "      <td>0</td>\n",
       "      <td>0</td>\n",
       "      <td>...</td>\n",
       "      <td>0</td>\n",
       "      <td>0</td>\n",
       "      <td>0</td>\n",
       "      <td>0</td>\n",
       "      <td>0</td>\n",
       "      <td>0</td>\n",
       "      <td>0</td>\n",
       "      <td>0</td>\n",
       "      <td>0</td>\n",
       "      <td>0</td>\n",
       "    </tr>\n",
       "    <tr>\n",
       "      <th>3</th>\n",
       "      <td>30</td>\n",
       "      <td>5.0</td>\n",
       "      <td>1</td>\n",
       "      <td>1</td>\n",
       "      <td>1</td>\n",
       "      <td>0</td>\n",
       "      <td>0</td>\n",
       "      <td>1</td>\n",
       "      <td>0</td>\n",
       "      <td>0</td>\n",
       "      <td>...</td>\n",
       "      <td>0</td>\n",
       "      <td>0</td>\n",
       "      <td>0</td>\n",
       "      <td>0</td>\n",
       "      <td>0</td>\n",
       "      <td>0</td>\n",
       "      <td>0</td>\n",
       "      <td>0</td>\n",
       "      <td>0</td>\n",
       "      <td>0</td>\n",
       "    </tr>\n",
       "    <tr>\n",
       "      <th>5</th>\n",
       "      <td>51</td>\n",
       "      <td>5.0</td>\n",
       "      <td>1</td>\n",
       "      <td>1</td>\n",
       "      <td>0</td>\n",
       "      <td>0</td>\n",
       "      <td>0</td>\n",
       "      <td>1</td>\n",
       "      <td>0</td>\n",
       "      <td>0</td>\n",
       "      <td>...</td>\n",
       "      <td>0</td>\n",
       "      <td>0</td>\n",
       "      <td>0</td>\n",
       "      <td>0</td>\n",
       "      <td>0</td>\n",
       "      <td>0</td>\n",
       "      <td>0</td>\n",
       "      <td>0</td>\n",
       "      <td>0</td>\n",
       "      <td>0</td>\n",
       "    </tr>\n",
       "  </tbody>\n",
       "</table>\n",
       "<p>5 rows × 88 columns</p>\n",
       "</div>"
      ],
      "text/plain": [
       "   AGE  NOCPRMG  BTHUS_1  CTZUSIN_1  DGRDG_2  DGRDG_3  DGRDG_4  GENDER_2  \\\n",
       "0   47      2.0        0          1        0        0        0         0   \n",
       "1   66      4.0        1          1        0        0        0         1   \n",
       "2   60      6.0        1          1        0        0        0         0   \n",
       "3   30      5.0        1          1        1        0        0         1   \n",
       "5   51      5.0        1          1        0        0        0         1   \n",
       "\n",
       "   HD03Y5_1951  HD03Y5_1956    ...      SAMPLE_802  SAMPLE_901  SAMPLE_902  \\\n",
       "0            0            0    ...               0           0           0   \n",
       "1            0            0    ...               0           0           0   \n",
       "2            0            0    ...               0           0           0   \n",
       "3            0            0    ...               0           0           0   \n",
       "5            0            0    ...               0           0           0   \n",
       "\n",
       "   SAMPLE_1001  SAMPLE_1002  SURID_2  YEAR_2006  YEAR_2008  YEAR_2010  \\\n",
       "0            0            0        0          0          0          0   \n",
       "1            0            0        0          0          0          0   \n",
       "2            0            0        0          0          0          0   \n",
       "3            0            0        0          0          0          0   \n",
       "5            0            0        0          0          0          0   \n",
       "\n",
       "   YEAR_2013  \n",
       "0          0  \n",
       "1          0  \n",
       "2          0  \n",
       "3          0  \n",
       "5          0  \n",
       "\n",
       "[5 rows x 88 columns]"
      ]
     },
     "execution_count": 55,
     "metadata": {},
     "output_type": "execute_result"
    }
   ],
   "source": [
    "# change categorical features to dummied columns\n",
    "df_employed_nod_sig = pd.get_dummies(data=df_employed_nod, columns=categoric, drop_first=True)\n",
    "df_employed_nod_sig.head()"
   ]
  },
  {
   "cell_type": "markdown",
   "metadata": {},
   "source": [
    "Take NOCPRMG = 2 as a first look at the problem. The target column indicates whether the principal job field of the individual is biological, agricultural and other life sciences."
   ]
  },
  {
   "cell_type": "code",
   "execution_count": 56,
   "metadata": {
    "collapsed": true
   },
   "outputs": [],
   "source": [
    "# define a function to find for a certain type job field only. \n",
    "# NOCPRMG = 1, Computer and mathematical scientists\n",
    "# NOCPRMG = 2, Biological, agricultural and other life scientists\n",
    "# NOCPRMG = 3, Physical and related scientists\n",
    "# NOCPRMG = 4, Social and related scientists\n",
    "# NOCPRMG = 5, Engineers\n",
    "# NOCPRMG = 6, Science and engineering related occupations\n",
    "# NOCPRMG = 7, Non-science and engineering occupations\n",
    "\n",
    "def job_fd(ls):\n",
    "    new_s = np.empty(len(ls))\n",
    "    for i,s in enumerate(ls):\n",
    "        if s==2:\n",
    "            new_s[i] = 1\n",
    "        else:\n",
    "            new_s[i] = 0\n",
    "    return new_s\n",
    "\n",
    "rd = job_fd(df_employed_nod_sig['NOCPRMG'])"
   ]
  },
  {
   "cell_type": "code",
   "execution_count": 57,
   "metadata": {
    "scrolled": true
   },
   "outputs": [
    {
     "name": "stdout",
     "output_type": "stream",
     "text": [
      "Raw Training Set Percent with job field 2: 8.5%\n",
      "Resampled Training Set Percent with job field 2: 50.0%\n"
     ]
    }
   ],
   "source": [
    "df_employed_nod_sig_3 = df_employed_nod_sig#.sample(frac=1, random_state=42)\n",
    "# Identify variables\n",
    "X = df_employed_nod_sig_3.drop('NOCPRMG', axis=1)\n",
    "y = rd\n",
    "\n",
    "# Splitting into train and test sets\n",
    "X_train, X_test, y_train, y_test = train_test_split(X, y, test_size=0.7, random_state=41)\n",
    "\n",
    "\n",
    "rus = RandomUnderSampler(random_state=41)\n",
    "X_rus, y_rus = rus.fit_sample(X=X_train, y=y_train)\n",
    "X_rus_test, y_rus_test = rus.fit_sample(X=X_test, y=y_test)\n",
    "\n",
    "print('Raw Training Set Percent with job field 2: {:.1f}%'.format(\n",
    "    len(y_train[y_train == 1])/len(y_train)*100))\n",
    "print('Resampled Training Set Percent with job field 2: {:.1f}%'.format(\n",
    "    len(y_rus[y_rus == 1])/len(y_rus)*100))"
   ]
  },
  {
   "cell_type": "markdown",
   "metadata": {},
   "source": [
    "#### Logistic Regression on Bio and Life Science Jobs"
   ]
  },
  {
   "cell_type": "code",
   "execution_count": 58,
   "metadata": {},
   "outputs": [
    {
     "name": "stdout",
     "output_type": "stream",
     "text": [
      "Best Score: 0.870769540693\n",
      "Best Parameters: {'C': 10, 'fit_intercept': True, 'solver': 'lbfgs'}\n",
      "Cross Validation Accuracy Scores - Training Set: 0.87027(+/- 0.01)\n",
      "Cross Validation Accuracy Scores - Test Set: 0.86956(+/- 0.01)\n",
      "Confusion matrix on the test data:\n",
      "[[20255  2958]\n",
      " [ 3110 20103]]\n",
      "Classification report on the test data:\n",
      "             precision    recall  f1-score   support\n",
      "\n",
      "        0.0       0.87      0.87      0.87     23213\n",
      "        1.0       0.87      0.87      0.87     23213\n",
      "\n",
      "avg / total       0.87      0.87      0.87     46426\n",
      "\n"
     ]
    }
   ],
   "source": [
    "clf = LogisticRegression()\n",
    "parameters = [{'C':[0.1,1,10,100], 'solver':['lbfgs'], 'fit_intercept':[True]},\n",
    "              {'C':[0.1,1,10,100], 'solver':['liblinear'], 'penalty':['l1', 'l2'], 'fit_intercept':[True]}]\n",
    "# Instantiating and fitting model through grid search\n",
    "grid_logR = GridSearchCV(clf, param_grid=parameters)\n",
    "grid_logR.fit(X_rus, y_rus)\n",
    "\n",
    "# Printing the best score from the model\n",
    "print('Best Score:', grid_logR.best_score_)\n",
    "\n",
    "# Saving and printing the best parameters from the model\n",
    "best_params = grid_logR.best_params_\n",
    "print('Best Parameters:', best_params)\n",
    "\n",
    "#initiate a instance for classifier\n",
    "clf = LogisticRegression(**best_params)\n",
    "\n",
    "# Fit the classifier to the training data\n",
    "clf.fit(X_rus, y_rus)\n",
    "\n",
    "# Predict the labels of the test data: y_pred\n",
    "y_pred = clf.predict(X_rus_test)\n",
    "\n",
    "scores_LR_train = cross_val_score(clf, X_rus, y_rus, cv=5)\n",
    "print('Cross Validation Accuracy Scores - Training Set: {:.5f}(+/- {:.2f})'.format(scores_LR_train.mean(), \n",
    "                                                                                 scores_LR_train.std()*2))\n",
    "scores_LR_test = cross_val_score(clf, X_rus_test, y_rus_test, cv=5)\n",
    "print('Cross Validation Accuracy Scores - Test Set: {:.5f}(+/- {:.2f})'.format(scores_LR_test.mean(), \n",
    "                                                                                 scores_LR_test.std()*2))\n",
    "\n",
    "# Generate the confusion matrix and classification report\n",
    "print('Confusion matrix on the test data:')\n",
    "print(confusion_matrix(y_rus_test, y_pred))\n",
    "print('Classification report on the test data:')\n",
    "print(classification_report(y_rus_test, y_pred))"
   ]
  },
  {
   "cell_type": "markdown",
   "metadata": {},
   "source": [
    "Very good accuracy score! We see there is a 0.86 accuracy score using logistic regression deciding whether an individual is going into the job field of biology and life sciences."
   ]
  },
  {
   "cell_type": "code",
   "execution_count": 59,
   "metadata": {},
   "outputs": [
    {
     "name": "stdout",
     "output_type": "stream",
     "text": [
      "\n",
      "Features with the most impact on job field of biological, agricultural and other life sciences: \n"
     ]
    },
    {
     "data": {
      "text/html": [
       "<div>\n",
       "<style>\n",
       "    .dataframe thead tr:only-child th {\n",
       "        text-align: right;\n",
       "    }\n",
       "\n",
       "    .dataframe thead th {\n",
       "        text-align: left;\n",
       "    }\n",
       "\n",
       "    .dataframe tbody tr th {\n",
       "        vertical-align: top;\n",
       "    }\n",
       "</style>\n",
       "<table border=\"1\" class=\"dataframe\">\n",
       "  <thead>\n",
       "    <tr style=\"text-align: right;\">\n",
       "      <th></th>\n",
       "      <th>Attribute</th>\n",
       "      <th>Coef</th>\n",
       "      <th>Odds_Ratios</th>\n",
       "    </tr>\n",
       "  </thead>\n",
       "  <tbody>\n",
       "    <tr>\n",
       "      <th>65</th>\n",
       "      <td>NDGMEMG_2</td>\n",
       "      <td>2.308552</td>\n",
       "      <td>10.059846</td>\n",
       "    </tr>\n",
       "    <tr>\n",
       "      <th>4</th>\n",
       "      <td>DGRDG_3</td>\n",
       "      <td>1.490425</td>\n",
       "      <td>4.438980</td>\n",
       "    </tr>\n",
       "    <tr>\n",
       "      <th>46</th>\n",
       "      <td>NDGMED_226395</td>\n",
       "      <td>1.307774</td>\n",
       "      <td>3.697933</td>\n",
       "    </tr>\n",
       "    <tr>\n",
       "      <th>61</th>\n",
       "      <td>NDGMED_611995</td>\n",
       "      <td>1.243951</td>\n",
       "      <td>3.469293</td>\n",
       "    </tr>\n",
       "    <tr>\n",
       "      <th>40</th>\n",
       "      <td>NBAMEMG_2.0</td>\n",
       "      <td>1.188855</td>\n",
       "      <td>3.283320</td>\n",
       "    </tr>\n",
       "  </tbody>\n",
       "</table>\n",
       "</div>"
      ],
      "text/plain": [
       "        Attribute      Coef  Odds_Ratios\n",
       "65      NDGMEMG_2  2.308552    10.059846\n",
       "4         DGRDG_3  1.490425     4.438980\n",
       "46  NDGMED_226395  1.307774     3.697933\n",
       "61  NDGMED_611995  1.243951     3.469293\n",
       "40    NBAMEMG_2.0  1.188855     3.283320"
      ]
     },
     "execution_count": 59,
     "metadata": {},
     "output_type": "execute_result"
    }
   ],
   "source": [
    "# Creating Data Frame with Features and Logistic Regression Coefficients\n",
    "coefs_lg = pd.concat([pd.DataFrame(X_train.columns), pd.DataFrame(np.transpose(clf.coef_))], axis=1)\n",
    "coefs_lg.columns = ['Attribute', 'Coef']\n",
    "# Calculating exponentiated coefficients for interpretation\n",
    "coefs_lg['Odds_Ratios'] = np.exp(coefs_lg['Coef'])\n",
    "print('\\nFeatures with the most impact on job field of biological, agricultural and other life sciences: ')\n",
    "coefs_lg.sort_values('Odds_Ratios', ascending=False).head(5)"
   ]
  },
  {
   "cell_type": "markdown",
   "metadata": {},
   "source": [
    "Logistic regression also conveniently tells us the features with most impact on being in the job field: related field of major of the highest degree and the doctorate degree. It seems that students majored in life science with a high level degree is most likely to stay in the same topic when going into the workforce. "
   ]
  },
  {
   "cell_type": "markdown",
   "metadata": {},
   "source": [
    "#### Job fields comparison"
   ]
  },
  {
   "cell_type": "markdown",
   "metadata": {},
   "source": [
    "Last, we run the same classification on all the job fields and compare the results. It could give us some insight in what fields are most likely to have predictable employee sources. This question is similar to, what fields of majors are more likely to stay in relevent field when entering the workforce? I choose random forest classification to do this job because it gave the best result in the previous salary level classification. Random forest works well with the size and number of features of this survey data set."
   ]
  },
  {
   "cell_type": "code",
   "execution_count": 60,
   "metadata": {
    "collapsed": true
   },
   "outputs": [],
   "source": [
    "# build a list contains the name of the work field. \n",
    "score_field_dic = ['Computer and mathematical scientists', 'Biological, agricultural and other life scientists',\n",
    "              'Physical and related scientists', 'Social and related scientists', \n",
    "              'Engineers', 'Science and engineering related occupations',\n",
    "               'Non-science and engineering occupations']"
   ]
  },
  {
   "cell_type": "code",
   "execution_count": 61,
   "metadata": {
    "collapsed": true
   },
   "outputs": [],
   "source": [
    "# define a function to binarize the target column\n",
    "\n",
    "def job_fd(ls, n):\n",
    "    new_s = np.empty(len(ls))\n",
    "    for i,s in enumerate(ls):\n",
    "        if s==n:\n",
    "            new_s[i] = 1\n",
    "        else:\n",
    "            new_s[i] = 0\n",
    "    return new_s\n",
    "\n",
    "rus = RandomUnderSampler(random_state=41)\n",
    "train_score=[]\n",
    "test_score=[]\n",
    "\n",
    "for i in range(7):\n",
    "    \n",
    "    rd = job_fd(df_employed_nod_sig['NOCPRMG'], i+1)\n",
    "    \n",
    "    # Identify variables\n",
    "    X = df_employed_nod_sig_3.drop('NOCPRMG', axis=1)\n",
    "    y = rd\n",
    "\n",
    "    # Splitting into train and test sets\n",
    "    X_train, X_test, y_train, y_test = train_test_split(X, y, test_size=0.7, random_state=41)\n",
    "\n",
    "    X_rus, y_rus = rus.fit_sample(X=X_train, y=y_train)\n",
    "    X_rus_test, y_rus_test = rus.fit_sample(X=X_test, y=y_test)\n",
    "\n",
    "    clf = RandomForestClassifier()\n",
    "    \n",
    "    param_grid = {\"n_estimators\": [30, 50, 75],\n",
    "              \"max_features\": [10, 30, 50],\n",
    "              \"max_depth\": [10, 100]\n",
    "              }\n",
    "\n",
    "    grid_rf = GridSearchCV(clf, param_grid=param_grid, cv=5)\n",
    "    grid_rf.fit(X_rus, y_rus)\n",
    "\n",
    "    best_params = grid_rf.best_params_\n",
    "\n",
    "    #initiate a instance for classifier\n",
    "    rf = RandomForestClassifier(**best_params)\n",
    "\n",
    "    # Fit the classifier to the training data\n",
    "    rf.fit(X_rus, y_rus)\n",
    "\n",
    "    # Predict the labels of the test data: y_pred\n",
    "    y_pred = rf.predict(X_rus_test)\n",
    "\n",
    "    scores_rf_train = cross_val_score(rf, X_rus, y_rus, cv=5)\n",
    "    train_score.append(scores_rf_train.mean())\n",
    "    \n",
    "    scores_rf_test = cross_val_score(rf, X_rus_test, y_rus_test, cv=5)\n",
    "    test_score.append(scores_rf_test.mean())\n",
    "  "
   ]
  },
  {
   "cell_type": "code",
   "execution_count": 62,
   "metadata": {},
   "outputs": [
    {
     "data": {
      "text/html": [
       "<div>\n",
       "<style>\n",
       "    .dataframe thead tr:only-child th {\n",
       "        text-align: right;\n",
       "    }\n",
       "\n",
       "    .dataframe thead th {\n",
       "        text-align: left;\n",
       "    }\n",
       "\n",
       "    .dataframe tbody tr th {\n",
       "        vertical-align: top;\n",
       "    }\n",
       "</style>\n",
       "<table border=\"1\" class=\"dataframe\">\n",
       "  <thead>\n",
       "    <tr style=\"text-align: right;\">\n",
       "      <th></th>\n",
       "      <th>Accuracy score on test</th>\n",
       "      <th>Accuracy score on train</th>\n",
       "      <th>Field of Work</th>\n",
       "    </tr>\n",
       "  </thead>\n",
       "  <tbody>\n",
       "    <tr>\n",
       "      <th>3</th>\n",
       "      <td>0.905192</td>\n",
       "      <td>0.908536</td>\n",
       "      <td>Social and related scientists</td>\n",
       "    </tr>\n",
       "    <tr>\n",
       "      <th>2</th>\n",
       "      <td>0.889970</td>\n",
       "      <td>0.887714</td>\n",
       "      <td>Physical and related scientists</td>\n",
       "    </tr>\n",
       "    <tr>\n",
       "      <th>4</th>\n",
       "      <td>0.876927</td>\n",
       "      <td>0.877528</td>\n",
       "      <td>Engineers</td>\n",
       "    </tr>\n",
       "    <tr>\n",
       "      <th>1</th>\n",
       "      <td>0.874682</td>\n",
       "      <td>0.870770</td>\n",
       "      <td>Biological, agricultural and other life scient...</td>\n",
       "    </tr>\n",
       "    <tr>\n",
       "      <th>0</th>\n",
       "      <td>0.798655</td>\n",
       "      <td>0.798375</td>\n",
       "      <td>Computer and mathematical scientists</td>\n",
       "    </tr>\n",
       "    <tr>\n",
       "      <th>5</th>\n",
       "      <td>0.745695</td>\n",
       "      <td>0.743108</td>\n",
       "      <td>Science and engineering related occupations</td>\n",
       "    </tr>\n",
       "    <tr>\n",
       "      <th>6</th>\n",
       "      <td>0.722159</td>\n",
       "      <td>0.720656</td>\n",
       "      <td>Non-science and engineering occupations</td>\n",
       "    </tr>\n",
       "  </tbody>\n",
       "</table>\n",
       "</div>"
      ],
      "text/plain": [
       "   Accuracy score on test  Accuracy score on train  \\\n",
       "3                0.905192                 0.908536   \n",
       "2                0.889970                 0.887714   \n",
       "4                0.876927                 0.877528   \n",
       "1                0.874682                 0.870770   \n",
       "0                0.798655                 0.798375   \n",
       "5                0.745695                 0.743108   \n",
       "6                0.722159                 0.720656   \n",
       "\n",
       "                                       Field of Work  \n",
       "3                      Social and related scientists  \n",
       "2                    Physical and related scientists  \n",
       "4                                          Engineers  \n",
       "1  Biological, agricultural and other life scient...  \n",
       "0               Computer and mathematical scientists  \n",
       "5        Science and engineering related occupations  \n",
       "6            Non-science and engineering occupations  "
      ]
     },
     "execution_count": 62,
     "metadata": {},
     "output_type": "execute_result"
    }
   ],
   "source": [
    "score_df = pd.DataFrame(\n",
    "    {'Field of Work': score_field_dic,\n",
    "     'Accuracy score on train': train_score,\n",
    "     'Accuracy score on test': test_score\n",
    "    })\n",
    "\n",
    "score_df.sort_values('Accuracy score on test', ascending=False)"
   ]
  },
  {
   "cell_type": "markdown",
   "metadata": {},
   "source": [
    "Wow, very good accuracy scores for several of the job fields:\n",
    "   1. The random forest classification model does a good job! It predicts the fields of work with accuracy score ranging from 0.72 to 0.91.\n",
    "   2. Social scientists, physical scientists and engineers are top 3 most predictable field of work in this survey. From the logistic regression coefficient results from the biogical and life scientists field, we could say the mojor field of the highest degree is the most important deciding factor in going into the related job fields. It looks like these top three fields of work have the most predictable human resources. Students majoring in these fields are more likely to enter related workforce. \n",
    "   3. Non-science and engineering occupations are least accurately predicted. My thought on this people majoring STEM could go to non STEM job fields for many reasons: change of interest, financial pressure, and career choices, to name a few. The occurance of these could be more random and less predictable than the rest of the job fields. It causes a lower accuracy score. \n",
    "    "
   ]
  },
  {
   "cell_type": "markdown",
   "metadata": {},
   "source": [
    "<a id='summary'></a>\n",
    "## Summary"
   ]
  },
  {
   "cell_type": "markdown",
   "metadata": {},
   "source": [
    "This women STEM project took a deep dive into the leading STEM survey data from Scientists and Engineers Statistical Data System (SESTAT). We put our focus on the gender gap in the unemployment rate, pay as well as principal job fields.  \n",
    "\n",
    "A few highlights from the exploratory data analysis:  \n",
    "- Women have been more active in the STEM job field over the years.  \n",
    "- There is an apparent gender unemployment gap and gender pay gap from this survey results.  \n",
    "- Despite the noticable gender gaps, both genders report similar job satisaction rate.  \n",
    "- The situation could be different for different principal job fields.  \n"
   ]
  },
  {
   "cell_type": "markdown",
   "metadata": {},
   "source": [
    "Several the exploratory data analysis results was put on statistical test. The disparity in employment rate, salary and job satisfaction between males and females all turned out to be statistically significant. **Gender DOES make a difference in STEM workforce.** The consistent statistical significance may come from the large sample number of the data set. Although some tests proven to be statistically significant does not mean it is practically significant. It is always a good idea to discuss the actual meaning of the test results and whether the effect needs to be addressed."
   ]
  },
  {
   "cell_type": "markdown",
   "metadata": {},
   "source": [
    "Next, I explored several classification models on the higher education SESTAT survey data. I prepared the target, numeric, and catagorical columns for the machine learning models. Statistical functions were used for feature selections. Then four classification models were picked to fit, cross validate and predict the salary level of the entries. I used accuracy scores and ROC curves to compare these methonds. It seems random forest classifier performed best. With the vital geographic location data missing (for privacy reasons), we still got accuracy scores as high as 0.82. \n",
    "\n",
    "In the last part of the project, the princpal job field was predicted. Which job field do you expect when you go to the workforce? The logistic regression coefficients help to understand the field of major is an important factor in anaswering the question. Each job field appeared was predicted with the pre-employment portion of the data. The classification models does a great job predicting the job field in general. The results find some fields are more accurately predicted than others. "
   ]
  },
  {
   "cell_type": "code",
   "execution_count": null,
   "metadata": {
    "collapsed": true
   },
   "outputs": [],
   "source": []
  }
 ],
 "metadata": {
  "kernelspec": {
   "display_name": "Python 3",
   "language": "python",
   "name": "python3"
  },
  "language_info": {
   "codemirror_mode": {
    "name": "ipython",
    "version": 3
   },
   "file_extension": ".py",
   "mimetype": "text/x-python",
   "name": "python",
   "nbconvert_exporter": "python",
   "pygments_lexer": "ipython3",
   "version": "3.6.1"
  }
 },
 "nbformat": 4,
 "nbformat_minor": 2
}
