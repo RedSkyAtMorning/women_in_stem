{
 "cells": [
  {
   "cell_type": "markdown",
   "metadata": {},
   "source": [
    "# Capstone Project 1 Proposal \n",
    "\n",
    "**Title:** A Guide for Female Students with a STEM Major\n",
    "\n",
    "**Problem:** STEM, which stands for science, technology, engineering and math produces many job opportunities in US. However, it is reported by U.S. Department of Commerce that women comprise 48 percent of the U.S. workforce but just 24 percent of STEM workers. This is means half as many women are working in STEM jobs. Why is this happening? What people majored in during higher education plays a very importatant role in the types of work force they enter after they graduate. So, does this mean less female students are majored in STEM topics as well? There might be many factors contributing to the unbalanced situation, including personal interst, cultures, and plainly not seeing of the job opportunity after graduation. In this project I am going to look into the job outcome perspective. I would like to find the facts about what types of jobs the females STEM students can get into, what kind of salaries would they expect to receive, and the possibility to optimize their job searching strategy.   \n",
    "\n",
    "**Who might care?** Career building website such as Linkedin.com and CareerBuilder.com could use this data analysis and model to send customized career suggestions to their users. I am hoping this project would give female STEM majors some insight about what they can expect, how to prepare themselves and where to start as they get ready to go into the work force. In addition, female high school students interested in STEM might use this information to help them choose a major that could possibly benefit them careerwise. \n",
    "\n",
    "**Questions to analyze?** \n",
    "What is the percentage of female students in STEM majors?  \n",
    "How many Female STEM major students graduate to land a job related to their majors?\n",
    "What is the average salary for female STEM students?\n",
    "What is the top/bottom 5 most paid jobs for women STEM Majors? \n",
    "How does the wage vary by gender/race?\n",
    "How do the answers to the above questions change for graduate students as opposed to undergraduate?\n",
    "Can we make a career suggestion for a particular female STEM student?\n",
    "\n",
    "\n",
    "**Data:** The survey data on scientist and engineers will be acquired from the IPUMPS-Higher ED  (https://highered.ipums.org/highered-action/variables/group). \n",
    "The variables I am choosing contains information about: gender, age, race, field of major for highest degree, labor force status, full/part-time status, Principal job related to highest degree, job code for principal job, and salaries. I will also choose these data from both year 2013 and 2003 to compare how things have changed during the years. \n",
    "\n",
    "**Approach to solving this problem:** \n",
    "The plan is to mainly use Python numpy and pandas package for data wrangling. The dataset will be cleaned to relavant variables and check for inconsistencies. \n",
    "\n",
    "Python's Scipy and pandas modules will be used to find statistic values and significance for this data set. Matplotlib and seaborn packages will largely implement the exploratory data analysis (EDA). Comparisons and correlations between variables can be analyzed and visualized. The preliminary questions should be answered after this stage.\n",
    "\n",
    "The application of statistical modeling and machine-learning will be tested with Python's scikit-learn module. It would be apealing for this project to be able to suggest a career move to a particular student. \n",
    "\n",
    "\n",
    "**Deliverables:** \n",
    "1. Python code on GitHub: \n",
    "    a. data wragling\n",
    "    b. data exploration analysis\n",
    "    c. machine learning model development\n",
    "2. Report on the capstone project"
   ]
  },
  {
   "cell_type": "code",
   "execution_count": null,
   "metadata": {
    "collapsed": true
   },
   "outputs": [],
   "source": []
  }
 ],
 "metadata": {
  "kernelspec": {
   "display_name": "Python 3",
   "language": "python",
   "name": "python3"
  },
  "language_info": {
   "codemirror_mode": {
    "name": "ipython",
    "version": 3
   },
   "file_extension": ".py",
   "mimetype": "text/x-python",
   "name": "python",
   "nbconvert_exporter": "python",
   "pygments_lexer": "ipython3",
   "version": "3.6.1"
  }
 },
 "nbformat": 4,
 "nbformat_minor": 2
}
