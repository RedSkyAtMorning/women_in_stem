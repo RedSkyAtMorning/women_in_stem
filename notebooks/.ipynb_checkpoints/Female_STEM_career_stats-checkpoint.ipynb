{
 "cells": [
  {
   "cell_type": "markdown",
   "metadata": {},
   "source": [
    "# Importing and Tidying the Data"
   ]
  },
  {
   "cell_type": "code",
   "execution_count": 45,
   "metadata": {
    "collapsed": true
   },
   "outputs": [],
   "source": [
    "# import stuff\n",
    "import numpy as np\n",
    "import pandas as pd"
   ]
  },
  {
   "cell_type": "code",
   "execution_count": 46,
   "metadata": {
    "collapsed": true
   },
   "outputs": [],
   "source": [
    "import matplotlib.pyplot as plt\n",
    "import seaborn as sns\n",
    "sns.set_style('whitegrid')\n",
    "sns.set_context(\"talk\")\n",
    "%matplotlib inline"
   ]
  },
  {
   "cell_type": "code",
   "execution_count": 47,
   "metadata": {
    "collapsed": true
   },
   "outputs": [],
   "source": [
    "from scipy import stats"
   ]
  },
  {
   "cell_type": "code",
   "execution_count": 48,
   "metadata": {
    "collapsed": true
   },
   "outputs": [],
   "source": [
    "#import the data from csv file with a series of NAN values \n",
    "df3 = pd.read_csv('./../data/highered_00004.csv', dtype={'REFID': str},na_values=[96, 99, 98, 9996, 9998 ,\n",
    "    9999, 999996, 999998, 999999, 9999998, 9999999] )"
   ]
  },
  {
   "cell_type": "code",
   "execution_count": 49,
   "metadata": {
    "collapsed": true
   },
   "outputs": [],
   "source": [
    "#'REFID' contains two data types and is repeated info from 'PERSONID'. Column dropped. \n",
    "df = df3.drop(['REFID'], axis=1)"
   ]
  },
  {
   "cell_type": "code",
   "execution_count": 50,
   "metadata": {
    "scrolled": true
   },
   "outputs": [
    {
     "name": "stdout",
     "output_type": "stream",
     "text": [
      "<class 'pandas.core.frame.DataFrame'>\n",
      "RangeIndex: 478747 entries, 0 to 478746\n",
      "Data columns (total 33 columns):\n",
      "PERSONID    478747 non-null int64\n",
      "YEAR        478747 non-null int64\n",
      "WEIGHT      478737 non-null float64\n",
      "SAMPLE      478747 non-null int64\n",
      "SURID       478747 non-null int64\n",
      "AGE         478747 non-null int64\n",
      "BIRYR       478747 non-null int64\n",
      "GENDER      478747 non-null int64\n",
      "MINRTY      478747 non-null int64\n",
      "RACETH      478747 non-null int64\n",
      "BTHUS       478747 non-null int64\n",
      "CTZUSIN     478747 non-null int64\n",
      "CTZUS       438777 non-null float64\n",
      "FNVS        20573 non-null float64\n",
      "CHTOT       219740 non-null float64\n",
      "BA03Y5      465491 non-null float64\n",
      "NBAMED      463945 non-null float64\n",
      "NBAMEMG     465494 non-null float64\n",
      "DGRDG       478747 non-null int64\n",
      "HD03Y5      478747 non-null int64\n",
      "NDGMED      478747 non-null int64\n",
      "NDGMEMG     478747 non-null int64\n",
      "LFSTAT      478747 non-null int64\n",
      "WRKG        478747 non-null int64\n",
      "HRSWKGR     407478 non-null float64\n",
      "WKSWKGR     407478 non-null float64\n",
      "LOOKWK      71269 non-null float64\n",
      "OCEDRLP     407478 non-null float64\n",
      "NOCPR       407478 non-null float64\n",
      "NOCPRMG     407478 non-null float64\n",
      "SALARY      407478 non-null float64\n",
      "CPI2009C    478747 non-null float64\n",
      "JOBSATIS    407478 non-null float64\n",
      "dtypes: float64(16), int64(17)\n",
      "memory usage: 120.5 MB\n"
     ]
    }
   ],
   "source": [
    "# explanation of the survey https://highered.ipums.org/highered/survey_designs.shtml\n",
    "\n",
    "# Respondents from each of these three surveys with science or engineering degrees                               ##\n",
    "# or occupations are compiled into one dataset: the SESTAT (the Scientists and Engineers Statistical Data System)##\n",
    "\n",
    "df.info(3)\n"
   ]
  },
  {
   "cell_type": "markdown",
   "metadata": {},
   "source": [
    "**Use string catagorical data to replace numerical data for easy understanding**"
   ]
  },
  {
   "cell_type": "code",
   "execution_count": 51,
   "metadata": {
    "collapsed": true
   },
   "outputs": [],
   "source": [
    "#change the minority column to string containing the actual value\n",
    "min_map = {0: 'Not minority', 1: 'Minority'}\n",
    "df['MNTRS'] = df['MINRTY'].map(min_map)"
   ]
  },
  {
   "cell_type": "code",
   "execution_count": 52,
   "metadata": {
    "collapsed": true
   },
   "outputs": [],
   "source": [
    "#change the gender column to string containing the actual 'female' or 'male' value\n",
    "gen_map = {1: 'Female', 2: 'Male'}\n",
    "df['GENDERS'] = df['GENDER'].map(gen_map)"
   ]
  },
  {
   "cell_type": "code",
   "execution_count": 53,
   "metadata": {
    "collapsed": true
   },
   "outputs": [],
   "source": [
    "major_map = {1: 'Computer/Maths Sciences', 2: 'Bio., Agr. and Env. sciences', 3: 'Physical Sciences', 4: 'Social Sciences', 5: 'Engineering', 6: 'Science and engineering-related fields', 7: 'Non-science and engineering fields' }\n",
    "df['MajorS'] = df['NDGMEMG'].map(major_map)"
   ]
  },
  {
   "cell_type": "code",
   "execution_count": 54,
   "metadata": {
    "collapsed": true
   },
   "outputs": [],
   "source": [
    "job_map = {1: 'Computer/Maths Sciences', 2: 'Bio., Agr. and Env. sciences', 3: 'Physical Sciences', 4: 'Social Sciences', 5: 'Engineering', 6: 'Science and engineering-related fields', 7: 'Non-science and engineering fields' }\n",
    "df['JobS'] = df['NOCPRMG'].map(job_map)"
   ]
  },
  {
   "cell_type": "code",
   "execution_count": 55,
   "metadata": {
    "collapsed": true
   },
   "outputs": [],
   "source": [
    "#change the race column to string containing the actual value\n",
    "race_map = {1: 'Asian', 2: 'White', 3: 'Other Minorities', 4: 'Other'}\n",
    "df['RACES'] = df['RACETH'].map(race_map)"
   ]
  },
  {
   "cell_type": "code",
   "execution_count": 77,
   "metadata": {},
   "outputs": [
    {
     "data": {
      "text/plain": [
       "GENDERS  LFSTAT\n",
       "Female   1         155630\n",
       "         3          25753\n",
       "         2           5380\n",
       "Male     1         251848\n",
       "         3          32653\n",
       "         2           7483\n",
       "Name: LFSTAT, dtype: int64"
      ]
     },
     "execution_count": 77,
     "metadata": {},
     "output_type": "execute_result"
    }
   ],
   "source": [
    "#how many people are employed for each gender?\n",
    "LF_map = {1: 'Employed', 2: 'Unemployed'}\n",
    "df['LFSTATS'] = df['LFSTAT'].map(LF_map)\n",
    "df['LFSTATS'].replace(3,np.NaN)\n",
    "df.groupby('GENDERS')['LFSTAT'].value_counts()"
   ]
  },
  {
   "cell_type": "code",
   "execution_count": 58,
   "metadata": {
    "collapsed": true
   },
   "outputs": [],
   "source": [
    "#change the birth in US column to string containing the actual value\n",
    "birth_map = {0: 'Not in the US', 1: 'Born in the US'}\n",
    "df['BUSS'] = df['BTHUS'].map(birth_map)"
   ]
  },
  {
   "cell_type": "code",
   "execution_count": 59,
   "metadata": {
    "collapsed": true
   },
   "outputs": [],
   "source": [
    "#how many people are satisfied with their jobs\n",
    "JS_map = {1: 'Satisfied', 2: 'Satisfied', 3: 'Dissatisfied', 4: 'Dissatisfied'}\n",
    "df['JobSatis'] = df['JOBSATIS'].map(JS_map)\n",
    "df_gender_satisfy = df.groupby('GENDERS')['JobSatis'].value_counts(normalize=True).unstack().reset_index()"
   ]
  },
  {
   "cell_type": "code",
   "execution_count": 60,
   "metadata": {
    "collapsed": true
   },
   "outputs": [],
   "source": [
    "#how many people are satisfied with their jobs\n",
    "JR_map = {1: 'Related', 2: 'Related', 3: 'Not Related'}\n",
    "df['JobR'] = df['OCEDRLP'].map(JR_map)"
   ]
  },
  {
   "cell_type": "markdown",
   "metadata": {},
   "source": [
    "**Drop unusable columns**"
   ]
  },
  {
   "cell_type": "code",
   "execution_count": 61,
   "metadata": {
    "collapsed": true
   },
   "outputs": [],
   "source": [
    "df = df.drop(['MINRTY','GENDER','RACETH','BTHUS','FNVS', 'CHTOT', 'CTZUS','NBAMEMG','NBAMED', 'BA03Y5'],axis=1)"
   ]
  },
  {
   "cell_type": "code",
   "execution_count": 62,
   "metadata": {
    "scrolled": true
   },
   "outputs": [
    {
     "name": "stdout",
     "output_type": "stream",
     "text": [
      "<class 'pandas.core.frame.DataFrame'>\n",
      "RangeIndex: 478747 entries, 0 to 478746\n",
      "Data columns (total 32 columns):\n",
      "PERSONID    478747 non-null int64\n",
      "YEAR        478747 non-null int64\n",
      "WEIGHT      478737 non-null float64\n",
      "SAMPLE      478747 non-null int64\n",
      "SURID       478747 non-null int64\n",
      "AGE         478747 non-null int64\n",
      "BIRYR       478747 non-null int64\n",
      "CTZUSIN     478747 non-null int64\n",
      "DGRDG       478747 non-null int64\n",
      "HD03Y5      478747 non-null int64\n",
      "NDGMED      478747 non-null int64\n",
      "NDGMEMG     478747 non-null int64\n",
      "LFSTAT      478747 non-null int64\n",
      "WRKG        478747 non-null int64\n",
      "HRSWKGR     407478 non-null float64\n",
      "WKSWKGR     407478 non-null float64\n",
      "LOOKWK      71269 non-null float64\n",
      "OCEDRLP     407478 non-null float64\n",
      "NOCPR       407478 non-null float64\n",
      "NOCPRMG     407478 non-null float64\n",
      "SALARY      407478 non-null float64\n",
      "CPI2009C    478747 non-null float64\n",
      "JOBSATIS    407478 non-null float64\n",
      "MNTRS       478747 non-null object\n",
      "GENDERS     478747 non-null object\n",
      "MajorS      478747 non-null object\n",
      "JobS        407478 non-null object\n",
      "RACES       478747 non-null object\n",
      "LFSTATS     420341 non-null object\n",
      "BUSS        478747 non-null object\n",
      "JobSatis    407478 non-null object\n",
      "JobR        407478 non-null object\n",
      "dtypes: float64(10), int64(13), object(9)\n",
      "memory usage: 116.9+ MB\n"
     ]
    }
   ],
   "source": [
    "df.info()"
   ]
  },
  {
   "cell_type": "markdown",
   "metadata": {},
   "source": [
    "** Make some branch data frames for easy manipulation **"
   ]
  },
  {
   "cell_type": "code",
   "execution_count": 79,
   "metadata": {
    "collapsed": true
   },
   "outputs": [],
   "source": [
    "#a data frame for graduates only \n",
    "df_SDR = df[(df['SAMPLE']==602) |(df['SAMPLE']==602) | (df['SAMPLE']==1002)]\n",
    "df_graduate = df[(df['DGRDG'] == 2) | (df['DGRDG'] == 3) | (df['DGRDG'] == 4)]\n",
    "df_dr = df[(df['DGRDG'] == 3) ]\n",
    "df_prof = df[(df['DGRDG'] == 4) ]"
   ]
  },
  {
   "cell_type": "code",
   "execution_count": 80,
   "metadata": {
    "collapsed": true
   },
   "outputs": [],
   "source": [
    "#a data frame for undergraduates only \n",
    "df_CR = df[(df['SAMPLE']==601) | (df['SAMPLE']==603) | (df['SAMPLE']==1001)]\n",
    "df_undergraduate = df[(df['DGRDG'] == 1)]"
   ]
  },
  {
   "cell_type": "code",
   "execution_count": 81,
   "metadata": {
    "collapsed": true
   },
   "outputs": [],
   "source": [
    "df_2003 = df[df['YEAR']==2003]"
   ]
  },
  {
   "cell_type": "code",
   "execution_count": 82,
   "metadata": {
    "collapsed": true
   },
   "outputs": [],
   "source": [
    "df_2013 = df[df['YEAR']==2013]"
   ]
  },
  {
   "cell_type": "code",
   "execution_count": 83,
   "metadata": {},
   "outputs": [
    {
     "data": {
      "text/plain": [
       "140101050907080503    1\n",
       "140101070507070602    1\n",
       "140101000808040400    1\n",
       "130009030407090700    1\n",
       "140101060906070005    1\n",
       "Name: PERSONID, dtype: int64"
      ]
     },
     "execution_count": 83,
     "metadata": {},
     "output_type": "execute_result"
    }
   ],
   "source": [
    "df_2013['PERSONID'].value_counts().head()"
   ]
  },
  {
   "cell_type": "markdown",
   "metadata": {},
   "source": [
    "## What is the unemployment rate for each gender from the STEM community?##\n",
    "The bar plot below shows the employment rate in the STEM community for the female and male groups. To keep consistent, the unemployed data does not take into account people not in the labor force. It indicates the unemployment rate for all is between 2-5% with around 1% higher rate for women than men. \n",
    "\n",
    "The unemployment rate here is about 50% less compared with the data from Bureau of Labor Statistics (https://data.bls.gov/pdq/SurveyOutputServlet). This might come from the survey bias. It could also mean the unemployment rate is lower in the STEM community compared with general population in US. "
   ]
  },
  {
   "cell_type": "code",
   "execution_count": 96,
   "metadata": {
    "scrolled": true
   },
   "outputs": [],
   "source": [
    "df_gender_employ = df.groupby(['YEAR','GENDERS'])['LFSTATS'].value_counts(normalize=True).unstack().reset_index()"
   ]
  },
  {
   "cell_type": "code",
   "execution_count": 97,
   "metadata": {
    "scrolled": true
   },
   "outputs": [
    {
     "data": {
      "image/png": "[encoded data removed]",
      "text/plain": [
       "<matplotlib.figure.Figure at 0x121778630>"
      ]
     },
     "metadata": {},
     "output_type": "display_data"
    }
   ],
   "source": [
    "#count plot of employed and unemployed entries for genders.\n",
    "sns.barplot(x='YEAR', y='Unemployed', hue='GENDERS', data = df_gender_employ, palette=\"muted\")\n",
    "plt.xlabel('GENDER')\n",
    "plt.ylim([0,0.1])\n",
    "plt.ylabel('Umemployment Rate')\n",
    "sns.despine()"
   ]
  },
  {
   "cell_type": "markdown",
   "metadata": {},
   "source": [
    "## Is this result statistically significant? ##\n",
    "\n",
    "<p>This is a problem with two categorical columns. It would involve a $\\chi ^2$ test to find whether the result is statistically significant.</p>\n",
    "\n",
    "First we define the null hypothesis: \n",
    "$$H_0: p_m = p_f$$ \n",
    "And the alternative hypothesis:\n",
    "$$H_0: p_m \\neq p_f$$\n",
    "\n",
    "Use the chi2 modual from the scipi package, the p-value is ealiy found. \n"
   ]
  },
  {
   "cell_type": "code",
   "execution_count": 98,
   "metadata": {},
   "outputs": [
    {
     "name": "stdout",
     "output_type": "stream",
     "text": [
      "Chi-squared test statistic: 69.44698387052611\n",
      "p-value: 7.849633922911248e-17\n"
     ]
    }
   ],
   "source": [
    "cont_table = pd.crosstab(index=df.GENDERS, columns=df.LFSTATS)\n",
    "chi2, pval, _, _ = stats.chi2_contingency(cont_table)\n",
    "print(\"Chi-squared test statistic: {}\".format(chi2))\n",
    "print(\"p-value: {}\".format(pval))"
   ]
  },
  {
   "cell_type": "markdown",
   "metadata": {},
   "source": [
    "The above results shows the p-value is practically zero. \n",
    "$$p < \\alpha $$ \n",
    "The null hypothesis is rejected in this case. \n",
    "#### There is a statistical significance in the difference of unemployment rate for men and women. "
   ]
  },
  {
   "cell_type": "markdown",
   "metadata": {},
   "source": [
    "### A closer look at the unemployment rate ###\n",
    "\n",
    "We have already known that the female umemployment is higher than that of male. Now we take a closer look into the data, in specific, the undergraduate and graduate group data.\n"
   ]
  },
  {
   "cell_type": "code",
   "execution_count": 105,
   "metadata": {},
   "outputs": [
    {
     "name": "stderr",
     "output_type": "stream",
     "text": [
      "/anaconda/lib/python3.6/site-packages/ipykernel_launcher.py:4: SettingWithCopyWarning: \n",
      "A value is trying to be set on a copy of a slice from a DataFrame.\n",
      "Try using .loc[row_indexer,col_indexer] = value instead\n",
      "\n",
      "See the caveats in the documentation: http://pandas.pydata.org/pandas-docs/stable/indexing.html#indexing-view-versus-copy\n",
      "  after removing the cwd from sys.path.\n",
      "/anaconda/lib/python3.6/site-packages/ipykernel_launcher.py:8: SettingWithCopyWarning: \n",
      "A value is trying to be set on a copy of a slice from a DataFrame.\n",
      "Try using .loc[row_indexer,col_indexer] = value instead\n",
      "\n",
      "See the caveats in the documentation: http://pandas.pydata.org/pandas-docs/stable/indexing.html#indexing-view-versus-copy\n",
      "  \n",
      "/anaconda/lib/python3.6/site-packages/ipykernel_launcher.py:12: SettingWithCopyWarning: \n",
      "A value is trying to be set on a copy of a slice from a DataFrame.\n",
      "Try using .loc[row_indexer,col_indexer] = value instead\n",
      "\n",
      "See the caveats in the documentation: http://pandas.pydata.org/pandas-docs/stable/indexing.html#indexing-view-versus-copy\n",
      "  if sys.path[0] == '':\n"
     ]
    },
    {
     "data": {
      "text/html": [
       "<div>\n",
       "<style>\n",
       "    .dataframe thead tr:only-child th {\n",
       "        text-align: right;\n",
       "    }\n",
       "\n",
       "    .dataframe thead th {\n",
       "        text-align: left;\n",
       "    }\n",
       "\n",
       "    .dataframe tbody tr th {\n",
       "        vertical-align: top;\n",
       "    }\n",
       "</style>\n",
       "<table border=\"1\" class=\"dataframe\">\n",
       "  <thead>\n",
       "    <tr style=\"text-align: right;\">\n",
       "      <th></th>\n",
       "      <th>GENDERS</th>\n",
       "      <th>LFSTATS</th>\n",
       "      <th>value</th>\n",
       "      <th>Degree</th>\n",
       "    </tr>\n",
       "  </thead>\n",
       "  <tbody>\n",
       "    <tr>\n",
       "      <th>2</th>\n",
       "      <td>Female</td>\n",
       "      <td>Unemployed</td>\n",
       "      <td>0.042449</td>\n",
       "      <td>Undergraduate</td>\n",
       "    </tr>\n",
       "    <tr>\n",
       "      <th>3</th>\n",
       "      <td>Male</td>\n",
       "      <td>Unemployed</td>\n",
       "      <td>0.037846</td>\n",
       "      <td>Undergraduate</td>\n",
       "    </tr>\n",
       "    <tr>\n",
       "      <th>2</th>\n",
       "      <td>Female</td>\n",
       "      <td>Unemployed</td>\n",
       "      <td>0.028509</td>\n",
       "      <td>Graduate</td>\n",
       "    </tr>\n",
       "    <tr>\n",
       "      <th>3</th>\n",
       "      <td>Male</td>\n",
       "      <td>Unemployed</td>\n",
       "      <td>0.023740</td>\n",
       "      <td>Graduate</td>\n",
       "    </tr>\n",
       "    <tr>\n",
       "      <th>2</th>\n",
       "      <td>Female</td>\n",
       "      <td>Unemployed</td>\n",
       "      <td>0.022388</td>\n",
       "      <td>Doctorate</td>\n",
       "    </tr>\n",
       "    <tr>\n",
       "      <th>3</th>\n",
       "      <td>Male</td>\n",
       "      <td>Unemployed</td>\n",
       "      <td>0.019216</td>\n",
       "      <td>Doctorate</td>\n",
       "    </tr>\n",
       "  </tbody>\n",
       "</table>\n",
       "</div>"
      ],
      "text/plain": [
       "  GENDERS     LFSTATS     value         Degree\n",
       "2  Female  Unemployed  0.042449  Undergraduate\n",
       "3    Male  Unemployed  0.037846  Undergraduate\n",
       "2  Female  Unemployed  0.028509       Graduate\n",
       "3    Male  Unemployed  0.023740       Graduate\n",
       "2  Female  Unemployed  0.022388      Doctorate\n",
       "3    Male  Unemployed  0.019216      Doctorate"
      ]
     },
     "execution_count": 105,
     "metadata": {},
     "output_type": "execute_result"
    }
   ],
   "source": [
    "employ_ug = df_undergraduate.groupby('GENDERS')['LFSTATS'].value_counts(normalize=True).unstack()\n",
    "employ_ug_melt = pd.melt(employ_ug.reset_index(), id_vars ='GENDERS')\n",
    "employed_ug_melt_e = employ_ug_melt[employ_ug_melt['LFSTATS']=='Unemployed']\n",
    "employed_ug_melt_e['Degree'] = 'Undergraduate'\n",
    "employ_gr = df_graduate.groupby('GENDERS')['LFSTATS'].value_counts(normalize=True).unstack()\n",
    "employ_gr_melt = pd.melt(employ_gr.reset_index(), id_vars ='GENDERS')\n",
    "employed_gr_melt_e = employ_gr_melt[employ_gr_melt['LFSTATS']=='Unemployed']\n",
    "employed_gr_melt_e['Degree'] = 'Graduate'\n",
    "employ_dr = df_dr.groupby('GENDERS')['LFSTATS'].value_counts(normalize=True).unstack()\n",
    "employ_dr_melt = pd.melt(employ_dr.reset_index(), id_vars ='GENDERS')\n",
    "employed_dr_melt_e = employ_dr_melt[employ_dr_melt['LFSTATS']=='Unemployed']\n",
    "employed_dr_melt_e['Degree'] = 'Doctorate'\n",
    "employed_new = pd.concat([employed_ug_melt_e,employed_gr_melt_e,employed_dr_melt_e])\n",
    "employed_new"
   ]
  },
  {
   "cell_type": "code",
   "execution_count": 111,
   "metadata": {
    "scrolled": true
   },
   "outputs": [
    {
     "data": {
      "text/plain": [
       "<matplotlib.text.Text at 0x11dd7d978>"
      ]
     },
     "execution_count": 111,
     "metadata": {},
     "output_type": "execute_result"
    },
    {
     "data": {
      "image/png": "[encoded data removed]",
      "text/plain": [
       "<matplotlib.figure.Figure at 0x11ed663c8>"
      ]
     },
     "metadata": {},
     "output_type": "display_data"
    }
   ],
   "source": [
    "plt.figure(figsize=(8,4.5))\n",
    "sns.stripplot(x='Degree', y='value', data=employed_new, hue='GENDERS', size =20, palette=\"muted\")\n",
    "plt.legend(bbox_to_anchor=(1.05, 1), loc=2, borderaxespad=0.)\n",
    "sns.despine()\n",
    "plt.tight_layout()\n",
    "plt.ylim([0.01,0.05])\n",
    "plt.ylabel('Umemployment Rate')"
   ]
  },
  {
   "cell_type": "markdown",
   "metadata": {},
   "source": [
    "#### Observations:####\n",
    "The dot plot shows the umemployment rate for both female and male in the undergraduate and graduate groups. The trend we see is that the higher the degree is, the lower the unemployment rate is. \n",
    "\n",
    "It is clear that the undergraduate group has a 1% unemployment rate difference in men and women. And the disparity stays about the same for the  graduate group. \n",
    "\n",
    "The last dot plot shows the unemployment rate for the doctorate group. In this case, the umemployment rate gap shrinks! Can we consider this to be an effective career advice for female students? "
   ]
  },
  {
   "cell_type": "code",
   "execution_count": 107,
   "metadata": {},
   "outputs": [
    {
     "name": "stdout",
     "output_type": "stream",
     "text": [
      "Chi-squared test statistic: 16.537928009470612\n",
      "p-value: 4.7686603237829064e-05\n"
     ]
    }
   ],
   "source": [
    "cont_table = pd.crosstab(index=df_dr.GENDERS, columns=df_dr.LFSTATS)\n",
    "chi2, pval, _, _ = stats.chi2_contingency(cont_table)\n",
    "print(\"Chi-squared test statistic: {}\".format(chi2))\n",
    "print(\"p-value: {}\".format(pval))"
   ]
  },
  {
   "cell_type": "markdown",
   "metadata": {},
   "source": [
    "## Is the difference statistically significant?\n",
    "Above is a $\\chi ^2$ test for the doctorate education level employment rate for males and females. In this hypothesis test, the null hypothesis is defined as: female and male has the same employment rate. \n",
    "Again, the p-value is found to be much smaller than significance level. This is the evidence for rejecting the null hypothesis. \n",
    "\n",
    "#### The alternative hypothesis here is accepted: there is a statistical significance in the employment rate for the doctorate level educated men and women. \n",
    "\n",
    "#### However, the merely 0.5% difference in the actual unemployment rate might not make a practical significance. "
   ]
  },
  {
   "cell_type": "markdown",
   "metadata": {},
   "source": [
    "## What is the compensation distribution for each gender from the STEM community?##\n",
    "\n",
    "The violin plot below shows the salary in the STEM community for the female and male groups between year 2003 and 2013. Note that the salary is capped at $150,000 thus the could shaped cluster at the top of each violin. \n"
   ]
  },
  {
   "cell_type": "code",
   "execution_count": 29,
   "metadata": {
    "scrolled": true
   },
   "outputs": [
    {
     "data": {
      "text/plain": [
       "<matplotlib.legend.Legend at 0x11b985c50>"
      ]
     },
     "execution_count": 29,
     "metadata": {},
     "output_type": "execute_result"
    },
    {
     "data": {
      "image/png": "[encoded data removed]",
      "text/plain": [
       "<matplotlib.figure.Figure at 0x117ae7b00>"
      ]
     },
     "metadata": {},
     "output_type": "display_data"
    }
   ],
   "source": [
    "#bar plot of gender and salary \n",
    "plt.figure(figsize=[8,5])\n",
    "sns.boxplot(data=df, y = 'SALARY', x = 'YEAR', hue = 'GENDERS', palette=\"muted\")\n",
    "sns.despine()\n",
    "plt.legend(bbox_to_anchor=(1.05, 1), loc=2, borderaxespad=0.)"
   ]
  },
  {
   "cell_type": "code",
   "execution_count": 32,
   "metadata": {},
   "outputs": [
    {
     "data": {
      "text/plain": [
       "0.24860750807863138"
      ]
     },
     "execution_count": 32,
     "metadata": {},
     "output_type": "execute_result"
    }
   ],
   "source": [
    "m_2013=df_2013[df_2013['GENDERS']=='Male']['SALARY'].mean()\n",
    "f_2013=df_2013[df_2013['GENDERS']=='Female']['SALARY'].mean()\n",
    "(m_2013-f_2013)/m_2013"
   ]
  },
  {
   "cell_type": "markdown",
   "metadata": {},
   "source": [
    "#### Several things we see: ####\n",
    "1. The median, and the quatiles wages for men is about 30\\% higher than women, for all years.\n",
    "2. There is NO shrinking trend in the gender discrepancies in recent years. \n",
    "3. The mean wages increased from year 2003 to 2008. Then we see a small decrease from 2008 to 2013. This makes sense considering the financial crisis in 2008. It is intersting to see the magnitude and how long it has been affecting the job market. \n",
    "\n",
    "In the analysis below we take a closer look at the salaries over the years, with different highest degree groups for STEMers. "
   ]
  },
  {
   "cell_type": "markdown",
   "metadata": {},
   "source": [
    "## Is the result statistically significant? ##\n",
    "\n",
    "We first look into the salary gap between men and women in full data.\n",
    "\n",
    "Define null hypothesis as men and women report the same average salary over the years:\n",
    "$$s_m = s_f$$\n",
    "Alternative hypothesis:\n",
    "$$s_m \\neq s_f$$\n",
    "\n",
    "Now it's time for the two sample t test for the difference of means:\n"
   ]
  },
  {
   "cell_type": "code",
   "execution_count": 29,
   "metadata": {},
   "outputs": [
    {
     "name": "stdout",
     "output_type": "stream",
     "text": [
      "The mean salary for men is 32.38 % higher than that of women.\n"
     ]
    },
    {
     "data": {
      "text/plain": [
       "Ttest_indResult(statistic=172.80152812858356, pvalue=0.0)"
      ]
     },
     "execution_count": 29,
     "metadata": {},
     "output_type": "execute_result"
    }
   ],
   "source": [
    "salary_m = df[df['GENDERS']=='Male']['SALARY']\n",
    "salary_f = df[df['GENDERS']=='Female']['SALARY']\n",
    "diff_perc_s = (np.mean(salary_m)-np.mean(salary_f))/np.mean(salary_f)\n",
    "print('The mean salary for men is {0:.2f} % higher than that of women.'.format(round(diff_perc_s*100,2)))\n",
    "stats.ttest_ind(salary_m.dropna(), salary_f.dropna(),  equal_var = False)"
   ]
  },
  {
   "cell_type": "markdown",
   "metadata": {},
   "source": [
    "It's found that pvalue is practically zero. The null hypothesis is rejected. \n",
    "\n",
    "#### There is a significant difference in the average pay between men and women.####\n",
    "\n",
    "The difference of means, also calculated above, is 32%. We say this is not only statistically significant, but also practically significant!\n",
    "\n"
   ]
  },
  {
   "cell_type": "markdown",
   "metadata": {},
   "source": [
    "## If an observation is from a minority group or not makes a difference in salary?##\n",
    "\n",
    "The answer is YES. According to the survey data, a self-reported caucasion individual makes 15% more money in average than a minority individual. That is a decent difference! "
   ]
  },
  {
   "cell_type": "code",
   "execution_count": 30,
   "metadata": {
    "scrolled": true
   },
   "outputs": [
    {
     "data": {
      "text/plain": [
       "<matplotlib.axes._subplots.AxesSubplot at 0x119880860>"
      ]
     },
     "execution_count": 30,
     "metadata": {},
     "output_type": "execute_result"
    },
    {
     "data": {
      "image/png": "[encoded data removed]",
      "text/plain": [
       "<matplotlib.figure.Figure at 0x114250ef0>"
      ]
     },
     "metadata": {},
     "output_type": "display_data"
    }
   ],
   "source": [
    "#Compare and visualize the minority factor\n",
    "sns.barplot(data=df, y = 'SALARY', x = 'MNTRS', palette=\"Set2\" )"
   ]
  },
  {
   "cell_type": "markdown",
   "metadata": {},
   "source": [
    "### Now checking if this is statistically sound:\n",
    "Null hypothesis:\n",
    "$$ s_{notmin} = s_{min} $$\n",
    "Two sample t test for difference of means:"
   ]
  },
  {
   "cell_type": "code",
   "execution_count": 31,
   "metadata": {},
   "outputs": [
    {
     "name": "stdout",
     "output_type": "stream",
     "text": [
      "The mean salary for not minorities is 15.29 % higher than that of minorities.\n"
     ]
    },
    {
     "data": {
      "text/plain": [
       "Ttest_indResult(statistic=68.622301946918981, pvalue=0.0)"
      ]
     },
     "execution_count": 31,
     "metadata": {},
     "output_type": "execute_result"
    }
   ],
   "source": [
    "salary_notmin = df[df['MNTRS']=='Not minority']['SALARY']\n",
    "salary_min = df[df['MNTRS']=='Minority']['SALARY']\n",
    "diff_perc_s = (np.mean(salary_notmin)-np.mean(salary_min))/np.mean(salary_min)\n",
    "print('The mean salary for not minorities is {0:.2f} % higher than that of minorities.'.format(round(diff_perc_s*100,2)))\n",
    "stats.ttest_ind(salary_notmin.dropna(), salary_min.dropna(),  equal_var = False)"
   ]
  },
  {
   "cell_type": "markdown",
   "metadata": {},
   "source": [
    "The results above give the p value for the two sample t test is zero. It is smaller than the significance level and the null hypothesis is rejected. \n",
    "\n",
    "#### The pay disparity between these two groups is statistically significant!####\n"
   ]
  },
  {
   "cell_type": "markdown",
   "metadata": {},
   "source": [
    "## What is unemployment rate of the female STEMers in different field of majors?##\n",
    "\n",
    "The dot plot shows the female unemployment rate for field of major groups in 2003 and 2013. \n",
    "Things worth noticing:\n",
    "1. The unemployment rate for non-science and engineering fields major remained lowest both years. A closer look reveals this group contains job title such as 'Management' and 'Administration'. \n",
    "2. There is a significant decrease in the unemployment rate for the female engineering group (from 5% to 3%). \n",
    "3. The unemployment rate of another group who saw an decrease from 2003 to 2013 is computer/maths sciences and physical science. All the other group either remained a similar or received a higher unemployment rate.\n"
   ]
  },
  {
   "cell_type": "code",
   "execution_count": 112,
   "metadata": {
    "collapsed": true
   },
   "outputs": [],
   "source": [
    "employ_female_2003 = df_2003[df_2003['GENDERS']=='Female'].groupby('MajorS')['LFSTATS'].value_counts(normalize=True).unstack().reset_index()"
   ]
  },
  {
   "cell_type": "code",
   "execution_count": 113,
   "metadata": {
    "collapsed": true
   },
   "outputs": [],
   "source": [
    "employ_female_2013 = df_2013[df_2013['GENDERS']=='Female'].groupby('MajorS')['LFSTATS'].value_counts(normalize=True).unstack().reset_index()"
   ]
  },
  {
   "cell_type": "code",
   "execution_count": 116,
   "metadata": {},
   "outputs": [
    {
     "data": {
      "image/png": "[encoded data removed]",
      "text/plain": [
       "<matplotlib.figure.Figure at 0x11e838940>"
      ]
     },
     "metadata": {},
     "output_type": "display_data"
    }
   ],
   "source": [
    "fig, axs = plt.subplots(figsize=(10,5))\n",
    "field_order = ['Computer/Maths Sciences', 'Bio., Agr. and Env. sciences', 'Physical Sciences', 'Social Sciences', 'Engineering', 'Science and engineering-related fields', 'Non-science and engineering fields']\n",
    "#Compare and plot the employment percentage for male and female college graduates\n",
    "sns.set_color_codes(\"pastel\")\n",
    "sns.barplot( x=\"Unemployed\",y=\"MajorS\", order = field_order, alpha=0.5, data=employ_female_2003, color='blue', label='2003')\n",
    "\n",
    "\n",
    "#Compare and plot the employment percentage for male and female doctor graduates\n",
    "sns.set_color_codes(\"pastel\")\n",
    "sns.barplot(x=\"Unemployed\", y=\"MajorS\", order = field_order, alpha=0.5, data=employ_female_2013, color='red', label='2013')\n",
    "axs.set(xlim=(0, 0.05), ylabel=\"Major\",\n",
    "       xlabel=\"Unemployment Rate\")\n",
    "sns.despine()\n",
    "axs.legend(bbox_to_anchor=(1.05, 1), loc=2, borderaxespad=0., frameon=True)\n",
    "plt.tight_layout()"
   ]
  },
  {
   "cell_type": "markdown",
   "metadata": {},
   "source": [
    "We mentioned above the unemployment rate of engineering major has increased from 2003 to 2013, unlike most of other majors. Now let us investigate this in a statistically scientific way. \n",
    "\n",
    "The null hypothesis is defined as: the unemployment rate for engineering majored females stays the same in 2013 as in 2003. \n",
    "$$e_{2003} = e_{2013}$$\n",
    "\n",
    "Use the two sample t test:"
   ]
  },
  {
   "cell_type": "code",
   "execution_count": 117,
   "metadata": {},
   "outputs": [
    {
     "name": "stdout",
     "output_type": "stream",
     "text": [
      "Chi-squared test statistic: 31.787169397925545\n",
      "p-value: 2.1145875998842546e-06\n"
     ]
    }
   ],
   "source": [
    "employ_f_engineer_YEAR = df[(df['GENDERS']=='Female') & (df['MajorS']=='Engineering')]['YEAR']\n",
    "employ_f_engineer_LFSTATS = df[(df['GENDERS']=='Female') & (df['MajorS']=='Engineering')]['LFSTATS']\n",
    "\n",
    "cont_table = pd.crosstab(index=employ_f_engineer_YEAR, columns=employ_f_engineer_LFSTATS)\n",
    "chi2, pval, _, _ = stats.chi2_contingency(cont_table)\n",
    "\n",
    "print(\"Chi-squared test statistic: {}\".format(chi2))\n",
    "print(\"p-value: {}\".format(pval))"
   ]
  },
  {
   "cell_type": "markdown",
   "metadata": {},
   "source": [
    "The p-value is well below the significance level 0.01. The null hypothesis is rejected. \n",
    "#### The conclusion here is the decrease in female enginnering unemployment rate from 2003 to 2013 is statistically significant! ####"
   ]
  },
  {
   "cell_type": "markdown",
   "metadata": {},
   "source": [
    "## Are there differences in job satisfaction between genders? ## \n",
    " "
   ]
  },
  {
   "cell_type": "code",
   "execution_count": 118,
   "metadata": {
    "scrolled": true
   },
   "outputs": [
    {
     "data": {
      "image/png": "[encoded data removed]",
      "text/plain": [
       "<matplotlib.figure.Figure at 0x119e539e8>"
      ]
     },
     "metadata": {},
     "output_type": "display_data"
    }
   ],
   "source": [
    "#how many people are satisfied with their jobs\n",
    "df_graduate_satisfy = df.groupby('GENDERS')['JobSatis'].value_counts(normalize=True).unstack().reset_index()\n",
    "sns.barplot(x='GENDERS', y='Satisfied', data=df_graduate_satisfy)\n",
    "plt.ylim([0,1])\n",
    "plt.ylabel('Job Satisfaction Rate')\n",
    "sns.despine()"
   ]
  },
  {
   "cell_type": "markdown",
   "metadata": {},
   "source": [
    "#### The above plot shows both men and women have a high (about 90%) job satisfaction rate in STEM. \n",
    "\n",
    "#### The difference bewteen the genders is small. \n",
    "\n",
    "## Is the there a statistically significant difference?\n",
    "\n",
    "The null hypothesis here: the job statisfaction rate remains the same for male and female employees in the STEM field. \n",
    "$$js_m = js_f$$"
   ]
  },
  {
   "cell_type": "code",
   "execution_count": 120,
   "metadata": {},
   "outputs": [
    {
     "name": "stdout",
     "output_type": "stream",
     "text": [
      "JobSatis  Dissatisfied  Satisfied\n",
      "GENDERS                          \n",
      "Female        0.098798   0.901202\n",
      "Male          0.089292   0.910708\n",
      "Chi-squared test statistic: 103.0209000980635\n",
      "p-value: 3.3163113124478954e-24\n"
     ]
    }
   ],
   "source": [
    "df_satis = df[pd.notnull(df['JobSatis'])]\n",
    "cont_table = pd.crosstab(index=df_satis.GENDERS, columns=df_satis.JobSatis, normalize='index')\n",
    "print(cont_table)\n",
    "cont_table2 = pd.crosstab(index=df_satis.GENDERS, columns=df_satis.JobSatis)\n",
    "chi2, pval, _, _ = stats.chi2_contingency(cont_table2)\n",
    "print(\"Chi-squared test statistic: {}\".format(chi2))\n",
    "print(\"p-value: {}\".format(pval))"
   ]
  },
  {
   "cell_type": "markdown",
   "metadata": {},
   "source": [
    "We find the p-value so small that the null hypothesis is easily rejected. The story once again points at the alternative hypothesis.\n",
    "#### The  difference of the job satisfaction between men and women STEMers is statistically significant. \n",
    "\n",
    "However, we see both from the bar plot and the calculation, the difference is merely 1%. Does this statistically sound disparity really mean anything in the real world? Should we make any executive decisions or suggestions based on this data analysis? My answer to this is not really. The difference is so small that we can not say either gender is actually happier with their jobs than the other gender group. \n",
    "\n",
    "#### The  difference of the job satisfaction between men and women STEMers is not practically significant. "
   ]
  },
  {
   "cell_type": "markdown",
   "metadata": {},
   "source": [
    "# Summary\n",
    "\n",
    "In this report, I did statistical study in many aspects of the exploratory data analysis on the STEM higher education data set. The disparity in employment rate, salary and job satisfaction between males and females all turned out to be statistically significant. Several other statistical tests in  minority gaps, chronological changes and etc. also gave very small p value and rejected the null hypothesis. \n",
    "\n",
    "The consistent statistical significance may come from the large sample number of the data set (?). Although one test proven to be statistically significant does not mean it is practically significant. It is always a good idea to discuss the actual meaning of the test results and whether the effect needs to be addressed.   \n",
    "\n"
   ]
  },
  {
   "cell_type": "code",
   "execution_count": null,
   "metadata": {
    "collapsed": true
   },
   "outputs": [],
   "source": []
  }
 ],
 "metadata": {
  "kernelspec": {
   "display_name": "Python 3",
   "language": "python",
   "name": "python3"
  },
  "language_info": {
   "codemirror_mode": {
    "name": "ipython",
    "version": 3
   },
   "file_extension": ".py",
   "mimetype": "text/x-python",
   "name": "python",
   "nbconvert_exporter": "python",
   "pygments_lexer": "ipython3",
   "version": "3.6.1"
  }
 },
 "nbformat": 4,
 "nbformat_minor": 2
}
