{
 "cells": [
  {
   "cell_type": "markdown",
   "metadata": {},
   "source": [
    "# Importing and Tidying the Data"
   ]
  },
  {
   "cell_type": "code",
   "execution_count": 1,
   "metadata": {
    "collapsed": true
   },
   "outputs": [],
   "source": [
    "# import stuff\n",
    "import numpy as np\n",
    "import pandas as pd"
   ]
  },
  {
   "cell_type": "code",
   "execution_count": 2,
   "metadata": {
    "collapsed": true
   },
   "outputs": [],
   "source": [
    "import matplotlib.pyplot as plt\n",
    "import seaborn as sns\n",
    "sns.set_style('whitegrid')\n",
    "sns.set_context(\"talk\")\n",
    "%matplotlib inline"
   ]
  },
  {
   "cell_type": "code",
   "execution_count": 3,
   "metadata": {
    "collapsed": true
   },
   "outputs": [],
   "source": [
    "#import the data from csv file with a series of NAN values \n",
    "df1 = pd.read_csv('./../data/highered_00004.csv', dtype={'REFID': str},na_values=[96, 99, 98, 9996, 9998 ,\n",
    "    9999, 999996, 999998, 999999, 9999998, 9999999] )\n",
    "df1 = df1.drop(['REFID'], axis=1)\n",
    "df2 = pd.read_csv('./../data/highered_00007.csv', dtype={'REFID': str},na_values=[96, 99, 98, 9996, 9998 ,\n",
    "    9999, 999996, 999998, 999999, 9999998, 9999999] )\n",
    "df = df1.merge(df2,  on=['PERSONID', 'YEAR', 'WEIGHT', 'SAMPLE', 'SURID'])"
   ]
  },
  {
   "cell_type": "code",
   "execution_count": 4,
   "metadata": {
    "scrolled": true
   },
   "outputs": [
    {
     "name": "stdout",
     "output_type": "stream",
     "text": [
      "<class 'pandas.core.frame.DataFrame'>\n",
      "Int64Index: 478747 entries, 0 to 478746\n",
      "Data columns (total 46 columns):\n",
      "PERSONID    478747 non-null int64\n",
      "YEAR        478747 non-null int64\n",
      "WEIGHT      478737 non-null float64\n",
      "SAMPLE      478747 non-null int64\n",
      "SURID       478747 non-null int64\n",
      "AGE         478747 non-null int64\n",
      "BIRYR       478747 non-null int64\n",
      "GENDER      478747 non-null int64\n",
      "MINRTY      478747 non-null int64\n",
      "RACETH      478747 non-null int64\n",
      "BTHUS       478747 non-null int64\n",
      "CTZUSIN     478747 non-null int64\n",
      "CTZUS       438777 non-null float64\n",
      "FNVS        20573 non-null float64\n",
      "CHTOT       219740 non-null float64\n",
      "BA03Y5      465491 non-null float64\n",
      "NBAMED      463945 non-null float64\n",
      "NBAMEMG     465494 non-null float64\n",
      "DGRDG       478747 non-null int64\n",
      "HD03Y5      478747 non-null int64\n",
      "NDGMED      478747 non-null int64\n",
      "NDGMEMG     478747 non-null int64\n",
      "LFSTAT      478747 non-null int64\n",
      "WRKG        478747 non-null int64\n",
      "HRSWKGR     407478 non-null float64\n",
      "WKSWKGR     407478 non-null float64\n",
      "LOOKWK      71269 non-null float64\n",
      "OCEDRLP     407478 non-null float64\n",
      "NOCPR       407478 non-null float64\n",
      "NOCPRMG     407478 non-null float64\n",
      "SALARY      407478 non-null float64\n",
      "CPI2009C    478747 non-null float64\n",
      "JOBSATIS    407478 non-null float64\n",
      "EMSEC       407478 non-null float64\n",
      "EMSIZE      407478 non-null float64\n",
      "GOVSUP      428636 non-null float64\n",
      "WAPRSM      407478 non-null float64\n",
      "ACTCAP      407478 non-null float64\n",
      "ACTDED      407478 non-null float64\n",
      "ACTMGT      407478 non-null float64\n",
      "ACTRD       407478 non-null float64\n",
      "ACTRDT      407478 non-null float64\n",
      "ACTRES      407478 non-null float64\n",
      "ACTTCH      407478 non-null float64\n",
      "NRREA       50439 non-null float64\n",
      "WKTRNI      477774 non-null float64\n",
      "dtypes: float64(29), int64(17)\n",
      "memory usage: 171.7 MB\n"
     ]
    }
   ],
   "source": [
    "# explanation of the survey https://highered.ipums.org/highered/survey_designs.shtml\n",
    "\n",
    "# Respondents from each of these three surveys with science or engineering degrees                               ##\n",
    "# or occupations are compiled into one dataset: the SESTAT (the Scientists and Engineers Statistical Data System)##\n",
    "\n",
    "df.info(3)\n"
   ]
  },
  {
   "cell_type": "code",
   "execution_count": 5,
   "metadata": {},
   "outputs": [
    {
     "name": "stdout",
     "output_type": "stream",
     "text": [
      "<class 'pandas.core.frame.DataFrame'>\n",
      "Int64Index: 407478 entries, 0 to 478746\n",
      "Data columns (total 35 columns):\n",
      "YEAR        407478 non-null int64\n",
      "SAMPLE      407478 non-null int64\n",
      "SURID       407478 non-null int64\n",
      "AGE         407478 non-null int64\n",
      "BIRYR       407478 non-null int64\n",
      "GENDER      407478 non-null int64\n",
      "MINRTY      407478 non-null int64\n",
      "RACETH      407478 non-null int64\n",
      "BTHUS       407478 non-null int64\n",
      "CTZUSIN     407478 non-null int64\n",
      "NBAMED      394508 non-null float64\n",
      "NBAMEMG     395942 non-null float64\n",
      "DGRDG       407478 non-null int64\n",
      "HD03Y5      407478 non-null int64\n",
      "NDGMED      407478 non-null int64\n",
      "NDGMEMG     407478 non-null int64\n",
      "HRSWKGR     407478 non-null float64\n",
      "WKSWKGR     407478 non-null float64\n",
      "OCEDRLP     407478 non-null float64\n",
      "NOCPR       407478 non-null float64\n",
      "NOCPRMG     407478 non-null float64\n",
      "SALARY      407478 non-null float64\n",
      "JOBSATIS    407478 non-null float64\n",
      "EMSEC       407478 non-null float64\n",
      "EMSIZE      407478 non-null float64\n",
      "GOVSUP      404784 non-null float64\n",
      "WAPRSM      407478 non-null float64\n",
      "ACTCAP      407478 non-null float64\n",
      "ACTDED      407478 non-null float64\n",
      "ACTMGT      407478 non-null float64\n",
      "ACTRD       407478 non-null float64\n",
      "ACTRDT      407478 non-null float64\n",
      "ACTRES      407478 non-null float64\n",
      "ACTTCH      407478 non-null float64\n",
      "WKTRNI      407478 non-null float64\n",
      "dtypes: float64(21), int64(14)\n",
      "memory usage: 111.9 MB\n"
     ]
    }
   ],
   "source": [
    "df_employed = df[df['LFSTAT']==1]\n",
    "df_employed_small = df_employed.drop(['CTZUS', 'WEIGHT', 'WRKG', 'NRREA','FNVS', 'CHTOT', 'CPI2009C', 'PERSONID', 'LFSTAT','BA03Y5', 'LOOKWK'], axis=1)\n",
    "df_employed_small.info()"
   ]
  },
  {
   "cell_type": "code",
   "execution_count": 6,
   "metadata": {
    "scrolled": false
   },
   "outputs": [],
   "source": [
    "#df_employed_l = df_employed_small[df_employed_small.SALARY != 150000]\n",
    "df_employed_l = df_employed_small.dropna()\n"
   ]
  },
  {
   "cell_type": "markdown",
   "metadata": {},
   "source": [
    "Next we use pandas' correlation funcion and seaborns heatmap to get a general idea of how the features are related to each other."
   ]
  },
  {
   "cell_type": "code",
   "execution_count": 7,
   "metadata": {
    "scrolled": true
   },
   "outputs": [
    {
     "data": {
      "text/plain": [
       "<matplotlib.axes._subplots.AxesSubplot at 0x11f1c6a58>"
      ]
     },
     "execution_count": 7,
     "metadata": {},
     "output_type": "execute_result"
    },
    {
     "data": {
      "image/png": "[encoded data removed]",
      "text/plain": [
       "<matplotlib.figure.Figure at 0x119e8a080>"
      ]
     },
     "metadata": {},
     "output_type": "display_data"
    }
   ],
   "source": [
    "sns.heatmap(df_employed_l.corr())"
   ]
  },
  {
   "cell_type": "code",
   "execution_count": 8,
   "metadata": {
    "scrolled": true
   },
   "outputs": [
    {
     "data": {
      "text/plain": [
       "YEAR        0.047753\n",
       "SAMPLE      0.049694\n",
       "SURID       0.193761\n",
       "AGE         0.186057\n",
       "BIRYR      -0.162161\n",
       "GENDER      0.257586\n",
       "MINRTY     -0.102562\n",
       "RACETH     -0.101382\n",
       "BTHUS      -0.055799\n",
       "CTZUSIN     0.012500\n",
       "NBAMED     -0.037537\n",
       "NBAMEMG    -0.034085\n",
       "DGRDG       0.263496\n",
       "HD03Y5     -0.167808\n",
       "NDGMED     -0.010046\n",
       "NDGMEMG    -0.001453\n",
       "HRSWKGR     0.403946\n",
       "WKSWKGR     0.176768\n",
       "OCEDRLP    -0.128177\n",
       "NOCPR      -0.091245\n",
       "NOCPRMG    -0.056801\n",
       "SALARY      1.000000\n",
       "JOBSATIS   -0.140447\n",
       "EMSEC       0.215927\n",
       "EMSIZE      0.169909\n",
       "GOVSUP      0.022820\n",
       "WAPRSM     -0.034008\n",
       "ACTCAP      0.042460\n",
       "ACTDED      0.126313\n",
       "ACTMGT      0.119822\n",
       "ACTRD       0.115217\n",
       "ACTRDT     -0.012041\n",
       "ACTRES      0.036424\n",
       "ACTTCH     -0.183005\n",
       "WKTRNI      0.007476\n",
       "Name: SALARY, dtype: float64"
      ]
     },
     "execution_count": 8,
     "metadata": {},
     "output_type": "execute_result"
    }
   ],
   "source": [
    "df_employed_l.corr()['SALARY']"
   ]
  },
  {
   "cell_type": "markdown",
   "metadata": {},
   "source": [
    "Looks like many of the columns are catagorical and has been stored in the same column as numbers, such as the field of major, highest degree and etc. They need to be treated that way. Here pandas get_dummies are used for this purpose. "
   ]
  },
  {
   "cell_type": "code",
   "execution_count": 10,
   "metadata": {
    "collapsed": true
   },
   "outputs": [],
   "source": [
    "df_employed_d = pd.get_dummies(df_employed_l, columns=['RACETH','NBAMED', 'NBAMEMG', 'NDGMED', 'EMSEC','EMSIZE', 'GOVSUP', 'NDGMEMG', 'OCEDRLP', 'WAPRSM','WKTRNI', 'NOCPR', 'NOCPRMG', 'SAMPLE', 'HD03Y5', 'DGRDG', 'JOBSATIS','SURID','HRSWKGR','WKSWKGR'], drop_first=True)"
   ]
  },
  {
   "cell_type": "code",
   "execution_count": 25,
   "metadata": {},
   "outputs": [
    {
     "name": "stdout",
     "output_type": "stream",
     "text": [
      "0.510199918876\n",
      "Root Mean Squared Error: 27687.163029587227\n"
     ]
    }
   ],
   "source": [
    "X = df_employed_d.drop(['SALARY'], axis=1)\n",
    "y = df_employed_d['SALARY']\n",
    "\n",
    "#import the machine learning algorithm packages\n",
    "# Import modules of linear regresssion, evaluation, and train test split\n",
    "from sklearn.linear_model import LinearRegression\n",
    "from sklearn.metrics import mean_squared_error\n",
    "from sklearn.model_selection import train_test_split\n",
    "# Import Lasso\n",
    "from sklearn.linear_model import Lasso\n",
    "# Import Ridge\n",
    "from sklearn.linear_model import Ridge\n",
    "\n",
    "\n",
    "#train test split\n",
    "X_train, X_test, y_train, y_test = train_test_split(X, y, test_size = 0.3, random_state=42)\n",
    "\n",
    "# Create the regressor: reg\n",
    "reg = Ridge()\n",
    "\n",
    "\n",
    "# Fit the model to the data\n",
    "reg.fit(X_train,y_train)\n",
    "\n",
    "# Compute predictions over the prediction space: y_pred\n",
    "y_pred = reg.predict(X_test)\n",
    "\n",
    "# Print R^2 \n",
    "print(reg.score(X_test, y_test))\n",
    "\n",
    "rmse = np.sqrt(mean_squared_error(y_test,y_pred))\n",
    "print(\"Root Mean Squared Error: {}\".format(rmse))\n"
   ]
  },
  {
   "cell_type": "markdown",
   "metadata": {},
   "source": [
    "Only looking at the data where salary is not 0. The R2 improved slightly. "
   ]
  },
  {
   "cell_type": "code",
   "execution_count": 41,
   "metadata": {},
   "outputs": [
    {
     "name": "stdout",
     "output_type": "stream",
     "text": [
      "0.51447672626\n",
      "Root Mean Squared Error: 27347.91125774655\n"
     ]
    }
   ],
   "source": [
    "df_employed_no = df_employed_d[(df_employed_d['SALARY']>0)]\n",
    "X = df_employed_no.drop(['SALARY'], axis=1)\n",
    "y = df_employed_no['SALARY']\n",
    "\n",
    "#import the machine learning algorithm packages\n",
    "# Import modules of linear regresssion, evaluation, and train test split\n",
    "from sklearn.linear_model import LinearRegression\n",
    "from sklearn.metrics import mean_squared_error\n",
    "from sklearn.model_selection import train_test_split\n",
    "# Import Lasso\n",
    "from sklearn.linear_model import Lasso\n",
    "# Import Ridge\n",
    "from sklearn.linear_model import Ridge\n",
    "\n",
    "\n",
    "#train test split\n",
    "X_train, X_test, y_train, y_test = train_test_split(X, y, test_size = 0.3, random_state=42)\n",
    "\n",
    "# Create the regressor: reg\n",
    "reg = Ridge()\n",
    "\n",
    "\n",
    "# Fit the model to the data\n",
    "reg.fit(X_train,y_train)\n",
    "\n",
    "# Compute predictions over the prediction space: y_pred\n",
    "y_pred = reg.predict(X_test)\n",
    "\n",
    "# Print R^2 \n",
    "print(reg.score(X_test, y_test))\n",
    "\n",
    "rmse = np.sqrt(mean_squared_error(y_test,y_pred))\n",
    "print(\"Root Mean Squared Error: {}\".format(rmse))\n"
   ]
  },
  {
   "cell_type": "markdown",
   "metadata": {},
   "source": [
    "The linear regression result gives a R2 of 0.51, which is not bad considering some essential fact contributing to the salary is unknown: level of the position, location of the job,  and company pay ability. This next cell shows a histogram of the actual salaries and the predicted salaries. We see the distribution of predected salary is more centrally located around the mean. Can this give us a hint as to what to do next?"
   ]
  },
  {
   "cell_type": "code",
   "execution_count": 42,
   "metadata": {},
   "outputs": [
    {
     "data": {
      "image/png": "[encoded data removed]",
      "text/plain": [
       "<matplotlib.figure.Figure at 0x11d1698d0>"
      ]
     },
     "metadata": {},
     "output_type": "display_data"
    }
   ],
   "source": [
    "plt.hist(y_test, bins=20, label='SALARY')\n",
    "plt.hist(y_pred,  bins=20, alpha=0.5, label='predicted SALARY')\n",
    "plt.title(\"Distribution of SALARY\")\n",
    "plt.legend()\n",
    "plt.xlabel(\"SALARY\")\n",
    "plt.ylabel(\"Frequencey\")\n",
    "plt.show()"
   ]
  },
  {
   "cell_type": "markdown",
   "metadata": {},
   "source": [
    "How about polynomial regression? => not improving the result."
   ]
  },
  {
   "cell_type": "code",
   "execution_count": 22,
   "metadata": {},
   "outputs": [
    {
     "name": "stdout",
     "output_type": "stream",
     "text": [
      "-0.532332645709\n",
      "Root Mean Squared Error: 48524.19561370276\n"
     ]
    }
   ],
   "source": [
    "from sklearn.preprocessing import PolynomialFeatures\n",
    "from sklearn.pipeline import Pipeline\n",
    "\n",
    "df_sample = df_employed_d.sample(frac=0.01, random_state=42)\n",
    "\n",
    "X_s = df_sample.drop(['SALARY'], axis=1)\n",
    "y_s = df_sample['SALARY']\n",
    "\n",
    "#train test split\n",
    "X_train, X_test, y_train, y_test = train_test_split(X_s, y_s, test_size = 0.3, random_state=42)\n",
    "\n",
    "\n",
    "\n",
    "model = Pipeline([('poly', PolynomialFeatures(degree=2)),\n",
    "                   ('linear', LinearRegression())])\n",
    "\n",
    "# fit to an order-2 polynomial data\n",
    "\n",
    "model.fit(X_train, y_train)\n",
    "\n",
    "# Compute predictions over the prediction space: y_pred\n",
    "y_pred = model.predict(X_test)\n",
    "\n",
    "# Print R^2 \n",
    "print(model.score(X_test, y_test))\n",
    "\n",
    "rmse = np.sqrt(mean_squared_error(y_test,y_pred))\n",
    "print(\"Root Mean Squared Error: {}\".format(rmse))\n"
   ]
  },
  {
   "cell_type": "code",
   "execution_count": 43,
   "metadata": {
    "scrolled": true
   },
   "outputs": [
    {
     "name": "stdout",
     "output_type": "stream",
     "text": [
      "                            OLS Regression Results                            \n",
      "==============================================================================\n",
      "Dep. Variable:                 SALARY   R-squared:                       0.515\n",
      "Model:                            OLS   Adj. R-squared:                  0.515\n",
      "Method:                 Least Squares   F-statistic:                     3181.\n",
      "Date:                Tue, 17 Apr 2018   Prob (F-statistic):               0.00\n",
      "Time:                        21:56:38   Log-Likelihood:            -4.5365e+06\n",
      "No. Observations:              389896   AIC:                         9.073e+06\n",
      "Df Residuals:                  389765   BIC:                         9.075e+06\n",
      "Df Model:                         130                                         \n",
      "Covariance Type:            nonrobust                                         \n",
      "===================================================================================\n",
      "                      coef    std err          t      P>|t|      [0.025      0.975]\n",
      "-----------------------------------------------------------------------------------\n",
      "YEAR               34.4396     31.320      1.100      0.272     -26.947      95.826\n",
      "AGE              -105.5687     32.158     -3.283      0.001    -168.597     -42.540\n",
      "BIRYR             -45.2200     31.091     -1.454      0.146    -106.158      15.718\n",
      "GENDER           6421.3243    102.266     62.790      0.000    6220.885    6621.763\n",
      "MINRTY          -1328.3025     85.569    -15.523      0.000   -1496.016   -1160.589\n",
      "BTHUS           -1849.1461    143.743    -12.864      0.000   -2130.877   -1567.415\n",
      "CTZUSIN          4256.3081    195.218     21.803      0.000    3873.686    4638.930\n",
      "ACTCAP            576.2121    216.129      2.666      0.008     152.605     999.819\n",
      "ACTDED           4114.4266    245.156     16.783      0.000    3633.928    4594.925\n",
      "ACTMGT           4648.9071    127.452     36.476      0.000    4399.106    4898.708\n",
      "ACTRD            3497.1555    314.748     11.111      0.000    2880.259    4114.051\n",
      "ACTRDT          -3563.2661    253.517    -14.055      0.000   -4060.153   -3066.379\n",
      "ACTRES           2047.7284    249.190      8.218      0.000    1559.323    2536.134\n",
      "ACTTCH           3396.6894    277.226     12.252      0.000    2853.335    3940.044\n",
      "RACETH_2         -275.1676    155.012     -1.775      0.076    -578.986      28.651\n",
      "RACETH_3        -1328.3025     85.569    -15.523      0.000   -1496.016   -1160.589\n",
      "NBAMED_226395.0  -603.6472    183.204     -3.295      0.001    -962.722    -244.573\n",
      "NBAMED_298895.0 -2226.8767    263.072     -8.465      0.000   -2742.490   -1711.264\n",
      "NBAMED_318730.0  -614.1522    277.419     -2.214      0.027   -1157.886     -70.418\n",
      "NBAMED_338785.0   808.1178    289.463      2.792      0.005     240.779    1375.456\n",
      "NBAMED_398895.0  -262.7600    369.523     -0.711      0.477    -987.015     461.495\n",
      "NBAMED_419295.0  2030.2027    310.422      6.540      0.000    1421.784    2638.621\n",
      "NBAMED_429295.0  -335.6237    260.806     -1.287      0.198    -846.796     175.549\n",
      "NBAMED_438995.0 -1491.7706    220.554     -6.764      0.000   -1924.050   -1059.492\n",
      "NBAMED_449995.0 -2223.1865    278.054     -7.996      0.000   -2768.163   -1678.209\n",
      "NBAMED_459395.0    55.9868    315.810      0.177      0.859    -562.991     674.964\n",
      "NBAMED_527250.0  -303.2361    422.971     -0.717      0.473   -1132.246     525.774\n",
      "NBAMED_537260.0    44.7119    425.100      0.105      0.916    -788.472     877.896\n",
      "NBAMED_547280.0  2001.1475    281.240      7.115      0.000    1449.925    2552.370\n",
      "NBAMED_567350.0   212.8045    308.256      0.690      0.490    -391.367     816.976\n",
      "NBAMED_587995.0  -816.7248    225.992     -3.614      0.000   -1259.663    -373.786\n",
      "NBAMED_611995.0 -1635.5177    221.654     -7.379      0.000   -2069.953   -1201.082\n",
      "NBAMED_699995.0 -1390.1623    250.590     -5.548      0.000   -1881.312    -899.012\n",
      "NBAMED_719995.0 -2928.5198    224.318    -13.055      0.000   -3368.176   -2488.863\n",
      "NBAMED_799995.0  -710.2319    185.102     -3.837      0.000   -1073.026    -347.438\n",
      "NBAMEMG_2.0     -2830.5239    220.786    -12.820      0.000   -3263.259   -2397.789\n",
      "NBAMEMG_3.0       -68.7944    239.582     -0.287      0.774    -538.368     400.779\n",
      "NBAMEMG_4.0     -1964.3913    236.927     -8.291      0.000   -2428.762   -1500.021\n",
      "NBAMEMG_5.0      1138.7030    241.319      4.719      0.000     665.724    1611.682\n",
      "NBAMEMG_6.0     -3025.6800    207.205    -14.602      0.000   -3431.796   -2619.563\n",
      "NBAMEMG_7.0     -3638.7517    188.748    -19.278      0.000   -4008.692   -3268.812\n",
      "NDGMED_226395     635.3154    195.813      3.245      0.001     251.528    1019.103\n",
      "NDGMED_298895   -4413.5214    268.616    -16.431      0.000   -4940.000   -3887.042\n",
      "NDGMED_318730   -1116.5399    316.825     -3.524      0.000   -1737.507    -495.573\n",
      "NDGMED_338785    1245.7020    336.301      3.704      0.000     586.562    1904.842\n",
      "NDGMED_398895   -2798.8264    376.497     -7.434      0.000   -3536.750   -2060.903\n",
      "NDGMED_419295    4958.4386    347.051     14.287      0.000    4278.228    5638.649\n",
      "NDGMED_429295    2414.0936    301.484      8.007      0.000    1823.195    3004.992\n",
      "NDGMED_438995   -3047.2029    246.595    -12.357      0.000   -3530.522   -2563.883\n",
      "NDGMED_449995   -3456.9737    301.183    -11.478      0.000   -4047.284   -2866.663\n",
      "NDGMED_459395   -3209.9113    319.116    -10.059      0.000   -3835.370   -2584.453\n",
      "NDGMED_527250    1742.8808    485.933      3.587      0.000     790.466    2695.295\n",
      "NDGMED_537260   -2374.8007    450.227     -5.275      0.000   -3257.233   -1492.369\n",
      "NDGMED_547280     908.0406    307.937      2.949      0.003     304.492    1511.589\n",
      "NDGMED_567350    -810.3384    346.177     -2.341      0.019   -1488.836    -131.841\n",
      "NDGMED_587995     -16.0568    227.078     -0.071      0.944    -461.122     429.009\n",
      "NDGMED_611995     900.0572    225.060      3.999      0.000     458.946    1341.169\n",
      "NDGMED_699995   -1627.3386    251.675     -6.466      0.000   -2120.614   -1134.063\n",
      "NDGMED_719995    3821.1645    173.371     22.040      0.000    3481.363    4160.966\n",
      "NDGMED_799995   -3742.6260    173.147    -21.615      0.000   -4081.990   -3403.262\n",
      "EMSEC_2.0       -3813.0952    254.471    -14.984      0.000   -4311.851   -3314.339\n",
      "EMSEC_3.0        7428.5505    279.081     26.618      0.000    6881.561    7975.540\n",
      "EMSEC_4.0        1.658e+04    254.865     65.039      0.000    1.61e+04    1.71e+04\n",
      "EMSIZE_2.0       5933.0560    261.193     22.715      0.000    5421.126    6444.986\n",
      "EMSIZE_3.0       8385.2507    213.750     39.229      0.000    7966.308    8804.194\n",
      "EMSIZE_4.0       9946.3042    194.012     51.267      0.000    9566.047    1.03e+04\n",
      "EMSIZE_5.0        1.21e+04    229.735     52.687      0.000    1.17e+04    1.26e+04\n",
      "EMSIZE_6.0       1.458e+04    191.446     76.133      0.000    1.42e+04     1.5e+04\n",
      "EMSIZE_7.0       1.657e+04    192.426     86.102      0.000    1.62e+04    1.69e+04\n",
      "EMSIZE_8.0       1.896e+04    179.953    105.341      0.000    1.86e+04    1.93e+04\n",
      "GOVSUP_1.0       -378.4502    112.938     -3.351      0.001    -599.806    -157.094\n",
      "NDGMEMG_2       -3778.2060    236.678    -15.963      0.000   -4242.088   -3314.324\n",
      "NDGMEMG_3       -2669.6643    265.777    -10.045      0.000   -3190.580   -2148.749\n",
      "NDGMEMG_4       -2341.5557    257.982     -9.076      0.000   -2847.194   -1835.918\n",
      "NDGMEMG_5        -550.2745    258.439     -2.129      0.033   -1056.807     -43.742\n",
      "NDGMEMG_6        -727.2814    213.267     -3.410      0.001   -1145.278    -309.285\n",
      "NDGMEMG_7          78.5385    183.151      0.429      0.668    -280.432     437.509\n",
      "OCEDRLP_2.0     -3477.2726    111.575    -31.165      0.000   -3695.955   -3258.590\n",
      "OCEDRLP_3.0     -1.033e+04    156.025    -66.176      0.000   -1.06e+04      -1e+04\n",
      "WAPRSM_2.0      -8413.2144    249.568    -33.711      0.000   -8902.361   -7924.068\n",
      "WAPRSM_3.0       1523.0236    174.952      8.705      0.000    1180.122    1865.925\n",
      "WAPRSM_4.0        770.3208    269.558      2.858      0.004     241.995    1298.646\n",
      "WAPRSM_5.0        648.7679    189.074      3.431      0.001     278.188    1019.348\n",
      "WKTRNI_1.0        -28.4074     95.700     -0.297      0.767    -215.977     159.163\n",
      "NOCPR_192895.0   8026.0143    449.532     17.854      0.000    7144.946    8907.083\n",
      "NOCPR_222205.0  -1411.1331    241.230     -5.850      0.000   -1883.937    -938.329\n",
      "NOCPR_282885.0   1582.2056    296.097      5.344      0.000    1001.864    2162.547\n",
      "NOCPR_293995.0  -3025.0983    331.684     -9.120      0.000   -3675.190   -2375.007\n",
      "NOCPR_311930.0  -2849.8541    348.530     -8.177      0.000   -3532.962   -2166.746\n",
      "NOCPR_333305.0    541.0326    456.200      1.186      0.236    -353.105    1435.170\n",
      "NOCPR_382995.0  -2533.2530    343.304     -7.379      0.000   -3206.119   -1860.387\n",
      "NOCPR_393995.0   3230.1881    369.117      8.751      0.000    2506.730    3953.646\n",
      "NOCPR_412320.0   8550.6374    515.097     16.600      0.000    7541.063    9560.212\n",
      "NOCPR_432360.0  -2745.6230    313.569     -8.756      0.000   -3360.209   -2131.037\n",
      "NOCPR_482995.0  -1596.0621    291.651     -5.473      0.000   -2167.688   -1024.436\n",
      "NOCPR_483995.0   -730.7025    366.672     -1.993      0.046   -1449.369     -12.036\n",
      "NOCPR_505005.0    -60.3008    230.716     -0.261      0.794    -512.497     391.896\n",
      "NOCPR_520850.0   -295.2973    468.603     -0.630      0.529   -1213.746     623.151\n",
      "NOCPR_530860.0  -1476.9490    380.505     -3.882      0.000   -2222.727    -731.171\n",
      "NOCPR_540890.0   3189.8654    285.910     11.157      0.000    2629.489    3750.241\n",
      "NOCPR_560940.0  -2438.6816    318.325     -7.661      0.000   -3062.589   -1814.774\n",
      "NOCPR_582800.0   4123.5773    421.518      9.783      0.000    3297.414    4949.740\n",
      "NOCPR_611995.0    125.8464    215.023      0.585      0.558    -295.592     547.285\n",
      "NOCPR_621995.0   1.232e+04    251.595     48.972      0.000    1.18e+04    1.28e+04\n",
      "NOCPR_631995.0  -1611.9720    319.725     -5.042      0.000   -2238.623    -985.321\n",
      "NOCPR_651995.0  -5635.5332    260.133    -21.664      0.000   -6145.386   -5125.680\n",
      "NOCPR_711410.0    1.68e+04    198.813     84.505      0.000    1.64e+04    1.72e+04\n",
      "NOCPR_711995.0    -88.0987    204.103     -0.432      0.666    -488.134     311.937\n",
      "NOCPR_735995.0    907.1656    260.908      3.477      0.001     395.793    1418.538\n",
      "NOCPR_799995.0  -1.203e+04    167.323    -71.882      0.000   -1.24e+04   -1.17e+04\n",
      "NOCPRMG_2.0     -2854.0258    340.023     -8.394      0.000   -3520.461   -2187.591\n",
      "NOCPRMG_3.0     -1611.8865    376.385     -4.283      0.000   -2349.591    -874.182\n",
      "NOCPRMG_4.0      3478.2499    367.889      9.455      0.000    2757.199    4199.301\n",
      "NOCPRMG_5.0      3042.2141    385.490      7.892      0.000    2286.666    3797.763\n",
      "NOCPRMG_6.0      5199.3635    336.954     15.430      0.000    4538.943    5859.784\n",
      "NOCPRMG_7.0      5592.1697    334.343     16.726      0.000    4936.868    6247.472\n",
      "SAMPLE_602      -1.063e+04    170.875    -62.190      0.000    -1.1e+04   -1.03e+04\n",
      "SAMPLE_701       6321.7369    178.472     35.421      0.000    5971.937    6671.536\n",
      "SAMPLE_702      -5463.5722    165.144    -33.084      0.000   -5787.249   -5139.896\n",
      "SAMPLE_801       1.274e+04    182.163     69.954      0.000    1.24e+04    1.31e+04\n",
      "SAMPLE_802       5357.6462    165.074     32.456      0.000    5034.105    5681.187\n",
      "SAMPLE_901       1.507e+04    186.898     80.623      0.000    1.47e+04    1.54e+04\n",
      "SAMPLE_902       9329.2328    165.021     56.534      0.000    9005.797    9652.668\n",
      "SAMPLE_1001      1.947e+04    191.641    101.585      0.000    1.91e+04    1.98e+04\n",
      "SAMPLE_1002      1.388e+04    171.126     81.111      0.000    1.35e+04    1.42e+04\n",
      "HD03Y5_1951     -1666.0136   8450.672     -0.197      0.844   -1.82e+04    1.49e+04\n",
      "HD03Y5_1956       744.7851   8283.101      0.090      0.928   -1.55e+04     1.7e+04\n",
      "HD03Y5_1961       434.7335   8258.406      0.053      0.958   -1.58e+04    1.66e+04\n",
      "HD03Y5_1966      1082.8784   8252.248      0.131      0.896   -1.51e+04    1.73e+04\n",
      "HD03Y5_1971      1941.0364   8251.206      0.235      0.814   -1.42e+04    1.81e+04\n",
      "HD03Y5_1976      1734.7250   8251.589      0.210      0.833   -1.44e+04    1.79e+04\n",
      "HD03Y5_1981      1037.5153   8252.245      0.126      0.900   -1.51e+04    1.72e+04\n",
      "HD03Y5_1986     -2052.5210   8253.087     -0.249      0.804   -1.82e+04    1.41e+04\n",
      "HD03Y5_1991     -6254.0032   8254.055     -0.758      0.449   -2.24e+04    9923.698\n",
      "HD03Y5_1996       -1.2e+04   8255.294     -1.454      0.146   -2.82e+04    4180.608\n",
      "HD03Y5_2001      -2.04e+04   8257.299     -2.470      0.014   -3.66e+04   -4211.272\n",
      "HD03Y5_2006     -2.885e+04   8259.821     -3.493      0.000    -4.5e+04   -1.27e+04\n",
      "HD03Y5_2011     -3.627e+04   8268.193     -4.387      0.000   -5.25e+04   -2.01e+04\n",
      "DGRDG_2          1.187e+04    132.829     89.357      0.000    1.16e+04    1.21e+04\n",
      "DGRDG_3          2.428e+04    343.741     70.631      0.000    2.36e+04     2.5e+04\n",
      "DGRDG_4           4.03e+04    274.860    146.632      0.000    3.98e+04    4.08e+04\n",
      "JOBSATIS_2.0    -6267.3894     94.559    -66.280      0.000   -6452.722   -6082.057\n",
      "JOBSATIS_3.0    -1.001e+04    176.818    -56.584      0.000   -1.04e+04   -9658.487\n",
      "JOBSATIS_4.0    -1.233e+04    320.928    -38.431      0.000    -1.3e+04   -1.17e+04\n",
      "SURID_2          1.248e+04    293.703     42.481      0.000    1.19e+04    1.31e+04\n",
      "HRSWKGR_2.0      2.236e+04    235.555     94.912      0.000    2.19e+04    2.28e+04\n",
      "HRSWKGR_3.0      3.331e+04    205.576    162.023      0.000    3.29e+04    3.37e+04\n",
      "HRSWKGR_4.0      4.192e+04    203.380    206.128      0.000    4.15e+04    4.23e+04\n",
      "WKSWKGR_2.0     -1127.6246    817.670     -1.379      0.168   -2730.234     474.985\n",
      "WKSWKGR_3.0      1.288e+04    640.241     20.110      0.000    1.16e+04    1.41e+04\n",
      "WKSWKGR_4.0      1.907e+04    618.494     30.830      0.000    1.79e+04    2.03e+04\n",
      "==============================================================================\n",
      "Omnibus:                     8125.277   Durbin-Watson:                   1.900\n",
      "Prob(Omnibus):                  0.000   Jarque-Bera (JB):            14720.457\n",
      "Skew:                           0.162   Prob(JB):                         0.00\n",
      "Kurtosis:                       3.895   Cond. No.                     6.89e+18\n",
      "==============================================================================\n",
      "\n",
      "Warnings:\n",
      "[1] Standard Errors assume that the covariance matrix of the errors is correctly specified.\n",
      "[2] The smallest eigenvalue is 6.48e-26. This might indicate that there are\n",
      "strong multicollinearity problems or that the design matrix is singular.\n"
     ]
    }
   ],
   "source": [
    "# Import regression modules\n",
    "import statsmodels.api as sm\n",
    "from statsmodels.formula.api import ols\n",
    "\n",
    "mod = sm.OLS(y, X)\n",
    "res = mod.fit()\n",
    "print(res.summary() )\n",
    "#m3 = ols(formula='SALARY ~ ALL',data = df_employed_d).fit()\n",
    "#print(m3.summary())"
   ]
  },
  {
   "cell_type": "markdown",
   "metadata": {},
   "source": [
    "Above gives the result from the linear regresssion by statsmodel. We see the correlation is statistically significant (p-value from the F-statistic). The R^2 score is consistent with what is given by sklearn linear models. "
   ]
  },
  {
   "cell_type": "code",
   "execution_count": 24,
   "metadata": {},
   "outputs": [
    {
     "name": "stdout",
     "output_type": "stream",
     "text": [
      "Tuned Logistic Regression Parameters: {'max_depth': 300, 'max_features': 30, 'n_estimators': 30}\n",
      "Best score is 0.4537295202072781\n",
      "Score on the test data is:  0.452772934684\n",
      "RBF Root Mean Squared Error: 28997.836862531163\n"
     ]
    }
   ],
   "source": [
    "# Import necessary modules\n",
    "from sklearn.ensemble import RandomForestRegressor\n",
    "from sklearn.model_selection import GridSearchCV\n",
    "\n",
    "# Setup the hyperparameter grid\n",
    "df_employed_no = df_employed_d[(df_employed_d['SALARY']>0)]\n",
    "X = df_employed_no.drop(['SALARY'], axis=1)\n",
    "y = df_employed_no['SALARY']\n",
    "\n",
    "X_train, X_test, y_train, y_test = train_test_split(X, y, test_size = 0.3, random_state=42)\n",
    "\n",
    "param_grid = {\"n_estimators\": [10, 30, 50],\n",
    "              \"max_features\": [10, 30],\n",
    "              \"max_depth\": [10, 100, 300]\n",
    "              }\n",
    "\n",
    "# Instantiate a logistic regression classifier: logreg\n",
    "rfr = RandomForestRegressor()\n",
    "\n",
    "# Instantiate the GridSearchCV object: logreg_cv\n",
    "rfr_cv = GridSearchCV(rfr, param_grid, cv=5)\n",
    "\n",
    "# Fit it to the data\n",
    "rfr_cv.fit(X_train,y_train)\n",
    "\n",
    "y_rfr_cv = rfr_cv.predict(X_test)\n",
    "\n",
    "rmse_rfr_cv = np.sqrt(mean_squared_error(y_test,y_rfr_cv))\n",
    "\n",
    "# Print the tuned parameters and score\n",
    "print(\"Tuned Logistic Regression Parameters: {}\".format(rfr_cv.best_params_)) \n",
    "print(\"Best score is {}\".format(rfr_cv.best_score_))\n",
    "\n",
    "# test data result\n",
    "print(\"Score on the test data is: \", rfr_cv.score(X_test, y_test))\n",
    "\n",
    "# Print RMSE\n",
    "print(\"RBF Root Mean Squared Error: {}\".format(rmse_rfr_cv))"
   ]
  },
  {
   "cell_type": "code",
   "execution_count": null,
   "metadata": {},
   "outputs": [],
   "source": [
    "## Trying random forest regressor \n",
    "df_employed_no = df_employed_d[(df_employed_d['SALARY']>0)]\n",
    "X = df_employed_no.drop(['SALARY'], axis=1)\n",
    "y = df_employed_no['SALARY']\n",
    "\n",
    "X_train, X_test, y_train, y_test = train_test_split(X, y, test_size = 0.3, random_state=42)\n",
    "\n",
    "from sklearn.ensemble import RandomForestRegressor\n",
    "\n",
    "rfr = RandomForestRegressor(n_estimators=100, max_features=25, max_depth=100)\n",
    "\n",
    "#rfr.fit(X,y)\n",
    "# Use feature selection\n",
    "#model = SelectFromModel(rfr, prefit=True)\n",
    "#X_new = model.transform(X)\n",
    "\n",
    "#train test split\n",
    "#X_train, X_test, y_train, y_test = train_test_split(X_new, y, test_size = 0.3, random_state=42)\n",
    "\n",
    "y_rfr = rfr.fit(X_train, y_train).predict(X_test)\n",
    "\n",
    "y_rfr = np.clip(y_rfr, 0, 150000)\n",
    "\n",
    "rmse_rfr = np.sqrt(mean_squared_error(y_test,y_rfr))\n",
    "\n",
    "# define function to calculate R2 : coefficient of determinatin\n",
    "\n",
    "def squared_error(ys_orig,ys_line):\n",
    "    return sum((ys_line - ys_orig) * (ys_line - ys_orig))\n",
    "\n",
    "def coefficient_of_determination(ys_orig,ys_line):\n",
    "    y_mean_line = [mean(ys_orig) for y in ys_orig]\n",
    "    squared_error_regr = squared_error(ys_orig, ys_line)\n",
    "    squared_error_y_mean = squared_error(ys_orig, y_mean_line)\n",
    "    return 1 - (squared_error_regr/squared_error_y_mean)\n",
    "\n",
    "# Print R2\n",
    "print(coefficient_of_determination(y_test, y_rfr))\n",
    "\n",
    "# Print RMSE\n",
    "print(\"RBF Root Mean Squared Error: {}\".format(rmse_rfr))\n",
    "\n",
    "\n",
    "plt.hist(y_test, bins=20, label='SALARY')\n",
    "plt.hist(y_rfr,  bins=20, alpha=0.5, label='predicted SALARY')\n",
    "plt.title(\"Distribution of SALARY\")\n",
    "plt.legend()\n",
    "plt.xlabel(\"SALARY\")\n",
    "plt.ylabel(\"Frequencey\")\n",
    "plt.show()"
   ]
  },
  {
   "cell_type": "code",
   "execution_count": 167,
   "metadata": {
    "collapsed": true
   },
   "outputs": [],
   "source": [
    "## Regression on data with less than 150000 salary\n",
    "\n",
    "\n",
    "df_decap = df_employed_d[df_employed_d['SALARY']<150000]\n",
    "X = df_decap.drop(['SALARY'], axis=1)\n",
    "y = df_decap['SALARY']\n",
    "\n",
    "\n",
    "# Create the regressor: reg\n",
    "reg = Ridge(alpha=100)\n",
    "\n",
    "# Fit the model to the data\n",
    "reg.fit(X,y)\n",
    "\n",
    "# Use feature selection\n",
    "model = SelectFromModel(reg, prefit=True)\n",
    "X_new = model.transform(X)\n"
   ]
  },
  {
   "cell_type": "code",
   "execution_count": 169,
   "metadata": {},
   "outputs": [
    {
     "name": "stdout",
     "output_type": "stream",
     "text": [
      "0.429307967437\n",
      "Root Mean Squared Error: 25304.52951105597\n"
     ]
    },
    {
     "data": {
      "image/png": "[encoded data removed]",
      "text/plain": [
       "<matplotlib.figure.Figure at 0x1239e6eb8>"
      ]
     },
     "metadata": {},
     "output_type": "display_data"
    }
   ],
   "source": [
    "#train test split\n",
    "X_train, X_test, y_train, y_test = train_test_split(X_new, y, test_size = 0.3, random_state=42)\n",
    "\n",
    "# Compute predictions over the prediction space: y_pred\n",
    "# Fit the model to the new data\n",
    "reg.fit(X_train, y_train)\n",
    "y_pred = reg.predict(X_test)\n",
    "\n",
    "# Print R^2 \n",
    "print(reg.score(X_test, y_test))\n",
    "\n",
    "rmse = np.sqrt(mean_squared_error(y_test,y_pred))\n",
    "print(\"Root Mean Squared Error: {}\".format(rmse))\n",
    "\n",
    "# your turn\n",
    "\n",
    "plt.hist(y_test, bins=20, label='SALARY')\n",
    "plt.hist(y_pred,  bins=20, alpha=0.5, label='predicted SALARY')\n",
    "plt.title(\"Distribution of SALARY\")\n",
    "plt.legend()\n",
    "plt.xlabel(\"SALARY\")\n",
    "plt.ylabel(\"Frequencey\")\n",
    "plt.show()\n"
   ]
  },
  {
   "cell_type": "code",
   "execution_count": 172,
   "metadata": {},
   "outputs": [
    {
     "name": "stdout",
     "output_type": "stream",
     "text": [
      "Score on the test data is:  0.53976874422\n",
      "RBF Root Mean Squared Error: 22724.033297805556\n"
     ]
    }
   ],
   "source": [
    "df_demax = df_employed_d[df_employed_d['SALARY']<150000]\n",
    "X_s = df_demax.drop(['SALARY'], axis=1)\n",
    "y_s = df_demax['SALARY']\n",
    "\n",
    "#train test split\n",
    "X_train, X_test, y_train, y_test = train_test_split(X_s, y_s, test_size = 0.3, random_state=42)\n",
    "\n",
    "# Setup the hyperparameter grid\n",
    "#param_grid = {\"n_estimators\": [100],\n",
    "#              \"max_features\": [25],\n",
    "#              \"max_depth\": [100]\n",
    "#              }\n",
    "\n",
    "# Instantiate a logistic regression classifier: logreg\n",
    "rfr = RandomForestRegressor(n_estimators=100, max_features=25, max_depth=100)\n",
    "\n",
    "# Instantiate the GridSearchCV object: logreg_cv\n",
    "#rfr_cv = GridSearchCV(rfr, param_grid, cv=5)\n",
    "\n",
    "# Fit it to the data\n",
    "rfr.fit(X_train,y_train)\n",
    "\n",
    "y_rfr = rfr.predict(X_test)\n",
    "\n",
    "rmse_rfr = np.sqrt(mean_squared_error(y_test,y_rfr))\n",
    "\n",
    "# Print the tuned parameters and score\n",
    "#print(\"Tuned Logistic Regression Parameters: {}\".format(rfr.best_params_)) \n",
    "#print(\"Best score is {}\".format(rfr.best_score_))\n",
    "\n",
    "# test data result\n",
    "print(\"Score on the test data is: \", rfr.score(X_test, y_test))\n",
    "\n",
    "# Print RMSE\n",
    "print(\"Root Mean Squared Error: {}\".format(rmse_rfr))\n"
   ]
  },
  {
   "cell_type": "code",
   "execution_count": 22,
   "metadata": {},
   "outputs": [
    {
     "name": "stdout",
     "output_type": "stream",
     "text": [
      "Score on the test data is:  0.511652980776\n",
      "RBF Root Mean Squared Error: 27812.743484063572\n"
     ]
    }
   ],
   "source": [
    "# Import necessary modules\n",
    "from sklearn.ensemble import RandomForestRegressor\n",
    "from sklearn.model_selection import GridSearchCV\n",
    "\n",
    "\n",
    "df_demax = df_employed_d[df_employed_d['SALARY']<=150000]\n",
    "df_demax_sample = df_demax.sample(frac=0.1)\n",
    "\n",
    "X_s = df_demax_sample.drop(['SALARY'], axis=1)\n",
    "y_s = df_demax_sample['SALARY']\n",
    "\n",
    "#train test split\n",
    "X_train, X_test, y_train, y_test = train_test_split(X_s, y_s, test_size = 0.3, random_state=42)\n",
    "\n",
    "# Setup the hyperparameter grid\n",
    "#param_grid = {\"n_estimators\": [100],\n",
    "#              \"max_features\": [25],\n",
    "#              \"max_depth\": [100]\n",
    "#              }\n",
    "\n",
    "# Instantiate a logistic regression classifier: logreg\n",
    "rfr = RandomForestRegressor(n_estimators=200, max_features=25, max_depth=100)\n",
    "\n",
    "# Instantiate the GridSearchCV object: logreg_cv\n",
    "#rfr_cv = GridSearchCV(rfr, param_grid, cv=5)\n",
    "\n",
    "# Fit it to the data\n",
    "rfr.fit(X_train,y_train)\n",
    "\n",
    "y_rfr = rfr.predict(X_test)\n",
    "\n",
    "rmse_rfr = np.sqrt(mean_squared_error(y_test,y_rfr))\n",
    "\n",
    "# Print the tuned parameters and score\n",
    "#print(\"Tuned Logistic Regression Parameters: {}\".format(rfr.best_params_)) \n",
    "#print(\"Best score is {}\".format(rfr.best_score_))\n",
    "\n",
    "# test data result\n",
    "print(\"Score on the test data is: \", rfr.score(X_test, y_test))\n",
    "\n",
    "# Print RMSE\n",
    "print(\"RBF Root Mean Squared Error: {}\".format(rmse_rfr))"
   ]
  },
  {
   "cell_type": "code",
   "execution_count": 81,
   "metadata": {},
   "outputs": [
    {
     "name": "stdout",
     "output_type": "stream",
     "text": [
      "0.542291790043\n",
      "RBF Root Mean Squared Error: 26642.618911954625\n"
     ]
    }
   ],
   "source": [
    "# Trying SVR \n",
    "from sklearn.svm import SVR\n",
    "df_demax = df_employed_d[df_employed_d['SALARY']<=150000]\n",
    "df_demax_sample = df_demax.sample(frac=0.20, random_state=42)\n",
    "\n",
    "X_s = df_demax_sample.drop(['SALARY'], axis=1)\n",
    "y_s = df_demax_sample['SALARY']\n",
    "\n",
    "#train test split\n",
    "X_train, X_test, y_train, y_test = train_test_split(X_s, y_s, test_size = 0.3, random_state=42)\n",
    "\n",
    "\n",
    "svr_rbf = SVR(kernel='rbf', C=120000, gamma=0.005)\n",
    "#svr_lin = SVR(kernel='linear', C=1e3)\n",
    "#svr_poly = SVR(kernel='poly', C=1e3, degree=2)\n",
    "y_rbf = svr_rbf.fit(X_train, y_train).predict(X_test)\n",
    "#y_lin = svr_fit(X_train, y_train).predict(X_test)\n",
    "#y_poly = svr_fit(X_train, y_train).predict(X_test)\n",
    "\n",
    "rmse_rbf = np.sqrt(mean_squared_error(y_test,y_rbf))\n",
    "#rmse_lin = np.sqrt(mean_squared_error(y_test,y_lin))\n",
    "#rmse_poly = np.sqrt(mean_squared_error(y_test,y_poly))\n",
    "\n",
    "# Print R^2 \n",
    "print(svr_rbf.score(X_test, y_test))\n",
    "\n",
    "# Print RMSE\n",
    "print(\"RBF Root Mean Squared Error: {}\".format(rmse_rbf))\n",
    "#print(\"LIN Root Mean Squared Error: {}\".format(rmse_lin))\n",
    "#print(\"Poly Root Mean Squared Error: {}\".format(rmse_poly))"
   ]
  },
  {
   "cell_type": "code",
   "execution_count": null,
   "metadata": {
    "collapsed": true
   },
   "outputs": [],
   "source": []
  },
  {
   "cell_type": "code",
   "execution_count": null,
   "metadata": {
    "collapsed": true
   },
   "outputs": [],
   "source": []
  }
 ],
 "metadata": {
  "kernelspec": {
   "display_name": "Python 3",
   "language": "python",
   "name": "python3"
  },
  "language_info": {
   "codemirror_mode": {
    "name": "ipython",
    "version": 3
   },
   "file_extension": ".py",
   "mimetype": "text/x-python",
   "name": "python",
   "nbconvert_exporter": "python",
   "pygments_lexer": "ipython3",
   "version": "3.6.1"
  }
 },
 "nbformat": 4,
 "nbformat_minor": 2
}
