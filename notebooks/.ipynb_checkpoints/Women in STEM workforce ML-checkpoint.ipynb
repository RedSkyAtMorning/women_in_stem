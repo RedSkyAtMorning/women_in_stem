{
 "cells": [
  {
   "cell_type": "markdown",
   "metadata": {},
   "source": [
    "# Importing and Tidying the Data"
   ]
  },
  {
   "cell_type": "code",
   "execution_count": 1,
   "metadata": {
    "collapsed": true
   },
   "outputs": [],
   "source": [
    "# import stuff\n",
    "import numpy as np\n",
    "import pandas as pd"
   ]
  },
  {
   "cell_type": "code",
   "execution_count": 2,
   "metadata": {
    "collapsed": true
   },
   "outputs": [],
   "source": [
    "import matplotlib.pyplot as plt\n",
    "import seaborn as sns\n",
    "sns.set_style('whitegrid')\n",
    "sns.set_context(\"talk\")\n",
    "%matplotlib inline"
   ]
  },
  {
   "cell_type": "code",
   "execution_count": 3,
   "metadata": {
    "collapsed": true
   },
   "outputs": [],
   "source": [
    "#import the data from csv file with a series of NAN values \n",
    "df1 = pd.read_csv('./../data/highered_00004.csv', dtype={'REFID': str},na_values=[96, 99, 98, 9996, 9998 ,\n",
    "    9999, 999996, 999998, 999999, 9999998, 9999999] )\n",
    "df1 = df1.drop(['REFID'], axis=1)\n",
    "df2 = pd.read_csv('./../data/highered_00007.csv', dtype={'REFID': str},na_values=[96, 99, 98, 9996, 9998 ,\n",
    "    9999, 999996, 999998, 999999, 9999998, 9999999] )\n",
    "df = df1.merge(df2,  on=['PERSONID', 'YEAR', 'WEIGHT', 'SAMPLE', 'SURID'])"
   ]
  },
  {
   "cell_type": "code",
   "execution_count": 4,
   "metadata": {
    "scrolled": true
   },
   "outputs": [
    {
     "name": "stdout",
     "output_type": "stream",
     "text": [
      "<class 'pandas.core.frame.DataFrame'>\n",
      "Int64Index: 478747 entries, 0 to 478746\n",
      "Data columns (total 46 columns):\n",
      "PERSONID    478747 non-null int64\n",
      "YEAR        478747 non-null int64\n",
      "WEIGHT      478737 non-null float64\n",
      "SAMPLE      478747 non-null int64\n",
      "SURID       478747 non-null int64\n",
      "AGE         478747 non-null int64\n",
      "BIRYR       478747 non-null int64\n",
      "GENDER      478747 non-null int64\n",
      "MINRTY      478747 non-null int64\n",
      "RACETH      478747 non-null int64\n",
      "BTHUS       478747 non-null int64\n",
      "CTZUSIN     478747 non-null int64\n",
      "CTZUS       438777 non-null float64\n",
      "FNVS        20573 non-null float64\n",
      "CHTOT       219740 non-null float64\n",
      "BA03Y5      465491 non-null float64\n",
      "NBAMED      463945 non-null float64\n",
      "NBAMEMG     465494 non-null float64\n",
      "DGRDG       478747 non-null int64\n",
      "HD03Y5      478747 non-null int64\n",
      "NDGMED      478747 non-null int64\n",
      "NDGMEMG     478747 non-null int64\n",
      "LFSTAT      478747 non-null int64\n",
      "WRKG        478747 non-null int64\n",
      "HRSWKGR     407478 non-null float64\n",
      "WKSWKGR     407478 non-null float64\n",
      "LOOKWK      71269 non-null float64\n",
      "OCEDRLP     407478 non-null float64\n",
      "NOCPR       407478 non-null float64\n",
      "NOCPRMG     407478 non-null float64\n",
      "SALARY      407478 non-null float64\n",
      "CPI2009C    478747 non-null float64\n",
      "JOBSATIS    407478 non-null float64\n",
      "EMSEC       407478 non-null float64\n",
      "EMSIZE      407478 non-null float64\n",
      "GOVSUP      428636 non-null float64\n",
      "WAPRSM      407478 non-null float64\n",
      "ACTCAP      407478 non-null float64\n",
      "ACTDED      407478 non-null float64\n",
      "ACTMGT      407478 non-null float64\n",
      "ACTRD       407478 non-null float64\n",
      "ACTRDT      407478 non-null float64\n",
      "ACTRES      407478 non-null float64\n",
      "ACTTCH      407478 non-null float64\n",
      "NRREA       50439 non-null float64\n",
      "WKTRNI      477774 non-null float64\n",
      "dtypes: float64(29), int64(17)\n",
      "memory usage: 171.7 MB\n"
     ]
    }
   ],
   "source": [
    "# explanation of the survey https://highered.ipums.org/highered/survey_designs.shtml\n",
    "\n",
    "# Respondents from each of these three surveys with science or engineering degrees                               ##\n",
    "# or occupations are compiled into one dataset: the SESTAT (the Scientists and Engineers Statistical Data System)##\n",
    "\n",
    "df.info(3)\n"
   ]
  },
  {
   "cell_type": "code",
   "execution_count": 5,
   "metadata": {},
   "outputs": [
    {
     "name": "stdout",
     "output_type": "stream",
     "text": [
      "<class 'pandas.core.frame.DataFrame'>\n",
      "Int64Index: 407478 entries, 0 to 478746\n",
      "Data columns (total 35 columns):\n",
      "YEAR        407478 non-null int64\n",
      "SAMPLE      407478 non-null int64\n",
      "SURID       407478 non-null int64\n",
      "AGE         407478 non-null int64\n",
      "BIRYR       407478 non-null int64\n",
      "GENDER      407478 non-null int64\n",
      "MINRTY      407478 non-null int64\n",
      "RACETH      407478 non-null int64\n",
      "BTHUS       407478 non-null int64\n",
      "CTZUSIN     407478 non-null int64\n",
      "NBAMED      394508 non-null float64\n",
      "NBAMEMG     395942 non-null float64\n",
      "DGRDG       407478 non-null int64\n",
      "HD03Y5      407478 non-null int64\n",
      "NDGMED      407478 non-null int64\n",
      "NDGMEMG     407478 non-null int64\n",
      "HRSWKGR     407478 non-null float64\n",
      "WKSWKGR     407478 non-null float64\n",
      "OCEDRLP     407478 non-null float64\n",
      "NOCPR       407478 non-null float64\n",
      "NOCPRMG     407478 non-null float64\n",
      "SALARY      407478 non-null float64\n",
      "JOBSATIS    407478 non-null float64\n",
      "EMSEC       407478 non-null float64\n",
      "EMSIZE      407478 non-null float64\n",
      "GOVSUP      404784 non-null float64\n",
      "WAPRSM      407478 non-null float64\n",
      "ACTCAP      407478 non-null float64\n",
      "ACTDED      407478 non-null float64\n",
      "ACTMGT      407478 non-null float64\n",
      "ACTRD       407478 non-null float64\n",
      "ACTRDT      407478 non-null float64\n",
      "ACTRES      407478 non-null float64\n",
      "ACTTCH      407478 non-null float64\n",
      "WKTRNI      407478 non-null float64\n",
      "dtypes: float64(21), int64(14)\n",
      "memory usage: 111.9 MB\n"
     ]
    }
   ],
   "source": [
    "df_employed = df[df['LFSTAT']==1]\n",
    "df_employed_small = df_employed.drop(['CTZUS', 'WEIGHT', 'WRKG', 'NRREA','FNVS', 'CHTOT', 'CPI2009C', 'PERSONID', 'LFSTAT','BA03Y5', 'LOOKWK'], axis=1)\n",
    "df_employed_small.info()"
   ]
  },
  {
   "cell_type": "code",
   "execution_count": 6,
   "metadata": {
    "scrolled": true
   },
   "outputs": [
    {
     "name": "stdout",
     "output_type": "stream",
     "text": [
      "<class 'pandas.core.frame.DataFrame'>\n",
      "Int64Index: 391928 entries, 0 to 478746\n",
      "Data columns (total 35 columns):\n",
      "YEAR        391928 non-null int64\n",
      "SAMPLE      391928 non-null int64\n",
      "SURID       391928 non-null int64\n",
      "AGE         391928 non-null int64\n",
      "BIRYR       391928 non-null int64\n",
      "GENDER      391928 non-null int64\n",
      "MINRTY      391928 non-null int64\n",
      "RACETH      391928 non-null int64\n",
      "BTHUS       391928 non-null int64\n",
      "CTZUSIN     391928 non-null int64\n",
      "NBAMED      391928 non-null float64\n",
      "NBAMEMG     391928 non-null float64\n",
      "DGRDG       391928 non-null int64\n",
      "HD03Y5      391928 non-null int64\n",
      "NDGMED      391928 non-null int64\n",
      "NDGMEMG     391928 non-null int64\n",
      "HRSWKGR     391928 non-null float64\n",
      "WKSWKGR     391928 non-null float64\n",
      "OCEDRLP     391928 non-null float64\n",
      "NOCPR       391928 non-null float64\n",
      "NOCPRMG     391928 non-null float64\n",
      "SALARY      391928 non-null float64\n",
      "JOBSATIS    391928 non-null float64\n",
      "EMSEC       391928 non-null float64\n",
      "EMSIZE      391928 non-null float64\n",
      "GOVSUP      391928 non-null float64\n",
      "WAPRSM      391928 non-null float64\n",
      "ACTCAP      391928 non-null float64\n",
      "ACTDED      391928 non-null float64\n",
      "ACTMGT      391928 non-null float64\n",
      "ACTRD       391928 non-null float64\n",
      "ACTRDT      391928 non-null float64\n",
      "ACTRES      391928 non-null float64\n",
      "ACTTCH      391928 non-null float64\n",
      "WKTRNI      391928 non-null float64\n",
      "dtypes: float64(21), int64(14)\n",
      "memory usage: 107.6 MB\n"
     ]
    }
   ],
   "source": [
    "#df_employed_l = df_employed_small[df_employed_small.SALARY != 150000]\n",
    "df_employed_l = df_employed_small.dropna()\n",
    "\n",
    "df_employed_l.info()"
   ]
  },
  {
   "cell_type": "code",
   "execution_count": 7,
   "metadata": {
    "scrolled": true
   },
   "outputs": [
    {
     "data": {
      "text/plain": [
       "<matplotlib.axes._subplots.AxesSubplot at 0x115ea03c8>"
      ]
     },
     "execution_count": 7,
     "metadata": {},
     "output_type": "execute_result"
    },
    {
     "data": {
      "image/png": "[encoded data removed]",
      "text/plain": [
       "<matplotlib.figure.Figure at 0x117e39a58>"
      ]
     },
     "metadata": {},
     "output_type": "display_data"
    }
   ],
   "source": [
    "sns.heatmap(df_employed_l.corr())"
   ]
  },
  {
   "cell_type": "code",
   "execution_count": 8,
   "metadata": {},
   "outputs": [
    {
     "data": {
      "text/plain": [
       "YEAR        0.047753\n",
       "SAMPLE      0.049694\n",
       "SURID       0.193761\n",
       "AGE         0.186057\n",
       "BIRYR      -0.162161\n",
       "GENDER      0.257586\n",
       "MINRTY     -0.102562\n",
       "RACETH     -0.101382\n",
       "BTHUS      -0.055799\n",
       "CTZUSIN     0.012500\n",
       "NBAMED     -0.037537\n",
       "NBAMEMG    -0.034085\n",
       "DGRDG       0.263496\n",
       "HD03Y5     -0.167808\n",
       "NDGMED     -0.010046\n",
       "NDGMEMG    -0.001453\n",
       "HRSWKGR     0.403946\n",
       "WKSWKGR     0.176768\n",
       "OCEDRLP    -0.128177\n",
       "NOCPR      -0.091245\n",
       "NOCPRMG    -0.056801\n",
       "SALARY      1.000000\n",
       "JOBSATIS   -0.140447\n",
       "EMSEC       0.215927\n",
       "EMSIZE      0.169909\n",
       "GOVSUP      0.022820\n",
       "WAPRSM     -0.034008\n",
       "ACTCAP      0.042460\n",
       "ACTDED      0.126313\n",
       "ACTMGT      0.119822\n",
       "ACTRD       0.115217\n",
       "ACTRDT     -0.012041\n",
       "ACTRES      0.036424\n",
       "ACTTCH     -0.183005\n",
       "WKTRNI      0.007476\n",
       "Name: SALARY, dtype: float64"
      ]
     },
     "execution_count": 8,
     "metadata": {},
     "output_type": "execute_result"
    }
   ],
   "source": [
    "df_employed_l.corr()['SALARY']"
   ]
  },
  {
   "cell_type": "code",
   "execution_count": 9,
   "metadata": {
    "collapsed": true
   },
   "outputs": [],
   "source": [
    "df_employed_d = pd.get_dummies(df_employed_l, columns=['RACETH','NBAMED', 'NBAMEMG', 'NDGMED', 'EMSEC','EMSIZE', 'GOVSUP', 'NDGMEMG', 'OCEDRLP', 'WAPRSM','WKTRNI', 'NOCPR', 'NOCPRMG', 'SAMPLE', 'HD03Y5', 'DGRDG', 'JOBSATIS'], drop_first=True)\n",
    "X = df_employed_d.drop(['SALARY'], axis=1)\n",
    "y = df_employed_d['SALARY']"
   ]
  },
  {
   "cell_type": "code",
   "execution_count": 10,
   "metadata": {},
   "outputs": [
    {
     "name": "stdout",
     "output_type": "stream",
     "text": [
      "0.506172858338\n",
      "Root Mean Squared Error: 27800.749821087276\n"
     ]
    }
   ],
   "source": [
    "X = df_employed_d.drop(['SALARY'], axis=1)\n",
    "y = df_employed_d['SALARY']\n",
    "\n",
    "#import the machine learning algorithm packages\n",
    "# Import modules of linear regresssion, evaluation, and train test split\n",
    "from sklearn.linear_model import LinearRegression\n",
    "from sklearn.metrics import mean_squared_error\n",
    "from sklearn.model_selection import train_test_split\n",
    "# Import Lasso\n",
    "from sklearn.linear_model import Lasso\n",
    "# Import Ridge\n",
    "from sklearn.linear_model import Ridge\n",
    "\n",
    "\n",
    "#train test split\n",
    "X_train, X_test, y_train, y_test = train_test_split(X, y, test_size = 0.3, random_state=42)\n",
    "\n",
    "# Create the regressor: reg\n",
    "reg = Ridge(alpha=100)\n",
    "\n",
    "\n",
    "# Fit the model to the data\n",
    "reg.fit(X_train,y_train)\n",
    "\n",
    "# Compute predictions over the prediction space: y_pred\n",
    "y_pred = reg.predict(X_test)\n",
    "\n",
    "# Print R^2 \n",
    "print(reg.score(X_test, y_test))\n",
    "\n",
    "rmse = np.sqrt(mean_squared_error(y_test,y_pred))\n",
    "print(\"Root Mean Squared Error: {}\".format(rmse))\n"
   ]
  },
  {
   "cell_type": "code",
   "execution_count": 11,
   "metadata": {},
   "outputs": [
    {
     "data": {
      "image/png": "[encoded data removed]",
      "text/plain": [
       "<matplotlib.figure.Figure at 0x119343e10>"
      ]
     },
     "metadata": {},
     "output_type": "display_data"
    }
   ],
   "source": [
    "# your turn\n",
    "\n",
    "plt.hist(y_test, bins=20, label='SALARY')\n",
    "plt.hist(y_pred,  bins=20, alpha=0.5, label='predicted SALARY')\n",
    "plt.title(\"Distribution of SALARY\")\n",
    "plt.legend()\n",
    "plt.xlabel(\"SALARY\")\n",
    "plt.ylabel(\"Frequencey\")\n",
    "plt.show()"
   ]
  },
  {
   "cell_type": "code",
   "execution_count": 12,
   "metadata": {},
   "outputs": [
    {
     "ename": "KeyboardInterrupt",
     "evalue": "",
     "output_type": "error",
     "traceback": [
      "\u001b[0;31m---------------------------------------------------------------------------\u001b[0m",
      "\u001b[0;31mKeyboardInterrupt\u001b[0m                         Traceback (most recent call last)",
      "\u001b[0;32m<ipython-input-12-b1d33de1b981>\u001b[0m in \u001b[0;36m<module>\u001b[0;34m()\u001b[0m\n\u001b[1;32m      6\u001b[0m \u001b[0;34m\u001b[0m\u001b[0m\n\u001b[1;32m      7\u001b[0m \u001b[0;31m# Fit the model to the data\u001b[0m\u001b[0;34m\u001b[0m\u001b[0;34m\u001b[0m\u001b[0m\n\u001b[0;32m----> 8\u001b[0;31m \u001b[0melastic_net\u001b[0m\u001b[0;34m.\u001b[0m\u001b[0mfit\u001b[0m\u001b[0;34m(\u001b[0m\u001b[0mX_train\u001b[0m\u001b[0;34m,\u001b[0m\u001b[0my_train\u001b[0m\u001b[0;34m)\u001b[0m\u001b[0;34m\u001b[0m\u001b[0m\n\u001b[0m\u001b[1;32m      9\u001b[0m \u001b[0;34m\u001b[0m\u001b[0m\n\u001b[1;32m     10\u001b[0m \u001b[0;31m# Compute predictions over the prediction space: y_pred\u001b[0m\u001b[0;34m\u001b[0m\u001b[0;34m\u001b[0m\u001b[0m\n",
      "\u001b[0;32m/anaconda/lib/python3.6/site-packages/sklearn/linear_model/coordinate_descent.py\u001b[0m in \u001b[0;36mfit\u001b[0;34m(self, X, y, check_input)\u001b[0m\n\u001b[1;32m    725\u001b[0m                           \u001b[0mrandom_state\u001b[0m\u001b[0;34m=\u001b[0m\u001b[0mself\u001b[0m\u001b[0;34m.\u001b[0m\u001b[0mrandom_state\u001b[0m\u001b[0;34m,\u001b[0m\u001b[0;34m\u001b[0m\u001b[0m\n\u001b[1;32m    726\u001b[0m                           \u001b[0mselection\u001b[0m\u001b[0;34m=\u001b[0m\u001b[0mself\u001b[0m\u001b[0;34m.\u001b[0m\u001b[0mselection\u001b[0m\u001b[0;34m,\u001b[0m\u001b[0;34m\u001b[0m\u001b[0m\n\u001b[0;32m--> 727\u001b[0;31m                           check_input=False)\n\u001b[0m\u001b[1;32m    728\u001b[0m             \u001b[0mcoef_\u001b[0m\u001b[0;34m[\u001b[0m\u001b[0mk\u001b[0m\u001b[0;34m]\u001b[0m \u001b[0;34m=\u001b[0m \u001b[0mthis_coef\u001b[0m\u001b[0;34m[\u001b[0m\u001b[0;34m:\u001b[0m\u001b[0;34m,\u001b[0m \u001b[0;36m0\u001b[0m\u001b[0;34m]\u001b[0m\u001b[0;34m\u001b[0m\u001b[0m\n\u001b[1;32m    729\u001b[0m             \u001b[0mdual_gaps_\u001b[0m\u001b[0;34m[\u001b[0m\u001b[0mk\u001b[0m\u001b[0;34m]\u001b[0m \u001b[0;34m=\u001b[0m \u001b[0mthis_dual_gap\u001b[0m\u001b[0;34m[\u001b[0m\u001b[0;36m0\u001b[0m\u001b[0;34m]\u001b[0m\u001b[0;34m\u001b[0m\u001b[0m\n",
      "\u001b[0;32m/anaconda/lib/python3.6/site-packages/sklearn/linear_model/coordinate_descent.py\u001b[0m in \u001b[0;36menet_path\u001b[0;34m(X, y, l1_ratio, eps, n_alphas, alphas, precompute, Xy, copy_X, coef_init, verbose, return_n_iter, positive, check_input, **params)\u001b[0m\n\u001b[1;32m    468\u001b[0m             model = cd_fast.enet_coordinate_descent(\n\u001b[1;32m    469\u001b[0m                 \u001b[0mcoef_\u001b[0m\u001b[0;34m,\u001b[0m \u001b[0ml1_reg\u001b[0m\u001b[0;34m,\u001b[0m \u001b[0ml2_reg\u001b[0m\u001b[0;34m,\u001b[0m \u001b[0mX\u001b[0m\u001b[0;34m,\u001b[0m \u001b[0my\u001b[0m\u001b[0;34m,\u001b[0m \u001b[0mmax_iter\u001b[0m\u001b[0;34m,\u001b[0m \u001b[0mtol\u001b[0m\u001b[0;34m,\u001b[0m \u001b[0mrng\u001b[0m\u001b[0;34m,\u001b[0m \u001b[0mrandom\u001b[0m\u001b[0;34m,\u001b[0m\u001b[0;34m\u001b[0m\u001b[0m\n\u001b[0;32m--> 470\u001b[0;31m                 positive)\n\u001b[0m\u001b[1;32m    471\u001b[0m         \u001b[0;32melse\u001b[0m\u001b[0;34m:\u001b[0m\u001b[0;34m\u001b[0m\u001b[0m\n\u001b[1;32m    472\u001b[0m             raise ValueError(\"Precompute should be one of True, False, \"\n",
      "\u001b[0;31mKeyboardInterrupt\u001b[0m: "
     ]
    }
   ],
   "source": [
    "from sklearn.linear_model import ElasticNet\n",
    "\n",
    "# Create the regressor: reg\n",
    "elastic_net = ElasticNet(alpha=10, l1_ratio=0.90)\n",
    "\n",
    "\n",
    "# Fit the model to the data\n",
    "elastic_net.fit(X_train,y_train)\n",
    "\n",
    "# Compute predictions over the prediction space: y_pred\n",
    "y_pred = elastic_net.predict(X_test)\n",
    "\n",
    "# Print R^2 \n",
    "print(elastic_net.score(X_test, y_test))\n",
    "\n",
    "rmse = np.sqrt(mean_squared_error(y_test,y_pred))\n",
    "print(\"Root Mean Squared Error: {}\".format(rmse))\n",
    "\n"
   ]
  },
  {
   "cell_type": "code",
   "execution_count": 47,
   "metadata": {},
   "outputs": [
    {
     "name": "stdout",
     "output_type": "stream",
     "text": [
      "                            OLS Regression Results                            \n",
      "==============================================================================\n",
      "Dep. Variable:                 SALARY   R-squared:                       0.504\n",
      "Model:                            OLS   Adj. R-squared:                  0.504\n",
      "Method:                 Least Squares   F-statistic:                     3161.\n",
      "Date:                Thu, 12 Apr 2018   Prob (F-statistic):               0.00\n",
      "Time:                        20:52:45   Log-Likelihood:            -4.5674e+06\n",
      "No. Observations:              391928   AIC:                         9.135e+06\n",
      "Df Residuals:                  391801   BIC:                         9.136e+06\n",
      "Df Model:                         126                                         \n",
      "Covariance Type:            nonrobust                                         \n",
      "===================================================================================\n",
      "                      coef    std err          t      P>|t|      [0.025      0.975]\n",
      "-----------------------------------------------------------------------------------\n",
      "YEAR               33.5226     31.822      1.053      0.292     -28.847      95.892\n",
      "SURID            1.261e+04    298.732     42.214      0.000     1.2e+04    1.32e+04\n",
      "AGE              -128.2878     32.668     -3.927      0.000    -192.316     -64.260\n",
      "BIRYR             -59.6003     31.586     -1.887      0.059    -121.509       2.308\n",
      "GENDER           6408.1552    103.852     61.705      0.000    6204.608    6611.703\n",
      "MINRTY          -1394.2382     86.890    -16.046      0.000   -1564.540   -1223.936\n",
      "BTHUS           -1982.1370    145.907    -13.585      0.000   -2268.111   -1696.163\n",
      "CTZUSIN          4240.5178    198.331     21.381      0.000    3851.795    4629.241\n",
      "HRSWKGR            1.2e+04     57.416    209.027      0.000    1.19e+04    1.21e+04\n",
      "WKSWKGR          7930.2436    130.632     60.707      0.000    7674.208    8186.279\n",
      "ACTCAP            722.5111    219.632      3.290      0.001     292.039    1152.983\n",
      "ACTDED           4304.7246    249.135     17.279      0.000    3816.427    4793.022\n",
      "ACTMGT           4671.8907    129.475     36.083      0.000    4418.123    4925.659\n",
      "ACTRD            3580.7758    319.951     11.192      0.000    2953.682    4207.870\n",
      "ACTRDT          -3928.1571    257.647    -15.246      0.000   -4433.137   -3423.177\n",
      "ACTRES           2160.9893    253.257      8.533      0.000    1664.613    2657.366\n",
      "ACTTCH           3572.7112    281.769     12.680      0.000    3020.452    4124.970\n",
      "RACETH_2         -596.2335    157.176     -3.793      0.000    -904.293    -288.174\n",
      "RACETH_3        -1394.2382     86.890    -16.046      0.000   -1564.540   -1223.936\n",
      "NBAMED_226395.0  -630.6284    186.190     -3.387      0.001    -995.554    -265.703\n",
      "NBAMED_298895.0 -2105.7472    267.355     -7.876      0.000   -2629.755   -1581.739\n",
      "NBAMED_318730.0  -687.1669    281.917     -2.437      0.015   -1239.717    -134.617\n",
      "NBAMED_338785.0   726.3344    294.200      2.469      0.014     149.711    1302.958\n",
      "NBAMED_398895.0  -133.0091    375.752     -0.354      0.723    -869.472     603.454\n",
      "NBAMED_419295.0  1937.1043    315.067      6.148      0.000    1319.583    2554.626\n",
      "NBAMED_429295.0  -366.2533    264.748     -1.383      0.167    -885.151     152.644\n",
      "NBAMED_438995.0 -1417.6161    223.921     -6.331      0.000   -1856.495    -978.737\n",
      "NBAMED_449995.0 -2055.1062    282.282     -7.280      0.000   -2608.370   -1501.843\n",
      "NBAMED_459395.0    25.1022    320.630      0.078      0.938    -603.322     653.527\n",
      "NBAMED_527250.0  -235.6678    429.811     -0.548      0.583   -1078.085     606.749\n",
      "NBAMED_537260.0   239.0847    432.150      0.553      0.580    -607.917    1086.087\n",
      "NBAMED_547280.0  1848.4207    285.771      6.468      0.000    1288.318    2408.524\n",
      "NBAMED_567350.0   178.4625    313.071      0.570      0.569    -435.146     792.071\n",
      "NBAMED_587995.0  -933.8913    229.635     -4.067      0.000   -1383.969    -483.814\n",
      "NBAMED_611995.0 -1545.7206    225.170     -6.865      0.000   -1987.047   -1104.394\n",
      "NBAMED_699995.0 -1416.6754    254.544     -5.566      0.000   -1915.575    -917.776\n",
      "NBAMED_719995.0 -2869.4321    227.914    -12.590      0.000   -3316.137   -2422.727\n",
      "NBAMED_799995.0  -651.3845    188.081     -3.463      0.001   -1020.017    -282.752\n",
      "NBAMEMG_2.0     -2736.3757    224.365    -12.196      0.000   -3176.124   -2296.627\n",
      "NBAMEMG_3.0       -93.8417    243.492     -0.385      0.700    -571.079     383.396\n",
      "NBAMEMG_4.0     -1876.7692    240.637     -7.799      0.000   -2348.411   -1405.127\n",
      "NBAMEMG_5.0      1096.4086    245.162      4.472      0.000     615.898    1576.919\n",
      "NBAMEMG_6.0     -2962.3960    210.503    -14.073      0.000   -3374.976   -2549.816\n",
      "NBAMEMG_7.0     -3520.8166    191.787    -18.358      0.000   -3896.714   -3144.919\n",
      "NDGMED_226395     625.2047    198.966      3.142      0.002     235.236    1015.173\n",
      "NDGMED_298895   -4378.5921    272.920    -16.044      0.000   -4913.507   -3843.677\n",
      "NDGMED_318730   -1163.5354    321.944     -3.614      0.000   -1794.537    -532.534\n",
      "NDGMED_338785    1152.3663    341.703      3.372      0.001     482.639    1822.093\n",
      "NDGMED_398895   -2645.6958    382.827     -6.911      0.000   -3396.025   -1895.367\n",
      "NDGMED_419295    4919.8672    352.279     13.966      0.000    4229.412    5610.323\n",
      "NDGMED_429295    2471.6249    306.172      8.073      0.000    1871.536    3071.713\n",
      "NDGMED_438995   -3028.7399    250.284    -12.101      0.000   -3519.289   -2538.190\n",
      "NDGMED_449995   -3299.3563    305.941    -10.784      0.000   -3898.991   -2699.722\n",
      "NDGMED_459395   -3206.3604    324.127     -9.892      0.000   -3841.639   -2571.082\n",
      "NDGMED_527250    1601.2205    493.719      3.243      0.001     633.546    2568.895\n",
      "NDGMED_537260   -2448.4259    457.454     -5.352      0.000   -3345.021   -1551.830\n",
      "NDGMED_547280    1018.1678    312.893      3.254      0.001     404.907    1631.429\n",
      "NDGMED_567350    -858.7670    351.535     -2.443      0.015   -1547.764    -169.770\n",
      "NDGMED_587995      64.6100    230.741      0.280      0.779    -387.636     516.856\n",
      "NDGMED_611995     957.0838    228.581      4.187      0.000     509.072    1405.096\n",
      "NDGMED_699995   -1607.7930    255.605     -6.290      0.000   -2108.771   -1106.815\n",
      "NDGMED_719995    3670.2182    175.993     20.854      0.000    3325.278    4015.158\n",
      "NDGMED_799995   -3611.8944    175.817    -20.543      0.000   -3956.491   -3267.298\n",
      "EMSEC_2.0       -4213.0921    258.613    -16.291      0.000   -4719.965   -3706.219\n",
      "EMSEC_3.0        8064.3431    282.752     28.521      0.000    7510.157    8618.529\n",
      "EMSEC_4.0        1.634e+04    258.823     63.130      0.000    1.58e+04    1.68e+04\n",
      "EMSIZE_2.0       7596.0460    264.251     28.746      0.000    7078.123    8113.970\n",
      "EMSIZE_3.0       1.022e+04    215.774     47.379      0.000    9800.159    1.06e+04\n",
      "EMSIZE_4.0       1.197e+04    195.405     61.235      0.000    1.16e+04    1.23e+04\n",
      "EMSIZE_5.0       1.417e+04    232.073     61.055      0.000    1.37e+04    1.46e+04\n",
      "EMSIZE_6.0       1.655e+04    192.720     85.901      0.000    1.62e+04    1.69e+04\n",
      "EMSIZE_7.0       1.849e+04    193.854     95.394      0.000    1.81e+04    1.89e+04\n",
      "EMSIZE_8.0       2.094e+04    180.942    115.755      0.000    2.06e+04    2.13e+04\n",
      "GOVSUP_1.0       -184.5491    114.825     -1.607      0.108    -409.602      40.504\n",
      "NDGMEMG_2       -3753.3874    240.434    -15.611      0.000   -4224.631   -3282.144\n",
      "NDGMEMG_3       -2656.8650    270.020     -9.839      0.000   -3186.097   -2127.633\n",
      "NDGMEMG_4       -2142.9645    261.937     -8.181      0.000   -2656.353   -1629.576\n",
      "NDGMEMG_5        -623.1945    262.510     -2.374      0.018   -1137.707    -108.682\n",
      "NDGMEMG_6        -650.7092    216.617     -3.004      0.003   -1075.272    -226.147\n",
      "NDGMEMG_7          58.3238    186.010      0.314      0.754    -306.251     422.899\n",
      "OCEDRLP_2.0     -3547.0404    113.340    -31.296      0.000   -3769.184   -3324.897\n",
      "OCEDRLP_3.0     -1.047e+04    158.168    -66.212      0.000   -1.08e+04   -1.02e+04\n",
      "WAPRSM_2.0      -8396.2140    253.650    -33.102      0.000   -8893.361   -7899.067\n",
      "WAPRSM_3.0       1477.3154    177.746      8.311      0.000    1128.939    1825.692\n",
      "WAPRSM_4.0        948.2581    273.957      3.461      0.001     411.311    1485.206\n",
      "WAPRSM_5.0        871.0162    191.999      4.537      0.000     494.703    1247.329\n",
      "WKTRNI_1.0        110.3558     97.172      1.136      0.256     -80.099     300.811\n",
      "NOCPR_192895.0   7807.9562    455.721     17.133      0.000    6914.757    8701.155\n",
      "NOCPR_222205.0  -1635.2568    244.769     -6.681      0.000   -2114.997   -1155.517\n",
      "NOCPR_282885.0   1556.5356    301.141      5.169      0.000     966.308    2146.763\n",
      "NOCPR_293995.0  -3061.0213    337.050     -9.082      0.000   -3721.629   -2400.414\n",
      "NOCPR_311930.0  -2745.3445    354.082     -7.753      0.000   -3439.334   -2051.355\n",
      "NOCPR_333305.0    419.9696    463.691      0.906      0.365    -488.851    1328.790\n",
      "NOCPR_382995.0  -2486.6839    348.557     -7.134      0.000   -3169.844   -1803.523\n",
      "NOCPR_393995.0   3109.2246    374.933      8.293      0.000    2374.367    3844.082\n",
      "NOCPR_412320.0   8202.3620    523.178     15.678      0.000    7176.949    9227.775\n",
      "NOCPR_432360.0  -2542.0912    318.392     -7.984      0.000   -3166.130   -1918.052\n",
      "NOCPR_482995.0  -1571.5191    296.192     -5.306      0.000   -2152.047    -990.991\n",
      "NOCPR_483995.0   -946.2073    372.573     -2.540      0.011   -1676.440    -215.975\n",
      "NOCPR_505005.0   -229.3427    234.366     -0.979      0.328    -688.693     230.008\n",
      "NOCPR_520850.0   -411.0803    476.541     -0.863      0.388   -1345.087     522.927\n",
      "NOCPR_530860.0  -1439.6917    386.666     -3.723      0.000   -2197.546    -681.837\n",
      "NOCPR_540890.0   3139.2166    290.502     10.806      0.000    2569.842    3708.591\n",
      "NOCPR_560940.0  -2464.8119    323.417     -7.621      0.000   -3098.700   -1830.924\n",
      "NOCPR_582800.0   4336.7788    427.561     10.143      0.000    3498.773    5174.785\n",
      "NOCPR_611995.0     97.0835    218.305      0.445      0.657    -330.788     524.955\n",
      "NOCPR_621995.0   1.181e+04    255.591     46.213      0.000    1.13e+04    1.23e+04\n",
      "NOCPR_631995.0  -1606.5506    325.122     -4.941      0.000   -2243.781    -969.320\n",
      "NOCPR_651995.0  -5352.6027    264.007    -20.274      0.000   -5870.049   -4835.157\n",
      "NOCPR_711410.0   1.592e+04    201.290     79.075      0.000    1.55e+04    1.63e+04\n",
      "NOCPR_711995.0    -31.4885    206.898     -0.152      0.879    -437.002     374.025\n",
      "NOCPR_735995.0   1150.6985    265.026      4.342      0.000     631.255    1670.142\n",
      "NOCPR_799995.0  -1.208e+04    169.482    -71.285      0.000   -1.24e+04   -1.17e+04\n",
      "NOCPRMG_2.0     -3139.7425    345.177     -9.096      0.000   -3816.279   -2463.206\n",
      "NOCPRMG_3.0     -1702.8341    382.179     -4.456      0.000   -2451.893    -953.775\n",
      "NOCPRMG_4.0      3142.5445    373.520      8.413      0.000    2410.456    3874.633\n",
      "NOCPRMG_5.0      2931.0687    391.320      7.490      0.000    2164.094    3698.044\n",
      "NOCPRMG_6.0      4949.4355    341.776     14.482      0.000    4279.565    5619.306\n",
      "NOCPRMG_7.0      4954.6816    339.184     14.608      0.000    4289.892    5619.472\n",
      "SAMPLE_602      -1.047e+04    173.534    -60.325      0.000   -1.08e+04   -1.01e+04\n",
      "SAMPLE_701       6578.4172    181.391     36.267      0.000    6222.896    6933.938\n",
      "SAMPLE_702      -5503.2989    167.781    -32.800      0.000   -5832.145   -5174.452\n",
      "SAMPLE_801       1.304e+04    185.214     70.398      0.000    1.27e+04    1.34e+04\n",
      "SAMPLE_802       5778.6131    168.155     34.365      0.000    5449.034    6108.192\n",
      "SAMPLE_901       1.509e+04    189.992     79.420      0.000    1.47e+04    1.55e+04\n",
      "SAMPLE_902       9286.6509    167.984     55.283      0.000    8957.407    9615.895\n",
      "SAMPLE_1001      1.957e+04    194.938    100.379      0.000    1.92e+04    1.99e+04\n",
      "SAMPLE_1002      1.382e+04    174.384     79.238      0.000    1.35e+04    1.42e+04\n",
      "HD03Y5_1951     -2979.1239   8601.180     -0.346      0.729   -1.98e+04    1.39e+04\n",
      "HD03Y5_1956      -990.9487   8435.959     -0.117      0.906   -1.75e+04    1.55e+04\n",
      "HD03Y5_1961      -749.8887   8411.443     -0.089      0.929   -1.72e+04    1.57e+04\n",
      "HD03Y5_1966       422.3019   8405.321      0.050      0.960   -1.61e+04    1.69e+04\n",
      "HD03Y5_1971      1535.6241   8404.267      0.183      0.855   -1.49e+04     1.8e+04\n",
      "HD03Y5_1976      1416.1707   8404.651      0.168      0.866   -1.51e+04    1.79e+04\n",
      "HD03Y5_1981       753.0643   8405.320      0.090      0.929   -1.57e+04    1.72e+04\n",
      "HD03Y5_1986     -2353.7588   8406.172     -0.280      0.779   -1.88e+04    1.41e+04\n",
      "HD03Y5_1991     -6571.8439   8407.151     -0.782      0.434    -2.3e+04    9905.920\n",
      "HD03Y5_1996     -1.225e+04   8408.399     -1.457      0.145   -2.87e+04    4228.428\n",
      "HD03Y5_2001     -2.061e+04   8410.425     -2.450      0.014   -3.71e+04   -4125.551\n",
      "HD03Y5_2006     -2.897e+04   8412.978     -3.444      0.001   -4.55e+04   -1.25e+04\n",
      "HD03Y5_2011     -3.652e+04   8421.458     -4.337      0.000    -5.3e+04      -2e+04\n",
      "DGRDG_2           1.16e+04    134.849     85.989      0.000    1.13e+04    1.19e+04\n",
      "DGRDG_3          2.392e+04    349.139     68.512      0.000    2.32e+04    2.46e+04\n",
      "DGRDG_4          3.972e+04    278.795    142.458      0.000    3.92e+04    4.03e+04\n",
      "JOBSATIS_2.0    -6180.6736     96.064    -64.339      0.000   -6368.955   -5992.392\n",
      "JOBSATIS_3.0    -9997.2805    179.507    -55.693      0.000   -1.03e+04   -9645.452\n",
      "JOBSATIS_4.0    -1.239e+04    324.686    -38.170      0.000    -1.3e+04   -1.18e+04\n",
      "==============================================================================\n",
      "Omnibus:                     8192.075   Durbin-Watson:                   1.906\n",
      "Prob(Omnibus):                  0.000   Jarque-Bera (JB):            16927.748\n",
      "Skew:                           0.099   Prob(JB):                         0.00\n",
      "Kurtosis:                       3.999   Cond. No.                     6.07e+16\n",
      "==============================================================================\n",
      "\n",
      "Warnings:\n",
      "[1] Standard Errors assume that the covariance matrix of the errors is correctly specified.\n",
      "[2] The smallest eigenvalue is 8.39e-22. This might indicate that there are\n",
      "strong multicollinearity problems or that the design matrix is singular.\n"
     ]
    }
   ],
   "source": [
    "# your turn\n",
    "# Import regression modules\n",
    "import statsmodels.api as sm\n",
    "from statsmodels.formula.api import ols\n",
    "\n",
    "mod = sm.OLS(y, X)\n",
    "res = mod.fit()\n",
    "print(res.summary() )\n",
    "#m3 = ols(formula='SALARY ~ ALL',data = df_employed_d).fit()\n",
    "#print(m3.summary())"
   ]
  },
  {
   "cell_type": "code",
   "execution_count": 49,
   "metadata": {},
   "outputs": [
    {
     "name": "stdout",
     "output_type": "stream",
     "text": [
      "Tuned Logistic Regression Parameters: {'max_depth': 100, 'max_features': 30, 'n_estimators': 50}\n",
      "Best score is 0.5583350342828023\n",
      "Score on the test data is:  0.561449427735\n",
      "RBF Root Mean Squared Error: 26198.647566059568\n"
     ]
    }
   ],
   "source": [
    "# Import necessary modules\n",
    "from sklearn.ensemble import RandomForestRegressor\n",
    "from sklearn.model_selection import GridSearchCV\n",
    "\n",
    "# Setup the hyperparameter grid\n",
    "param_grid = {\"n_estimators\": [10, 30, 50],\n",
    "              \"max_features\": [10, 30],\n",
    "              \"max_depth\": [10, 100, 300]\n",
    "              }\n",
    "\n",
    "# Instantiate a logistic regression classifier: logreg\n",
    "rfr = RandomForestRegressor()\n",
    "\n",
    "# Instantiate the GridSearchCV object: logreg_cv\n",
    "rfr_cv = GridSearchCV(rfr, param_grid, cv=5)\n",
    "\n",
    "# Fit it to the data\n",
    "rfr_cv.fit(X_train,y_train)\n",
    "\n",
    "y_rfr_cv = rfr_cv.predict(X_test)\n",
    "\n",
    "rmse_rfr_cv = np.sqrt(mean_squared_error(y_test,y_rfr_cv))\n",
    "\n",
    "# Print the tuned parameters and score\n",
    "print(\"Tuned Logistic Regression Parameters: {}\".format(rfr_cv.best_params_)) \n",
    "print(\"Best score is {}\".format(rfr_cv.best_score_))\n",
    "\n",
    "# test data result\n",
    "print(\"Score on the test data is: \", rfr_cv.score(X_test, y_test))\n",
    "\n",
    "# Print RMSE\n",
    "print(\"RBF Root Mean Squared Error: {}\".format(rmse_rfr_cv))"
   ]
  },
  {
   "cell_type": "code",
   "execution_count": 188,
   "metadata": {},
   "outputs": [
    {
     "name": "stdout",
     "output_type": "stream",
     "text": [
      "0.487306369428\n",
      "RBF Root Mean Squared Error: 28326.83107102619\n"
     ]
    },
    {
     "data": {
      "image/png": "[encoded data removed]",
      "text/plain": [
       "<matplotlib.figure.Figure at 0x1239dd518>"
      ]
     },
     "metadata": {},
     "output_type": "display_data"
    }
   ],
   "source": [
    "## Trying random forest regressor \n",
    "X = df_employed_d.drop(['SALARY'], axis=1)\n",
    "y = df_employed_d['SALARY']\n",
    "X_train, X_test, y_train, y_test = train_test_split(X, y, test_size = 0.3, random_state=42)\n",
    "\n",
    "from sklearn.ensemble import RandomForestRegressor\n",
    "\n",
    "rfr = RandomForestRegressor(n_estimators=100, max_features=25, max_depth=100)\n",
    "\n",
    "#rfr.fit(X,y)\n",
    "# Use feature selection\n",
    "#model = SelectFromModel(rfr, prefit=True)\n",
    "#X_new = model.transform(X)\n",
    "\n",
    "#train test split\n",
    "#X_train, X_test, y_train, y_test = train_test_split(X_new, y, test_size = 0.3, random_state=42)\n",
    "\n",
    "y_rfr = rfr.fit(X_train, y_train).predict(X_test)\n",
    "\n",
    "rmse_rfr = np.sqrt(mean_squared_error(y_test,y_rfr))\n",
    "\n",
    "# Print R^2 \n",
    "print(rfr.score(X_test, y_test))\n",
    "\n",
    "# Print RMSE\n",
    "print(\"RBF Root Mean Squared Error: {}\".format(rmse_rfr))\n",
    "\n",
    "\n",
    "plt.hist(y_test, bins=20, label='SALARY')\n",
    "plt.hist(y_pred,  bins=20, alpha=0.5, label='predicted SALARY')\n",
    "plt.title(\"Distribution of SALARY\")\n",
    "plt.legend()\n",
    "plt.xlabel(\"SALARY\")\n",
    "plt.ylabel(\"Frequencey\")\n",
    "plt.show()"
   ]
  },
  {
   "cell_type": "code",
   "execution_count": 138,
   "metadata": {},
   "outputs": [
    {
     "name": "stdout",
     "output_type": "stream",
     "text": [
      "length of y_train is: 274349\n",
      "mean of y_train is: 77601.93767792119\n",
      "length of 150000: 25882.0\n"
     ]
    }
   ],
   "source": [
    "## change the salary to eliminate the capped value\n",
    "\n",
    "print('length of y_train is:', len(y_train))\n",
    "print('mean of y_train is:', np.mean(y_train))\n",
    "y_train_max = y_train[y_train==150000]\n",
    "n_max = len(y_train_max) *2\n",
    "print('length of 150000:', n_max/2)\n",
    "np.random.seed(42)\n",
    "n_dist = np.random.normal(150000, 30000, n_max)\n",
    "\n",
    "n_dist_p = n_dist[n_dist>=150000]\n",
    "#plt.hist(n_dist_p, bins=40, label='SALARY')\n",
    "n_make = len(n_dist_p)\n",
    "\n",
    "new_ls= np.empty(len(y_train))\n",
    "\n",
    "def make_tail(ls, thrs):\n",
    "\n",
    "    for i, val in enumerate(ls):\n",
    "        if val<thrs:\n",
    "            new_ls[i] = val\n",
    "        else:\n",
    "            n = np.random.randint(n_make)\n",
    "            new_ls[i] = n_dist_p[n]\n",
    "    return new_ls\n",
    "\n",
    "y_train_new = make_tail(y_train, 150000)\n",
    "\n"
   ]
  },
  {
   "cell_type": "code",
   "execution_count": 144,
   "metadata": {},
   "outputs": [
    {
     "name": "stdout",
     "output_type": "stream",
     "text": [
      "274349\n"
     ]
    },
    {
     "data": {
      "text/plain": [
       "(array([  1.25270000e+04,   1.35490000e+04,   2.42500000e+04,\n",
       "          3.20160000e+04,   3.70200000e+04,   3.81910000e+04,\n",
       "          2.74160000e+04,   2.71290000e+04,   1.81770000e+04,\n",
       "          1.03570000e+04,   7.39900000e+03,   7.91000000e+03,\n",
       "          7.53200000e+03,   5.50400000e+03,   3.14000000e+03,\n",
       "          1.45200000e+03,   5.31000000e+02,   1.88000000e+02,\n",
       "          4.60000000e+01,   1.50000000e+01]),\n",
       " array([      0.        ,   13413.49651621,   26826.99303242,\n",
       "          40240.48954863,   53653.98606484,   67067.48258105,\n",
       "          80480.97909726,   93894.47561347,  107307.97212968,\n",
       "         120721.46864589,  134134.9651621 ,  147548.46167831,\n",
       "         160961.95819452,  174375.45471073,  187788.95122694,\n",
       "         201202.44774315,  214615.94425936,  228029.44077557,\n",
       "         241442.93729178,  254856.43380799,  268269.9303242 ]),\n",
       " <a list of 20 Patch objects>)"
      ]
     },
     "execution_count": 144,
     "metadata": {},
     "output_type": "execute_result"
    },
    {
     "data": {
      "image/png": "[encoded data removed]",
      "text/plain": [
       "<matplotlib.figure.Figure at 0x11ea0cd68>"
      ]
     },
     "metadata": {},
     "output_type": "display_data"
    }
   ],
   "source": [
    "#plot new salary distribution\n",
    "print(len(y_train_new))\n",
    "plt.hist(y_train_new, bins=20, label='SALARY')            "
   ]
  },
  {
   "cell_type": "code",
   "execution_count": 143,
   "metadata": {},
   "outputs": [
    {
     "name": "stdout",
     "output_type": "stream",
     "text": [
      "0.497509756523\n",
      "Root Mean Squared Error: 28043.54088741142\n"
     ]
    },
    {
     "data": {
      "image/png": "[encoded data removed]",
      "text/plain": [
       "<matplotlib.figure.Figure at 0x123281b38>"
      ]
     },
     "metadata": {},
     "output_type": "display_data"
    }
   ],
   "source": [
    "### fit with new y_train\n",
    "\n",
    "# Create the regressor: reg\n",
    "reg = Ridge(alpha=20)\n",
    "\n",
    "\n",
    "# Fit the model to the data\n",
    "reg.fit(X_train,y_train_new)\n",
    "\n",
    "# Compute predictions over the prediction space: y_pred\n",
    "y_pred = reg.predict(X_test)\n",
    "\n",
    "# Print R^2 \n",
    "print(reg.score(X_test, y_test))\n",
    "\n",
    "rmse = np.sqrt(mean_squared_error(y_test,y_pred))\n",
    "print(\"Root Mean Squared Error: {}\".format(rmse))\n",
    "\n",
    "# your turn\n",
    "\n",
    "plt.hist(y_test, bins=20, label='SALARY')\n",
    "plt.hist(y_pred,  bins=20, alpha=0.5, label='predicted SALARY')\n",
    "plt.title(\"Distribution of SALARY\")\n",
    "plt.legend()\n",
    "plt.xlabel(\"SALARY\")\n",
    "plt.ylabel(\"Frequencey\")\n",
    "plt.show()"
   ]
  },
  {
   "cell_type": "code",
   "execution_count": 167,
   "metadata": {
    "collapsed": true
   },
   "outputs": [],
   "source": [
    "## Regression on data with less than 150000 salary\n",
    "\n",
    "\n",
    "df_decap = df_employed_d[df_employed_d['SALARY']<150000]\n",
    "X = df_decap.drop(['SALARY'], axis=1)\n",
    "y = df_decap['SALARY']\n",
    "\n",
    "\n",
    "# Create the regressor: reg\n",
    "reg = Ridge(alpha=100)\n",
    "\n",
    "# Fit the model to the data\n",
    "reg.fit(X,y)\n",
    "\n",
    "# Use feature selection\n",
    "model = SelectFromModel(reg, prefit=True)\n",
    "X_new = model.transform(X)\n"
   ]
  },
  {
   "cell_type": "code",
   "execution_count": 169,
   "metadata": {},
   "outputs": [
    {
     "name": "stdout",
     "output_type": "stream",
     "text": [
      "0.429307967437\n",
      "Root Mean Squared Error: 25304.52951105597\n"
     ]
    },
    {
     "data": {
      "image/png": "[encoded data removed]",
      "text/plain": [
       "<matplotlib.figure.Figure at 0x1239e6eb8>"
      ]
     },
     "metadata": {},
     "output_type": "display_data"
    }
   ],
   "source": [
    "#train test split\n",
    "X_train, X_test, y_train, y_test = train_test_split(X_new, y, test_size = 0.3, random_state=42)\n",
    "\n",
    "# Compute predictions over the prediction space: y_pred\n",
    "# Fit the model to the new data\n",
    "reg.fit(X_train, y_train)\n",
    "y_pred = reg.predict(X_test)\n",
    "\n",
    "# Print R^2 \n",
    "print(reg.score(X_test, y_test))\n",
    "\n",
    "rmse = np.sqrt(mean_squared_error(y_test,y_pred))\n",
    "print(\"Root Mean Squared Error: {}\".format(rmse))\n",
    "\n",
    "# your turn\n",
    "\n",
    "plt.hist(y_test, bins=20, label='SALARY')\n",
    "plt.hist(y_pred,  bins=20, alpha=0.5, label='predicted SALARY')\n",
    "plt.title(\"Distribution of SALARY\")\n",
    "plt.legend()\n",
    "plt.xlabel(\"SALARY\")\n",
    "plt.ylabel(\"Frequencey\")\n",
    "plt.show()\n"
   ]
  },
  {
   "cell_type": "code",
   "execution_count": 172,
   "metadata": {},
   "outputs": [
    {
     "name": "stdout",
     "output_type": "stream",
     "text": [
      "Score on the test data is:  0.53976874422\n",
      "RBF Root Mean Squared Error: 22724.033297805556\n"
     ]
    }
   ],
   "source": [
    "df_demax = df_employed_d[df_employed_d['SALARY']<150000]\n",
    "X_s = df_demax.drop(['SALARY'], axis=1)\n",
    "y_s = df_demax['SALARY']\n",
    "\n",
    "#train test split\n",
    "X_train, X_test, y_train, y_test = train_test_split(X_s, y_s, test_size = 0.3, random_state=42)\n",
    "\n",
    "# Setup the hyperparameter grid\n",
    "#param_grid = {\"n_estimators\": [100],\n",
    "#              \"max_features\": [25],\n",
    "#              \"max_depth\": [100]\n",
    "#              }\n",
    "\n",
    "# Instantiate a logistic regression classifier: logreg\n",
    "rfr = RandomForestRegressor(n_estimators=100, max_features=25, max_depth=100)\n",
    "\n",
    "# Instantiate the GridSearchCV object: logreg_cv\n",
    "#rfr_cv = GridSearchCV(rfr, param_grid, cv=5)\n",
    "\n",
    "# Fit it to the data\n",
    "rfr.fit(X_train,y_train)\n",
    "\n",
    "y_rfr = rfr.predict(X_test)\n",
    "\n",
    "rmse_rfr = np.sqrt(mean_squared_error(y_test,y_rfr))\n",
    "\n",
    "# Print the tuned parameters and score\n",
    "#print(\"Tuned Logistic Regression Parameters: {}\".format(rfr.best_params_)) \n",
    "#print(\"Best score is {}\".format(rfr.best_score_))\n",
    "\n",
    "# test data result\n",
    "print(\"Score on the test data is: \", rfr.score(X_test, y_test))\n",
    "\n",
    "# Print RMSE\n",
    "print(\"RBF Root Mean Squared Error: {}\".format(rmse_rfr))\n"
   ]
  },
  {
   "cell_type": "code",
   "execution_count": 22,
   "metadata": {},
   "outputs": [
    {
     "name": "stdout",
     "output_type": "stream",
     "text": [
      "Score on the test data is:  0.511652980776\n",
      "RBF Root Mean Squared Error: 27812.743484063572\n"
     ]
    }
   ],
   "source": [
    "# Import necessary modules\n",
    "from sklearn.ensemble import RandomForestRegressor\n",
    "from sklearn.model_selection import GridSearchCV\n",
    "\n",
    "\n",
    "df_demax = df_employed_d[df_employed_d['SALARY']<=150000]\n",
    "df_demax_sample = df_demax.sample(frac=0.1)\n",
    "\n",
    "X_s = df_demax_sample.drop(['SALARY'], axis=1)\n",
    "y_s = df_demax_sample['SALARY']\n",
    "\n",
    "#train test split\n",
    "X_train, X_test, y_train, y_test = train_test_split(X_s, y_s, test_size = 0.3, random_state=42)\n",
    "\n",
    "# Setup the hyperparameter grid\n",
    "#param_grid = {\"n_estimators\": [100],\n",
    "#              \"max_features\": [25],\n",
    "#              \"max_depth\": [100]\n",
    "#              }\n",
    "\n",
    "# Instantiate a logistic regression classifier: logreg\n",
    "rfr = RandomForestRegressor(n_estimators=200, max_features=25, max_depth=100)\n",
    "\n",
    "# Instantiate the GridSearchCV object: logreg_cv\n",
    "#rfr_cv = GridSearchCV(rfr, param_grid, cv=5)\n",
    "\n",
    "# Fit it to the data\n",
    "rfr.fit(X_train,y_train)\n",
    "\n",
    "y_rfr = rfr.predict(X_test)\n",
    "\n",
    "rmse_rfr = np.sqrt(mean_squared_error(y_test,y_rfr))\n",
    "\n",
    "# Print the tuned parameters and score\n",
    "#print(\"Tuned Logistic Regression Parameters: {}\".format(rfr.best_params_)) \n",
    "#print(\"Best score is {}\".format(rfr.best_score_))\n",
    "\n",
    "# test data result\n",
    "print(\"Score on the test data is: \", rfr.score(X_test, y_test))\n",
    "\n",
    "# Print RMSE\n",
    "print(\"RBF Root Mean Squared Error: {}\".format(rmse_rfr))"
   ]
  },
  {
   "cell_type": "code",
   "execution_count": null,
   "metadata": {},
   "outputs": [],
   "source": [
    "# Trying SVR \n",
    "from sklearn.svm import SVR\n",
    "df_demax = df_employed_d[df_employed_d['SALARY']<=150000]\n",
    "df_demax_sample = df_demax.sample(frac=0.20, random_state=42)\n",
    "\n",
    "X_s = df_demax_sample.drop(['SALARY'], axis=1)\n",
    "y_s = df_demax_sample['SALARY']\n",
    "\n",
    "#train test split\n",
    "X_train, X_test, y_train, y_test = train_test_split(X_s, y_s, test_size = 0.3, random_state=42)\n",
    "\n",
    "\n",
    "svr_rbf = SVR(kernel='rbf', C=120000, gamma=0.005)\n",
    "#svr_lin = SVR(kernel='linear', C=1e3)\n",
    "#svr_poly = SVR(kernel='poly', C=1e3, degree=2)\n",
    "y_rbf = svr_rbf.fit(X_train, y_train).predict(X_test)\n",
    "#y_lin = svr_fit(X_train, y_train).predict(X_test)\n",
    "#y_poly = svr_fit(X_train, y_train).predict(X_test)\n",
    "\n",
    "rmse_rbf = np.sqrt(mean_squared_error(y_test,y_rbf))\n",
    "#rmse_lin = np.sqrt(mean_squared_error(y_test,y_lin))\n",
    "#rmse_poly = np.sqrt(mean_squared_error(y_test,y_poly))\n",
    "\n",
    "# Print R^2 \n",
    "print(svr_rbf.score(X_test, y_test))\n",
    "\n",
    "# Print RMSE\n",
    "print(\"RBF Root Mean Squared Error: {}\".format(rmse_rbf))\n",
    "#print(\"LIN Root Mean Squared Error: {}\".format(rmse_lin))\n",
    "#print(\"Poly Root Mean Squared Error: {}\".format(rmse_poly))"
   ]
  },
  {
   "cell_type": "code",
   "execution_count": null,
   "metadata": {
    "collapsed": true
   },
   "outputs": [],
   "source": []
  },
  {
   "cell_type": "code",
   "execution_count": null,
   "metadata": {
    "collapsed": true
   },
   "outputs": [],
   "source": []
  }
 ],
 "metadata": {
  "kernelspec": {
   "display_name": "Python 3",
   "language": "python",
   "name": "python3"
  },
  "language_info": {
   "codemirror_mode": {
    "name": "ipython",
    "version": 3
   },
   "file_extension": ".py",
   "mimetype": "text/x-python",
   "name": "python",
   "nbconvert_exporter": "python",
   "pygments_lexer": "ipython3",
   "version": "3.6.1"
  }
 },
 "nbformat": 4,
 "nbformat_minor": 2
}
