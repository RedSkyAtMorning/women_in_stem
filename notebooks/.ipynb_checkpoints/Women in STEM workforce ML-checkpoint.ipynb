{
 "cells": [
  {
   "cell_type": "markdown",
   "metadata": {},
   "source": [
    "# Importing and Tidying the Data"
   ]
  },
  {
   "cell_type": "code",
   "execution_count": 1,
   "metadata": {
    "collapsed": true
   },
   "outputs": [],
   "source": [
    "# import stuff\n",
    "import numpy as np\n",
    "import pandas as pd"
   ]
  },
  {
   "cell_type": "code",
   "execution_count": 2,
   "metadata": {
    "collapsed": true
   },
   "outputs": [],
   "source": [
    "import matplotlib.pyplot as plt\n",
    "import seaborn as sns\n",
    "sns.set_style('whitegrid')\n",
    "sns.set_context(\"talk\")\n",
    "%matplotlib inline"
   ]
  },
  {
   "cell_type": "code",
   "execution_count": 4,
   "metadata": {},
   "outputs": [],
   "source": [
    "#import the data from csv file with a series of NAN values \n",
    "df1 = pd.read_csv('./../data/highered_00004.csv', dtype={'REFID': str},na_values=[96, 99, 98, 9996, 9998 ,\n",
    "    9999, 999996, 999998, 999999, 9999998, 9999999] )\n",
    "df2 = pd.read_csv('./../data/highered_00006.csv', dtype={'REFID': str},na_values=[96, 99, 98, 9996, 9998 ,\n",
    "    9999, 999996, 999998, 999999, 9999998, 9999999] )\n",
    "df3 = df1.merge(df2, on='PERSONID')"
   ]
  },
  {
   "cell_type": "code",
   "execution_count": 5,
   "metadata": {
    "collapsed": true
   },
   "outputs": [],
   "source": [
    "#'REFID' contains two data types and is repeated info from 'PERSONID'. Column dropped. \n",
    "df = df3.drop(['REFID'], axis=1)"
   ]
  },
  {
   "cell_type": "code",
   "execution_count": 6,
   "metadata": {
    "scrolled": true
   },
   "outputs": [
    {
     "name": "stdout",
     "output_type": "stream",
     "text": [
      "<class 'pandas.core.frame.DataFrame'>\n",
      "Int64Index: 1462033 entries, 0 to 1462032\n",
      "Data columns (total 50 columns):\n",
      "PERSONID    1462033 non-null int64\n",
      "YEAR_x      1462033 non-null int64\n",
      "WEIGHT_x    1462001 non-null float64\n",
      "SAMPLE_x    1462033 non-null int64\n",
      "SURID_x     1462033 non-null int64\n",
      "AGE         1462033 non-null int64\n",
      "BIRYR       1462033 non-null int64\n",
      "GENDER      1462033 non-null int64\n",
      "MINRTY      1462033 non-null int64\n",
      "RACETH      1462033 non-null int64\n",
      "BTHUS       1462033 non-null int64\n",
      "CTZUSIN     1462033 non-null int64\n",
      "CTZUS       1354987 non-null float64\n",
      "FNVS        64696 non-null float64\n",
      "CHTOT       685540 non-null float64\n",
      "BA03Y5      1423707 non-null float64\n",
      "NBAMED      1417571 non-null float64\n",
      "NBAMEMG     1423719 non-null float64\n",
      "DGRDG       1462033 non-null int64\n",
      "HD03Y5      1462033 non-null int64\n",
      "NDGMED      1462033 non-null int64\n",
      "NDGMEMG     1462033 non-null int64\n",
      "LFSTAT      1462033 non-null int64\n",
      "WRKG        1462033 non-null int64\n",
      "HRSWKGR     1250170 non-null float64\n",
      "WKSWKGR     1250170 non-null float64\n",
      "LOOKWK      211863 non-null float64\n",
      "OCEDRLP     1250170 non-null float64\n",
      "NOCPR       1250170 non-null float64\n",
      "NOCPRMG     1250170 non-null float64\n",
      "SALARY      1250170 non-null float64\n",
      "CPI2009C    1462033 non-null float64\n",
      "JOBSATIS    1250170 non-null float64\n",
      "YEAR_y      1462033 non-null int64\n",
      "WEIGHT_y    1462001 non-null float64\n",
      "SAMPLE_y    1462033 non-null int64\n",
      "SURID_y     1462033 non-null int64\n",
      "EMSEC       1249008 non-null float64\n",
      "EMSIZE      1249008 non-null float64\n",
      "GOVSUP      1311736 non-null float64\n",
      "WAPRSM      1249008 non-null float64\n",
      "ACTCAP      1249008 non-null float64\n",
      "ACTDED      1249008 non-null float64\n",
      "ACTMGT      1249008 non-null float64\n",
      "ACTRD       1249008 non-null float64\n",
      "ACTRDT      1249008 non-null float64\n",
      "ACTRES      1249008 non-null float64\n",
      "ACTTCH      1249008 non-null float64\n",
      "NRREA       148617 non-null float64\n",
      "WKTRNI      1459752 non-null float64\n",
      "dtypes: float64(30), int64(20)\n",
      "memory usage: 568.9 MB\n"
     ]
    }
   ],
   "source": [
    "# explanation of the survey https://highered.ipums.org/highered/survey_designs.shtml\n",
    "\n",
    "# Respondents from each of these three surveys with science or engineering degrees                               ##\n",
    "# or occupations are compiled into one dataset: the SESTAT (the Scientists and Engineers Statistical Data System)##\n",
    "\n",
    "df.info(3)\n"
   ]
  },
  {
   "cell_type": "code",
   "execution_count": 16,
   "metadata": {},
   "outputs": [
    {
     "name": "stdout",
     "output_type": "stream",
     "text": [
      "<class 'pandas.core.frame.DataFrame'>\n",
      "Int64Index: 1250170 entries, 0 to 1462032\n",
      "Data columns (total 35 columns):\n",
      "YEAR_x      1250170 non-null int64\n",
      "SAMPLE_x    1250170 non-null int64\n",
      "AGE         1250170 non-null int64\n",
      "BIRYR       1250170 non-null int64\n",
      "GENDER      1250170 non-null int64\n",
      "MINRTY      1250170 non-null int64\n",
      "RACETH      1250170 non-null int64\n",
      "BTHUS       1250170 non-null int64\n",
      "CTZUSIN     1250170 non-null int64\n",
      "NBAMED      1210650 non-null float64\n",
      "NBAMEMG     1216354 non-null float64\n",
      "DGRDG       1250170 non-null int64\n",
      "HD03Y5      1250170 non-null int64\n",
      "NDGMED      1250170 non-null int64\n",
      "NDGMEMG     1250170 non-null int64\n",
      "HRSWKGR     1250170 non-null float64\n",
      "WKSWKGR     1250170 non-null float64\n",
      "OCEDRLP     1250170 non-null float64\n",
      "NOCPR       1250170 non-null float64\n",
      "NOCPRMG     1250170 non-null float64\n",
      "SALARY      1250170 non-null float64\n",
      "JOBSATIS    1250170 non-null float64\n",
      "EMSEC       1198452 non-null float64\n",
      "EMSIZE      1198452 non-null float64\n",
      "GOVSUP      1221784 non-null float64\n",
      "WAPRSM      1198452 non-null float64\n",
      "ACTCAP      1198452 non-null float64\n",
      "ACTDED      1198452 non-null float64\n",
      "ACTMGT      1198452 non-null float64\n",
      "ACTRD       1198452 non-null float64\n",
      "ACTRDT      1198452 non-null float64\n",
      "ACTRES      1198452 non-null float64\n",
      "ACTTCH      1198452 non-null float64\n",
      "NRREA       138097 non-null float64\n",
      "WKTRNI      1249588 non-null float64\n",
      "dtypes: float64(22), int64(13)\n",
      "memory usage: 343.4 MB\n"
     ]
    }
   ],
   "source": [
    "df_employed = df[df['LFSTAT']==1]\n",
    "df_employed_small = df_employed.drop(['CTZUS', 'WEIGHT_x', 'WEIGHT_y','YEAR_y', 'WRKG', 'SAMPLE_y', 'SURID_x', 'SURID_y', 'FNVS', 'CHTOT', 'CPI2009C', 'PERSONID', 'LFSTAT','BA03Y5', 'LOOKWK'], axis=1)\n",
    "df_employed_small.info()"
   ]
  },
  {
   "cell_type": "code",
   "execution_count": 25,
   "metadata": {
    "scrolled": true
   },
   "outputs": [
    {
     "name": "stdout",
     "output_type": "stream",
     "text": [
      "<class 'pandas.core.frame.DataFrame'>\n",
      "Int64Index: 134006 entries, 18 to 1462029\n",
      "Data columns (total 35 columns):\n",
      "YEAR_x      134006 non-null int64\n",
      "SAMPLE_x    134006 non-null int64\n",
      "AGE         134006 non-null int64\n",
      "BIRYR       134006 non-null int64\n",
      "GENDER      134006 non-null int64\n",
      "MINRTY      134006 non-null int64\n",
      "RACETH      134006 non-null int64\n",
      "BTHUS       134006 non-null int64\n",
      "CTZUSIN     134006 non-null int64\n",
      "NBAMED      134006 non-null float64\n",
      "NBAMEMG     134006 non-null float64\n",
      "DGRDG       134006 non-null int64\n",
      "HD03Y5      134006 non-null int64\n",
      "NDGMED      134006 non-null int64\n",
      "NDGMEMG     134006 non-null int64\n",
      "HRSWKGR     134006 non-null float64\n",
      "WKSWKGR     134006 non-null float64\n",
      "OCEDRLP     134006 non-null float64\n",
      "NOCPR       134006 non-null float64\n",
      "NOCPRMG     134006 non-null float64\n",
      "SALARY      134006 non-null float64\n",
      "JOBSATIS    134006 non-null float64\n",
      "EMSEC       134006 non-null float64\n",
      "EMSIZE      134006 non-null float64\n",
      "GOVSUP      134006 non-null float64\n",
      "WAPRSM      134006 non-null float64\n",
      "ACTCAP      134006 non-null float64\n",
      "ACTDED      134006 non-null float64\n",
      "ACTMGT      134006 non-null float64\n",
      "ACTRD       134006 non-null float64\n",
      "ACTRDT      134006 non-null float64\n",
      "ACTRES      134006 non-null float64\n",
      "ACTTCH      134006 non-null float64\n",
      "NRREA       134006 non-null float64\n",
      "WKTRNI      134006 non-null float64\n",
      "dtypes: float64(22), int64(13)\n",
      "memory usage: 36.8 MB\n"
     ]
    }
   ],
   "source": [
    "#df_employed_l = df_employed_small[df_employed_small.SALARY != 150000]\n",
    "df_employed_l = df_employed_small.dropna()\n",
    "\n",
    "df_employed_l.info()"
   ]
  },
  {
   "cell_type": "code",
   "execution_count": 26,
   "metadata": {
    "scrolled": true
   },
   "outputs": [
    {
     "data": {
      "text/plain": [
       "<matplotlib.axes._subplots.AxesSubplot at 0x11cb28e48>"
      ]
     },
     "execution_count": 26,
     "metadata": {},
     "output_type": "execute_result"
    },
    {
     "data": {
      "image/png": "[encoded data removed]",
      "text/plain": [
       "<matplotlib.figure.Figure at 0x11c781cc0>"
      ]
     },
     "metadata": {},
     "output_type": "display_data"
    }
   ],
   "source": [
    "sns.heatmap(df_employed_l.corr())"
   ]
  },
  {
   "cell_type": "code",
   "execution_count": 27,
   "metadata": {},
   "outputs": [
    {
     "data": {
      "text/plain": [
       "YEAR_x      0.049436\n",
       "SAMPLE_x    0.050688\n",
       "AGE         0.112250\n",
       "BIRYR      -0.096391\n",
       "GENDER      0.251382\n",
       "MINRTY     -0.096878\n",
       "RACETH     -0.097170\n",
       "BTHUS      -0.041508\n",
       "CTZUSIN     0.002216\n",
       "NBAMED     -0.044825\n",
       "NBAMEMG    -0.039717\n",
       "DGRDG       0.324455\n",
       "HD03Y5     -0.069202\n",
       "NDGMED     -0.074201\n",
       "NDGMEMG    -0.065280\n",
       "HRSWKGR     0.459301\n",
       "WKSWKGR     0.183478\n",
       "OCEDRLP    -0.078096\n",
       "NOCPR      -0.239362\n",
       "NOCPRMG    -0.183928\n",
       "SALARY      1.000000\n",
       "JOBSATIS   -0.160541\n",
       "EMSEC       0.111820\n",
       "EMSIZE      0.221485\n",
       "GOVSUP      0.074885\n",
       "WAPRSM     -0.082272\n",
       "ACTCAP      0.117710\n",
       "ACTDED      0.163840\n",
       "ACTMGT      0.043379\n",
       "ACTRD       0.171290\n",
       "ACTRDT      0.076819\n",
       "ACTRES      0.077588\n",
       "ACTTCH     -0.138191\n",
       "NRREA      -0.173386\n",
       "WKTRNI      0.074555\n",
       "Name: SALARY, dtype: float64"
      ]
     },
     "execution_count": 27,
     "metadata": {},
     "output_type": "execute_result"
    }
   ],
   "source": [
    "df_employed_l.corr()['SALARY']"
   ]
  },
  {
   "cell_type": "code",
   "execution_count": 28,
   "metadata": {},
   "outputs": [],
   "source": [
    "df_employed_d = pd.get_dummies(df_employed_l, columns=['RACETH','NBAMED', 'NBAMEMG', 'NDGMED', 'EMSEC','EMSIZE', 'GOVSUP', 'NDGMEMG', 'OCEDRLP', 'WAPRSM','NRREA','WKTRNI', 'NOCPR', 'NOCPRMG', 'SAMPLE_x', 'HD03Y5', 'DGRDG', 'JOBSATIS'], drop_first=True)\n",
    "X = df_employed_d.drop(['SALARY'], axis=1)\n",
    "y = df_employed_d['SALARY']"
   ]
  },
  {
   "cell_type": "code",
   "execution_count": 29,
   "metadata": {},
   "outputs": [
    {
     "data": {
      "text/plain": [
       "YEAR_x             0.049436\n",
       "AGE                0.112250\n",
       "BIRYR             -0.096391\n",
       "GENDER             0.251382\n",
       "MINRTY            -0.096878\n",
       "BTHUS             -0.041508\n",
       "CTZUSIN            0.002216\n",
       "HRSWKGR            0.459301\n",
       "WKSWKGR            0.183478\n",
       "SALARY             1.000000\n",
       "ACTCAP             0.117710\n",
       "ACTDED             0.163840\n",
       "ACTMGT             0.043379\n",
       "ACTRD              0.171290\n",
       "ACTRDT             0.076819\n",
       "ACTRES             0.077588\n",
       "ACTTCH            -0.138191\n",
       "RACETH_2           0.041535\n",
       "RACETH_3          -0.096878\n",
       "NBAMED_226395.0    0.010407\n",
       "NBAMED_298895.0   -0.050234\n",
       "NBAMED_318730.0    0.097945\n",
       "NBAMED_338785.0    0.139610\n",
       "NBAMED_398895.0   -0.014268\n",
       "NBAMED_419295.0   -0.013021\n",
       "NBAMED_429295.0   -0.032108\n",
       "NBAMED_438995.0   -0.077867\n",
       "NBAMED_449995.0   -0.087621\n",
       "NBAMED_459395.0   -0.060074\n",
       "NBAMED_527250.0    0.078605\n",
       "                     ...   \n",
       "NOCPRMG_6.0        0.060313\n",
       "NOCPRMG_7.0       -0.227106\n",
       "SAMPLE_x_602       0.089345\n",
       "SAMPLE_x_701      -0.084577\n",
       "SAMPLE_x_702       0.106776\n",
       "SAMPLE_x_801      -0.061028\n",
       "SAMPLE_x_802       0.160890\n",
       "SAMPLE_x_901      -0.088248\n",
       "SAMPLE_x_902       0.165286\n",
       "SAMPLE_x_1001     -0.118274\n",
       "SAMPLE_x_1002      0.174870\n",
       "HD03Y5_1951       -0.022489\n",
       "HD03Y5_1956       -0.024244\n",
       "HD03Y5_1961       -0.049410\n",
       "HD03Y5_1966       -0.025571\n",
       "HD03Y5_1971        0.027026\n",
       "HD03Y5_1976        0.026372\n",
       "HD03Y5_1981        0.051972\n",
       "HD03Y5_1986        0.047520\n",
       "HD03Y5_1991        0.047899\n",
       "HD03Y5_1996       -0.001443\n",
       "HD03Y5_2001       -0.079356\n",
       "HD03Y5_2006       -0.101569\n",
       "HD03Y5_2011       -0.048291\n",
       "DGRDG_2           -0.066812\n",
       "DGRDG_3            0.358302\n",
       "DGRDG_4           -0.014220\n",
       "JOBSATIS_2.0      -0.052923\n",
       "JOBSATIS_3.0      -0.081342\n",
       "JOBSATIS_4.0      -0.085832\n",
       "Name: SALARY, Length: 153, dtype: float64"
      ]
     },
     "execution_count": 29,
     "metadata": {},
     "output_type": "execute_result"
    }
   ],
   "source": [
    "df_employed_d.corr()['SALARY']"
   ]
  },
  {
   "cell_type": "code",
   "execution_count": 30,
   "metadata": {},
   "outputs": [
    {
     "name": "stdout",
     "output_type": "stream",
     "text": [
      "0.518799257449\n",
      "Root Mean Squared Error: 29574.60923252211\n"
     ]
    }
   ],
   "source": [
    "#import the machine learning algorithm packages\n",
    "# Import modules of linear regresssion, evaluation, and train test split\n",
    "from sklearn.linear_model import LinearRegression\n",
    "from sklearn.metrics import mean_squared_error\n",
    "from sklearn.model_selection import train_test_split\n",
    "# Import Lasso\n",
    "from sklearn.linear_model import Lasso\n",
    "# Import Ridge\n",
    "from sklearn.linear_model import Ridge\n",
    "\n",
    "\n",
    "#train test split\n",
    "X_train, X_test, y_train, y_test = train_test_split(X, y, test_size = 0.3, random_state=42)\n",
    "\n",
    "# Create the regressor: reg\n",
    "reg = Ridge()\n",
    "\n",
    "\n",
    "# Fit the model to the data\n",
    "reg.fit(X_train,y_train)\n",
    "\n",
    "# Compute predictions over the prediction space: y_pred\n",
    "y_pred = reg.predict(X_test)\n",
    "\n",
    "# Print R^2 \n",
    "print(reg.score(X_test, y_test))\n",
    "\n",
    "rmse = np.sqrt(mean_squared_error(y_test,y_pred))\n",
    "print(\"Root Mean Squared Error: {}\".format(rmse))\n"
   ]
  },
  {
   "cell_type": "code",
   "execution_count": 31,
   "metadata": {},
   "outputs": [
    {
     "data": {
      "image/png": "[encoded data removed]",
      "text/plain": [
       "<matplotlib.figure.Figure at 0x11d49d630>"
      ]
     },
     "metadata": {},
     "output_type": "display_data"
    }
   ],
   "source": [
    "# your turn\n",
    "\n",
    "plt.hist(y_test, label='SALARY')\n",
    "plt.hist(y_pred, alpha=0.5, label='predicted SALARY')\n",
    "plt.title(\"Distribution of SALARY\")\n",
    "plt.legend()\n",
    "plt.xlabel(\"SALARY\")\n",
    "plt.ylabel(\"Frequencey\")\n",
    "plt.show()"
   ]
  },
  {
   "cell_type": "code",
   "execution_count": 32,
   "metadata": {},
   "outputs": [
    {
     "data": {
      "text/plain": [
       "[<matplotlib.lines.Line2D at 0x1258e8a90>]"
      ]
     },
     "execution_count": 32,
     "metadata": {},
     "output_type": "execute_result"
    },
    {
     "data": {
      "image/png": "[encoded data removed]",
      "text/plain": [
       "<matplotlib.figure.Figure at 0x11c9d6908>"
      ]
     },
     "metadata": {},
     "output_type": "display_data"
    }
   ],
   "source": [
    "# Import necessary modules\n",
    "from sklearn.linear_model import Ridge\n",
    "from sklearn.model_selection import cross_val_score\n",
    "\n",
    "# Setup the array of alphas and lists to store scores\n",
    "alpha_space = np.logspace(-4, 0, 50)\n",
    "ridge_scores = []\n",
    "ridge_scores_std = []\n",
    "\n",
    "# Create a ridge regressor: ridge\n",
    "ridge = Ridge()\n",
    "\n",
    "# Compute scores over range of alphas\n",
    "for alpha in alpha_space:\n",
    "\n",
    "    # Specify the alpha value to use: ridge.alpha\n",
    "    ridge.alpha = alpha\n",
    "    \n",
    "    # Perform 10-fold CV: ridge_cv_scores\n",
    "    ridge_cv_scores = cross_val_score(ridge, X_train, y_train, cv=5)\n",
    "    \n",
    "    # Append the mean of ridge_cv_scores to ridge_scores\n",
    "    ridge_scores.append(np.mean(ridge_cv_scores))\n",
    "    \n",
    "    # Append the std of ridge_cv_scores to ridge_scores_std\n",
    "    ridge_scores_std.append(np.std(ridge_cv_scores))\n",
    "\n",
    "# Display the plot\n",
    "plt.plot(ridge_scores, ridge_scores_std)"
   ]
  },
  {
   "cell_type": "code",
   "execution_count": null,
   "metadata": {
    "collapsed": true
   },
   "outputs": [],
   "source": [
    "from sklearn.svm import SVR\n",
    "\n",
    "svr_rbf = SVR(kernel='rbf', C=1e3, gamma=0.1)\n",
    "#svr_lin = SVR(kernel='linear', C=1e3)\n",
    "#svr_poly = SVR(kernel='poly', C=1e3, degree=2)\n",
    "y_rbf = svr_rbf.fit(X_train, y_train).predict(X_test)\n",
    "#y_lin = svr_fit(X_train, y_train).predict(X_test)\n",
    "#y_poly = svr_fit(X_train, y_train).predict(X_test)\n",
    "\n",
    "rmse_rbf = np.sqrt(mean_squared_error(y_test,y_rbf))\n",
    "#rmse_lin = np.sqrt(mean_squared_error(y_test,y_lin))\n",
    "#rmse_poly = np.sqrt(mean_squared_error(y_test,y_poly))\n",
    "\n",
    "# Print R^2 \n",
    "print(svr_rbf.score(X_test, y_test))\n",
    "\n",
    "# Print RMSE\n",
    "print(\"RBF Root Mean Squared Error: {}\".format(rmse_rbf))\n",
    "#print(\"LIN Root Mean Squared Error: {}\".format(rmse_lin))\n",
    "#print(\"Poly Root Mean Squared Error: {}\".format(rmse_poly))"
   ]
  },
  {
   "cell_type": "code",
   "execution_count": 135,
   "metadata": {},
   "outputs": [
    {
     "name": "stdout",
     "output_type": "stream",
     "text": [
      "                            OLS Regression Results                            \n",
      "==============================================================================\n",
      "Dep. Variable:                 SALARY   R-squared:                       0.034\n",
      "Model:                            OLS   Adj. R-squared:                  0.034\n",
      "Method:                 Least Squares   F-statistic:                 1.435e+04\n",
      "Date:                Tue, 10 Apr 2018   Prob (F-statistic):               0.00\n",
      "Time:                        19:56:31   Log-Likelihood:            -4.8861e+06\n",
      "No. Observations:              407478   AIC:                         9.772e+06\n",
      "Df Residuals:                  407476   BIC:                         9.772e+06\n",
      "Df Model:                           1                                         \n",
      "Covariance Type:            nonrobust                                         \n",
      "==============================================================================\n",
      "                 coef    std err          t      P>|t|      [0.025      0.975]\n",
      "------------------------------------------------------------------------------\n",
      "Intercept   4.943e+04    244.267    202.378      0.000     4.9e+04    4.99e+04\n",
      "AGE          626.5356      5.230    119.789      0.000     616.284     636.787\n",
      "==============================================================================\n",
      "Omnibus:                    13140.436   Durbin-Watson:                   1.779\n",
      "Prob(Omnibus):                  0.000   Jarque-Bera (JB):             6813.524\n",
      "Skew:                           0.124   Prob(JB):                         0.00\n",
      "Kurtosis:                       2.417   Cond. No.                         187.\n",
      "==============================================================================\n",
      "\n",
      "Warnings:\n",
      "[1] Standard Errors assume that the covariance matrix of the errors is correctly specified.\n"
     ]
    }
   ],
   "source": [
    "# your turn\n",
    "# Import regression modules\n",
    "import statsmodels.api as sm\n",
    "from statsmodels.formula.api import ols\n",
    "\n",
    "\n",
    "m3 = ols(formula='SALARY ~ AGE',data = df_employed_l).fit()\n",
    "print(m3.summary())"
   ]
  },
  {
   "cell_type": "code",
   "execution_count": 136,
   "metadata": {},
   "outputs": [
    {
     "data": {
      "text/plain": [
       "<matplotlib.text.Text at 0x11e0a9fd0>"
      ]
     },
     "execution_count": 136,
     "metadata": {},
     "output_type": "execute_result"
    },
    {
     "data": {
      "image/png": "[encoded data removed]",
      "text/plain": [
       "<matplotlib.figure.Figure at 0x11d592d68>"
      ]
     },
     "metadata": {},
     "output_type": "display_data"
    }
   ],
   "source": [
    "plt.scatter(df_employed_l.AGE, m3.fittedvalues)\n",
    "plt.scatter(df_employed_l.AGE, df_employed_l.SALARY)\n",
    "plt.xlabel(\" Average number of rooms per dwelling (RM)\")\n",
    "plt.ylabel(\"Housing Price\")\n",
    "plt.legend()\n",
    "plt.title(\"Relationship between RM and Price\")"
   ]
  },
  {
   "cell_type": "code",
   "execution_count": null,
   "metadata": {
    "collapsed": true
   },
   "outputs": [],
   "source": []
  }
 ],
 "metadata": {
  "kernelspec": {
   "display_name": "Python 3",
   "language": "python",
   "name": "python3"
  },
  "language_info": {
   "codemirror_mode": {
    "name": "ipython",
    "version": 3
   },
   "file_extension": ".py",
   "mimetype": "text/x-python",
   "name": "python",
   "nbconvert_exporter": "python",
   "pygments_lexer": "ipython3",
   "version": "3.6.1"
  }
 },
 "nbformat": 4,
 "nbformat_minor": 2
}
