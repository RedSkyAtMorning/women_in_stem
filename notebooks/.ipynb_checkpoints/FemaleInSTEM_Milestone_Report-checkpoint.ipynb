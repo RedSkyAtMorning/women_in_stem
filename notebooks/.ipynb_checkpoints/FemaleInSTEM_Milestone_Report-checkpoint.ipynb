{
 "cells": [
  {
   "cell_type": "markdown",
   "metadata": {},
   "source": [
    "# Capstone Project 1 Proposal \n",
    "\n",
    "## Define the problem ##\n",
    "STEM, which stands for science, technology, engineering and math produces many job opportunities in US. However, it is reported by U.S. Department of Commerce that women comprise 48 percent of the U.S. workforce but just 24 percent of STEM workers. This is means half as many women are working in STEM jobs. Why is this happening? What people majored in during higher education plays a very importatant role in the types of work force they enter after they graduate. So, does this mean less female students are majored in STEM topics as well? There might be many factors contributing to the unbalanced situation, including personal interst, cultures, and plainly not seeing of the job opportunity after graduation. In this project is going to look into the job outcome between men and women. I would like to find the facts about what types of jobs the females STEM students can get into, what kind of salaries would they expect to receive, and the possibility to optimize their job searching strategy.   \n",
    "\n",
    "\n",
    "## Identify your client ## \n",
    "1. I am hoping this project would give female STEM majors some insights about what they can expect, how to prepare themselves and where to start as they get ready to go into the work force. \n",
    "2. Career building website such as Linkedin.com and CareerBuilder.com could use this data analysis and model to send customized career suggestions to their users.  \n",
    "3. Universities and higher education institutes could find trends and information to make strategic decisions. \n",
    "4. Media and Journalists might be intersted in this analysis to spread the information. \n",
    "\n",
    "\n",
    "## Describe your data set, and how you cleaned/wrangled it ##\n",
    "<p>My data was found on the Higher Ed website (https://highered.ipums.org/highered/). The relevant variables such as demographic, education and employment were carefully chosen with the available samples between 2003 and 2013. It comes in csv format. The website offers detailed information about the labels. I have scraped the info from the web and put them in the pdf file 'code_label' in the same folder. With Python's pandas package, the data can be read into the system. There are 478747 rows and 33 columns in the data file, with a size of 120+ MB.</p>\n",
    "\n",
    "<p>The various null values in the data was filtered and replaced with python friendly identifiers. Several groups of data were stored in different data frames for easy manipulation. For example, the comparison of the education levels of graduate and undergraduate can be easily called from two data frames. </p>\n",
    "\n",
    "<p>The data comes in a clean form. Each column represents a variable and each row is an observation. The columns containing majority of null values are dropped and won't be considered for this work. The columns missing about 10% values turn out to be the exact columns giving details about the employment. The number of the missing values are the same as the number of the unemployment count. The NAN values in these cases actually have real life meanings and were left where they are. They will be taken into considerations during analysis. </p>\n",
    "\n",
    "## List other potential data sets you could use ##\n",
    "1. General US labor force data for employment rate and salary gap comparison. \n",
    "2. Add some details about the major/job fields. \n",
    "\n",
    "\n",
    "## Explain your initial findings ##\n",
    "\n",
    "\n",
    "## Share the Capstone Project 1 code and milestone report related to Github repository ##\n"
   ]
  }
 ],
 "metadata": {
  "kernelspec": {
   "display_name": "Python 3",
   "language": "python",
   "name": "python3"
  },
  "language_info": {
   "codemirror_mode": {
    "name": "ipython",
    "version": 3
   },
   "file_extension": ".py",
   "mimetype": "text/x-python",
   "name": "python",
   "nbconvert_exporter": "python",
   "pygments_lexer": "ipython3",
   "version": "3.6.1"
  }
 },
 "nbformat": 4,
 "nbformat_minor": 2
}
