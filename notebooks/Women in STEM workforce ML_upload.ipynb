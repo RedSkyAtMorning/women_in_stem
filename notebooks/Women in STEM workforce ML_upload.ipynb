{
 "cells": [
  {
   "cell_type": "markdown",
   "metadata": {},
   "source": [
    "# Women in STEM workforce: Predict income and field of work"
   ]
  },
  {
   "cell_type": "markdown",
   "metadata": {},
   "source": [
    "### What is in this notebook?\n",
    "\n",
    "We have looked at the STEM gender pay gap over the years in the EDA notebook of the same folder. Even though women has taking up bigger part among the jobs between the years of 2003 and 2013, women's salaries remain 40% lower than men's in average! The analysis also shows how the gender gap compare to one another in the various fields in STEM areas. \n",
    "\n",
    "In this notebook, I will explore using machine learning models to predict the income and principal job field given other aspects of the data. It would answer the question of what kind of pay and what types of job would a STEMer expect to receive in the work force."
   ]
  },
  {
   "cell_type": "markdown",
   "metadata": {},
   "source": [
    "## Importing Modules and Data"
   ]
  },
  {
   "cell_type": "code",
   "execution_count": 2,
   "metadata": {
    "collapsed": true
   },
   "outputs": [],
   "source": [
    "# import important stuff\n",
    "import numpy as np\n",
    "import pandas as pd"
   ]
  },
  {
   "cell_type": "code",
   "execution_count": 3,
   "metadata": {
    "collapsed": true
   },
   "outputs": [],
   "source": [
    "# import visulization modules\n",
    "import matplotlib.pyplot as plt\n",
    "import seaborn as sns\n",
    "sns.set_style('whitegrid')\n",
    "sns.set_context(\"talk\")\n",
    "%matplotlib inline"
   ]
  },
  {
   "cell_type": "code",
   "execution_count": 4,
   "metadata": {
    "collapsed": true
   },
   "outputs": [],
   "source": [
    "# import stats modules\n",
    "from scipy.stats import ttest_ind, chi2_contingency"
   ]
  },
  {
   "cell_type": "code",
   "execution_count": 90,
   "metadata": {
    "collapsed": true
   },
   "outputs": [],
   "source": [
    "# import sklearn modules\n",
    "from sklearn.metrics import mean_squared_error\n",
    "from sklearn.model_selection import train_test_split\n",
    "from sklearn.model_selection import cross_val_score\n",
    "from sklearn.model_selection import GridSearchCV\n",
    "from sklearn.ensemble import RandomForestClassifier\n",
    "from sklearn.ensemble import AdaBoostClassifier\n",
    "from sklearn.linear_model import LogisticRegression\n",
    "from sklearn.neighbors import KNeighborsClassifier\n",
    "from sklearn.metrics import classification_report\n",
    "from sklearn.metrics import confusion_matrix\n",
    "from sklearn.metrics import roc_curve\n",
    "from imblearn.under_sampling import RandomUnderSampler\n",
    "from sklearn.naive_bayes import GaussianNB\n",
    "from sklearn.tree import DecisionTreeClassifier"
   ]
  },
  {
   "cell_type": "code",
   "execution_count": 65,
   "metadata": {
    "collapsed": true
   },
   "outputs": [],
   "source": [
    "# import the data from csv file with a series of NAN values \n",
    "df1 = pd.read_csv('./../data/highered_00004.csv', dtype={'REFID': str},na_values=[96, 99, 98, 9996, 9998 ,\n",
    "    9999, 999996, 999998, 999999, 9999998, 9999999] )\n",
    "df1 = df1.drop(['REFID'], axis=1)\n",
    "df2 = pd.read_csv('./../data/highered_00007.csv', dtype={'REFID': str},na_values=[96, 99, 98, 9996, 9998 ,\n",
    "    9999, 999996, 999998, 999999, 9999998, 9999999] )\n",
    "df3 = pd.read_csv('./../data/highered_00008.csv', dtype={'REFID': str},na_values=[96, 99, 98, 9996, 9998 ,\n",
    "    9999, 999996, 999998, 999999, 9999998, 9999999] )\n",
    "\n",
    "# merge the data frames containing different features\n",
    "dfm = df1.merge(df2,  on=['PERSONID', 'YEAR', 'WEIGHT', 'SAMPLE', 'SURID'])\n",
    "df = dfm.merge(df3, on=['PERSONID', 'YEAR', 'SURID'])"
   ]
  },
  {
   "cell_type": "markdown",
   "metadata": {},
   "source": [
    "### Explanation of the survey \n",
    "\n",
    "https://highered.ipums.org/highered/survey_designs.shtml\n",
    "\n",
    "This notebook will only consider the entries with a job. So the labor force status was chosen in the next cell and some irrelevent or heavily missing data columns were removed.  "
   ]
  },
  {
   "cell_type": "code",
   "execution_count": 66,
   "metadata": {
    "collapsed": true
   },
   "outputs": [],
   "source": [
    "#drop columns with irrelevant or many missing data\n",
    "df_employed = df[df['LFSTAT']==1]\n",
    "df_employed_small = df_employed.drop(['CTZUS', 'WEIGHT', 'WRKG', 'NRREA','FNVS', 'CHTOT', 'CPI2009C', 'PERSONID', 'LFSTAT','BA03Y5', 'LOOKWK'], axis=1)\n",
    "df_employed_l = df_employed_small.dropna()"
   ]
  },
  {
   "cell_type": "code",
   "execution_count": 70,
   "metadata": {},
   "outputs": [
    {
     "data": {
      "text/plain": [
       "Index(['YEAR', 'SAMPLE', 'SURID', 'AGE', 'BIRYR', 'GENDER', 'MINRTY', 'RACETH',\n",
       "       'BTHUS', 'CTZUSIN', 'NBAMED', 'NBAMEMG', 'DGRDG', 'HD03Y5', 'NDGMED',\n",
       "       'NDGMEMG', 'HRSWKGR', 'WKSWKGR', 'OCEDRLP', 'NOCPR', 'NOCPRMG',\n",
       "       'SALARY', 'JOBSATIS', 'EMSEC', 'EMSIZE', 'GOVSUP', 'WAPRSM', 'ACTCAP',\n",
       "       'ACTDED', 'ACTMGT', 'ACTRD', 'ACTRDT', 'ACTRES', 'ACTTCH', 'WKTRNI',\n",
       "       'WAPRI', 'WASEC', 'WASCSM'],\n",
       "      dtype='object')"
      ]
     },
     "execution_count": 70,
     "metadata": {},
     "output_type": "execute_result"
    }
   ],
   "source": [
    "df_employed_l.columns"
   ]
  },
  {
   "cell_type": "markdown",
   "metadata": {},
   "source": [
    "## Correlations Overviews\n"
   ]
  },
  {
   "cell_type": "markdown",
   "metadata": {},
   "source": [
    "As a quick check, I take a look at the Pearson correlation coefficient of Salary column and the rest of columns. "
   ]
  },
  {
   "cell_type": "code",
   "execution_count": 19,
   "metadata": {
    "scrolled": true
   },
   "outputs": [
    {
     "name": "stdout",
     "output_type": "stream",
     "text": [
      "Top correlated:\n",
      "SALARY     1.000000\n",
      "HRSWKGR    0.403946\n",
      "DGRDG      0.263496\n",
      "GENDER     0.257586\n",
      "EMSEC      0.215927\n",
      "SURID      0.193761\n",
      "Name: SALARY, dtype: float64\n",
      "Top reverse correlated:\n",
      "ACTTCH   -0.183005\n",
      "WAPRI    -0.172204\n",
      "HD03Y5   -0.167808\n",
      "BIRYR    -0.162161\n",
      "WASCSM   -0.141206\n",
      "Name: SALARY, dtype: float64\n"
     ]
    }
   ],
   "source": [
    "print('Top correlated:')\n",
    "print(df_employed_l.corr()['SALARY'].sort_values(ascending=False).head(6))\n",
    "print('Top reverse correlated:')\n",
    "print(df_employed_l.corr()['SALARY'].sort_values(ascending=True).head(5))"
   ]
  },
  {
   "cell_type": "markdown",
   "metadata": {},
   "source": [
    "This gets interesting already! We see the top five positively correlated features include full time job status (HRSWKGR: hours worked per week), degree (DGRDG and SURID), gender, and employer sector (EMSEC). \n",
    "\n",
    "I would like to point out gender apparently made it to the top three correlated feature deciding a salary: being a man is likely to receive a higher pay than woman. This is another indicator of the pay disprancy between genders. Another insight from this is how the employer sector is playing an important role. The expected pay is lowest if working in a school system, higher if working for the govenment, and highest if working for business and industry.\n",
    "\n",
    "Among the top negatively correlated columns, the first place goes to teaching as prime job activity. Other columns also more or less has teaching in its reason for making the list (expect for birth year). This resonates with the discovery from the positively correlated employer sector. This gives a supporting evidence of how teachers or people who teach are given lower compensation among jobs, for the ongoing teacher strike across the country. "
   ]
  },
  {
   "cell_type": "markdown",
   "metadata": {},
   "source": [
    "## Data Preparation for Salary Prediction"
   ]
  },
  {
   "cell_type": "markdown",
   "metadata": {},
   "source": [
    "### Target column preparation"
   ]
  },
  {
   "cell_type": "markdown",
   "metadata": {},
   "source": [
    "Here I change salary from a numeric column to a catagorical column. Due to privacy reason, the survey on scientists and engineers provided by Higher Education do not contain location data. As common knowledge tells us, the location could be a large factor in deciding how much a person is getting paid. The cost of living of San Francisco is more than two times that of Omaha, as an example. It is only fair that people in high cost of living areas get better paid than people in low cost of living places. Since this crucial piece of information is missing, it adds a lot of uncertainty into the prediction of the salary. \n",
    "\n",
    "To make the task practical, I am going to predict the salary level (low or high), instead of the exact number. \n",
    "\n",
    "I have also done some work that looks into the prediction of numeric salary using several regression models. It gave limited the accuracy scores due to above reasons. Please find the details in regression notebook in the same folder if interested."
   ]
  },
  {
   "cell_type": "code",
   "execution_count": 34,
   "metadata": {
    "collapsed": true
   },
   "outputs": [],
   "source": [
    "# define a function change the salary column to a salary level column\n",
    "def salary_bracket(ls):\n",
    "    new_s = np.empty(len(ls))\n",
    "    for i,s in enumerate(ls):\n",
    "        if s<60000:\n",
    "            new_s[i] = 0\n",
    "        else:\n",
    "            new_s[i] = 1\n",
    "    return new_s\n",
    "\n",
    "# define a dataframe only contains salary that is larger than 0 (eliminate the entry fault)\n",
    "df_employed_clf =[]\n",
    "df_employed_clf = df_employed_l[(df_employed_l['SALARY']>0)]\n",
    "\n",
    "\n",
    "\n",
    "new_salary = salary_bracket(df_employed_clf['SALARY'])"
   ]
  },
  {
   "cell_type": "markdown",
   "metadata": {},
   "source": [
    "We define a new dataframe that is similar to the previous one except for it contains only the salary level column. Note the birth year column (BIRYR) is a dependent variable on YEAR and AGE. This column is dropped blow. Some major groups columns is also dependent on the other columns in the survey data, they will be dropped as well. \n",
    "\n",
    "In the meantime, we choose the part of the data considering only full time jobs (hours per week >=36)."
   ]
  },
  {
   "cell_type": "code",
   "execution_count": 71,
   "metadata": {
    "collapsed": true
   },
   "outputs": [],
   "source": [
    "df_employed_nod = []\n",
    "df_employed_nod = df_employed_clf.assign(salary_d=pd.Series(new_salary).values)\n",
    "df_employed_nod.salary_d = df_employed_nod.salary_d.astype('category')\n",
    "df_employed_nod=df_employed_nod.drop(['SALARY'], axis=1)\n",
    "df_employed_nod=df_employed_nod.drop(['BIRYR','NBAMEMG','NDGMEMG','NOCPRMG'], axis=1)\n",
    "df_employed_nod=df_employed_nod[(df_employed_nod['HRSWKGR']==3) | (df_employed_nod['HRSWKGR']==4)]"
   ]
  },
  {
   "cell_type": "markdown",
   "metadata": {},
   "source": [
    "A quick look at the distribution of the pay between men and women. Much more men were paid above 60k income than women while the count of women and men paid below 60k remain similar. This also gives that more entries report higher than 60k salary than below 60k. "
   ]
  },
  {
   "cell_type": "code",
   "execution_count": 72,
   "metadata": {
    "scrolled": true
   },
   "outputs": [
    {
     "data": {
      "text/plain": [
       "<function matplotlib.pyplot.tight_layout>"
      ]
     },
     "execution_count": 72,
     "metadata": {},
     "output_type": "execute_result"
    },
    {
     "data": {
      "image/png": "[encoded data removed]",
      "text/plain": [
       "<matplotlib.figure.Figure at 0x115f20d30>"
      ]
     },
     "metadata": {},
     "output_type": "display_data"
    }
   ],
   "source": [
    "#bar plot of gender and salary \n",
    "fig=plt.figure(figsize=[8,5])\n",
    "ax = fig.add_subplot(111)\n",
    "sns.countplot(data=df_employed_nod, x = 'salary_d', hue= 'GENDER', palette=\"muted\", ax=ax)\n",
    "sns.despine()\n",
    "plt.title('Gender Pay Gap')\n",
    "ax.set_xticklabels(['Under $60K', 'Over $60K'])\n",
    "lgd=ax.legend(['female', 'male'], bbox_to_anchor=(1.01, 1), loc=2, borderaxespad=0.)\n",
    "plt.tight_layout\n",
    "#plt.savefig('./../results/gendersalary.png',bbox_extra_artists=(lgd,), bbox_inches='tight', dpi = 150)\n"
   ]
  },
  {
   "cell_type": "markdown",
   "metadata": {},
   "source": [
    "It is obvious from the plot above that there are much more men making more than $60k a year compared than women. We have learned from the EDA notebook that the gender pay gap exists and did not improve over the years from 2003 to 2013. This is another quick look at it. Please find the EDA notebook if you are looking for more details on this matter. "
   ]
  },
  {
   "cell_type": "markdown",
   "metadata": {},
   "source": [
    "### Numeric Columns"
   ]
  },
  {
   "cell_type": "markdown",
   "metadata": {},
   "source": [
    "Define the numeric columns and assign the rest of the feature columns to categoric columns. "
   ]
  },
  {
   "cell_type": "code",
   "execution_count": 73,
   "metadata": {
    "collapsed": true
   },
   "outputs": [],
   "source": [
    "numeric = ['AGE']\n",
    "feature_df = df_employed_nod.drop(['salary_d'],axis=1)\n",
    "categoric = feature_df.columns.difference(numeric)"
   ]
  },
  {
   "cell_type": "markdown",
   "metadata": {},
   "source": [
    "I look into the numeric column and check its distribution. The age profile in this data set is not really normal distribution. It is caused by the nature human behavior, people usually do not start working after college, some people tend to stay in the work force longer than the other. So we see a jump at 25 and a long tail after 60. The good news is that our survey data is large (391,000 entries), the null hypothesis will work here according to the central limit theorem (CLT). "
   ]
  },
  {
   "cell_type": "code",
   "execution_count": 74,
   "metadata": {
    "scrolled": false
   },
   "outputs": [
    {
     "data": {
      "image/png": "[encoded data removed]",
      "text/plain": [
       "<matplotlib.figure.Figure at 0x11b4e06d8>"
      ]
     },
     "metadata": {},
     "output_type": "display_data"
    },
    {
     "name": "stdout",
     "output_type": "stream",
     "text": [
      "P-values from t-tests\n"
     ]
    },
    {
     "data": {
      "text/html": [
       "<div>\n",
       "<style>\n",
       "    .dataframe thead tr:only-child th {\n",
       "        text-align: right;\n",
       "    }\n",
       "\n",
       "    .dataframe thead th {\n",
       "        text-align: left;\n",
       "    }\n",
       "\n",
       "    .dataframe tbody tr th {\n",
       "        vertical-align: top;\n",
       "    }\n",
       "</style>\n",
       "<table border=\"1\" class=\"dataframe\">\n",
       "  <thead>\n",
       "    <tr style=\"text-align: right;\">\n",
       "      <th></th>\n",
       "      <th>Attribute</th>\n",
       "      <th>P_value</th>\n",
       "    </tr>\n",
       "  </thead>\n",
       "  <tbody>\n",
       "    <tr>\n",
       "      <th>0</th>\n",
       "      <td>AGE</td>\n",
       "      <td>0.0</td>\n",
       "    </tr>\n",
       "  </tbody>\n",
       "</table>\n",
       "</div>"
      ],
      "text/plain": [
       "  Attribute  P_value\n",
       "0       AGE      0.0"
      ]
     },
     "execution_count": 74,
     "metadata": {},
     "output_type": "execute_result"
    }
   ],
   "source": [
    "p_vals = pd.DataFrame(columns=['Attribute', 'P_value'])\n",
    "\n",
    "for col in numeric:\n",
    "   \n",
    "    # Plotting distributions of each column\n",
    "    plt.figure(figsize=(15,5))\n",
    "    plt.subplot(121)\n",
    "    sns.distplot(df_employed_nod[col], color='magenta')\n",
    "    plt.title('Distribution of {}'.format(col))\n",
    "\n",
    "    # Plotting distributions of each column by income level\n",
    "    plt.subplot(122)\n",
    "    g = sns.boxplot(x='salary_d', y=col, data=df_employed_nod, palette='bright')\n",
    "    g.set_xticklabels(['Under $60K', 'Over $60K'])\n",
    "    plt.title('Distribution of income by {}'.format(col))\n",
    "    plt.tight_layout()\n",
    "    plt.show()\n",
    "\n",
    "    # Calculating pvalues from t-test\n",
    "    t_val, p_val = ttest_ind(df_employed_nod[df_employed_nod['salary_d']==0][col],\n",
    "                                df_employed_nod[df_employed_nod['salary_d']==1][col])\n",
    "    p_vals = p_vals.append({'Attribute':col, 'P_value':float(p_val)}, ignore_index=True)\n",
    "    \n",
    "\n",
    "# Printing p-values of t-tests, sorted by p-values\n",
    "print('P-values from t-tests')\n",
    "p_vals.sort_values('P_value')\n"
   ]
  },
  {
   "cell_type": "markdown",
   "metadata": {},
   "source": [
    "The p_value for the numeric columns are practically zero, which means age is statistically significant to determine the salary level of an individual. We will keep it as it is. "
   ]
  },
  {
   "cell_type": "markdown",
   "metadata": {},
   "source": [
    "### Categorical columns"
   ]
  },
  {
   "cell_type": "markdown",
   "metadata": {},
   "source": [
    "Next we prepare the categorical feature columns for classification. We are going to convert these categorical variable into dummy/indicator variables, calling the get_dummies function by pandas (thank you Pandas!). Note the drop_first parameter was set to true to avoid collinearity."
   ]
  },
  {
   "cell_type": "code",
   "execution_count": 75,
   "metadata": {},
   "outputs": [
    {
     "data": {
      "text/html": [
       "<div>\n",
       "<style>\n",
       "    .dataframe thead tr:only-child th {\n",
       "        text-align: right;\n",
       "    }\n",
       "\n",
       "    .dataframe thead th {\n",
       "        text-align: left;\n",
       "    }\n",
       "\n",
       "    .dataframe tbody tr th {\n",
       "        vertical-align: top;\n",
       "    }\n",
       "</style>\n",
       "<table border=\"1\" class=\"dataframe\">\n",
       "  <thead>\n",
       "    <tr style=\"text-align: right;\">\n",
       "      <th></th>\n",
       "      <th>AGE</th>\n",
       "      <th>salary_d</th>\n",
       "      <th>ACTCAP_1.0</th>\n",
       "      <th>ACTDED_1.0</th>\n",
       "      <th>ACTMGT_1.0</th>\n",
       "      <th>ACTRD_1.0</th>\n",
       "      <th>ACTRDT_1.0</th>\n",
       "      <th>ACTRES_1.0</th>\n",
       "      <th>ACTTCH_1.0</th>\n",
       "      <th>BTHUS_1</th>\n",
       "      <th>...</th>\n",
       "      <th>WASEC_14.0</th>\n",
       "      <th>WASEC_15.0</th>\n",
       "      <th>WKSWKGR_2.0</th>\n",
       "      <th>WKSWKGR_3.0</th>\n",
       "      <th>WKSWKGR_4.0</th>\n",
       "      <th>WKTRNI_1.0</th>\n",
       "      <th>YEAR_2006</th>\n",
       "      <th>YEAR_2008</th>\n",
       "      <th>YEAR_2010</th>\n",
       "      <th>YEAR_2013</th>\n",
       "    </tr>\n",
       "  </thead>\n",
       "  <tbody>\n",
       "    <tr>\n",
       "      <th>0</th>\n",
       "      <td>47</td>\n",
       "      <td>0.0</td>\n",
       "      <td>0</td>\n",
       "      <td>0</td>\n",
       "      <td>0</td>\n",
       "      <td>0</td>\n",
       "      <td>1</td>\n",
       "      <td>0</td>\n",
       "      <td>1</td>\n",
       "      <td>0</td>\n",
       "      <td>...</td>\n",
       "      <td>0</td>\n",
       "      <td>0</td>\n",
       "      <td>0</td>\n",
       "      <td>1</td>\n",
       "      <td>0</td>\n",
       "      <td>1</td>\n",
       "      <td>0</td>\n",
       "      <td>0</td>\n",
       "      <td>0</td>\n",
       "      <td>0</td>\n",
       "    </tr>\n",
       "    <tr>\n",
       "      <th>1</th>\n",
       "      <td>66</td>\n",
       "      <td>1.0</td>\n",
       "      <td>0</td>\n",
       "      <td>1</td>\n",
       "      <td>1</td>\n",
       "      <td>1</td>\n",
       "      <td>1</td>\n",
       "      <td>0</td>\n",
       "      <td>0</td>\n",
       "      <td>1</td>\n",
       "      <td>...</td>\n",
       "      <td>0</td>\n",
       "      <td>0</td>\n",
       "      <td>0</td>\n",
       "      <td>0</td>\n",
       "      <td>1</td>\n",
       "      <td>0</td>\n",
       "      <td>0</td>\n",
       "      <td>0</td>\n",
       "      <td>0</td>\n",
       "      <td>0</td>\n",
       "    </tr>\n",
       "    <tr>\n",
       "      <th>2</th>\n",
       "      <td>60</td>\n",
       "      <td>1.0</td>\n",
       "      <td>1</td>\n",
       "      <td>0</td>\n",
       "      <td>1</td>\n",
       "      <td>0</td>\n",
       "      <td>0</td>\n",
       "      <td>0</td>\n",
       "      <td>0</td>\n",
       "      <td>1</td>\n",
       "      <td>...</td>\n",
       "      <td>0</td>\n",
       "      <td>0</td>\n",
       "      <td>0</td>\n",
       "      <td>0</td>\n",
       "      <td>1</td>\n",
       "      <td>1</td>\n",
       "      <td>0</td>\n",
       "      <td>0</td>\n",
       "      <td>0</td>\n",
       "      <td>0</td>\n",
       "    </tr>\n",
       "    <tr>\n",
       "      <th>3</th>\n",
       "      <td>30</td>\n",
       "      <td>1.0</td>\n",
       "      <td>0</td>\n",
       "      <td>1</td>\n",
       "      <td>0</td>\n",
       "      <td>1</td>\n",
       "      <td>1</td>\n",
       "      <td>1</td>\n",
       "      <td>0</td>\n",
       "      <td>1</td>\n",
       "      <td>...</td>\n",
       "      <td>0</td>\n",
       "      <td>0</td>\n",
       "      <td>0</td>\n",
       "      <td>0</td>\n",
       "      <td>1</td>\n",
       "      <td>1</td>\n",
       "      <td>0</td>\n",
       "      <td>0</td>\n",
       "      <td>0</td>\n",
       "      <td>0</td>\n",
       "    </tr>\n",
       "    <tr>\n",
       "      <th>5</th>\n",
       "      <td>51</td>\n",
       "      <td>1.0</td>\n",
       "      <td>0</td>\n",
       "      <td>0</td>\n",
       "      <td>1</td>\n",
       "      <td>0</td>\n",
       "      <td>0</td>\n",
       "      <td>0</td>\n",
       "      <td>0</td>\n",
       "      <td>1</td>\n",
       "      <td>...</td>\n",
       "      <td>0</td>\n",
       "      <td>0</td>\n",
       "      <td>0</td>\n",
       "      <td>0</td>\n",
       "      <td>1</td>\n",
       "      <td>1</td>\n",
       "      <td>0</td>\n",
       "      <td>0</td>\n",
       "      <td>0</td>\n",
       "      <td>0</td>\n",
       "    </tr>\n",
       "  </tbody>\n",
       "</table>\n",
       "<p>5 rows × 166 columns</p>\n",
       "</div>"
      ],
      "text/plain": [
       "   AGE salary_d  ACTCAP_1.0  ACTDED_1.0  ACTMGT_1.0  ACTRD_1.0  ACTRDT_1.0  \\\n",
       "0   47      0.0           0           0           0          0           1   \n",
       "1   66      1.0           0           1           1          1           1   \n",
       "2   60      1.0           1           0           1          0           0   \n",
       "3   30      1.0           0           1           0          1           1   \n",
       "5   51      1.0           0           0           1          0           0   \n",
       "\n",
       "   ACTRES_1.0  ACTTCH_1.0  BTHUS_1    ...      WASEC_14.0  WASEC_15.0  \\\n",
       "0           0           1        0    ...               0           0   \n",
       "1           0           0        1    ...               0           0   \n",
       "2           0           0        1    ...               0           0   \n",
       "3           1           0        1    ...               0           0   \n",
       "5           0           0        1    ...               0           0   \n",
       "\n",
       "   WKSWKGR_2.0  WKSWKGR_3.0  WKSWKGR_4.0  WKTRNI_1.0  YEAR_2006  YEAR_2008  \\\n",
       "0            0            1            0           1          0          0   \n",
       "1            0            0            1           0          0          0   \n",
       "2            0            0            1           1          0          0   \n",
       "3            0            0            1           1          0          0   \n",
       "5            0            0            1           1          0          0   \n",
       "\n",
       "   YEAR_2010  YEAR_2013  \n",
       "0          0          0  \n",
       "1          0          0  \n",
       "2          0          0  \n",
       "3          0          0  \n",
       "5          0          0  \n",
       "\n",
       "[5 rows x 166 columns]"
      ]
     },
     "execution_count": 75,
     "metadata": {},
     "output_type": "execute_result"
    }
   ],
   "source": [
    "feature_df = df_employed_nod.drop(['salary_d'],axis=1)\n",
    "categoric = feature_df.columns.difference(numeric)\n",
    "df_employed_nod_sig = pd.get_dummies(data=df_employed_nod, columns=categoric, drop_first=True)\n",
    "df_employed_nod_sig.head()"
   ]
  },
  {
   "cell_type": "markdown",
   "metadata": {},
   "source": [
    "Next, we go through all the dummied categorical variables and do the chi-squared test with the salary level column. The purpose is to filter out attributes that statistically insignificant. This will simplify our model."
   ]
  },
  {
   "cell_type": "code",
   "execution_count": 85,
   "metadata": {},
   "outputs": [
    {
     "name": "stdout",
     "output_type": "stream",
     "text": [
      "P-values from Chi-Squared Contingency Tests\n",
      "          Attribute   P_value\n",
      "115      SAMPLE_801  0.851496\n",
      "25      HD03Y5_1956  0.427363\n",
      "76    NDGMED_611995  0.284468\n",
      "87   NOCPR_393995.0  0.108034\n",
      "89   NOCPR_432360.0  0.104620\n",
      "145      WASEC_13.0  0.071465\n",
      "137      WASCSM_2.0  0.071465\n",
      "153       WASEC_7.0  0.064534\n",
      "26      HD03Y5_1961  0.060264\n",
      "3        ACTRDT_1.0  0.039083\n",
      "info of df before deleting insignificant attributes:\n",
      "<class 'pandas.core.frame.DataFrame'>\n",
      "Int64Index: 333044 entries, 0 to 478746\n",
      "Columns: 166 entries, AGE to YEAR_2013\n",
      "dtypes: category(1), int64(1), uint8(164)\n",
      "memory usage: 67.5 MB\n",
      "None\n",
      "info of df after:\n",
      "<class 'pandas.core.frame.DataFrame'>\n",
      "Int64Index: 333044 entries, 0 to 478746\n",
      "Columns: 152 entries, AGE to YEAR_2013\n",
      "dtypes: category(1), int64(1), uint8(150)\n",
      "memory usage: 63.0 MB\n",
      "None\n"
     ]
    }
   ],
   "source": [
    "p_vals_cate = pd.DataFrame(columns=['Attribute', 'P_value'])\n",
    "categoric = df_employed_nod_sig.columns.difference(['AGE','salary_d'])\n",
    "p_large = []\n",
    "\n",
    "for col in categoric:\n",
    "    # Creating cross tabulated data for Chi-square test\n",
    "    counttable = pd.crosstab(df_employed_nod_sig[col], df_employed_nod_sig['salary_d'])\n",
    "    chi2, p, dof, ex = chi2_contingency(counttable, correction=False)\n",
    "    p_vals_cate = p_vals_cate.append({'Attribute':col, 'P_value':float(p)}, ignore_index=True)\n",
    "    if p>0.01:\n",
    "         p_large.append(col)\n",
    "    \n",
    "# Printing p-values of Chi-squared tests, sorted by p-values\n",
    "print('P-values from Chi-Squared Contingency Tests')\n",
    "print(p_vals_cate.sort_values('P_value', ascending=False).head(10))\n",
    "\n",
    "print('info of df before deleting insignificant attributes:')\n",
    "print(df_employed_nod_sig.info())\n",
    "\n",
    "df_employed_nod_sig_2  = df_employed_nod_sig.drop(p_large, axis=1)\n",
    "\n",
    "print('info of df after:')\n",
    "print(df_employed_nod_sig_2.info())"
   ]
  },
  {
   "cell_type": "markdown",
   "metadata": {},
   "source": [
    "As we can see above, fourteen columns are deleted because their Chi-Squared cntingency tests p-value is larger than defined significance level (0.01). These statistically insignificant features include certain part of the survey, some secondary job activities, certain some majors and etc.."
   ]
  },
  {
   "cell_type": "markdown",
   "metadata": {},
   "source": [
    "### Train Test Split"
   ]
  },
  {
   "cell_type": "markdown",
   "metadata": {},
   "source": [
    "Next we define the target coloumn and the feature columns, using the results from the previous preparation. Scikit-learn's train_test_split makes it easy to separate the data into training and test data. \n",
    "\n",
    "Before we proceed to the next step, recall that the distribution of the salary level: there are more entries with higher than 60k salary level. The inbalance will cause under sampling. To avoid this, use the RandomUnderSampler function to ensure we are choosing the same amount of entries from both target classes.  "
   ]
  },
  {
   "cell_type": "code",
   "execution_count": 87,
   "metadata": {},
   "outputs": [
    {
     "name": "stdout",
     "output_type": "stream",
     "text": [
      "Raw Training Set Percent Under $60,000: 28.7%\n",
      "Resampled Training Set Percent Under $60,000: 50.0%\n"
     ]
    }
   ],
   "source": [
    "df_employed_nod_sig_3 = df_employed_nod_sig_2#.sample(frac=0.1, random_state=42)\n",
    "\n",
    "# Identify variables\n",
    "X = df_employed_nod_sig_3.drop('salary_d', axis=1)\n",
    "y = df_employed_nod_sig_3.salary_d\n",
    "\n",
    "# Splitting into train and test sets\n",
    "X_train, X_test, y_train, y_test = train_test_split(X, y, test_size=0.7, random_state=41)\n",
    "\n",
    "\n",
    "rus = RandomUnderSampler(random_state=41)\n",
    "X_rus, y_rus = rus.fit_sample(X=X_train, y=y_train)\n",
    "X_rus_test, y_rus_test = rus.fit_sample(X=X_test, y=y_test)\n",
    "\n",
    "print('Raw Training Set Percent Under $60,000: {:.1f}%'.format(\n",
    "    len(y_train[y_train == 0])/len(y_train)*100))\n",
    "print('Resampled Training Set Percent Under $60,000: {}%'.format(\n",
    "    len(y_rus[y_rus == 0])/len(y_rus)*100))"
   ]
  },
  {
   "cell_type": "markdown",
   "metadata": {},
   "source": [
    "## Classification"
   ]
  },
  {
   "cell_type": "markdown",
   "metadata": {},
   "source": [
    "With the data prepared, we will proceed to test with several classification models. I will find the accuracy score using logistic regression, random forest classifier, KNN, and AdaBoost classifier. For each model, the cross validated grid search will be called find the best parameters. Then the found parameters are fed back into the model for prediction of the test data. "
   ]
  },
  {
   "cell_type": "markdown",
   "metadata": {},
   "source": [
    "### Logistic regression:"
   ]
  },
  {
   "cell_type": "markdown",
   "metadata": {},
   "source": [
    "Logistic regression parameter optimization:"
   ]
  },
  {
   "cell_type": "code",
   "execution_count": 79,
   "metadata": {
    "scrolled": true
   },
   "outputs": [
    {
     "name": "stdout",
     "output_type": "stream",
     "text": [
      "Best Score: 0.78095902354\n",
      "Best Parameters: {'C': 10, 'fit_intercept': True, 'penalty': 'l2', 'solver': 'liblinear'}\n"
     ]
    }
   ],
   "source": [
    "clf = LogisticRegression()\n",
    "parameters = [{'C':[0.1,1,10,100], 'solver':['lbfgs'], 'fit_intercept':[True]},\n",
    "              {'C':[0.1,1,10,100], 'solver':['liblinear'], 'penalty':['l1', 'l2'], 'fit_intercept':[True]}]\n",
    "# Instantiating and fitting model through grid search\n",
    "grid_logR = GridSearchCV(clf, param_grid=parameters)\n",
    "grid_logR.fit(X_rus, y_rus)\n",
    "\n",
    "# Printing the best score from the model\n",
    "print('Best Score:', grid_logR.best_score_)\n",
    "\n",
    "# Saving and printing the best parameters from the model\n",
    "best_params = grid_logR.best_params_\n",
    "print('Best Parameters:', best_params)"
   ]
  },
  {
   "cell_type": "markdown",
   "metadata": {},
   "source": [
    "Logistic regression classification:"
   ]
  },
  {
   "cell_type": "code",
   "execution_count": 81,
   "metadata": {
    "scrolled": true
   },
   "outputs": [
    {
     "name": "stdout",
     "output_type": "stream",
     "text": [
      "Cross Validation Accuracy Scores - Training Set: 0.78174(+/- 0.01)\n",
      "Cross Validation Accuracy Scores - Test Set: 0.81533(+/- 0.00)\n",
      "Confusion matrix on the test data:\n",
      "[[ 51466  14097]\n",
      " [ 37430 130138]]\n",
      "Classification report on the test data:\n",
      "             precision    recall  f1-score   support\n",
      "\n",
      "        0.0       0.58      0.78      0.67     65563\n",
      "        1.0       0.90      0.78      0.83    167568\n",
      "\n",
      "avg / total       0.81      0.78      0.79    233131\n",
      "\n"
     ]
    }
   ],
   "source": [
    "#initiate a instance for classifier\n",
    "clf = LogisticRegression(**best_params)\n",
    "#clf = RandomForestClassifier(n_estimators=50, max_depth=100)\n",
    "\n",
    "# Fit the classifier to the training data\n",
    "clf.fit(X_rus, y_rus)\n",
    "\n",
    "# Predict the labels of the test data: y_pred\n",
    "y_pred = clf.predict(X_test)\n",
    "\n",
    "scores_LR_train = cross_val_score(clf, X_rus, y_rus, cv=5)\n",
    "print('Cross Validation Accuracy Scores - Training Set: {:.5f}(+/- {:.2f})'.format(scores_LR_train.mean(), \n",
    "                                                                                 scores_LR_train.std()*2))\n",
    "scores_LR_test = cross_val_score(clf, X_test, y_test, cv=5)\n",
    "print('Cross Validation Accuracy Scores - Test Set: {:.5f}(+/- {:.2f})'.format(scores_LR_test.mean(), \n",
    "                                                                                 scores_LR_test.std()*2))\n",
    "\n",
    "# Generate the confusion matrix and classification report\n",
    "print('Confusion matrix on the test data:')\n",
    "print(confusion_matrix(y_test, y_pred))\n",
    "print('Classification report on the test data:')\n",
    "print(classification_report(y_test, y_pred))"
   ]
  },
  {
   "cell_type": "markdown",
   "metadata": {},
   "source": [
    "By checking the logistic regression coefficient, we can take a glance at the features that contribute most to the classification of our target.  "
   ]
  },
  {
   "cell_type": "code",
   "execution_count": 64,
   "metadata": {
    "scrolled": true
   },
   "outputs": [
    {
     "name": "stdout",
     "output_type": "stream",
     "text": [
      "\n",
      "Features with the most impact on higher income levels\n"
     ]
    },
    {
     "data": {
      "text/html": [
       "<div>\n",
       "<style>\n",
       "    .dataframe thead tr:only-child th {\n",
       "        text-align: right;\n",
       "    }\n",
       "\n",
       "    .dataframe thead th {\n",
       "        text-align: left;\n",
       "    }\n",
       "\n",
       "    .dataframe tbody tr th {\n",
       "        vertical-align: top;\n",
       "    }\n",
       "</style>\n",
       "<table border=\"1\" class=\"dataframe\">\n",
       "  <thead>\n",
       "    <tr style=\"text-align: right;\">\n",
       "      <th></th>\n",
       "      <th>Attribute</th>\n",
       "      <th>Coef</th>\n",
       "      <th>Odds_Ratios</th>\n",
       "    </tr>\n",
       "  </thead>\n",
       "  <tbody>\n",
       "    <tr>\n",
       "      <th>11</th>\n",
       "      <td>DGRDG_4</td>\n",
       "      <td>1.881042</td>\n",
       "      <td>6.560339</td>\n",
       "    </tr>\n",
       "    <tr>\n",
       "      <th>21</th>\n",
       "      <td>EMSIZE_8.0</td>\n",
       "      <td>1.431291</td>\n",
       "      <td>4.184099</td>\n",
       "    </tr>\n",
       "    <tr>\n",
       "      <th>10</th>\n",
       "      <td>DGRDG_3</td>\n",
       "      <td>1.189977</td>\n",
       "      <td>3.287007</td>\n",
       "    </tr>\n",
       "    <tr>\n",
       "      <th>99</th>\n",
       "      <td>NOCPR_621995.0</td>\n",
       "      <td>1.108805</td>\n",
       "      <td>3.030733</td>\n",
       "    </tr>\n",
       "    <tr>\n",
       "      <th>20</th>\n",
       "      <td>EMSIZE_7.0</td>\n",
       "      <td>1.096272</td>\n",
       "      <td>2.992987</td>\n",
       "    </tr>\n",
       "  </tbody>\n",
       "</table>\n",
       "</div>"
      ],
      "text/plain": [
       "         Attribute      Coef  Odds_Ratios\n",
       "11         DGRDG_4  1.881042     6.560339\n",
       "21      EMSIZE_8.0  1.431291     4.184099\n",
       "10         DGRDG_3  1.189977     3.287007\n",
       "99  NOCPR_621995.0  1.108805     3.030733\n",
       "20      EMSIZE_7.0  1.096272     2.992987"
      ]
     },
     "execution_count": 64,
     "metadata": {},
     "output_type": "execute_result"
    }
   ],
   "source": [
    "# Creating Data Frame with Features and Logistic Regression Coefficients\n",
    "coefs_lg = pd.concat([pd.DataFrame(X_train.columns), pd.DataFrame(np.transpose(clf.coef_))], axis=1)\n",
    "coefs_lg.columns = ['Attribute', 'Coef']\n",
    "# Calculating exponentiated coefficients for interpretation\n",
    "coefs_lg['Odds_Ratios'] = np.exp(coefs_lg['Coef'])\n",
    "print('\\nFeatures with the most impact on higher income levels')\n",
    "coefs_lg.sort_values('Odds_Ratios', ascending=False).head(5)"
   ]
  },
  {
   "cell_type": "markdown",
   "metadata": {},
   "source": [
    "The result is insightful! We found:\n",
    "\n",
    "1. professional or doctorate degrees both play a important positive role in being classified into the higher salary level. \n",
    "\n",
    "2. The size of the employer is another important attribute: Chances are you will get a better pay working for a large coorporate employer (large than 5000 employees). \n",
    "\n",
    "3. The last feature among the top five positive impact is the principal job field. Being the science and engineering manager is advantageous to receiving a higher salary, which is reasonable and inspiring."
   ]
  },
  {
   "cell_type": "markdown",
   "metadata": {},
   "source": [
    "### Random Forest Classifier"
   ]
  },
  {
   "cell_type": "markdown",
   "metadata": {},
   "source": [
    "Random forest classifier parameter optimization:"
   ]
  },
  {
   "cell_type": "code",
   "execution_count": 88,
   "metadata": {},
   "outputs": [
    {
     "name": "stdout",
     "output_type": "stream",
     "text": [
      "Best Score: 0.784446381866\n",
      "Best Parameters: {'max_depth': 300, 'max_features': 10, 'n_estimators': 75}\n"
     ]
    }
   ],
   "source": [
    "rf = RandomForestClassifier()\n",
    "param_grid = {\"n_estimators\": [30, 50, 75],\n",
    "              \"max_features\": [10, 30, 50],\n",
    "              \"max_depth\": [10, 100, 300]\n",
    "              }\n",
    "\n",
    "grid_rf = GridSearchCV(rf, param_grid=param_grid, cv=5)\n",
    "grid_rf.fit(X_rus, y_rus)\n",
    "\n",
    "# Printing the best score from the model\n",
    "print('Best Score:', grid_rf.best_score_)\n",
    "\n",
    "# Saving and printing the best parameters from the model\n",
    "best_params = grid_rf.best_params_\n",
    "print('Best Parameters:', best_params)"
   ]
  },
  {
   "cell_type": "markdown",
   "metadata": {},
   "source": [
    "Random forest classification:"
   ]
  },
  {
   "cell_type": "code",
   "execution_count": 89,
   "metadata": {},
   "outputs": [
    {
     "name": "stdout",
     "output_type": "stream",
     "text": [
      "Cross Validation Accuracy Scores - Training Set: 0.78412(+/- 0.01)\n",
      "Cross Validation Accuracy Scores - Test Set: 0.82548(+/- 0.00)\n",
      "Confusion matrix on the test data:\n",
      "[[ 51276  14287]\n",
      " [ 35480 132088]]\n",
      "Classification report on the test data:\n",
      "             precision    recall  f1-score   support\n",
      "\n",
      "        0.0       0.59      0.78      0.67     65563\n",
      "        1.0       0.90      0.79      0.84    167568\n",
      "\n",
      "avg / total       0.81      0.79      0.79    233131\n",
      "\n"
     ]
    }
   ],
   "source": [
    "#initiate a instance for classifier\n",
    "rf = RandomForestClassifier(**best_params)\n",
    "\n",
    "# Fit the classifier to the training data\n",
    "rf.fit(X_rus, y_rus)\n",
    "\n",
    "# Predict the labels of the test data: y_pred\n",
    "y_pred = rf.predict(X_test)\n",
    "\n",
    "scores_rf_train = cross_val_score(rf, X_rus, y_rus, cv=5)\n",
    "print('Cross Validation Accuracy Scores - Training Set: {:.5f}(+/- {:.2f})'.format(scores_rf_train.mean(), \n",
    "                                                                                 scores_rf_train.std()*2))\n",
    "scores_rf_test = cross_val_score(rf, X_test, y_test, cv=5)\n",
    "print('Cross Validation Accuracy Scores - Test Set: {:.5f}(+/- {:.2f})'.format(scores_rf_test.mean(), \n",
    "                                                                                 scores_rf_test.std()*2))\n",
    "\n",
    "# Generate the confusion matrix and classification report\n",
    "print('Confusion matrix on the test data:')\n",
    "print(confusion_matrix(y_test, y_pred))\n",
    "print('Classification report on the test data:')\n",
    "print(classification_report(y_test, y_pred))"
   ]
  },
  {
   "cell_type": "code",
   "execution_count": 91,
   "metadata": {},
   "outputs": [
    {
     "data": {
      "image/png": "[encoded data removed]",
      "text/plain": [
       "<matplotlib.figure.Figure at 0x11e9d1ba8>"
      ]
     },
     "metadata": {},
     "output_type": "display_data"
    }
   ],
   "source": [
    "y_pred_prob = rf.predict_proba(X_test)[:,1]\n",
    "\n",
    "# Generate ROC curve values: fpr, tpr, thresholds\n",
    "fpr, tpr, thresholds = roc_curve(y_test, y_pred_prob)\n",
    "\n",
    "# Plot ROC curve\n",
    "plt.plot([0, 1], [0, 1], 'k--')\n",
    "plt.plot(fpr, tpr)\n",
    "plt.xlabel('False Positive Rate')\n",
    "plt.ylabel('True Positive Rate')\n",
    "plt.title('ROC Curve')\n",
    "plt.show()"
   ]
  },
  {
   "cell_type": "markdown",
   "metadata": {},
   "source": [
    "### KNN"
   ]
  },
  {
   "cell_type": "markdown",
   "metadata": {},
   "source": [
    "KNN parameter optimization:"
   ]
  },
  {
   "cell_type": "code",
   "execution_count": null,
   "metadata": {},
   "outputs": [],
   "source": [
    "knn = KNeighborsClassifier()\n",
    "param_grid = {\"n_neighbors\": [5, 10, 15],\n",
    "              \"leaf_size\": [10, 30, 50],\n",
    "              \"weights\": ['uniform', 'distance']\n",
    "              }\n",
    "\n",
    "\n",
    "grid_knn = GridSearchCV(knn, param_grid=param_grid, cv=5)\n",
    "grid_knn.fit(X_rus, y_rus)\n",
    "\n",
    "# Printing the best score from the model\n",
    "print('Best Score:', grid_knn.best_score_)\n",
    "\n",
    "# Saving and printing the best parameters from the model\n",
    "best_params = grid_knn.best_params_\n",
    "print('Best Parameters:', best_params)"
   ]
  },
  {
   "cell_type": "markdown",
   "metadata": {},
   "source": [
    "KNN classification:"
   ]
  },
  {
   "cell_type": "code",
   "execution_count": null,
   "metadata": {
    "scrolled": true
   },
   "outputs": [],
   "source": [
    "#initiate a instance for classifier\n",
    "knn = KNeighborsClassifier(**best_params)\n",
    "\n",
    "# Fit the classifier to the training data\n",
    "knn.fit(X_rus, y_rus)\n",
    "\n",
    "# Predict the labels of the test data: y_pred\n",
    "y_pred = knn.predict(X_test)\n",
    "\n",
    "scores_knn_train = cross_val_score(knn, X_rus, y_rus, cv=5)\n",
    "print('Cross Validation Accuracy Scores - Training Set: {:.5f}(+/- {:.2f})'.format(scores_knn_train.mean(), \n",
    "                                                                                 scores_knn_train.std()*2))\n",
    "scores_knn_test = cross_val_score(knn, X_test, y_test, cv=5)\n",
    "print('Cross Validation Accuracy Scores - Test Set: {:.5f}(+/- {:.2f})'.format(scores_knn_test.mean(), \n",
    "                                                                                 scores_knn_test.std()*2))\n",
    "\n",
    "# Generate the confusion matrix and classification report\n",
    "print('Confusion matrix on the test data:')\n",
    "print(confusion_matrix(y_test, y_pred))\n",
    "print('Classification report on the test data:')\n",
    "print(classification_report(y_test, y_pred))"
   ]
  },
  {
   "cell_type": "markdown",
   "metadata": {},
   "source": [
    "### Adaboost"
   ]
  },
  {
   "cell_type": "code",
   "execution_count": null,
   "metadata": {
    "collapsed": true
   },
   "outputs": [],
   "source": [
    "AdaBoost classifier parameter optimization:"
   ]
  },
  {
   "cell_type": "code",
   "execution_count": null,
   "metadata": {},
   "outputs": [],
   "source": [
    "\n",
    "param_grid = {\n",
    "              \"n_estimators\": [10, 100, 200]\n",
    "             }\n",
    "\n",
    "\n",
    "ABC = AdaBoostClassifier()\n",
    "\n",
    "# run grid search\n",
    "grid_ab = GridSearchCV(ABC, param_grid=param_grid)\n",
    "\n",
    "grid_ab.fit(X_rus, y_rus)\n",
    "\n",
    "# Printing the best score from the model\n",
    "print('Best Score:', grid_ab.best_score_)\n",
    "\n",
    "# Saving and printing the best parameters from the model\n",
    "best_params = grid_ab.best_params_\n",
    "print('Best Parameters:', best_params)"
   ]
  },
  {
   "cell_type": "markdown",
   "metadata": {},
   "source": [
    "AdaBoost classification:"
   ]
  },
  {
   "cell_type": "code",
   "execution_count": null,
   "metadata": {},
   "outputs": [],
   "source": [
    "#initiate a instance for classifier\n",
    "\n",
    "ab = AdaBoostClassifier(**best_params)\n",
    "\n",
    "# Fit the classifier to the training data\n",
    "ab.fit(X_rus, y_rus)\n",
    "\n",
    "# Predict the labels of the test data: y_pred\n",
    "y_pred = ab.predict(X_test)\n",
    "\n",
    "scores_ab_train = cross_val_score(ab, X_rus, y_rus, cv=5)\n",
    "print('Cross Validation Accuracy Scores - Training Set: {:.5f}(+/- {:.2f})'.format(scores_ab_train.mean(), \n",
    "                                                                                 scores_ab_train.std()*2))\n",
    "scores_ab_test = cross_val_score(ab, X_test, y_test, cv=5)\n",
    "print('Cross Validation Accuracy Scores - Test Set: {:.5f}(+/- {:.2f})'.format(scores_ab_test.mean(), \n",
    "                                                                                 scores_ab_test.std()*2))\n",
    "\n",
    "# Generate the confusion matrix and classification report\n",
    "print('Confusion matrix on the test data:')\n",
    "print(confusion_matrix(y_test, y_pred))\n",
    "print('Classification report on the test data:')\n",
    "print(classification_report(y_test, y_pred))"
   ]
  },
  {
   "cell_type": "markdown",
   "metadata": {},
   "source": [
    "### Model Comparison "
   ]
  },
  {
   "cell_type": "markdown",
   "metadata": {},
   "source": [
    "### Now try to predict the salary level among women employees:"
   ]
  },
  {
   "cell_type": "code",
   "execution_count": 30,
   "metadata": {},
   "outputs": [
    {
     "name": "stdout",
     "output_type": "stream",
     "text": [
      "Raw Training Set Percent Under $60,000: 22.6%\n",
      "Resampled Training Set Percent Under $60,000: 50.0%\n"
     ]
    },
    {
     "name": "stderr",
     "output_type": "stream",
     "text": [
      "/anaconda/lib/python3.6/site-packages/sklearn/model_selection/_split.py:2010: FutureWarning: From version 0.21, test_size will always complement train_size unless both are specified.\n",
      "  FutureWarning)\n"
     ]
    }
   ],
   "source": [
    "df_employed_nod_sig_3 = df_employed_nod_sig_2\n",
    "# Identify variables\n",
    "X = df_employed_nod_sig_3[df_employed_nod_sig_3['GENDER_2']==1].drop('salary_d', axis=1)\n",
    "y = df_employed_nod_sig_3[df_employed_nod_sig_3['GENDER_2']==1].salary_d\n",
    "\n",
    "# Splitting into train and test sets\n",
    "X_train, X_test, y_train, y_test = train_test_split(X, y, test_size=0.7, random_state=41)\n",
    "\n",
    "\n",
    "rus = RandomUnderSampler(random_state=41)\n",
    "X_rus, y_rus = rus.fit_sample(X=X_train, y=y_train)\n",
    "\n",
    "print('Raw Training Set Percent Under $60,000: {:.1f}%'.format(\n",
    "    len(y_train[y_train == 0])/len(y_train)*100))\n",
    "print('Resampled Training Set Percent Under $60,000: {}%'.format(\n",
    "    len(y_rus[y_rus == 0])/len(y_rus)*100))"
   ]
  },
  {
   "cell_type": "code",
   "execution_count": 31,
   "metadata": {},
   "outputs": [
    {
     "name": "stdout",
     "output_type": "stream",
     "text": [
      "Best Score: 0.754875588433\n",
      "Best Parameters: {'C': 10, 'fit_intercept': True, 'penalty': 'l2', 'solver': 'liblinear'}\n"
     ]
    }
   ],
   "source": [
    "clf = LogisticRegression()\n",
    "parameters = [{'C':[0.1,1,10,100], 'solver':['lbfgs'], 'fit_intercept':[True]},\n",
    "              {'C':[0.1,1,10,100], 'solver':['liblinear'], 'penalty':['l1', 'l2'], 'fit_intercept':[True]}]\n",
    "# Instantiating and fitting model through grid search\n",
    "grid_logR = GridSearchCV(clf, param_grid=parameters)\n",
    "grid_logR.fit(X_rus, y_rus)\n",
    "\n",
    "# Printing the best score from the model\n",
    "print('Best Score:', grid_logR.best_score_)\n",
    "\n",
    "# Saving and printing the best parameters from the model\n",
    "best_params = grid_logR.best_params_\n",
    "print('Best Parameters:', best_params)"
   ]
  },
  {
   "cell_type": "code",
   "execution_count": 32,
   "metadata": {},
   "outputs": [
    {
     "name": "stdout",
     "output_type": "stream",
     "text": [
      "Cross Validation Accuracy Scores - Training Set: 0.75553(+/- 0.04)\n",
      "Cross Validation Accuracy Scores - Test Set: 0.83703(+/- 0.01)\n",
      "Confusion matrix on the test data:\n",
      "[[2597  714]\n",
      " [3034 9044]]\n",
      "Classification report on the test data:\n",
      "             precision    recall  f1-score   support\n",
      "\n",
      "        0.0       0.46      0.78      0.58      3311\n",
      "        1.0       0.93      0.75      0.83     12078\n",
      "\n",
      "avg / total       0.83      0.76      0.78     15389\n",
      "\n"
     ]
    }
   ],
   "source": [
    "#initiate a instance for classifier\n",
    "clf = LogisticRegression(**best_params)\n",
    "#clf = RandomForestClassifier(n_estimators=50, max_depth=100)\n",
    "\n",
    "# Fit the classifier to the training data\n",
    "clf.fit(X_rus, y_rus)\n",
    "\n",
    "# Predict the labels of the test data: y_pred\n",
    "y_pred = clf.predict(X_test)\n",
    "\n",
    "scores_LR_train = cross_val_score(clf, X_rus, y_rus, cv=5)\n",
    "print('Cross Validation Accuracy Scores - Training Set: {:.5f}(+/- {:.2f})'.format(scores_LR_train.mean(), \n",
    "                                                                                 scores_LR_train.std()*2))\n",
    "scores_LR_test = cross_val_score(clf, X_test, y_test, cv=5)\n",
    "print('Cross Validation Accuracy Scores - Test Set: {:.5f}(+/- {:.2f})'.format(scores_LR_test.mean(), \n",
    "                                                                                 scores_LR_test.std()*2))\n",
    "\n",
    "# Generate the confusion matrix and classification report\n",
    "print('Confusion matrix on the test data:')\n",
    "print(confusion_matrix(y_test, y_pred))\n",
    "print('Classification report on the test data:')\n",
    "print(classification_report(y_test, y_pred))"
   ]
  },
  {
   "cell_type": "markdown",
   "metadata": {
    "collapsed": true
   },
   "source": [
    "## Predict the Principal Job Field"
   ]
  },
  {
   "cell_type": "code",
   "execution_count": 78,
   "metadata": {
    "scrolled": true
   },
   "outputs": [
    {
     "data": {
      "text/plain": [
       "Index(['YEAR', 'SAMPLE', 'SURID', 'AGE', 'BIRYR', 'GENDER', 'MINRTY', 'RACETH',\n",
       "       'BTHUS', 'CTZUSIN', 'NBAMED', 'NBAMEMG', 'DGRDG', 'HD03Y5', 'NDGMED',\n",
       "       'NDGMEMG', 'HRSWKGR', 'WKSWKGR', 'OCEDRLP', 'NOCPR', 'NOCPRMG',\n",
       "       'SALARY', 'JOBSATIS', 'EMSEC', 'EMSIZE', 'GOVSUP', 'WAPRSM', 'ACTCAP',\n",
       "       'ACTDED', 'ACTMGT', 'ACTRD', 'ACTRDT', 'ACTRES', 'ACTTCH', 'WKTRNI',\n",
       "       'WAPRI', 'WASEC', 'WASCSM'],\n",
       "      dtype='object')"
      ]
     },
     "execution_count": 78,
     "metadata": {},
     "output_type": "execute_result"
    }
   ],
   "source": [
    "# all the column names in the data frame\n",
    "df_employed_clf.columns"
   ]
  },
  {
   "cell_type": "code",
   "execution_count": 79,
   "metadata": {
    "collapsed": true
   },
   "outputs": [],
   "source": [
    "# Here we are planning to predict the field of work for a individual looking for a job. This indicates that we do not \n",
    "# not have any information about the jobs for that person.\n",
    "# We use only columns that are pre jobs. \n",
    "# choose not job related columns, and choose the target column 'NOCPRMG'\n",
    "\n",
    "df_employed_nod = df_employed_clf[['YEAR', 'SAMPLE', 'SURID', 'AGE', 'BIRYR', 'GENDER', 'MINRTY', 'RACETH',\n",
    "       'BTHUS', 'CTZUSIN', 'NBAMED', 'NBAMEMG', 'DGRDG', 'HD03Y5', 'NDGMED',\n",
    "       'NDGMEMG', 'NOCPRMG']]\n",
    "\n",
    "# delete dependent variables \n",
    "df_employed_nod = df_employed_nod.drop(['BIRYR'], axis=1)\n",
    "\n",
    "# numeric columns\n",
    "numeric = ['YEAR', 'AGE']\n",
    "# categoric columns\n",
    "categoric = df_employed_nod.drop(['NOCPRMG'],axis=1).columns.difference(numeric)"
   ]
  },
  {
   "cell_type": "code",
   "execution_count": 80,
   "metadata": {},
   "outputs": [
    {
     "data": {
      "text/html": [
       "<div>\n",
       "<style>\n",
       "    .dataframe thead tr:only-child th {\n",
       "        text-align: right;\n",
       "    }\n",
       "\n",
       "    .dataframe thead th {\n",
       "        text-align: left;\n",
       "    }\n",
       "\n",
       "    .dataframe tbody tr th {\n",
       "        vertical-align: top;\n",
       "    }\n",
       "</style>\n",
       "<table border=\"1\" class=\"dataframe\">\n",
       "  <thead>\n",
       "    <tr style=\"text-align: right;\">\n",
       "      <th></th>\n",
       "      <th>YEAR</th>\n",
       "      <th>AGE</th>\n",
       "      <th>NOCPRMG</th>\n",
       "      <th>BTHUS_1</th>\n",
       "      <th>CTZUSIN_1</th>\n",
       "      <th>DGRDG_2</th>\n",
       "      <th>DGRDG_3</th>\n",
       "      <th>DGRDG_4</th>\n",
       "      <th>GENDER_2</th>\n",
       "      <th>HD03Y5_1951</th>\n",
       "      <th>...</th>\n",
       "      <th>SAMPLE_602</th>\n",
       "      <th>SAMPLE_701</th>\n",
       "      <th>SAMPLE_702</th>\n",
       "      <th>SAMPLE_801</th>\n",
       "      <th>SAMPLE_802</th>\n",
       "      <th>SAMPLE_901</th>\n",
       "      <th>SAMPLE_902</th>\n",
       "      <th>SAMPLE_1001</th>\n",
       "      <th>SAMPLE_1002</th>\n",
       "      <th>SURID_2</th>\n",
       "    </tr>\n",
       "  </thead>\n",
       "  <tbody>\n",
       "    <tr>\n",
       "      <th>0</th>\n",
       "      <td>2003</td>\n",
       "      <td>47</td>\n",
       "      <td>2.0</td>\n",
       "      <td>0</td>\n",
       "      <td>1</td>\n",
       "      <td>0</td>\n",
       "      <td>0</td>\n",
       "      <td>0</td>\n",
       "      <td>0</td>\n",
       "      <td>0</td>\n",
       "      <td>...</td>\n",
       "      <td>0</td>\n",
       "      <td>0</td>\n",
       "      <td>0</td>\n",
       "      <td>0</td>\n",
       "      <td>0</td>\n",
       "      <td>0</td>\n",
       "      <td>0</td>\n",
       "      <td>0</td>\n",
       "      <td>0</td>\n",
       "      <td>0</td>\n",
       "    </tr>\n",
       "    <tr>\n",
       "      <th>1</th>\n",
       "      <td>2003</td>\n",
       "      <td>66</td>\n",
       "      <td>4.0</td>\n",
       "      <td>1</td>\n",
       "      <td>1</td>\n",
       "      <td>0</td>\n",
       "      <td>0</td>\n",
       "      <td>0</td>\n",
       "      <td>1</td>\n",
       "      <td>0</td>\n",
       "      <td>...</td>\n",
       "      <td>0</td>\n",
       "      <td>0</td>\n",
       "      <td>0</td>\n",
       "      <td>0</td>\n",
       "      <td>0</td>\n",
       "      <td>0</td>\n",
       "      <td>0</td>\n",
       "      <td>0</td>\n",
       "      <td>0</td>\n",
       "      <td>0</td>\n",
       "    </tr>\n",
       "    <tr>\n",
       "      <th>2</th>\n",
       "      <td>2003</td>\n",
       "      <td>60</td>\n",
       "      <td>6.0</td>\n",
       "      <td>1</td>\n",
       "      <td>1</td>\n",
       "      <td>0</td>\n",
       "      <td>0</td>\n",
       "      <td>0</td>\n",
       "      <td>0</td>\n",
       "      <td>0</td>\n",
       "      <td>...</td>\n",
       "      <td>0</td>\n",
       "      <td>0</td>\n",
       "      <td>0</td>\n",
       "      <td>0</td>\n",
       "      <td>0</td>\n",
       "      <td>0</td>\n",
       "      <td>0</td>\n",
       "      <td>0</td>\n",
       "      <td>0</td>\n",
       "      <td>0</td>\n",
       "    </tr>\n",
       "    <tr>\n",
       "      <th>3</th>\n",
       "      <td>2003</td>\n",
       "      <td>30</td>\n",
       "      <td>5.0</td>\n",
       "      <td>1</td>\n",
       "      <td>1</td>\n",
       "      <td>1</td>\n",
       "      <td>0</td>\n",
       "      <td>0</td>\n",
       "      <td>1</td>\n",
       "      <td>0</td>\n",
       "      <td>...</td>\n",
       "      <td>0</td>\n",
       "      <td>0</td>\n",
       "      <td>0</td>\n",
       "      <td>0</td>\n",
       "      <td>0</td>\n",
       "      <td>0</td>\n",
       "      <td>0</td>\n",
       "      <td>0</td>\n",
       "      <td>0</td>\n",
       "      <td>0</td>\n",
       "    </tr>\n",
       "    <tr>\n",
       "      <th>5</th>\n",
       "      <td>2003</td>\n",
       "      <td>51</td>\n",
       "      <td>5.0</td>\n",
       "      <td>1</td>\n",
       "      <td>1</td>\n",
       "      <td>0</td>\n",
       "      <td>0</td>\n",
       "      <td>0</td>\n",
       "      <td>1</td>\n",
       "      <td>0</td>\n",
       "      <td>...</td>\n",
       "      <td>0</td>\n",
       "      <td>0</td>\n",
       "      <td>0</td>\n",
       "      <td>0</td>\n",
       "      <td>0</td>\n",
       "      <td>0</td>\n",
       "      <td>0</td>\n",
       "      <td>0</td>\n",
       "      <td>0</td>\n",
       "      <td>0</td>\n",
       "    </tr>\n",
       "  </tbody>\n",
       "</table>\n",
       "<p>5 rows × 85 columns</p>\n",
       "</div>"
      ],
      "text/plain": [
       "   YEAR  AGE  NOCPRMG  BTHUS_1  CTZUSIN_1  DGRDG_2  DGRDG_3  DGRDG_4  \\\n",
       "0  2003   47      2.0        0          1        0        0        0   \n",
       "1  2003   66      4.0        1          1        0        0        0   \n",
       "2  2003   60      6.0        1          1        0        0        0   \n",
       "3  2003   30      5.0        1          1        1        0        0   \n",
       "5  2003   51      5.0        1          1        0        0        0   \n",
       "\n",
       "   GENDER_2  HD03Y5_1951   ...     SAMPLE_602  SAMPLE_701  SAMPLE_702  \\\n",
       "0         0            0   ...              0           0           0   \n",
       "1         1            0   ...              0           0           0   \n",
       "2         0            0   ...              0           0           0   \n",
       "3         1            0   ...              0           0           0   \n",
       "5         1            0   ...              0           0           0   \n",
       "\n",
       "   SAMPLE_801  SAMPLE_802  SAMPLE_901  SAMPLE_902  SAMPLE_1001  SAMPLE_1002  \\\n",
       "0           0           0           0           0            0            0   \n",
       "1           0           0           0           0            0            0   \n",
       "2           0           0           0           0            0            0   \n",
       "3           0           0           0           0            0            0   \n",
       "5           0           0           0           0            0            0   \n",
       "\n",
       "   SURID_2  \n",
       "0        0  \n",
       "1        0  \n",
       "2        0  \n",
       "3        0  \n",
       "5        0  \n",
       "\n",
       "[5 rows x 85 columns]"
      ]
     },
     "execution_count": 80,
     "metadata": {},
     "output_type": "execute_result"
    }
   ],
   "source": [
    "# change categorical features to dummied columns\n",
    "df_employed_nod_sig = pd.get_dummies(data=df_employed_nod, columns=categoric, drop_first=True)\n",
    "df_employed_nod_sig.head()"
   ]
  },
  {
   "cell_type": "code",
   "execution_count": 81,
   "metadata": {
    "collapsed": true
   },
   "outputs": [],
   "source": [
    "# define a function to find for a certain type job field only. \n",
    "# NOCPRMG = 1, Computer and mathematical scientists\n",
    "# NOCPRMG = 2, Biological, agricultural and other life scientists\n",
    "# NOCPRMG = 3, Physical and related scientists\n",
    "# NOCPRMG = 4, Social and related scientists\n",
    "# NOCPRMG = 5, Engineers\n",
    "# NOCPRMG = 6, Science and engineering related occupations\n",
    "# NOCPRMG = 7, Non-science and engineering occupations\n",
    "\n",
    "def job_fd(ls):\n",
    "    new_s = np.empty(len(ls))\n",
    "    for i,s in enumerate(ls):\n",
    "        if s==2:\n",
    "            new_s[i] = 1\n",
    "        else:\n",
    "            new_s[i] = 0\n",
    "    return new_s\n",
    "\n",
    "rd = job_fd(df_employed_nod_sig['NOCPRMG'])"
   ]
  },
  {
   "cell_type": "code",
   "execution_count": 82,
   "metadata": {
    "scrolled": true
   },
   "outputs": [
    {
     "name": "stderr",
     "output_type": "stream",
     "text": [
      "/anaconda/lib/python3.6/site-packages/sklearn/model_selection/_split.py:2010: FutureWarning: From version 0.21, test_size will always complement train_size unless both are specified.\n",
      "  FutureWarning)\n"
     ]
    },
    {
     "name": "stdout",
     "output_type": "stream",
     "text": [
      "Raw Training Set Percent with job field 2: 8.5%\n",
      "Resampled Training Set Percent with job field 2: 50.0%\n"
     ]
    }
   ],
   "source": [
    "df_employed_nod_sig_3 = df_employed_nod_sig#.sample(frac=1, random_state=42)\n",
    "# Identify variables\n",
    "X = df_employed_nod_sig_3.drop('NOCPRMG', axis=1)\n",
    "y = rd\n",
    "\n",
    "# Splitting into train and test sets\n",
    "X_train, X_test, y_train, y_test = train_test_split(X, y, train_size=0.3, random_state=41)\n",
    "\n",
    "\n",
    "rus = RandomUnderSampler(random_state=41)\n",
    "X_rus, y_rus = rus.fit_sample(X=X_train, y=y_train)\n",
    "\n",
    "X_rus_test, y_rus_test = rus.fit_sample(X=X_test, y=y_test)\n",
    "\n",
    "\n",
    "\n",
    "print('Raw Training Set Percent with job field 2: {:.1f}%'.format(\n",
    "    len(y_train[y_train == 1])/len(y_train)*100))\n",
    "print('Resampled Training Set Percent with job field 2: {:.1f}%'.format(\n",
    "    len(y_rus[y_rus == 1])/len(y_rus)*100))"
   ]
  },
  {
   "cell_type": "code",
   "execution_count": 84,
   "metadata": {},
   "outputs": [
    {
     "name": "stdout",
     "output_type": "stream",
     "text": [
      "Best Score: 0.86996373892\n",
      "Best Parameters: {'C': 1, 'fit_intercept': True, 'penalty': 'l2', 'solver': 'liblinear'}\n"
     ]
    }
   ],
   "source": [
    "clf = LogisticRegression()\n",
    "parameters = [{'C':[0.1,1,10,100], 'solver':['lbfgs'], 'fit_intercept':[True]},\n",
    "              {'C':[0.1,1,10,100], 'solver':['liblinear'], 'penalty':['l1', 'l2'], 'fit_intercept':[True]}]\n",
    "# Instantiating and fitting model through grid search\n",
    "grid_logR = GridSearchCV(clf, param_grid=parameters)\n",
    "grid_logR.fit(X_rus, y_rus)\n",
    "\n",
    "# Printing the best score from the model\n",
    "print('Best Score:', grid_logR.best_score_)\n",
    "\n",
    "# Saving and printing the best parameters from the model\n",
    "best_params = grid_logR.best_params_\n",
    "print('Best Parameters:', best_params)"
   ]
  },
  {
   "cell_type": "code",
   "execution_count": 85,
   "metadata": {},
   "outputs": [
    {
     "name": "stdout",
     "output_type": "stream",
     "text": [
      "Cross Validation Accuracy Scores - Training Set: 0.87017(+/- 0.01)\n",
      "Cross Validation Accuracy Scores - Test Set: 0.86934(+/- 0.01)\n",
      "Confusion matrix on the test data:\n",
      "[[20246  2967]\n",
      " [ 3119 20094]]\n",
      "Classification report on the test data:\n",
      "             precision    recall  f1-score   support\n",
      "\n",
      "        0.0       0.87      0.87      0.87     23213\n",
      "        1.0       0.87      0.87      0.87     23213\n",
      "\n",
      "avg / total       0.87      0.87      0.87     46426\n",
      "\n"
     ]
    }
   ],
   "source": [
    "#initiate a instance for classifier\n",
    "clf = LogisticRegression(**best_params)\n",
    "#clf = RandomForestClassifier(n_estimators=50, max_depth=100)\n",
    "\n",
    "# Fit the classifier to the training data\n",
    "clf.fit(X_rus, y_rus)\n",
    "\n",
    "# Predict the labels of the test data: y_pred\n",
    "y_pred = clf.predict(X_rus_test)\n",
    "\n",
    "scores_LR_train = cross_val_score(clf, X_rus, y_rus, cv=5)\n",
    "print('Cross Validation Accuracy Scores - Training Set: {:.5f}(+/- {:.2f})'.format(scores_LR_train.mean(), \n",
    "                                                                                 scores_LR_train.std()*2))\n",
    "scores_LR_test = cross_val_score(clf, X_rus_test, y_rus_test, cv=5)\n",
    "print('Cross Validation Accuracy Scores - Test Set: {:.5f}(+/- {:.2f})'.format(scores_LR_test.mean(), \n",
    "                                                                                 scores_LR_test.std()*2))\n",
    "\n",
    "# Generate the confusion matrix and classification report\n",
    "print('Confusion matrix on the test data:')\n",
    "print(confusion_matrix(y_rus_test, y_pred))\n",
    "print('Classification report on the test data:')\n",
    "print(classification_report(y_rus_test, y_pred))"
   ]
  },
  {
   "cell_type": "code",
   "execution_count": 61,
   "metadata": {
    "scrolled": true
   },
   "outputs": [
    {
     "name": "stdout",
     "output_type": "stream",
     "text": [
      "\n",
      "Features with the most impact on higher income levels\n"
     ]
    },
    {
     "data": {
      "text/html": [
       "<div>\n",
       "<style>\n",
       "    .dataframe thead tr:only-child th {\n",
       "        text-align: right;\n",
       "    }\n",
       "\n",
       "    .dataframe thead th {\n",
       "        text-align: left;\n",
       "    }\n",
       "\n",
       "    .dataframe tbody tr th {\n",
       "        vertical-align: top;\n",
       "    }\n",
       "</style>\n",
       "<table border=\"1\" class=\"dataframe\">\n",
       "  <thead>\n",
       "    <tr style=\"text-align: right;\">\n",
       "      <th></th>\n",
       "      <th>Attribute</th>\n",
       "      <th>Coef</th>\n",
       "      <th>Odds_Ratios</th>\n",
       "    </tr>\n",
       "  </thead>\n",
       "  <tbody>\n",
       "    <tr>\n",
       "      <th>66</th>\n",
       "      <td>NDGMEMG_2</td>\n",
       "      <td>2.557705</td>\n",
       "      <td>12.906170</td>\n",
       "    </tr>\n",
       "    <tr>\n",
       "      <th>47</th>\n",
       "      <td>NDGMED_226395</td>\n",
       "      <td>1.439404</td>\n",
       "      <td>4.218181</td>\n",
       "    </tr>\n",
       "    <tr>\n",
       "      <th>5</th>\n",
       "      <td>DGRDG_3</td>\n",
       "      <td>1.317876</td>\n",
       "      <td>3.735480</td>\n",
       "    </tr>\n",
       "    <tr>\n",
       "      <th>62</th>\n",
       "      <td>NDGMED_611995</td>\n",
       "      <td>1.259522</td>\n",
       "      <td>3.523738</td>\n",
       "    </tr>\n",
       "    <tr>\n",
       "      <th>67</th>\n",
       "      <td>NDGMEMG_3</td>\n",
       "      <td>1.257822</td>\n",
       "      <td>3.517750</td>\n",
       "    </tr>\n",
       "  </tbody>\n",
       "</table>\n",
       "</div>"
      ],
      "text/plain": [
       "        Attribute      Coef  Odds_Ratios\n",
       "66      NDGMEMG_2  2.557705    12.906170\n",
       "47  NDGMED_226395  1.439404     4.218181\n",
       "5         DGRDG_3  1.317876     3.735480\n",
       "62  NDGMED_611995  1.259522     3.523738\n",
       "67      NDGMEMG_3  1.257822     3.517750"
      ]
     },
     "execution_count": 61,
     "metadata": {},
     "output_type": "execute_result"
    }
   ],
   "source": [
    "# Creating Data Frame with Features and Logistic Regression Coefficients\n",
    "coefs_lg = pd.concat([pd.DataFrame(X_train.columns), pd.DataFrame(np.transpose(clf.coef_))], axis=1)\n",
    "coefs_lg.columns = ['Attribute', 'Coef']\n",
    "# Calculating exponentiated coefficients for interpretation\n",
    "coefs_lg['Odds_Ratios'] = np.exp(coefs_lg['Coef'])\n",
    "print('\\nFeatures with the most impact on higher income levels')\n",
    "coefs_lg.sort_values('Odds_Ratios', ascending=False).head(5)"
   ]
  },
  {
   "cell_type": "code",
   "execution_count": 97,
   "metadata": {
    "collapsed": true
   },
   "outputs": [],
   "source": [
    "# build a list contains the name of the work field. \n",
    "score_field_dic = ['Computer and mathematical scientists', 'Biological, agricultural and other life scientists',\n",
    "              'Physical and related scientists', 'Social and related scientists', \n",
    "              'Engineers', 'Science and engineering related occupations',\n",
    "               'Non-science and engineering occupations']\n"
   ]
  },
  {
   "cell_type": "code",
   "execution_count": 109,
   "metadata": {},
   "outputs": [
    {
     "name": "stderr",
     "output_type": "stream",
     "text": [
      "/anaconda/lib/python3.6/site-packages/sklearn/model_selection/_split.py:2010: FutureWarning: From version 0.21, test_size will always complement train_size unless both are specified.\n",
      "  FutureWarning)\n"
     ]
    },
    {
     "name": "stdout",
     "output_type": "stream",
     "text": [
      "n =  1\n",
      "Cross Validation Accuracy Scores - Training Set: 0.79726(+/- 0.01)\n",
      "Cross Validation Accuracy Scores - Test Set: 0.79747(+/- 0.00)\n"
     ]
    },
    {
     "name": "stderr",
     "output_type": "stream",
     "text": [
      "/anaconda/lib/python3.6/site-packages/sklearn/model_selection/_split.py:2010: FutureWarning: From version 0.21, test_size will always complement train_size unless both are specified.\n",
      "  FutureWarning)\n"
     ]
    },
    {
     "name": "stdout",
     "output_type": "stream",
     "text": [
      "n =  2\n",
      "Cross Validation Accuracy Scores - Training Set: 0.87263(+/- 0.01)\n",
      "Cross Validation Accuracy Scores - Test Set: 0.87518(+/- 0.00)\n"
     ]
    },
    {
     "name": "stderr",
     "output_type": "stream",
     "text": [
      "/anaconda/lib/python3.6/site-packages/sklearn/model_selection/_split.py:2010: FutureWarning: From version 0.21, test_size will always complement train_size unless both are specified.\n",
      "  FutureWarning)\n"
     ]
    },
    {
     "name": "stdout",
     "output_type": "stream",
     "text": [
      "n =  3\n",
      "Cross Validation Accuracy Scores - Training Set: 0.88554(+/- 0.01)\n",
      "Cross Validation Accuracy Scores - Test Set: 0.89070(+/- 0.01)\n"
     ]
    },
    {
     "name": "stderr",
     "output_type": "stream",
     "text": [
      "/anaconda/lib/python3.6/site-packages/sklearn/model_selection/_split.py:2010: FutureWarning: From version 0.21, test_size will always complement train_size unless both are specified.\n",
      "  FutureWarning)\n"
     ]
    },
    {
     "name": "stdout",
     "output_type": "stream",
     "text": [
      "n =  4\n",
      "Cross Validation Accuracy Scores - Training Set: 0.90869(+/- 0.00)\n",
      "Cross Validation Accuracy Scores - Test Set: 0.90555(+/- 0.01)\n"
     ]
    },
    {
     "name": "stderr",
     "output_type": "stream",
     "text": [
      "/anaconda/lib/python3.6/site-packages/sklearn/model_selection/_split.py:2010: FutureWarning: From version 0.21, test_size will always complement train_size unless both are specified.\n",
      "  FutureWarning)\n"
     ]
    },
    {
     "name": "stdout",
     "output_type": "stream",
     "text": [
      "n =  5\n",
      "Cross Validation Accuracy Scores - Training Set: 0.87862(+/- 0.01)\n",
      "Cross Validation Accuracy Scores - Test Set: 0.87804(+/- 0.00)\n"
     ]
    },
    {
     "name": "stderr",
     "output_type": "stream",
     "text": [
      "/anaconda/lib/python3.6/site-packages/sklearn/model_selection/_split.py:2010: FutureWarning: From version 0.21, test_size will always complement train_size unless both are specified.\n",
      "  FutureWarning)\n"
     ]
    },
    {
     "name": "stdout",
     "output_type": "stream",
     "text": [
      "n =  6\n",
      "Cross Validation Accuracy Scores - Training Set: 0.74385(+/- 0.00)\n",
      "Cross Validation Accuracy Scores - Test Set: 0.74583(+/- 0.00)\n"
     ]
    },
    {
     "name": "stderr",
     "output_type": "stream",
     "text": [
      "/anaconda/lib/python3.6/site-packages/sklearn/model_selection/_split.py:2010: FutureWarning: From version 0.21, test_size will always complement train_size unless both are specified.\n",
      "  FutureWarning)\n"
     ]
    },
    {
     "name": "stdout",
     "output_type": "stream",
     "text": [
      "n =  7\n",
      "Cross Validation Accuracy Scores - Training Set: 0.72095(+/- 0.01)\n",
      "Cross Validation Accuracy Scores - Test Set: 0.72256(+/- 0.00)\n"
     ]
    }
   ],
   "source": [
    "def job_fd(ls, n):\n",
    "    new_s = np.empty(len(ls))\n",
    "    for i,s in enumerate(ls):\n",
    "        if s==n:\n",
    "            new_s[i] = 1\n",
    "        else:\n",
    "            new_s[i] = 0\n",
    "    return new_s\n",
    "\n",
    "rus = RandomUnderSampler(random_state=41)\n",
    "train_score=[]\n",
    "test_score=[]\n",
    "\n",
    "for i in range(7):\n",
    "    \n",
    "    rd = job_fd(df_employed_nod_sig['NOCPRMG'], i+1)\n",
    "    \n",
    "    # Identify variables\n",
    "    X = df_employed_nod_sig_3.drop('NOCPRMG', axis=1)\n",
    "    y = rd\n",
    "\n",
    "    # Splitting into train and test sets\n",
    "    X_train, X_test, y_train, y_test = train_test_split(X, y, test_size=0.7, random_state=41)\n",
    "\n",
    "    X_rus, y_rus = rus.fit_sample(X=X_train, y=y_train)\n",
    "    X_rus_test, y_rus_test = rus.fit_sample(X=X_test, y=y_test)\n",
    "\n",
    "    clf = RandomForestClassifier()\n",
    "    \n",
    "    param_grid = {\"n_estimators\": [30, 50, 75],\n",
    "              \"max_features\": [10, 30, 50],\n",
    "              \"max_depth\": [10, 100]\n",
    "              }\n",
    "\n",
    "    grid_rf = GridSearchCV(clf, param_grid=param_grid, cv=5)\n",
    "    grid_rf.fit(X_rus, y_rus)\n",
    "\n",
    "    best_params = grid_rf.best_params_\n",
    "\n",
    "    #initiate a instance for classifier\n",
    "    rf = RandomForestClassifier(**best_params)\n",
    "\n",
    "    # Fit the classifier to the training data\n",
    "    rf.fit(X_rus, y_rus)\n",
    "\n",
    "    # Predict the labels of the test data: y_pred\n",
    "    y_pred = rf.predict(X_rus_test)\n",
    "\n",
    "    scores_rf_train = cross_val_score(rf, X_rus, y_rus, cv=5)\n",
    "    train_score.append(scores_rf_train.mean())\n",
    "    print('n = ', i+1)\n",
    "    print('Cross Validation Accuracy Scores - Training Set: {:.5f}(+/- {:.2f})'.format(scores_rf_train.mean(), \n",
    "                                                                                 scores_rf_train.std()*2))\n",
    "    scores_rf_test = cross_val_score(rf, X_rus_test, y_rus_test, cv=5)\n",
    "    test_score.append(scores_rf_test.mean())\n",
    "    print('Cross Validation Accuracy Scores - Test Set: {:.5f}(+/- {:.2f})'.format(scores_rf_test.mean(), \n",
    "                                                                                 scores_rf_test.std()*2))\n"
   ]
  },
  {
   "cell_type": "code",
   "execution_count": 110,
   "metadata": {},
   "outputs": [
    {
     "data": {
      "text/html": [
       "<div>\n",
       "<style>\n",
       "    .dataframe thead tr:only-child th {\n",
       "        text-align: right;\n",
       "    }\n",
       "\n",
       "    .dataframe thead th {\n",
       "        text-align: left;\n",
       "    }\n",
       "\n",
       "    .dataframe tbody tr th {\n",
       "        vertical-align: top;\n",
       "    }\n",
       "</style>\n",
       "<table border=\"1\" class=\"dataframe\">\n",
       "  <thead>\n",
       "    <tr style=\"text-align: right;\">\n",
       "      <th></th>\n",
       "      <th>Accuracy score on test</th>\n",
       "      <th>Accuracy score on train</th>\n",
       "      <th>Field of Work</th>\n",
       "    </tr>\n",
       "  </thead>\n",
       "  <tbody>\n",
       "    <tr>\n",
       "      <th>3</th>\n",
       "      <td>0.905549</td>\n",
       "      <td>0.908691</td>\n",
       "      <td>Social and related scientists</td>\n",
       "    </tr>\n",
       "    <tr>\n",
       "      <th>2</th>\n",
       "      <td>0.890696</td>\n",
       "      <td>0.885542</td>\n",
       "      <td>Physical and related scientists</td>\n",
       "    </tr>\n",
       "    <tr>\n",
       "      <th>4</th>\n",
       "      <td>0.878037</td>\n",
       "      <td>0.878617</td>\n",
       "      <td>Engineers</td>\n",
       "    </tr>\n",
       "    <tr>\n",
       "      <th>1</th>\n",
       "      <td>0.875178</td>\n",
       "      <td>0.872634</td>\n",
       "      <td>Biological, agricultural and other life scient...</td>\n",
       "    </tr>\n",
       "    <tr>\n",
       "      <th>0</th>\n",
       "      <td>0.797475</td>\n",
       "      <td>0.797261</td>\n",
       "      <td>Computer and mathematical scientists</td>\n",
       "    </tr>\n",
       "    <tr>\n",
       "      <th>5</th>\n",
       "      <td>0.745826</td>\n",
       "      <td>0.743851</td>\n",
       "      <td>Science and engineering related occupations</td>\n",
       "    </tr>\n",
       "    <tr>\n",
       "      <th>6</th>\n",
       "      <td>0.722560</td>\n",
       "      <td>0.720948</td>\n",
       "      <td>Non-science and engineering occupations</td>\n",
       "    </tr>\n",
       "  </tbody>\n",
       "</table>\n",
       "</div>"
      ],
      "text/plain": [
       "   Accuracy score on test  Accuracy score on train  \\\n",
       "3                0.905549                 0.908691   \n",
       "2                0.890696                 0.885542   \n",
       "4                0.878037                 0.878617   \n",
       "1                0.875178                 0.872634   \n",
       "0                0.797475                 0.797261   \n",
       "5                0.745826                 0.743851   \n",
       "6                0.722560                 0.720948   \n",
       "\n",
       "                                       Field of Work  \n",
       "3                      Social and related scientists  \n",
       "2                    Physical and related scientists  \n",
       "4                                          Engineers  \n",
       "1  Biological, agricultural and other life scient...  \n",
       "0               Computer and mathematical scientists  \n",
       "5        Science and engineering related occupations  \n",
       "6            Non-science and engineering occupations  "
      ]
     },
     "execution_count": 110,
     "metadata": {},
     "output_type": "execute_result"
    }
   ],
   "source": [
    "score_df = pd.DataFrame(\n",
    "    {'Field of Work': score_field_dic,\n",
    "     'Accuracy score on train': train_score,\n",
    "     'Accuracy score on test': test_score\n",
    "    })\n",
    "\n",
    "score_df.sort_values('Accuracy score on test', ascending=False)"
   ]
  },
  {
   "cell_type": "code",
   "execution_count": null,
   "metadata": {
    "collapsed": true
   },
   "outputs": [],
   "source": []
  }
 ],
 "metadata": {
  "kernelspec": {
   "display_name": "Python 3",
   "language": "python",
   "name": "python3"
  },
  "language_info": {
   "codemirror_mode": {
    "name": "ipython",
    "version": 3
   },
   "file_extension": ".py",
   "mimetype": "text/x-python",
   "name": "python",
   "nbconvert_exporter": "python",
   "pygments_lexer": "ipython3",
   "version": "3.6.1"
  }
 },
 "nbformat": 4,
 "nbformat_minor": 2
}
